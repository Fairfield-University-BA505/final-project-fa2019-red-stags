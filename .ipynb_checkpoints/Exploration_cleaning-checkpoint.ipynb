{
 "cells": [
  {
   "cell_type": "markdown",
   "metadata": {},
   "source": [
    "# Murderer or Victim?\n",
    "\n",
    "### Problem statements (objectives):\n",
    "    - What are the chances that you are either a murderer or a victim depending on the set variables and attributes\n",
    "    - What are the characteristics of murderers or victims\n",
    "    - What kind of relationship is between the data\n",
    "    - Identify the serial killer activity per location and year\n",
    "    - Identify interasting relationships (correlation) between different variables later to be used for building a \n",
    "        decision tree and clustering\n",
    "        \n",
    "        \n",
    "    - AUDIENCElike you are working for someone \n",
    "    - how safe is your state\n",
    "    - how do you sell it to police (to sell this product)\n",
    "    - location wise perp/vic\n",
    "    - construction company \n",
    "    - age groups --> can ew improve education (can we improve) \n",
    "    - propose to state gov. \n",
    "    - whats the solution if proposal\n",
    "    - yes/npo \n",
    "    - 3 departments (wants bigger university, construc community, police) by show of hands what will you support \n",
    "    - each have 3 minutes --> competition \n",
    "    - write it as a storyline (question biggest - safedt location..., more people in university)\n",
    "    - how to get to that conclusion \n",
    "    - another notebook for presentation (asking for money) --> monopoly --> collect \n",
    "    - who cares? apply it to specific question --> put it to them hands to care (hook in)\n",
    "    - questions --> make you point \n",
    "    - pass the hat to collect the momey --> moderator (anonymous voting) --> online \n",
    "    - whats the million dollar question ? 3 questions \n",
    "    - real comptetitions --> attacking each other fighting over million dollars (or live debate --> atack back your project is stupid can prove it)\n",
    "    - just insight \n",
    "    \n",
    "### Glossary\n",
    "\n",
    "Our main homocide dataset consists of 24 columns of 638,454 rows. Features are explained in detail in the getting to know the data section. The following features (variables) are integer based and will be used for calculations:\n",
    "    1. The record ID simply signifies the number of rows)\n",
    "    2. Year and month data was collected from 1980-2014 (depending on location)\n",
    "    3. Incident are the case(s) for which these other features were collected (e.g. 1 incident for year 2014 in CT etc.)\n",
    "    4. Victim Age\n",
    "    5. Perpetrator Age\n",
    "    6. Victim Count and Perpertrator Count starting with zero and maximum value of 10 (the original dataset) tells us about        the number of victims and perpetrators involved in a particular incident.  \n",
    "    \n",
    "The folowing columns are an object data type:\n",
    "    1. Agency code is six-digit alphanumeric code used to classify accounts by the federal or non-federal agency. \n",
    "        The alpha part of the code is the parent or major agency. The numeric part of the code identifies the sub-agency.\n",
    "    2. Agency name\n",
    "    3. Agency type \n",
    "    4. City, state\n",
    "    5. Victim and perpetrator sex, ethnicity, race, relationship\n",
    "    6. Crime type\n",
    "    # Murder or Mansloughter\n",
    "    # Mansloughter by negligence\n",
    "    7. Crime solved\n",
    "    8. Weapon\n",
    "    \n",
    "### Data Source and Content\n",
    "\n",
    "Source: https://www.kaggle.com/murderaccountability/homicide-reports\n",
    "\n",
    "The Murder Accountability Project is the most complete database of homicides in the United States currently available. This dataset includes murders from the FBI's Supplementary Homicide Report from 1976 to the present and Freedom of Information Act data on more than 22,000 homicides that were not reported to the Justice Department. This dataset includes the age, race, sex, ethnicity of victims and perpetrators, in addition to the relationship between the victim and perpetrator and weapon used.\n",
    "\n",
    "Acknowledgements\n",
    "\n",
    "The data was compiled and made available by the Murder Accountability Project, founded by Thomas Hargrove."
   ]
  },
  {
   "cell_type": "markdown",
   "metadata": {},
   "source": [
    "## 1. Data exploration and finding errors\n",
    "\n",
    "The intention here is to get to know the data and identify errors column by column. "
   ]
  },
  {
   "cell_type": "code",
   "execution_count": 2,
   "metadata": {},
   "outputs": [],
   "source": [
    "# importing libraries\n",
    "# testing\n",
    "\n",
    "import pandas as pd # importing, data manipulation, subsetting\n",
    "import numpy as np # linear algebra"
   ]
  },
  {
   "cell_type": "code",
   "execution_count": 3,
   "metadata": {},
   "outputs": [
    {
     "ename": "FileNotFoundError",
     "evalue": "[Errno 2] File b'US HOMOCIDE REPORT.csv' does not exist: b'US HOMOCIDE REPORT.csv'",
     "output_type": "error",
     "traceback": [
      "\u001b[0;31m---------------------------------------------------------------------------\u001b[0m",
      "\u001b[0;31mFileNotFoundError\u001b[0m                         Traceback (most recent call last)",
      "\u001b[0;32m<ipython-input-3-0c77d54744cc>\u001b[0m in \u001b[0;36m<module>\u001b[0;34m\u001b[0m\n\u001b[1;32m      1\u001b[0m \u001b[0;31m# reading in the csv file\u001b[0m\u001b[0;34m\u001b[0m\u001b[0;34m\u001b[0m\u001b[0;34m\u001b[0m\u001b[0m\n\u001b[1;32m      2\u001b[0m \u001b[0;31m# the file is csv so we use the comma separator\u001b[0m\u001b[0;34m\u001b[0m\u001b[0;34m\u001b[0m\u001b[0;34m\u001b[0m\u001b[0m\n\u001b[0;32m----> 3\u001b[0;31m \u001b[0mdata\u001b[0m \u001b[0;34m=\u001b[0m \u001b[0mpd\u001b[0m\u001b[0;34m.\u001b[0m\u001b[0mread_csv\u001b[0m\u001b[0;34m(\u001b[0m\u001b[0;34m\"US HOMOCIDE REPORT.csv\"\u001b[0m\u001b[0;34m)\u001b[0m\u001b[0;34m\u001b[0m\u001b[0;34m\u001b[0m\u001b[0m\n\u001b[0m\u001b[1;32m      4\u001b[0m \u001b[0;34m\u001b[0m\u001b[0m\n\u001b[1;32m      5\u001b[0m \u001b[0;31m# diplay first 3 and last 3 rows of the dataset\u001b[0m\u001b[0;34m\u001b[0m\u001b[0;34m\u001b[0m\u001b[0;34m\u001b[0m\u001b[0m\n",
      "\u001b[0;32m/opt/tljh/user/lib/python3.6/site-packages/pandas/io/parsers.py\u001b[0m in \u001b[0;36mparser_f\u001b[0;34m(filepath_or_buffer, sep, delimiter, header, names, index_col, usecols, squeeze, prefix, mangle_dupe_cols, dtype, engine, converters, true_values, false_values, skipinitialspace, skiprows, skipfooter, nrows, na_values, keep_default_na, na_filter, verbose, skip_blank_lines, parse_dates, infer_datetime_format, keep_date_col, date_parser, dayfirst, cache_dates, iterator, chunksize, compression, thousands, decimal, lineterminator, quotechar, quoting, doublequote, escapechar, comment, encoding, dialect, error_bad_lines, warn_bad_lines, delim_whitespace, low_memory, memory_map, float_precision)\u001b[0m\n\u001b[1;32m    683\u001b[0m         )\n\u001b[1;32m    684\u001b[0m \u001b[0;34m\u001b[0m\u001b[0m\n\u001b[0;32m--> 685\u001b[0;31m         \u001b[0;32mreturn\u001b[0m \u001b[0m_read\u001b[0m\u001b[0;34m(\u001b[0m\u001b[0mfilepath_or_buffer\u001b[0m\u001b[0;34m,\u001b[0m \u001b[0mkwds\u001b[0m\u001b[0;34m)\u001b[0m\u001b[0;34m\u001b[0m\u001b[0;34m\u001b[0m\u001b[0m\n\u001b[0m\u001b[1;32m    686\u001b[0m \u001b[0;34m\u001b[0m\u001b[0m\n\u001b[1;32m    687\u001b[0m     \u001b[0mparser_f\u001b[0m\u001b[0;34m.\u001b[0m\u001b[0m__name__\u001b[0m \u001b[0;34m=\u001b[0m \u001b[0mname\u001b[0m\u001b[0;34m\u001b[0m\u001b[0;34m\u001b[0m\u001b[0m\n",
      "\u001b[0;32m/opt/tljh/user/lib/python3.6/site-packages/pandas/io/parsers.py\u001b[0m in \u001b[0;36m_read\u001b[0;34m(filepath_or_buffer, kwds)\u001b[0m\n\u001b[1;32m    455\u001b[0m \u001b[0;34m\u001b[0m\u001b[0m\n\u001b[1;32m    456\u001b[0m     \u001b[0;31m# Create the parser.\u001b[0m\u001b[0;34m\u001b[0m\u001b[0;34m\u001b[0m\u001b[0;34m\u001b[0m\u001b[0m\n\u001b[0;32m--> 457\u001b[0;31m     \u001b[0mparser\u001b[0m \u001b[0;34m=\u001b[0m \u001b[0mTextFileReader\u001b[0m\u001b[0;34m(\u001b[0m\u001b[0mfp_or_buf\u001b[0m\u001b[0;34m,\u001b[0m \u001b[0;34m**\u001b[0m\u001b[0mkwds\u001b[0m\u001b[0;34m)\u001b[0m\u001b[0;34m\u001b[0m\u001b[0;34m\u001b[0m\u001b[0m\n\u001b[0m\u001b[1;32m    458\u001b[0m \u001b[0;34m\u001b[0m\u001b[0m\n\u001b[1;32m    459\u001b[0m     \u001b[0;32mif\u001b[0m \u001b[0mchunksize\u001b[0m \u001b[0;32mor\u001b[0m \u001b[0miterator\u001b[0m\u001b[0;34m:\u001b[0m\u001b[0;34m\u001b[0m\u001b[0;34m\u001b[0m\u001b[0m\n",
      "\u001b[0;32m/opt/tljh/user/lib/python3.6/site-packages/pandas/io/parsers.py\u001b[0m in \u001b[0;36m__init__\u001b[0;34m(self, f, engine, **kwds)\u001b[0m\n\u001b[1;32m    893\u001b[0m             \u001b[0mself\u001b[0m\u001b[0;34m.\u001b[0m\u001b[0moptions\u001b[0m\u001b[0;34m[\u001b[0m\u001b[0;34m\"has_index_names\"\u001b[0m\u001b[0;34m]\u001b[0m \u001b[0;34m=\u001b[0m \u001b[0mkwds\u001b[0m\u001b[0;34m[\u001b[0m\u001b[0;34m\"has_index_names\"\u001b[0m\u001b[0;34m]\u001b[0m\u001b[0;34m\u001b[0m\u001b[0;34m\u001b[0m\u001b[0m\n\u001b[1;32m    894\u001b[0m \u001b[0;34m\u001b[0m\u001b[0m\n\u001b[0;32m--> 895\u001b[0;31m         \u001b[0mself\u001b[0m\u001b[0;34m.\u001b[0m\u001b[0m_make_engine\u001b[0m\u001b[0;34m(\u001b[0m\u001b[0mself\u001b[0m\u001b[0;34m.\u001b[0m\u001b[0mengine\u001b[0m\u001b[0;34m)\u001b[0m\u001b[0;34m\u001b[0m\u001b[0;34m\u001b[0m\u001b[0m\n\u001b[0m\u001b[1;32m    896\u001b[0m \u001b[0;34m\u001b[0m\u001b[0m\n\u001b[1;32m    897\u001b[0m     \u001b[0;32mdef\u001b[0m \u001b[0mclose\u001b[0m\u001b[0;34m(\u001b[0m\u001b[0mself\u001b[0m\u001b[0;34m)\u001b[0m\u001b[0;34m:\u001b[0m\u001b[0;34m\u001b[0m\u001b[0;34m\u001b[0m\u001b[0m\n",
      "\u001b[0;32m/opt/tljh/user/lib/python3.6/site-packages/pandas/io/parsers.py\u001b[0m in \u001b[0;36m_make_engine\u001b[0;34m(self, engine)\u001b[0m\n\u001b[1;32m   1133\u001b[0m     \u001b[0;32mdef\u001b[0m \u001b[0m_make_engine\u001b[0m\u001b[0;34m(\u001b[0m\u001b[0mself\u001b[0m\u001b[0;34m,\u001b[0m \u001b[0mengine\u001b[0m\u001b[0;34m=\u001b[0m\u001b[0;34m\"c\"\u001b[0m\u001b[0;34m)\u001b[0m\u001b[0;34m:\u001b[0m\u001b[0;34m\u001b[0m\u001b[0;34m\u001b[0m\u001b[0m\n\u001b[1;32m   1134\u001b[0m         \u001b[0;32mif\u001b[0m \u001b[0mengine\u001b[0m \u001b[0;34m==\u001b[0m \u001b[0;34m\"c\"\u001b[0m\u001b[0;34m:\u001b[0m\u001b[0;34m\u001b[0m\u001b[0;34m\u001b[0m\u001b[0m\n\u001b[0;32m-> 1135\u001b[0;31m             \u001b[0mself\u001b[0m\u001b[0;34m.\u001b[0m\u001b[0m_engine\u001b[0m \u001b[0;34m=\u001b[0m \u001b[0mCParserWrapper\u001b[0m\u001b[0;34m(\u001b[0m\u001b[0mself\u001b[0m\u001b[0;34m.\u001b[0m\u001b[0mf\u001b[0m\u001b[0;34m,\u001b[0m \u001b[0;34m**\u001b[0m\u001b[0mself\u001b[0m\u001b[0;34m.\u001b[0m\u001b[0moptions\u001b[0m\u001b[0;34m)\u001b[0m\u001b[0;34m\u001b[0m\u001b[0;34m\u001b[0m\u001b[0m\n\u001b[0m\u001b[1;32m   1136\u001b[0m         \u001b[0;32melse\u001b[0m\u001b[0;34m:\u001b[0m\u001b[0;34m\u001b[0m\u001b[0;34m\u001b[0m\u001b[0m\n\u001b[1;32m   1137\u001b[0m             \u001b[0;32mif\u001b[0m \u001b[0mengine\u001b[0m \u001b[0;34m==\u001b[0m \u001b[0;34m\"python\"\u001b[0m\u001b[0;34m:\u001b[0m\u001b[0;34m\u001b[0m\u001b[0;34m\u001b[0m\u001b[0m\n",
      "\u001b[0;32m/opt/tljh/user/lib/python3.6/site-packages/pandas/io/parsers.py\u001b[0m in \u001b[0;36m__init__\u001b[0;34m(self, src, **kwds)\u001b[0m\n\u001b[1;32m   1915\u001b[0m         \u001b[0mkwds\u001b[0m\u001b[0;34m[\u001b[0m\u001b[0;34m\"usecols\"\u001b[0m\u001b[0;34m]\u001b[0m \u001b[0;34m=\u001b[0m \u001b[0mself\u001b[0m\u001b[0;34m.\u001b[0m\u001b[0musecols\u001b[0m\u001b[0;34m\u001b[0m\u001b[0;34m\u001b[0m\u001b[0m\n\u001b[1;32m   1916\u001b[0m \u001b[0;34m\u001b[0m\u001b[0m\n\u001b[0;32m-> 1917\u001b[0;31m         \u001b[0mself\u001b[0m\u001b[0;34m.\u001b[0m\u001b[0m_reader\u001b[0m \u001b[0;34m=\u001b[0m \u001b[0mparsers\u001b[0m\u001b[0;34m.\u001b[0m\u001b[0mTextReader\u001b[0m\u001b[0;34m(\u001b[0m\u001b[0msrc\u001b[0m\u001b[0;34m,\u001b[0m \u001b[0;34m**\u001b[0m\u001b[0mkwds\u001b[0m\u001b[0;34m)\u001b[0m\u001b[0;34m\u001b[0m\u001b[0;34m\u001b[0m\u001b[0m\n\u001b[0m\u001b[1;32m   1918\u001b[0m         \u001b[0mself\u001b[0m\u001b[0;34m.\u001b[0m\u001b[0munnamed_cols\u001b[0m \u001b[0;34m=\u001b[0m \u001b[0mself\u001b[0m\u001b[0;34m.\u001b[0m\u001b[0m_reader\u001b[0m\u001b[0;34m.\u001b[0m\u001b[0munnamed_cols\u001b[0m\u001b[0;34m\u001b[0m\u001b[0;34m\u001b[0m\u001b[0m\n\u001b[1;32m   1919\u001b[0m \u001b[0;34m\u001b[0m\u001b[0m\n",
      "\u001b[0;32mpandas/_libs/parsers.pyx\u001b[0m in \u001b[0;36mpandas._libs.parsers.TextReader.__cinit__\u001b[0;34m()\u001b[0m\n",
      "\u001b[0;32mpandas/_libs/parsers.pyx\u001b[0m in \u001b[0;36mpandas._libs.parsers.TextReader._setup_parser_source\u001b[0;34m()\u001b[0m\n",
      "\u001b[0;31mFileNotFoundError\u001b[0m: [Errno 2] File b'US HOMOCIDE REPORT.csv' does not exist: b'US HOMOCIDE REPORT.csv'"
     ]
    }
   ],
   "source": [
    "# reading in the csv file \n",
    "# the file is csv so we use the comma separator \n",
    "data = pd.read_csv(\"US HOMOCIDE REPORT.csv\")\n",
    "\n",
    "# diplay first 3 and last 3 rows of the dataset\n",
    "head = data.head(3)\n",
    "tail = data.tail(3)\n",
    "\n",
    "# concatonate it together \n",
    "pd.concat([head,tail])"
   ]
  },
  {
   "cell_type": "code",
   "execution_count": 3,
   "metadata": {},
   "outputs": [
    {
     "name": "stdout",
     "output_type": "stream",
     "text": [
      "<class 'pandas.core.frame.DataFrame'>\n",
      "RangeIndex: 638454 entries, 0 to 638453\n",
      "Data columns (total 24 columns):\n",
      "Record ID                638454 non-null int64\n",
      "Agency Code              638454 non-null object\n",
      "Agency Name              638454 non-null object\n",
      "Agency Type              638454 non-null object\n",
      "City                     638454 non-null object\n",
      "State                    638454 non-null object\n",
      "Year                     638454 non-null int64\n",
      "Month                    638454 non-null object\n",
      "Incident                 638454 non-null int64\n",
      "Crime Type               638454 non-null object\n",
      "Crime Solved             638454 non-null object\n",
      "Victim Sex               638454 non-null object\n",
      "Victim Age               638454 non-null int64\n",
      "Victim Race              638454 non-null object\n",
      "Victim Ethnicity         638454 non-null object\n",
      "Perpetrator Sex          638454 non-null object\n",
      "Perpetrator Age          638454 non-null object\n",
      "Perpetrator Race         638454 non-null object\n",
      "Perpetrator Ethnicity    638454 non-null object\n",
      "Relationship             638454 non-null object\n",
      "Weapon                   638454 non-null object\n",
      "Victim Count             638454 non-null int64\n",
      "Perpetrator Count        638454 non-null int64\n",
      "Record Source            638454 non-null object\n",
      "dtypes: int64(6), object(18)\n",
      "memory usage: 116.9+ MB\n"
     ]
    }
   ],
   "source": [
    "# data inspection\n",
    "\n",
    "# from our output and warning we see that \"Perpetrator Age\" column is considered and object while it should be an integer\n",
    "# no-null values found yet \n",
    "data.info()"
   ]
  },
  {
   "cell_type": "code",
   "execution_count": 4,
   "metadata": {},
   "outputs": [
    {
     "data": {
      "text/html": [
       "<div>\n",
       "<style scoped>\n",
       "    .dataframe tbody tr th:only-of-type {\n",
       "        vertical-align: middle;\n",
       "    }\n",
       "\n",
       "    .dataframe tbody tr th {\n",
       "        vertical-align: top;\n",
       "    }\n",
       "\n",
       "    .dataframe thead th {\n",
       "        text-align: right;\n",
       "    }\n",
       "</style>\n",
       "<table border=\"1\" class=\"dataframe\">\n",
       "  <thead>\n",
       "    <tr style=\"text-align: right;\">\n",
       "      <th></th>\n",
       "      <th>Record ID</th>\n",
       "      <th>Agency Code</th>\n",
       "      <th>Agency Name</th>\n",
       "      <th>Agency Type</th>\n",
       "      <th>City</th>\n",
       "      <th>State</th>\n",
       "      <th>Year</th>\n",
       "      <th>Month</th>\n",
       "      <th>Incident</th>\n",
       "      <th>Crime Type</th>\n",
       "      <th>...</th>\n",
       "      <th>Victim Ethnicity</th>\n",
       "      <th>Perpetrator Sex</th>\n",
       "      <th>Perpetrator Age</th>\n",
       "      <th>Perpetrator Race</th>\n",
       "      <th>Perpetrator Ethnicity</th>\n",
       "      <th>Relationship</th>\n",
       "      <th>Weapon</th>\n",
       "      <th>Victim Count</th>\n",
       "      <th>Perpetrator Count</th>\n",
       "      <th>Record Source</th>\n",
       "    </tr>\n",
       "  </thead>\n",
       "  <tbody>\n",
       "    <tr>\n",
       "      <th>0</th>\n",
       "      <td>False</td>\n",
       "      <td>False</td>\n",
       "      <td>False</td>\n",
       "      <td>False</td>\n",
       "      <td>False</td>\n",
       "      <td>False</td>\n",
       "      <td>False</td>\n",
       "      <td>False</td>\n",
       "      <td>False</td>\n",
       "      <td>False</td>\n",
       "      <td>...</td>\n",
       "      <td>False</td>\n",
       "      <td>False</td>\n",
       "      <td>False</td>\n",
       "      <td>False</td>\n",
       "      <td>False</td>\n",
       "      <td>False</td>\n",
       "      <td>False</td>\n",
       "      <td>False</td>\n",
       "      <td>False</td>\n",
       "      <td>False</td>\n",
       "    </tr>\n",
       "    <tr>\n",
       "      <th>1</th>\n",
       "      <td>False</td>\n",
       "      <td>False</td>\n",
       "      <td>False</td>\n",
       "      <td>False</td>\n",
       "      <td>False</td>\n",
       "      <td>False</td>\n",
       "      <td>False</td>\n",
       "      <td>False</td>\n",
       "      <td>False</td>\n",
       "      <td>False</td>\n",
       "      <td>...</td>\n",
       "      <td>False</td>\n",
       "      <td>False</td>\n",
       "      <td>False</td>\n",
       "      <td>False</td>\n",
       "      <td>False</td>\n",
       "      <td>False</td>\n",
       "      <td>False</td>\n",
       "      <td>False</td>\n",
       "      <td>False</td>\n",
       "      <td>False</td>\n",
       "    </tr>\n",
       "    <tr>\n",
       "      <th>2</th>\n",
       "      <td>False</td>\n",
       "      <td>False</td>\n",
       "      <td>False</td>\n",
       "      <td>False</td>\n",
       "      <td>False</td>\n",
       "      <td>False</td>\n",
       "      <td>False</td>\n",
       "      <td>False</td>\n",
       "      <td>False</td>\n",
       "      <td>False</td>\n",
       "      <td>...</td>\n",
       "      <td>False</td>\n",
       "      <td>False</td>\n",
       "      <td>False</td>\n",
       "      <td>False</td>\n",
       "      <td>False</td>\n",
       "      <td>False</td>\n",
       "      <td>False</td>\n",
       "      <td>False</td>\n",
       "      <td>False</td>\n",
       "      <td>False</td>\n",
       "    </tr>\n",
       "    <tr>\n",
       "      <th>3</th>\n",
       "      <td>False</td>\n",
       "      <td>False</td>\n",
       "      <td>False</td>\n",
       "      <td>False</td>\n",
       "      <td>False</td>\n",
       "      <td>False</td>\n",
       "      <td>False</td>\n",
       "      <td>False</td>\n",
       "      <td>False</td>\n",
       "      <td>False</td>\n",
       "      <td>...</td>\n",
       "      <td>False</td>\n",
       "      <td>False</td>\n",
       "      <td>False</td>\n",
       "      <td>False</td>\n",
       "      <td>False</td>\n",
       "      <td>False</td>\n",
       "      <td>False</td>\n",
       "      <td>False</td>\n",
       "      <td>False</td>\n",
       "      <td>False</td>\n",
       "    </tr>\n",
       "    <tr>\n",
       "      <th>4</th>\n",
       "      <td>False</td>\n",
       "      <td>False</td>\n",
       "      <td>False</td>\n",
       "      <td>False</td>\n",
       "      <td>False</td>\n",
       "      <td>False</td>\n",
       "      <td>False</td>\n",
       "      <td>False</td>\n",
       "      <td>False</td>\n",
       "      <td>False</td>\n",
       "      <td>...</td>\n",
       "      <td>False</td>\n",
       "      <td>False</td>\n",
       "      <td>False</td>\n",
       "      <td>False</td>\n",
       "      <td>False</td>\n",
       "      <td>False</td>\n",
       "      <td>False</td>\n",
       "      <td>False</td>\n",
       "      <td>False</td>\n",
       "      <td>False</td>\n",
       "    </tr>\n",
       "    <tr>\n",
       "      <th>...</th>\n",
       "      <td>...</td>\n",
       "      <td>...</td>\n",
       "      <td>...</td>\n",
       "      <td>...</td>\n",
       "      <td>...</td>\n",
       "      <td>...</td>\n",
       "      <td>...</td>\n",
       "      <td>...</td>\n",
       "      <td>...</td>\n",
       "      <td>...</td>\n",
       "      <td>...</td>\n",
       "      <td>...</td>\n",
       "      <td>...</td>\n",
       "      <td>...</td>\n",
       "      <td>...</td>\n",
       "      <td>...</td>\n",
       "      <td>...</td>\n",
       "      <td>...</td>\n",
       "      <td>...</td>\n",
       "      <td>...</td>\n",
       "      <td>...</td>\n",
       "    </tr>\n",
       "    <tr>\n",
       "      <th>638449</th>\n",
       "      <td>False</td>\n",
       "      <td>False</td>\n",
       "      <td>False</td>\n",
       "      <td>False</td>\n",
       "      <td>False</td>\n",
       "      <td>False</td>\n",
       "      <td>False</td>\n",
       "      <td>False</td>\n",
       "      <td>False</td>\n",
       "      <td>False</td>\n",
       "      <td>...</td>\n",
       "      <td>False</td>\n",
       "      <td>False</td>\n",
       "      <td>False</td>\n",
       "      <td>False</td>\n",
       "      <td>False</td>\n",
       "      <td>False</td>\n",
       "      <td>False</td>\n",
       "      <td>False</td>\n",
       "      <td>False</td>\n",
       "      <td>False</td>\n",
       "    </tr>\n",
       "    <tr>\n",
       "      <th>638450</th>\n",
       "      <td>False</td>\n",
       "      <td>False</td>\n",
       "      <td>False</td>\n",
       "      <td>False</td>\n",
       "      <td>False</td>\n",
       "      <td>False</td>\n",
       "      <td>False</td>\n",
       "      <td>False</td>\n",
       "      <td>False</td>\n",
       "      <td>False</td>\n",
       "      <td>...</td>\n",
       "      <td>False</td>\n",
       "      <td>False</td>\n",
       "      <td>False</td>\n",
       "      <td>False</td>\n",
       "      <td>False</td>\n",
       "      <td>False</td>\n",
       "      <td>False</td>\n",
       "      <td>False</td>\n",
       "      <td>False</td>\n",
       "      <td>False</td>\n",
       "    </tr>\n",
       "    <tr>\n",
       "      <th>638451</th>\n",
       "      <td>False</td>\n",
       "      <td>False</td>\n",
       "      <td>False</td>\n",
       "      <td>False</td>\n",
       "      <td>False</td>\n",
       "      <td>False</td>\n",
       "      <td>False</td>\n",
       "      <td>False</td>\n",
       "      <td>False</td>\n",
       "      <td>False</td>\n",
       "      <td>...</td>\n",
       "      <td>False</td>\n",
       "      <td>False</td>\n",
       "      <td>False</td>\n",
       "      <td>False</td>\n",
       "      <td>False</td>\n",
       "      <td>False</td>\n",
       "      <td>False</td>\n",
       "      <td>False</td>\n",
       "      <td>False</td>\n",
       "      <td>False</td>\n",
       "    </tr>\n",
       "    <tr>\n",
       "      <th>638452</th>\n",
       "      <td>False</td>\n",
       "      <td>False</td>\n",
       "      <td>False</td>\n",
       "      <td>False</td>\n",
       "      <td>False</td>\n",
       "      <td>False</td>\n",
       "      <td>False</td>\n",
       "      <td>False</td>\n",
       "      <td>False</td>\n",
       "      <td>False</td>\n",
       "      <td>...</td>\n",
       "      <td>False</td>\n",
       "      <td>False</td>\n",
       "      <td>False</td>\n",
       "      <td>False</td>\n",
       "      <td>False</td>\n",
       "      <td>False</td>\n",
       "      <td>False</td>\n",
       "      <td>False</td>\n",
       "      <td>False</td>\n",
       "      <td>False</td>\n",
       "    </tr>\n",
       "    <tr>\n",
       "      <th>638453</th>\n",
       "      <td>False</td>\n",
       "      <td>False</td>\n",
       "      <td>False</td>\n",
       "      <td>False</td>\n",
       "      <td>False</td>\n",
       "      <td>False</td>\n",
       "      <td>False</td>\n",
       "      <td>False</td>\n",
       "      <td>False</td>\n",
       "      <td>False</td>\n",
       "      <td>...</td>\n",
       "      <td>False</td>\n",
       "      <td>False</td>\n",
       "      <td>False</td>\n",
       "      <td>False</td>\n",
       "      <td>False</td>\n",
       "      <td>False</td>\n",
       "      <td>False</td>\n",
       "      <td>False</td>\n",
       "      <td>False</td>\n",
       "      <td>False</td>\n",
       "    </tr>\n",
       "  </tbody>\n",
       "</table>\n",
       "<p>638454 rows × 24 columns</p>\n",
       "</div>"
      ],
      "text/plain": [
       "        Record ID  Agency Code  Agency Name  Agency Type   City  State   Year  \\\n",
       "0           False        False        False        False  False  False  False   \n",
       "1           False        False        False        False  False  False  False   \n",
       "2           False        False        False        False  False  False  False   \n",
       "3           False        False        False        False  False  False  False   \n",
       "4           False        False        False        False  False  False  False   \n",
       "...           ...          ...          ...          ...    ...    ...    ...   \n",
       "638449      False        False        False        False  False  False  False   \n",
       "638450      False        False        False        False  False  False  False   \n",
       "638451      False        False        False        False  False  False  False   \n",
       "638452      False        False        False        False  False  False  False   \n",
       "638453      False        False        False        False  False  False  False   \n",
       "\n",
       "        Month  Incident  Crime Type  ...  Victim Ethnicity  Perpetrator Sex  \\\n",
       "0       False     False       False  ...             False            False   \n",
       "1       False     False       False  ...             False            False   \n",
       "2       False     False       False  ...             False            False   \n",
       "3       False     False       False  ...             False            False   \n",
       "4       False     False       False  ...             False            False   \n",
       "...       ...       ...         ...  ...               ...              ...   \n",
       "638449  False     False       False  ...             False            False   \n",
       "638450  False     False       False  ...             False            False   \n",
       "638451  False     False       False  ...             False            False   \n",
       "638452  False     False       False  ...             False            False   \n",
       "638453  False     False       False  ...             False            False   \n",
       "\n",
       "        Perpetrator Age  Perpetrator Race  Perpetrator Ethnicity  \\\n",
       "0                 False             False                  False   \n",
       "1                 False             False                  False   \n",
       "2                 False             False                  False   \n",
       "3                 False             False                  False   \n",
       "4                 False             False                  False   \n",
       "...                 ...               ...                    ...   \n",
       "638449            False             False                  False   \n",
       "638450            False             False                  False   \n",
       "638451            False             False                  False   \n",
       "638452            False             False                  False   \n",
       "638453            False             False                  False   \n",
       "\n",
       "        Relationship  Weapon  Victim Count  Perpetrator Count  Record Source  \n",
       "0              False   False         False              False          False  \n",
       "1              False   False         False              False          False  \n",
       "2              False   False         False              False          False  \n",
       "3              False   False         False              False          False  \n",
       "4              False   False         False              False          False  \n",
       "...              ...     ...           ...                ...            ...  \n",
       "638449         False   False         False              False          False  \n",
       "638450         False   False         False              False          False  \n",
       "638451         False   False         False              False          False  \n",
       "638452         False   False         False              False          False  \n",
       "638453         False   False         False              False          False  \n",
       "\n",
       "[638454 rows x 24 columns]"
      ]
     },
     "execution_count": 4,
     "metadata": {},
     "output_type": "execute_result"
    }
   ],
   "source": [
    "data.isnull()"
   ]
  },
  {
   "cell_type": "code",
   "execution_count": 5,
   "metadata": {},
   "outputs": [
    {
     "data": {
      "text/plain": [
       "array(['AK00101', 'AK00103', 'AK00106', ..., 'WA01750', 'WA02705',\n",
       "       'WVWSP65'], dtype=object)"
      ]
     },
     "execution_count": 5,
     "metadata": {},
     "output_type": "execute_result"
    }
   ],
   "source": [
    "# unique values for agency code\n",
    "data[\"Agency Code\"].unique()"
   ]
  },
  {
   "cell_type": "code",
   "execution_count": 6,
   "metadata": {},
   "outputs": [
    {
     "data": {
      "text/plain": [
       "NY03030    38416\n",
       "CA01942    23663\n",
       "ILCPD00    21331\n",
       "MI82349    17206\n",
       "TXHPD00    12881\n",
       "           ...  \n",
       "WI04513        1\n",
       "TN04802        1\n",
       "MO08600        1\n",
       "IL08204        1\n",
       "KY00502        1\n",
       "Name: Agency Code, Length: 12003, dtype: int64"
      ]
     },
     "execution_count": 6,
     "metadata": {},
     "output_type": "execute_result"
    }
   ],
   "source": [
    "# value counts for agency code\n",
    "\n",
    "# New York, California, and Ilionios agencys are observed the most \n",
    "data[\"Agency Code\"].value_counts()"
   ]
  },
  {
   "cell_type": "code",
   "execution_count": 7,
   "metadata": {},
   "outputs": [
    {
     "data": {
      "text/plain": [
       "Yes    448172\n",
       "No     190282\n",
       "Name: Crime Solved, dtype: int64"
      ]
     },
     "execution_count": 7,
     "metadata": {},
     "output_type": "execute_result"
    }
   ],
   "source": [
    "data[\"Crime Solved\"].value_counts()"
   ]
  },
  {
   "cell_type": "code",
   "execution_count": 8,
   "metadata": {},
   "outputs": [
    {
     "data": {
      "text/plain": [
       "array(['Anchorage', 'Juneau', 'Nome', ..., 'Sp: Hundred',\n",
       "       'Sheridan County', 'Sublette County'], dtype=object)"
      ]
     },
     "execution_count": 8,
     "metadata": {},
     "output_type": "execute_result"
    }
   ],
   "source": [
    "# unique values for agency type\n",
    "data[\"Agency Name\"].unique()"
   ]
  },
  {
   "cell_type": "code",
   "execution_count": 9,
   "metadata": {},
   "outputs": [
    {
     "data": {
      "text/plain": [
       "New York          38416\n",
       "Los Angeles       29007\n",
       "Chicago           21331\n",
       "Detroit           17206\n",
       "Houston           13046\n",
       "                  ...  \n",
       "Big Stone             1\n",
       "Pilot Rock            1\n",
       "Little Compton        1\n",
       "Kendall County        1\n",
       "Gila County           1\n",
       "Name: Agency Name, Length: 9216, dtype: int64"
      ]
     },
     "execution_count": 9,
     "metadata": {},
     "output_type": "execute_result"
    }
   ],
   "source": [
    "# unique values for agency type\n",
    "data[\"Agency Name\"].value_counts()"
   ]
  },
  {
   "cell_type": "code",
   "execution_count": 10,
   "metadata": {},
   "outputs": [
    {
     "data": {
      "text/plain": [
       "array(['Municipal Police', 'County Police', 'State Police', 'Sheriff',\n",
       "       'Special Police', 'Regional Police', 'Tribal Police'], dtype=object)"
      ]
     },
     "execution_count": 10,
     "metadata": {},
     "output_type": "execute_result"
    }
   ],
   "source": [
    "# unique values for agency type\n",
    "data[\"Agency Type\"].unique()"
   ]
  },
  {
   "cell_type": "code",
   "execution_count": 11,
   "metadata": {},
   "outputs": [
    {
     "data": {
      "text/plain": [
       "Municipal Police    493026\n",
       "Sheriff             105322\n",
       "County Police        22693\n",
       "State Police         14235\n",
       "Special Police        2889\n",
       "Regional Police        235\n",
       "Tribal Police           54\n",
       "Name: Agency Type, dtype: int64"
      ]
     },
     "execution_count": 11,
     "metadata": {},
     "output_type": "execute_result"
    }
   ],
   "source": [
    "# unique values for agency type\n",
    "data[\"Agency Type\"].value_counts()"
   ]
  },
  {
   "cell_type": "code",
   "execution_count": 12,
   "metadata": {},
   "outputs": [
    {
     "data": {
      "text/plain": [
       "array(['Anchorage', 'Juneau', 'Nome', ..., 'Rooks', 'McCone', 'Antelope'],\n",
       "      dtype=object)"
      ]
     },
     "execution_count": 12,
     "metadata": {},
     "output_type": "execute_result"
    }
   ],
   "source": [
    "# unique values for agency type\n",
    "data[\"City\"].unique()"
   ]
  },
  {
   "cell_type": "code",
   "execution_count": 13,
   "metadata": {},
   "outputs": [
    {
     "data": {
      "text/plain": [
       "Los Angeles      44511\n",
       "New York         38431\n",
       "Cook             22383\n",
       "Wayne            19904\n",
       "Harris           16331\n",
       "                 ...  \n",
       "Gosper               1\n",
       "Foard                1\n",
       "Yukon-Koyukuk        1\n",
       "Sully                1\n",
       "Haines               1\n",
       "Name: City, Length: 1782, dtype: int64"
      ]
     },
     "execution_count": 13,
     "metadata": {},
     "output_type": "execute_result"
    }
   ],
   "source": [
    "# unique values for agency type\n",
    "# We see small cities like Cook, Wayne and Harrison with large amounts of incident reports\n",
    "# We will not use cities \n",
    "data[\"City\"].value_counts()"
   ]
  },
  {
   "cell_type": "code",
   "execution_count": 14,
   "metadata": {},
   "outputs": [
    {
     "data": {
      "text/plain": [
       "California              99783\n",
       "Texas                   62095\n",
       "New York                49268\n",
       "Florida                 37164\n",
       "Michigan                28448\n",
       "Illinois                25871\n",
       "Pennsylvania            24236\n",
       "Georgia                 21088\n",
       "North Carolina          20390\n",
       "Louisiana               19629\n",
       "Ohio                    19158\n",
       "Maryland                17312\n",
       "Virginia                15520\n",
       "Tennessee               14930\n",
       "Missouri                14832\n",
       "New Jersey              14132\n",
       "Arizona                 12871\n",
       "South Carolina          11698\n",
       "Indiana                 11463\n",
       "Alabama                 11376\n",
       "Oklahoma                 8809\n",
       "Washington               7815\n",
       "District of Columbia     7115\n",
       "Arkansas                 6947\n",
       "Colorado                 6593\n",
       "Kentucky                 6554\n",
       "Mississippi              6546\n",
       "Wisconsin                6191\n",
       "Massachusetts            6036\n",
       "Nevada                   5553\n",
       "Connecticut              4896\n",
       "New Mexico               4272\n",
       "Oregon                   4217\n",
       "Minnesota                3975\n",
       "Kansas                   3085\n",
       "West Virginia            3061\n",
       "Utah                     2033\n",
       "Iowa                     1749\n",
       "Alaska                   1617\n",
       "Hawaii                   1338\n",
       "Nebraska                 1331\n",
       "Rhodes Island            1211\n",
       "Delaware                 1179\n",
       "Idaho                    1150\n",
       "Maine                     869\n",
       "New Hampshire             655\n",
       "Wyoming                   630\n",
       "Montana                   601\n",
       "South Dakota              442\n",
       "Vermont                   412\n",
       "North Dakota              308\n",
       "Name: State, dtype: int64"
      ]
     },
     "execution_count": 14,
     "metadata": {},
     "output_type": "execute_result"
    }
   ],
   "source": [
    "# unique values for agency type\n",
    "state_count = data[\"State\"].value_counts()\n",
    "state_count"
   ]
  },
  {
   "cell_type": "code",
   "execution_count": 15,
   "metadata": {},
   "outputs": [
    {
     "data": {
      "text/plain": [
       "51"
      ]
     },
     "execution_count": 15,
     "metadata": {},
     "output_type": "execute_result"
    }
   ],
   "source": [
    "# District of Columbia is included\n",
    "# We will treat it as a state\n",
    "state_count.count()"
   ]
  },
  {
   "cell_type": "code",
   "execution_count": 16,
   "metadata": {},
   "outputs": [
    {
     "data": {
      "text/plain": [
       "count       51.000000\n",
       "mean     12518.705882\n",
       "std      17686.520705\n",
       "min        308.000000\n",
       "25%       1683.000000\n",
       "50%       6554.000000\n",
       "75%      15225.000000\n",
       "max      99783.000000\n",
       "Name: State, dtype: float64"
      ]
     },
     "execution_count": 16,
     "metadata": {},
     "output_type": "execute_result"
    }
   ],
   "source": [
    "# unique values for agency type\n",
    "state_count.describe()"
   ]
  },
  {
   "cell_type": "code",
   "execution_count": 17,
   "metadata": {},
   "outputs": [
    {
     "data": {
      "text/plain": [
       "35"
      ]
     },
     "execution_count": 17,
     "metadata": {},
     "output_type": "execute_result"
    }
   ],
   "source": [
    "# unique values for agency type\n",
    "# 35 years worth of data\n",
    "data[\"Year\"].value_counts().count()"
   ]
  },
  {
   "cell_type": "code",
   "execution_count": 18,
   "metadata": {},
   "outputs": [
    {
     "data": {
      "text/plain": [
       "12"
      ]
     },
     "execution_count": 18,
     "metadata": {},
     "output_type": "execute_result"
    }
   ],
   "source": [
    "# unique values for agency type\n",
    "# 12 months\n",
    "data[\"Month\"].value_counts().count()"
   ]
  },
  {
   "cell_type": "code",
   "execution_count": 19,
   "metadata": {},
   "outputs": [
    {
     "data": {
      "text/plain": [
       "1      265528\n",
       "2       71779\n",
       "3       39236\n",
       "4       27113\n",
       "5       20658\n",
       "        ...  \n",
       "784        16\n",
       "783        16\n",
       "782        16\n",
       "781        16\n",
       "0          16\n",
       "Name: Incident, Length: 1000, dtype: int64"
      ]
     },
     "execution_count": 19,
     "metadata": {},
     "output_type": "execute_result"
    }
   ],
   "source": [
    "# unique values for agency type\n",
    "# Need assumption here\n",
    "data[\"Incident\"].value_counts()"
   ]
  },
  {
   "cell_type": "code",
   "execution_count": 20,
   "metadata": {},
   "outputs": [
    {
     "data": {
      "text/plain": [
       "Murder or Manslaughter        629338\n",
       "Manslaughter by Negligence      9116\n",
       "Name: Crime Type, dtype: int64"
      ]
     },
     "execution_count": 20,
     "metadata": {},
     "output_type": "execute_result"
    }
   ],
   "source": [
    "# unique values for agency type\n",
    "data[\"Crime Type\"].value_counts()"
   ]
  },
  {
   "cell_type": "code",
   "execution_count": 21,
   "metadata": {},
   "outputs": [
    {
     "data": {
      "text/plain": [
       "Yes    448172\n",
       "No     190282\n",
       "Name: Crime Solved, dtype: int64"
      ]
     },
     "execution_count": 21,
     "metadata": {},
     "output_type": "execute_result"
    }
   ],
   "source": [
    "# unique values for agency type\n",
    "data[\"Crime Solved\"].value_counts()"
   ]
  },
  {
   "cell_type": "code",
   "execution_count": 22,
   "metadata": {},
   "outputs": [
    {
     "data": {
      "text/plain": [
       "Male       494125\n",
       "Female     143345\n",
       "Unknown       984\n",
       "Name: Victim Sex, dtype: int64"
      ]
     },
     "execution_count": 22,
     "metadata": {},
     "output_type": "execute_result"
    }
   ],
   "source": [
    "# unique values for agency type\n",
    "data[\"Victim Sex\"].value_counts()"
   ]
  },
  {
   "cell_type": "code",
   "execution_count": 23,
   "metadata": {},
   "outputs": [
    {
     "data": {
      "text/plain": [
       "22    23049\n",
       "20    23031\n",
       "25    22939\n",
       "21    22796\n",
       "23    22438\n",
       "      ...  \n",
       "94      116\n",
       "95       82\n",
       "97       39\n",
       "96       37\n",
       "98       33\n",
       "Name: Victim Age, Length: 101, dtype: int64"
      ]
     },
     "execution_count": 23,
     "metadata": {},
     "output_type": "execute_result"
    }
   ],
   "source": [
    "# unique values for agency type\n",
    "data[\"Victim Age\"].value_counts()"
   ]
  },
  {
   "cell_type": "code",
   "execution_count": 24,
   "metadata": {},
   "outputs": [
    {
     "data": {
      "text/plain": [
       "count    638454.000000\n",
       "mean         35.033512\n",
       "std          41.628306\n",
       "min           0.000000\n",
       "25%          22.000000\n",
       "50%          30.000000\n",
       "75%          42.000000\n",
       "max         998.000000\n",
       "Name: Victim Age, dtype: float64"
      ]
     },
     "execution_count": 24,
     "metadata": {},
     "output_type": "execute_result"
    }
   ],
   "source": [
    "# unique values for agency type\n",
    "# does the age 0 represent killing of newborns?\n",
    "data[\"Victim Age\"].describe()"
   ]
  },
  {
   "cell_type": "code",
   "execution_count": 25,
   "metadata": {},
   "outputs": [
    {
     "data": {
      "text/plain": [
       "998"
      ]
     },
     "execution_count": 25,
     "metadata": {},
     "output_type": "execute_result"
    }
   ],
   "source": [
    "# set the upper limit for the errors\n",
    "data[\"Victim Age\"].max()"
   ]
  },
  {
   "cell_type": "code",
   "execution_count": 26,
   "metadata": {},
   "outputs": [
    {
     "data": {
      "text/plain": [
       "White                            317422\n",
       "Black                            299899\n",
       "Asian/Pacific Islander             9890\n",
       "Unknown                            6676\n",
       "Native American/Alaska Native      4567\n",
       "Name: Victim Race, dtype: int64"
      ]
     },
     "execution_count": 26,
     "metadata": {},
     "output_type": "execute_result"
    }
   ],
   "source": [
    "# unique values for agency type\n",
    "data[\"Victim Race\"].value_counts()"
   ]
  },
  {
   "cell_type": "code",
   "execution_count": 27,
   "metadata": {},
   "outputs": [
    {
     "data": {
      "text/plain": [
       "Unknown         368303\n",
       "Not Hispanic    197499\n",
       "Hispanic         72652\n",
       "Name: Victim Ethnicity, dtype: int64"
      ]
     },
     "execution_count": 27,
     "metadata": {},
     "output_type": "execute_result"
    }
   ],
   "source": [
    "# unique values for agency type\n",
    "data[\"Victim Ethnicity\"].value_counts()"
   ]
  },
  {
   "cell_type": "code",
   "execution_count": 28,
   "metadata": {},
   "outputs": [
    {
     "data": {
      "text/plain": [
       "0     586059\n",
       "1      38750\n",
       "2       8156\n",
       "3       2847\n",
       "4       1084\n",
       "5        510\n",
       "9        290\n",
       "6        286\n",
       "7        168\n",
       "10       160\n",
       "8        144\n",
       "Name: Victim Count, dtype: int64"
      ]
     },
     "execution_count": 28,
     "metadata": {},
     "output_type": "execute_result"
    }
   ],
   "source": [
    "# unique values for agency type\n",
    "# Lots of missing values (0)\n",
    "# +1\n",
    "data[\"Victim Count\"].value_counts()"
   ]
  },
  {
   "cell_type": "code",
   "execution_count": 29,
   "metadata": {},
   "outputs": [
    {
     "data": {
      "text/plain": [
       "0     211079\n",
       "20     21158\n",
       "19     19807\n",
       "21     18509\n",
       "18     18477\n",
       "       ...  \n",
       "           1\n",
       "10         1\n",
       "93         1\n",
       "95         1\n",
       "6          1\n",
       "Name: Perpetrator Age, Length: 191, dtype: int64"
      ]
     },
     "execution_count": 29,
     "metadata": {},
     "output_type": "execute_result"
    }
   ],
   "source": [
    "# unique values for agency type\n",
    "# Lots of missing values (0)\n",
    "# limit to age has to be set\n",
    "data[\"Perpetrator Age\"].value_counts()"
   ]
  },
  {
   "cell_type": "code",
   "execution_count": 30,
   "metadata": {},
   "outputs": [
    {
     "data": {
      "text/plain": [
       "array([15, 42, 0, 36, 27, 35, 40, 49, 39, 29, 19, 23, 33, 26, 41, 28, 61,\n",
       "       25, 7, 17, 34, 21, 43, 38, 66, 32, 37, 22, 30, 24, 65, 51, 60, 45,\n",
       "       64, 18, 20, 44, 73, 62, 69, 52, 16, 90, 56, 47, 57, 31, 46, 14, 55,\n",
       "       50, 54, 68, 77, 53, 67, 48, 76, 58, 71, 63, 89, 13, 75, 72, 93, 59,\n",
       "       10, 11, 79, 74, 99, 70, 78, 80, 9, 12, 81, 6, 87, 82, 83, 8, 84,\n",
       "       85, 86, 5, 3, 1, 88, 95, 4, 91, 92, 96, 94, 2, 98, 97, '22', '52',\n",
       "       '21', '0', '25', '61', '32', '28', '20', '38', '18', '17', '53',\n",
       "       '30', '24', '84', '43', '16', '47', '54', '50', '42', '23', '36',\n",
       "       '35', '60', '27', '19', '14', '57', '63', '81', '31', '58', '51',\n",
       "       '15', '40', '33', '26', '41', '29', '34', '37', '69', '44', '48',\n",
       "       '55', '49', '56', '39', '45', '65', '59', '70', '46', '11', '77',\n",
       "       '67', '76', '85', '72', '13', '89', '74', '71', '64', '62', '3',\n",
       "       '80', '73', '75', '83', '78', '68', '66', '86', '87', '95', '90',\n",
       "       '6', '12', '99', '88', '9', '93', '10', ' ', '82', '92', '79', '1'],\n",
       "      dtype=object)"
      ]
     },
     "execution_count": 30,
     "metadata": {},
     "output_type": "execute_result"
    }
   ],
   "source": [
    "# unique values for agency type\n",
    "# Lots of missing values (0)\n",
    "# fromat error --> strings, and spaces\n",
    "data[\"Perpetrator Age\"].unique()"
   ]
  },
  {
   "cell_type": "code",
   "execution_count": 31,
   "metadata": {},
   "outputs": [
    {
     "data": {
      "text/plain": [
       "array(['Male', 'Unknown', 'Female'], dtype=object)"
      ]
     },
     "execution_count": 31,
     "metadata": {},
     "output_type": "execute_result"
    }
   ],
   "source": [
    "# unique values for agency type\n",
    "# Lots of missing values (0)\n",
    "data[\"Perpetrator Sex\"].unique()"
   ]
  },
  {
   "cell_type": "code",
   "execution_count": 32,
   "metadata": {},
   "outputs": [
    {
     "data": {
      "text/plain": [
       "Male       399541\n",
       "Unknown    190365\n",
       "Female      48548\n",
       "Name: Perpetrator Sex, dtype: int64"
      ]
     },
     "execution_count": 32,
     "metadata": {},
     "output_type": "execute_result"
    }
   ],
   "source": [
    "# unique values for agency type\n",
    "# Lots of missing values (0)\n",
    "data[\"Perpetrator Sex\"].value_counts()"
   ]
  },
  {
   "cell_type": "code",
   "execution_count": 33,
   "metadata": {},
   "outputs": [
    {
     "data": {
      "text/plain": [
       "White                            218243\n",
       "Black                            214516\n",
       "Unknown                          196047\n",
       "Asian/Pacific Islander             6046\n",
       "Native American/Alaska Native      3602\n",
       "Name: Perpetrator Race, dtype: int64"
      ]
     },
     "execution_count": 33,
     "metadata": {},
     "output_type": "execute_result"
    }
   ],
   "source": [
    "# unique values for agency type\n",
    "# Lots of missing values (0)\n",
    "data[\"Perpetrator Race\"].value_counts()"
   ]
  },
  {
   "cell_type": "code",
   "execution_count": 34,
   "metadata": {},
   "outputs": [
    {
     "data": {
      "text/plain": [
       "Unknown         446410\n",
       "Not Hispanic    145172\n",
       "Hispanic         46872\n",
       "Name: Perpetrator Ethnicity, dtype: int64"
      ]
     },
     "execution_count": 34,
     "metadata": {},
     "output_type": "execute_result"
    }
   ],
   "source": [
    "# unique values for agency type\n",
    "# Lots of missing values (0)\n",
    "data[\"Perpetrator Ethnicity\"].value_counts()"
   ]
  },
  {
   "cell_type": "code",
   "execution_count": 35,
   "metadata": {},
   "outputs": [
    {
     "data": {
      "text/plain": [
       "0     558838\n",
       "1      54745\n",
       "2      15777\n",
       "3       6531\n",
       "4       1489\n",
       "5        592\n",
       "6        207\n",
       "7        129\n",
       "9         52\n",
       "8         52\n",
       "10        42\n",
       "Name: Perpetrator Count, dtype: int64"
      ]
     },
     "execution_count": 35,
     "metadata": {},
     "output_type": "execute_result"
    }
   ],
   "source": [
    "# unique values for agency type\n",
    "# Replace values with +1\n",
    "data[\"Perpetrator Count\"].value_counts()"
   ]
  },
  {
   "cell_type": "code",
   "execution_count": 36,
   "metadata": {},
   "outputs": [
    {
     "data": {
      "text/plain": [
       "Unknown                 273013\n",
       "Acquaintance            126018\n",
       "Stranger                 96593\n",
       "Wife                     23187\n",
       "Friend                   21945\n",
       "Girlfriend               16465\n",
       "Son                       9904\n",
       "Family                    9535\n",
       "Husband                   8803\n",
       "Daughter                  7539\n",
       "Boyfriend                 7302\n",
       "Neighbor                  6294\n",
       "Brother                   5514\n",
       "Father                    4361\n",
       "Mother                    4248\n",
       "In-Law                    3637\n",
       "Common-Law Wife           2477\n",
       "Ex-Wife                   1973\n",
       "Common-Law Husband        1954\n",
       "Boyfriend/Girlfriend      1383\n",
       "Stepfather                1360\n",
       "Sister                    1292\n",
       "Stepson                   1170\n",
       "Stepdaughter               754\n",
       "Ex-Husband                 629\n",
       "Employer                   509\n",
       "Employee                   384\n",
       "Stepmother                 211\n",
       "Name: Relationship, dtype: int64"
      ]
     },
     "execution_count": 36,
     "metadata": {},
     "output_type": "execute_result"
    }
   ],
   "source": [
    "# unique values for agency type\n",
    "# Lots of missing values (0)\n",
    "data[\"Relationship\"].value_counts()"
   ]
  },
  {
   "cell_type": "code",
   "execution_count": 52,
   "metadata": {},
   "outputs": [
    {
     "data": {
      "text/html": [
       "<div>\n",
       "<style scoped>\n",
       "    .dataframe tbody tr th:only-of-type {\n",
       "        vertical-align: middle;\n",
       "    }\n",
       "\n",
       "    .dataframe tbody tr th {\n",
       "        vertical-align: top;\n",
       "    }\n",
       "\n",
       "    .dataframe thead th {\n",
       "        text-align: right;\n",
       "    }\n",
       "</style>\n",
       "<table border=\"1\" class=\"dataframe\">\n",
       "  <thead>\n",
       "    <tr style=\"text-align: right;\">\n",
       "      <th></th>\n",
       "      <th>Perpetrator Count</th>\n",
       "      <th>Victim Count</th>\n",
       "    </tr>\n",
       "  </thead>\n",
       "  <tbody>\n",
       "    <tr>\n",
       "      <th>0</th>\n",
       "      <td>0</td>\n",
       "      <td>1</td>\n",
       "    </tr>\n",
       "    <tr>\n",
       "      <th>1</th>\n",
       "      <td>0</td>\n",
       "      <td>0</td>\n",
       "    </tr>\n",
       "    <tr>\n",
       "      <th>2</th>\n",
       "      <td>0</td>\n",
       "      <td>0</td>\n",
       "    </tr>\n",
       "    <tr>\n",
       "      <th>3</th>\n",
       "      <td>0</td>\n",
       "      <td>0</td>\n",
       "    </tr>\n",
       "    <tr>\n",
       "      <th>4</th>\n",
       "      <td>0</td>\n",
       "      <td>1</td>\n",
       "    </tr>\n",
       "    <tr>\n",
       "      <th>...</th>\n",
       "      <td>...</td>\n",
       "      <td>...</td>\n",
       "    </tr>\n",
       "    <tr>\n",
       "      <th>14326</th>\n",
       "      <td>0</td>\n",
       "      <td>0</td>\n",
       "    </tr>\n",
       "    <tr>\n",
       "      <th>14327</th>\n",
       "      <td>0</td>\n",
       "      <td>0</td>\n",
       "    </tr>\n",
       "    <tr>\n",
       "      <th>14328</th>\n",
       "      <td>0</td>\n",
       "      <td>0</td>\n",
       "    </tr>\n",
       "    <tr>\n",
       "      <th>14329</th>\n",
       "      <td>1</td>\n",
       "      <td>0</td>\n",
       "    </tr>\n",
       "    <tr>\n",
       "      <th>14330</th>\n",
       "      <td>1</td>\n",
       "      <td>0</td>\n",
       "    </tr>\n",
       "  </tbody>\n",
       "</table>\n",
       "<p>14331 rows × 2 columns</p>\n",
       "</div>"
      ],
      "text/plain": [
       "       Perpetrator Count  Victim Count\n",
       "0                      0             1\n",
       "1                      0             0\n",
       "2                      0             0\n",
       "3                      0             0\n",
       "4                      0             1\n",
       "...                  ...           ...\n",
       "14326                  0             0\n",
       "14327                  0             0\n",
       "14328                  0             0\n",
       "14329                  1             0\n",
       "14330                  1             0\n",
       "\n",
       "[14331 rows x 2 columns]"
      ]
     },
     "execution_count": 52,
     "metadata": {},
     "output_type": "execute_result"
    }
   ],
   "source": [
    "test = data[data[\"Year\"]==2014]\n",
    "#test = test.reset_index()\n",
    "\n",
    "#test = test.groupby(\"State\")[[\"Perpetrator Count\",\"Victim Count\"]].agg([[\"sum\",'mean','count']])\n",
    "test1 = test[['Perpetrator Count', \"Victim Count\"]].reset_index(drop=True)\n",
    "test1[\"Perpetrator Count\"] += 1\n",
    "test1[\"Victim Count\"] += 1\n",
    "test1"
   ]
  },
  {
   "cell_type": "code",
   "execution_count": 59,
   "metadata": {},
   "outputs": [
    {
     "data": {
      "text/html": [
       "<div>\n",
       "<style scoped>\n",
       "    .dataframe tbody tr th:only-of-type {\n",
       "        vertical-align: middle;\n",
       "    }\n",
       "\n",
       "    .dataframe tbody tr th {\n",
       "        vertical-align: top;\n",
       "    }\n",
       "\n",
       "    .dataframe thead tr th {\n",
       "        text-align: left;\n",
       "    }\n",
       "\n",
       "    .dataframe thead tr:last-of-type th {\n",
       "        text-align: right;\n",
       "    }\n",
       "</style>\n",
       "<table border=\"1\" class=\"dataframe\">\n",
       "  <thead>\n",
       "    <tr>\n",
       "      <th></th>\n",
       "      <th></th>\n",
       "      <th colspan=\"3\" halign=\"left\">Victim Count</th>\n",
       "      <th colspan=\"3\" halign=\"left\">Perpetrator Count</th>\n",
       "    </tr>\n",
       "    <tr>\n",
       "      <th></th>\n",
       "      <th></th>\n",
       "      <th>sum</th>\n",
       "      <th>mean</th>\n",
       "      <th>std</th>\n",
       "      <th>sum</th>\n",
       "      <th>mean</th>\n",
       "      <th>std</th>\n",
       "    </tr>\n",
       "    <tr>\n",
       "      <th>State</th>\n",
       "      <th>Relationship</th>\n",
       "      <th></th>\n",
       "      <th></th>\n",
       "      <th></th>\n",
       "      <th></th>\n",
       "      <th></th>\n",
       "      <th></th>\n",
       "    </tr>\n",
       "  </thead>\n",
       "  <tbody>\n",
       "    <tr>\n",
       "      <th rowspan=\"28\" valign=\"top\">Alabama</th>\n",
       "      <th>Acquaintance</th>\n",
       "      <td>6528</td>\n",
       "      <td>2.050895</td>\n",
       "      <td>0.308967</td>\n",
       "      <td>6659</td>\n",
       "      <td>2.092052</td>\n",
       "      <td>0.407360</td>\n",
       "    </tr>\n",
       "    <tr>\n",
       "      <th>Boyfriend</th>\n",
       "      <td>452</td>\n",
       "      <td>2.000000</td>\n",
       "      <td>0.000000</td>\n",
       "      <td>457</td>\n",
       "      <td>2.022124</td>\n",
       "      <td>0.147413</td>\n",
       "    </tr>\n",
       "    <tr>\n",
       "      <th>Boyfriend/Girlfriend</th>\n",
       "      <td>16</td>\n",
       "      <td>2.000000</td>\n",
       "      <td>0.000000</td>\n",
       "      <td>16</td>\n",
       "      <td>2.000000</td>\n",
       "      <td>0.000000</td>\n",
       "    </tr>\n",
       "    <tr>\n",
       "      <th>Brother</th>\n",
       "      <td>330</td>\n",
       "      <td>2.000000</td>\n",
       "      <td>0.000000</td>\n",
       "      <td>334</td>\n",
       "      <td>2.024242</td>\n",
       "      <td>0.154269</td>\n",
       "    </tr>\n",
       "    <tr>\n",
       "      <th>Common-Law Husband</th>\n",
       "      <td>158</td>\n",
       "      <td>2.000000</td>\n",
       "      <td>0.000000</td>\n",
       "      <td>158</td>\n",
       "      <td>2.000000</td>\n",
       "      <td>0.000000</td>\n",
       "    </tr>\n",
       "    <tr>\n",
       "      <th>Common-Law Wife</th>\n",
       "      <td>146</td>\n",
       "      <td>2.000000</td>\n",
       "      <td>0.000000</td>\n",
       "      <td>147</td>\n",
       "      <td>2.013699</td>\n",
       "      <td>0.117041</td>\n",
       "    </tr>\n",
       "    <tr>\n",
       "      <th>Daughter</th>\n",
       "      <td>184</td>\n",
       "      <td>2.271605</td>\n",
       "      <td>0.591869</td>\n",
       "      <td>164</td>\n",
       "      <td>2.024691</td>\n",
       "      <td>0.156150</td>\n",
       "    </tr>\n",
       "    <tr>\n",
       "      <th>Employee</th>\n",
       "      <td>28</td>\n",
       "      <td>2.000000</td>\n",
       "      <td>0.000000</td>\n",
       "      <td>29</td>\n",
       "      <td>2.071429</td>\n",
       "      <td>0.267261</td>\n",
       "    </tr>\n",
       "    <tr>\n",
       "      <th>Employer</th>\n",
       "      <td>14</td>\n",
       "      <td>2.333333</td>\n",
       "      <td>0.516398</td>\n",
       "      <td>12</td>\n",
       "      <td>2.000000</td>\n",
       "      <td>0.000000</td>\n",
       "    </tr>\n",
       "    <tr>\n",
       "      <th>Ex-Husband</th>\n",
       "      <td>78</td>\n",
       "      <td>2.000000</td>\n",
       "      <td>0.000000</td>\n",
       "      <td>78</td>\n",
       "      <td>2.000000</td>\n",
       "      <td>0.000000</td>\n",
       "    </tr>\n",
       "    <tr>\n",
       "      <th>Ex-Wife</th>\n",
       "      <td>192</td>\n",
       "      <td>2.133333</td>\n",
       "      <td>0.341839</td>\n",
       "      <td>182</td>\n",
       "      <td>2.022222</td>\n",
       "      <td>0.148231</td>\n",
       "    </tr>\n",
       "    <tr>\n",
       "      <th>Family</th>\n",
       "      <td>532</td>\n",
       "      <td>2.078125</td>\n",
       "      <td>0.309570</td>\n",
       "      <td>525</td>\n",
       "      <td>2.050781</td>\n",
       "      <td>0.219981</td>\n",
       "    </tr>\n",
       "    <tr>\n",
       "      <th>Father</th>\n",
       "      <td>198</td>\n",
       "      <td>2.020408</td>\n",
       "      <td>0.142119</td>\n",
       "      <td>196</td>\n",
       "      <td>2.000000</td>\n",
       "      <td>0.000000</td>\n",
       "    </tr>\n",
       "    <tr>\n",
       "      <th>Friend</th>\n",
       "      <td>1028</td>\n",
       "      <td>2.031621</td>\n",
       "      <td>0.206307</td>\n",
       "      <td>1038</td>\n",
       "      <td>2.051383</td>\n",
       "      <td>0.220997</td>\n",
       "    </tr>\n",
       "    <tr>\n",
       "      <th>Girlfriend</th>\n",
       "      <td>672</td>\n",
       "      <td>2.011976</td>\n",
       "      <td>0.108941</td>\n",
       "      <td>676</td>\n",
       "      <td>2.023952</td>\n",
       "      <td>0.153129</td>\n",
       "    </tr>\n",
       "    <tr>\n",
       "      <th>Husband</th>\n",
       "      <td>724</td>\n",
       "      <td>2.000000</td>\n",
       "      <td>0.000000</td>\n",
       "      <td>736</td>\n",
       "      <td>2.033149</td>\n",
       "      <td>0.220816</td>\n",
       "    </tr>\n",
       "    <tr>\n",
       "      <th>In-Law</th>\n",
       "      <td>344</td>\n",
       "      <td>2.072289</td>\n",
       "      <td>0.322232</td>\n",
       "      <td>335</td>\n",
       "      <td>2.018072</td>\n",
       "      <td>0.133616</td>\n",
       "    </tr>\n",
       "    <tr>\n",
       "      <th>Mother</th>\n",
       "      <td>148</td>\n",
       "      <td>2.114286</td>\n",
       "      <td>0.320455</td>\n",
       "      <td>143</td>\n",
       "      <td>2.042857</td>\n",
       "      <td>0.203997</td>\n",
       "    </tr>\n",
       "    <tr>\n",
       "      <th>Neighbor</th>\n",
       "      <td>322</td>\n",
       "      <td>2.025157</td>\n",
       "      <td>0.157097</td>\n",
       "      <td>331</td>\n",
       "      <td>2.081761</td>\n",
       "      <td>0.297001</td>\n",
       "    </tr>\n",
       "    <tr>\n",
       "      <th>Sister</th>\n",
       "      <td>64</td>\n",
       "      <td>2.133333</td>\n",
       "      <td>0.345746</td>\n",
       "      <td>60</td>\n",
       "      <td>2.000000</td>\n",
       "      <td>0.000000</td>\n",
       "    </tr>\n",
       "    <tr>\n",
       "      <th>Son</th>\n",
       "      <td>292</td>\n",
       "      <td>2.229008</td>\n",
       "      <td>0.674422</td>\n",
       "      <td>265</td>\n",
       "      <td>2.022901</td>\n",
       "      <td>0.150161</td>\n",
       "    </tr>\n",
       "    <tr>\n",
       "      <th>Stepdaughter</th>\n",
       "      <td>44</td>\n",
       "      <td>2.750000</td>\n",
       "      <td>1.341641</td>\n",
       "      <td>33</td>\n",
       "      <td>2.062500</td>\n",
       "      <td>0.250000</td>\n",
       "    </tr>\n",
       "    <tr>\n",
       "      <th>Stepfather</th>\n",
       "      <td>110</td>\n",
       "      <td>2.037037</td>\n",
       "      <td>0.190626</td>\n",
       "      <td>110</td>\n",
       "      <td>2.037037</td>\n",
       "      <td>0.190626</td>\n",
       "    </tr>\n",
       "    <tr>\n",
       "      <th>Stepmother</th>\n",
       "      <td>20</td>\n",
       "      <td>2.500000</td>\n",
       "      <td>0.534522</td>\n",
       "      <td>16</td>\n",
       "      <td>2.000000</td>\n",
       "      <td>0.000000</td>\n",
       "    </tr>\n",
       "    <tr>\n",
       "      <th>Stepson</th>\n",
       "      <td>36</td>\n",
       "      <td>2.000000</td>\n",
       "      <td>0.000000</td>\n",
       "      <td>37</td>\n",
       "      <td>2.055556</td>\n",
       "      <td>0.235702</td>\n",
       "    </tr>\n",
       "    <tr>\n",
       "      <th>Stranger</th>\n",
       "      <td>2584</td>\n",
       "      <td>2.034646</td>\n",
       "      <td>0.228876</td>\n",
       "      <td>2784</td>\n",
       "      <td>2.192126</td>\n",
       "      <td>0.475666</td>\n",
       "    </tr>\n",
       "    <tr>\n",
       "      <th>Unknown</th>\n",
       "      <td>7156</td>\n",
       "      <td>2.041655</td>\n",
       "      <td>0.331868</td>\n",
       "      <td>7104</td>\n",
       "      <td>2.026819</td>\n",
       "      <td>0.163333</td>\n",
       "    </tr>\n",
       "    <tr>\n",
       "      <th>Wife</th>\n",
       "      <td>864</td>\n",
       "      <td>2.013986</td>\n",
       "      <td>0.117570</td>\n",
       "      <td>865</td>\n",
       "      <td>2.016317</td>\n",
       "      <td>0.126840</td>\n",
       "    </tr>\n",
       "    <tr>\n",
       "      <th rowspan=\"12\" valign=\"top\">Alaska</th>\n",
       "      <th>Acquaintance</th>\n",
       "      <td>842</td>\n",
       "      <td>2.233422</td>\n",
       "      <td>0.770912</td>\n",
       "      <td>815</td>\n",
       "      <td>2.161804</td>\n",
       "      <td>0.553350</td>\n",
       "    </tr>\n",
       "    <tr>\n",
       "      <th>Boyfriend</th>\n",
       "      <td>60</td>\n",
       "      <td>2.000000</td>\n",
       "      <td>0.000000</td>\n",
       "      <td>60</td>\n",
       "      <td>2.000000</td>\n",
       "      <td>0.000000</td>\n",
       "    </tr>\n",
       "    <tr>\n",
       "      <th>Boyfriend/Girlfriend</th>\n",
       "      <td>6</td>\n",
       "      <td>2.000000</td>\n",
       "      <td>0.000000</td>\n",
       "      <td>6</td>\n",
       "      <td>2.000000</td>\n",
       "      <td>0.000000</td>\n",
       "    </tr>\n",
       "    <tr>\n",
       "      <th>Brother</th>\n",
       "      <td>86</td>\n",
       "      <td>2.205128</td>\n",
       "      <td>0.570295</td>\n",
       "      <td>79</td>\n",
       "      <td>2.025641</td>\n",
       "      <td>0.160128</td>\n",
       "    </tr>\n",
       "    <tr>\n",
       "      <th>Common-Law Husband</th>\n",
       "      <td>16</td>\n",
       "      <td>2.000000</td>\n",
       "      <td>0.000000</td>\n",
       "      <td>16</td>\n",
       "      <td>2.000000</td>\n",
       "      <td>0.000000</td>\n",
       "    </tr>\n",
       "    <tr>\n",
       "      <th>Common-Law Wife</th>\n",
       "      <td>4</td>\n",
       "      <td>2.000000</td>\n",
       "      <td>0.000000</td>\n",
       "      <td>4</td>\n",
       "      <td>2.000000</td>\n",
       "      <td>0.000000</td>\n",
       "    </tr>\n",
       "    <tr>\n",
       "      <th>Daughter</th>\n",
       "      <td>78</td>\n",
       "      <td>2.437500</td>\n",
       "      <td>0.669015</td>\n",
       "      <td>67</td>\n",
       "      <td>2.093750</td>\n",
       "      <td>0.296145</td>\n",
       "    </tr>\n",
       "    <tr>\n",
       "      <th>Employee</th>\n",
       "      <td>4</td>\n",
       "      <td>2.000000</td>\n",
       "      <td>0.000000</td>\n",
       "      <td>5</td>\n",
       "      <td>2.500000</td>\n",
       "      <td>0.707107</td>\n",
       "    </tr>\n",
       "    <tr>\n",
       "      <th>Employer</th>\n",
       "      <td>12</td>\n",
       "      <td>2.000000</td>\n",
       "      <td>0.000000</td>\n",
       "      <td>14</td>\n",
       "      <td>2.333333</td>\n",
       "      <td>0.816497</td>\n",
       "    </tr>\n",
       "    <tr>\n",
       "      <th>Ex-Husband</th>\n",
       "      <td>10</td>\n",
       "      <td>2.000000</td>\n",
       "      <td>0.000000</td>\n",
       "      <td>10</td>\n",
       "      <td>2.000000</td>\n",
       "      <td>0.000000</td>\n",
       "    </tr>\n",
       "    <tr>\n",
       "      <th>Ex-Wife</th>\n",
       "      <td>12</td>\n",
       "      <td>2.400000</td>\n",
       "      <td>0.547723</td>\n",
       "      <td>10</td>\n",
       "      <td>2.000000</td>\n",
       "      <td>0.000000</td>\n",
       "    </tr>\n",
       "    <tr>\n",
       "      <th>Family</th>\n",
       "      <td>94</td>\n",
       "      <td>2.350000</td>\n",
       "      <td>0.921259</td>\n",
       "      <td>80</td>\n",
       "      <td>2.000000</td>\n",
       "      <td>0.000000</td>\n",
       "    </tr>\n",
       "  </tbody>\n",
       "</table>\n",
       "</div>"
      ],
      "text/plain": [
       "                             Victim Count                      \\\n",
       "                                      sum      mean       std   \n",
       "State   Relationship                                            \n",
       "Alabama Acquaintance                 6528  2.050895  0.308967   \n",
       "        Boyfriend                     452  2.000000  0.000000   \n",
       "        Boyfriend/Girlfriend           16  2.000000  0.000000   \n",
       "        Brother                       330  2.000000  0.000000   \n",
       "        Common-Law Husband            158  2.000000  0.000000   \n",
       "        Common-Law Wife               146  2.000000  0.000000   \n",
       "        Daughter                      184  2.271605  0.591869   \n",
       "        Employee                       28  2.000000  0.000000   \n",
       "        Employer                       14  2.333333  0.516398   \n",
       "        Ex-Husband                     78  2.000000  0.000000   \n",
       "        Ex-Wife                       192  2.133333  0.341839   \n",
       "        Family                        532  2.078125  0.309570   \n",
       "        Father                        198  2.020408  0.142119   \n",
       "        Friend                       1028  2.031621  0.206307   \n",
       "        Girlfriend                    672  2.011976  0.108941   \n",
       "        Husband                       724  2.000000  0.000000   \n",
       "        In-Law                        344  2.072289  0.322232   \n",
       "        Mother                        148  2.114286  0.320455   \n",
       "        Neighbor                      322  2.025157  0.157097   \n",
       "        Sister                         64  2.133333  0.345746   \n",
       "        Son                           292  2.229008  0.674422   \n",
       "        Stepdaughter                   44  2.750000  1.341641   \n",
       "        Stepfather                    110  2.037037  0.190626   \n",
       "        Stepmother                     20  2.500000  0.534522   \n",
       "        Stepson                        36  2.000000  0.000000   \n",
       "        Stranger                     2584  2.034646  0.228876   \n",
       "        Unknown                      7156  2.041655  0.331868   \n",
       "        Wife                          864  2.013986  0.117570   \n",
       "Alaska  Acquaintance                  842  2.233422  0.770912   \n",
       "        Boyfriend                      60  2.000000  0.000000   \n",
       "        Boyfriend/Girlfriend            6  2.000000  0.000000   \n",
       "        Brother                        86  2.205128  0.570295   \n",
       "        Common-Law Husband             16  2.000000  0.000000   \n",
       "        Common-Law Wife                 4  2.000000  0.000000   \n",
       "        Daughter                       78  2.437500  0.669015   \n",
       "        Employee                        4  2.000000  0.000000   \n",
       "        Employer                       12  2.000000  0.000000   \n",
       "        Ex-Husband                     10  2.000000  0.000000   \n",
       "        Ex-Wife                        12  2.400000  0.547723   \n",
       "        Family                         94  2.350000  0.921259   \n",
       "\n",
       "                             Perpetrator Count                      \n",
       "                                           sum      mean       std  \n",
       "State   Relationship                                                \n",
       "Alabama Acquaintance                      6659  2.092052  0.407360  \n",
       "        Boyfriend                          457  2.022124  0.147413  \n",
       "        Boyfriend/Girlfriend                16  2.000000  0.000000  \n",
       "        Brother                            334  2.024242  0.154269  \n",
       "        Common-Law Husband                 158  2.000000  0.000000  \n",
       "        Common-Law Wife                    147  2.013699  0.117041  \n",
       "        Daughter                           164  2.024691  0.156150  \n",
       "        Employee                            29  2.071429  0.267261  \n",
       "        Employer                            12  2.000000  0.000000  \n",
       "        Ex-Husband                          78  2.000000  0.000000  \n",
       "        Ex-Wife                            182  2.022222  0.148231  \n",
       "        Family                             525  2.050781  0.219981  \n",
       "        Father                             196  2.000000  0.000000  \n",
       "        Friend                            1038  2.051383  0.220997  \n",
       "        Girlfriend                         676  2.023952  0.153129  \n",
       "        Husband                            736  2.033149  0.220816  \n",
       "        In-Law                             335  2.018072  0.133616  \n",
       "        Mother                             143  2.042857  0.203997  \n",
       "        Neighbor                           331  2.081761  0.297001  \n",
       "        Sister                              60  2.000000  0.000000  \n",
       "        Son                                265  2.022901  0.150161  \n",
       "        Stepdaughter                        33  2.062500  0.250000  \n",
       "        Stepfather                         110  2.037037  0.190626  \n",
       "        Stepmother                          16  2.000000  0.000000  \n",
       "        Stepson                             37  2.055556  0.235702  \n",
       "        Stranger                          2784  2.192126  0.475666  \n",
       "        Unknown                           7104  2.026819  0.163333  \n",
       "        Wife                               865  2.016317  0.126840  \n",
       "Alaska  Acquaintance                       815  2.161804  0.553350  \n",
       "        Boyfriend                           60  2.000000  0.000000  \n",
       "        Boyfriend/Girlfriend                 6  2.000000  0.000000  \n",
       "        Brother                             79  2.025641  0.160128  \n",
       "        Common-Law Husband                  16  2.000000  0.000000  \n",
       "        Common-Law Wife                      4  2.000000  0.000000  \n",
       "        Daughter                            67  2.093750  0.296145  \n",
       "        Employee                             5  2.500000  0.707107  \n",
       "        Employer                            14  2.333333  0.816497  \n",
       "        Ex-Husband                          10  2.000000  0.000000  \n",
       "        Ex-Wife                             10  2.000000  0.000000  \n",
       "        Family                              80  2.000000  0.000000  "
      ]
     },
     "execution_count": 59,
     "metadata": {},
     "output_type": "execute_result"
    }
   ],
   "source": [
    "# Relationships\n",
    "data[\"Perpetrator Count\"] += 1\n",
    "data[\"Victim Count\"] += 1\n",
    "d = data.groupby([\"State\",\"Relationship\"])[[\"Victim Count\",\"Perpetrator Count\"]].agg([\"sum\",'mean','std'])\n",
    "d.head(40)\n",
    "# mean 2 per incident?"
   ]
  },
  {
   "cell_type": "code",
   "execution_count": 72,
   "metadata": {},
   "outputs": [
    {
     "data": {
      "text/html": [
       "<div>\n",
       "<style scoped>\n",
       "    .dataframe tbody tr th:only-of-type {\n",
       "        vertical-align: middle;\n",
       "    }\n",
       "\n",
       "    .dataframe tbody tr th {\n",
       "        vertical-align: top;\n",
       "    }\n",
       "\n",
       "    .dataframe thead tr th {\n",
       "        text-align: left;\n",
       "    }\n",
       "\n",
       "    .dataframe thead tr:last-of-type th {\n",
       "        text-align: right;\n",
       "    }\n",
       "</style>\n",
       "<table border=\"1\" class=\"dataframe\">\n",
       "  <thead>\n",
       "    <tr>\n",
       "      <th></th>\n",
       "      <th></th>\n",
       "      <th>Perpetrator Count</th>\n",
       "      <th>Victim Count</th>\n",
       "      <th>Perpetrator Pct Change</th>\n",
       "      <th>Victim Pct Change</th>\n",
       "    </tr>\n",
       "    <tr>\n",
       "      <th></th>\n",
       "      <th></th>\n",
       "      <th>sum</th>\n",
       "      <th>sum</th>\n",
       "      <th></th>\n",
       "      <th></th>\n",
       "    </tr>\n",
       "    <tr>\n",
       "      <th>State</th>\n",
       "      <th>Year</th>\n",
       "      <th></th>\n",
       "      <th></th>\n",
       "      <th></th>\n",
       "      <th></th>\n",
       "    </tr>\n",
       "  </thead>\n",
       "  <tbody>\n",
       "    <tr>\n",
       "      <th rowspan=\"34\" valign=\"top\">Alabama</th>\n",
       "      <th>1980</th>\n",
       "      <td>1109</td>\n",
       "      <td>1068</td>\n",
       "      <td>NaN</td>\n",
       "      <td>NaN</td>\n",
       "    </tr>\n",
       "    <tr>\n",
       "      <th>1981</th>\n",
       "      <td>945</td>\n",
       "      <td>912</td>\n",
       "      <td>-14.79</td>\n",
       "      <td>-14.61</td>\n",
       "    </tr>\n",
       "    <tr>\n",
       "      <th>1982</th>\n",
       "      <td>887</td>\n",
       "      <td>864</td>\n",
       "      <td>-6.14</td>\n",
       "      <td>-5.26</td>\n",
       "    </tr>\n",
       "    <tr>\n",
       "      <th>1983</th>\n",
       "      <td>772</td>\n",
       "      <td>768</td>\n",
       "      <td>-12.97</td>\n",
       "      <td>-11.11</td>\n",
       "    </tr>\n",
       "    <tr>\n",
       "      <th>1984</th>\n",
       "      <td>788</td>\n",
       "      <td>790</td>\n",
       "      <td>2.07</td>\n",
       "      <td>2.86</td>\n",
       "    </tr>\n",
       "    <tr>\n",
       "      <th>1985</th>\n",
       "      <td>836</td>\n",
       "      <td>822</td>\n",
       "      <td>6.09</td>\n",
       "      <td>4.05</td>\n",
       "    </tr>\n",
       "    <tr>\n",
       "      <th>1986</th>\n",
       "      <td>852</td>\n",
       "      <td>870</td>\n",
       "      <td>1.91</td>\n",
       "      <td>5.84</td>\n",
       "    </tr>\n",
       "    <tr>\n",
       "      <th>1987</th>\n",
       "      <td>693</td>\n",
       "      <td>686</td>\n",
       "      <td>-18.66</td>\n",
       "      <td>-21.15</td>\n",
       "    </tr>\n",
       "    <tr>\n",
       "      <th>1988</th>\n",
       "      <td>819</td>\n",
       "      <td>804</td>\n",
       "      <td>18.18</td>\n",
       "      <td>17.20</td>\n",
       "    </tr>\n",
       "    <tr>\n",
       "      <th>1989</th>\n",
       "      <td>888</td>\n",
       "      <td>864</td>\n",
       "      <td>8.42</td>\n",
       "      <td>7.46</td>\n",
       "    </tr>\n",
       "    <tr>\n",
       "      <th>1990</th>\n",
       "      <td>965</td>\n",
       "      <td>946</td>\n",
       "      <td>8.67</td>\n",
       "      <td>9.49</td>\n",
       "    </tr>\n",
       "    <tr>\n",
       "      <th>1991</th>\n",
       "      <td>1090</td>\n",
       "      <td>868</td>\n",
       "      <td>12.95</td>\n",
       "      <td>-8.25</td>\n",
       "    </tr>\n",
       "    <tr>\n",
       "      <th>1992</th>\n",
       "      <td>782</td>\n",
       "      <td>782</td>\n",
       "      <td>-28.26</td>\n",
       "      <td>-9.91</td>\n",
       "    </tr>\n",
       "    <tr>\n",
       "      <th>1993</th>\n",
       "      <td>954</td>\n",
       "      <td>954</td>\n",
       "      <td>21.99</td>\n",
       "      <td>21.99</td>\n",
       "    </tr>\n",
       "    <tr>\n",
       "      <th>1994</th>\n",
       "      <td>1002</td>\n",
       "      <td>1022</td>\n",
       "      <td>5.03</td>\n",
       "      <td>7.13</td>\n",
       "    </tr>\n",
       "    <tr>\n",
       "      <th>1995</th>\n",
       "      <td>934</td>\n",
       "      <td>934</td>\n",
       "      <td>-6.79</td>\n",
       "      <td>-8.61</td>\n",
       "    </tr>\n",
       "    <tr>\n",
       "      <th>1996</th>\n",
       "      <td>862</td>\n",
       "      <td>860</td>\n",
       "      <td>-7.71</td>\n",
       "      <td>-7.92</td>\n",
       "    </tr>\n",
       "    <tr>\n",
       "      <th>1997</th>\n",
       "      <td>855</td>\n",
       "      <td>886</td>\n",
       "      <td>-0.81</td>\n",
       "      <td>3.02</td>\n",
       "    </tr>\n",
       "    <tr>\n",
       "      <th>1998</th>\n",
       "      <td>686</td>\n",
       "      <td>698</td>\n",
       "      <td>-19.77</td>\n",
       "      <td>-21.22</td>\n",
       "    </tr>\n",
       "    <tr>\n",
       "      <th>1999</th>\n",
       "      <td>32</td>\n",
       "      <td>32</td>\n",
       "      <td>-95.34</td>\n",
       "      <td>-95.42</td>\n",
       "    </tr>\n",
       "    <tr>\n",
       "      <th>2000</th>\n",
       "      <td>472</td>\n",
       "      <td>474</td>\n",
       "      <td>1375.00</td>\n",
       "      <td>1381.25</td>\n",
       "    </tr>\n",
       "    <tr>\n",
       "      <th>2001</th>\n",
       "      <td>698</td>\n",
       "      <td>742</td>\n",
       "      <td>47.88</td>\n",
       "      <td>56.54</td>\n",
       "    </tr>\n",
       "    <tr>\n",
       "      <th>2002</th>\n",
       "      <td>585</td>\n",
       "      <td>592</td>\n",
       "      <td>-16.19</td>\n",
       "      <td>-20.22</td>\n",
       "    </tr>\n",
       "    <tr>\n",
       "      <th>2003</th>\n",
       "      <td>590</td>\n",
       "      <td>596</td>\n",
       "      <td>0.85</td>\n",
       "      <td>0.68</td>\n",
       "    </tr>\n",
       "    <tr>\n",
       "      <th>2004</th>\n",
       "      <td>506</td>\n",
       "      <td>506</td>\n",
       "      <td>-14.24</td>\n",
       "      <td>-15.10</td>\n",
       "    </tr>\n",
       "    <tr>\n",
       "      <th>2005</th>\n",
       "      <td>654</td>\n",
       "      <td>666</td>\n",
       "      <td>29.25</td>\n",
       "      <td>31.62</td>\n",
       "    </tr>\n",
       "    <tr>\n",
       "      <th>2006</th>\n",
       "      <td>729</td>\n",
       "      <td>730</td>\n",
       "      <td>11.47</td>\n",
       "      <td>9.61</td>\n",
       "    </tr>\n",
       "    <tr>\n",
       "      <th>2007</th>\n",
       "      <td>795</td>\n",
       "      <td>802</td>\n",
       "      <td>9.05</td>\n",
       "      <td>9.86</td>\n",
       "    </tr>\n",
       "    <tr>\n",
       "      <th>2008</th>\n",
       "      <td>677</td>\n",
       "      <td>676</td>\n",
       "      <td>-14.84</td>\n",
       "      <td>-15.71</td>\n",
       "    </tr>\n",
       "    <tr>\n",
       "      <th>2009</th>\n",
       "      <td>637</td>\n",
       "      <td>638</td>\n",
       "      <td>-5.91</td>\n",
       "      <td>-5.62</td>\n",
       "    </tr>\n",
       "    <tr>\n",
       "      <th>2010</th>\n",
       "      <td>386</td>\n",
       "      <td>402</td>\n",
       "      <td>-39.40</td>\n",
       "      <td>-36.99</td>\n",
       "    </tr>\n",
       "    <tr>\n",
       "      <th>2012</th>\n",
       "      <td>4</td>\n",
       "      <td>4</td>\n",
       "      <td>-98.96</td>\n",
       "      <td>-99.00</td>\n",
       "    </tr>\n",
       "    <tr>\n",
       "      <th>2013</th>\n",
       "      <td>4</td>\n",
       "      <td>4</td>\n",
       "      <td>0.00</td>\n",
       "      <td>0.00</td>\n",
       "    </tr>\n",
       "    <tr>\n",
       "      <th>2014</th>\n",
       "      <td>2</td>\n",
       "      <td>2</td>\n",
       "      <td>-50.00</td>\n",
       "      <td>-50.00</td>\n",
       "    </tr>\n",
       "    <tr>\n",
       "      <th rowspan=\"6\" valign=\"top\">Alaska</th>\n",
       "      <th>1980</th>\n",
       "      <td>98</td>\n",
       "      <td>100</td>\n",
       "      <td>4800.00</td>\n",
       "      <td>4900.00</td>\n",
       "    </tr>\n",
       "    <tr>\n",
       "      <th>1981</th>\n",
       "      <td>146</td>\n",
       "      <td>156</td>\n",
       "      <td>48.98</td>\n",
       "      <td>56.00</td>\n",
       "    </tr>\n",
       "    <tr>\n",
       "      <th>1982</th>\n",
       "      <td>165</td>\n",
       "      <td>226</td>\n",
       "      <td>13.01</td>\n",
       "      <td>44.87</td>\n",
       "    </tr>\n",
       "    <tr>\n",
       "      <th>1983</th>\n",
       "      <td>154</td>\n",
       "      <td>190</td>\n",
       "      <td>-6.67</td>\n",
       "      <td>-15.93</td>\n",
       "    </tr>\n",
       "    <tr>\n",
       "      <th>1984</th>\n",
       "      <td>111</td>\n",
       "      <td>150</td>\n",
       "      <td>-27.92</td>\n",
       "      <td>-21.05</td>\n",
       "    </tr>\n",
       "    <tr>\n",
       "      <th>1985</th>\n",
       "      <td>104</td>\n",
       "      <td>108</td>\n",
       "      <td>-6.31</td>\n",
       "      <td>-28.00</td>\n",
       "    </tr>\n",
       "  </tbody>\n",
       "</table>\n",
       "</div>"
      ],
      "text/plain": [
       "             Perpetrator Count Victim Count Perpetrator Pct Change  \\\n",
       "                           sum          sum                          \n",
       "State   Year                                                         \n",
       "Alabama 1980              1109         1068                    NaN   \n",
       "        1981               945          912                 -14.79   \n",
       "        1982               887          864                  -6.14   \n",
       "        1983               772          768                 -12.97   \n",
       "        1984               788          790                   2.07   \n",
       "        1985               836          822                   6.09   \n",
       "        1986               852          870                   1.91   \n",
       "        1987               693          686                 -18.66   \n",
       "        1988               819          804                  18.18   \n",
       "        1989               888          864                   8.42   \n",
       "        1990               965          946                   8.67   \n",
       "        1991              1090          868                  12.95   \n",
       "        1992               782          782                 -28.26   \n",
       "        1993               954          954                  21.99   \n",
       "        1994              1002         1022                   5.03   \n",
       "        1995               934          934                  -6.79   \n",
       "        1996               862          860                  -7.71   \n",
       "        1997               855          886                  -0.81   \n",
       "        1998               686          698                 -19.77   \n",
       "        1999                32           32                 -95.34   \n",
       "        2000               472          474                1375.00   \n",
       "        2001               698          742                  47.88   \n",
       "        2002               585          592                 -16.19   \n",
       "        2003               590          596                   0.85   \n",
       "        2004               506          506                 -14.24   \n",
       "        2005               654          666                  29.25   \n",
       "        2006               729          730                  11.47   \n",
       "        2007               795          802                   9.05   \n",
       "        2008               677          676                 -14.84   \n",
       "        2009               637          638                  -5.91   \n",
       "        2010               386          402                 -39.40   \n",
       "        2012                 4            4                 -98.96   \n",
       "        2013                 4            4                   0.00   \n",
       "        2014                 2            2                 -50.00   \n",
       "Alaska  1980                98          100                4800.00   \n",
       "        1981               146          156                  48.98   \n",
       "        1982               165          226                  13.01   \n",
       "        1983               154          190                  -6.67   \n",
       "        1984               111          150                 -27.92   \n",
       "        1985               104          108                  -6.31   \n",
       "\n",
       "             Victim Pct Change  \n",
       "                                \n",
       "State   Year                    \n",
       "Alabama 1980               NaN  \n",
       "        1981            -14.61  \n",
       "        1982             -5.26  \n",
       "        1983            -11.11  \n",
       "        1984              2.86  \n",
       "        1985              4.05  \n",
       "        1986              5.84  \n",
       "        1987            -21.15  \n",
       "        1988             17.20  \n",
       "        1989              7.46  \n",
       "        1990              9.49  \n",
       "        1991             -8.25  \n",
       "        1992             -9.91  \n",
       "        1993             21.99  \n",
       "        1994              7.13  \n",
       "        1995             -8.61  \n",
       "        1996             -7.92  \n",
       "        1997              3.02  \n",
       "        1998            -21.22  \n",
       "        1999            -95.42  \n",
       "        2000           1381.25  \n",
       "        2001             56.54  \n",
       "        2002            -20.22  \n",
       "        2003              0.68  \n",
       "        2004            -15.10  \n",
       "        2005             31.62  \n",
       "        2006              9.61  \n",
       "        2007              9.86  \n",
       "        2008            -15.71  \n",
       "        2009             -5.62  \n",
       "        2010            -36.99  \n",
       "        2012            -99.00  \n",
       "        2013              0.00  \n",
       "        2014            -50.00  \n",
       "Alaska  1980           4900.00  \n",
       "        1981             56.00  \n",
       "        1982             44.87  \n",
       "        1983            -15.93  \n",
       "        1984            -21.05  \n",
       "        1985            -28.00  "
      ]
     },
     "execution_count": 72,
     "metadata": {},
     "output_type": "execute_result"
    }
   ],
   "source": [
    "c = data.groupby([\"State\", \"Year\"])[[\"Perpetrator Count\", \"Victim Count\"]].agg([\"sum\"])\n",
    "#c.head(40)\n",
    "c[\"Perpetrator Pct Change\"] = c[\"Perpetrator Count\"].pct_change().round(4)*100\n",
    "c[\"Victim Pct Change\"] = c[\"Victim Count\"].pct_change().round(4)*100\n",
    "c.head(40)"
   ]
  },
  {
   "cell_type": "code",
   "execution_count": 113,
   "metadata": {},
   "outputs": [],
   "source": [
    "import matplotlib.pyplot as plt\n",
    "cc = c.unstack(level=0)\n",
    "#df.unstack(level=0).plot(kind='bar', subplots=True)\n",
    "pct_perp = cc[\"Perpetrator Pct Change\"]\n",
    "year = pct_perp.reset_index(inplace=True)\n",
    "year"
   ]
  },
  {
   "cell_type": "code",
   "execution_count": 54,
   "metadata": {},
   "outputs": [
    {
     "data": {
      "text/html": [
       "<div>\n",
       "<style scoped>\n",
       "    .dataframe tbody tr th:only-of-type {\n",
       "        vertical-align: middle;\n",
       "    }\n",
       "\n",
       "    .dataframe tbody tr th {\n",
       "        vertical-align: top;\n",
       "    }\n",
       "\n",
       "    .dataframe thead th {\n",
       "        text-align: right;\n",
       "    }\n",
       "</style>\n",
       "<table border=\"1\" class=\"dataframe\">\n",
       "  <thead>\n",
       "    <tr style=\"text-align: right;\">\n",
       "      <th></th>\n",
       "      <th>Perpetrator Count</th>\n",
       "      <th>Victim Count</th>\n",
       "    </tr>\n",
       "  </thead>\n",
       "  <tbody>\n",
       "    <tr>\n",
       "      <th>0</th>\n",
       "      <td>1</td>\n",
       "      <td>2</td>\n",
       "    </tr>\n",
       "    <tr>\n",
       "      <th>1</th>\n",
       "      <td>1</td>\n",
       "      <td>1</td>\n",
       "    </tr>\n",
       "    <tr>\n",
       "      <th>2</th>\n",
       "      <td>1</td>\n",
       "      <td>1</td>\n",
       "    </tr>\n",
       "    <tr>\n",
       "      <th>3</th>\n",
       "      <td>1</td>\n",
       "      <td>1</td>\n",
       "    </tr>\n",
       "    <tr>\n",
       "      <th>4</th>\n",
       "      <td>1</td>\n",
       "      <td>1</td>\n",
       "    </tr>\n",
       "    <tr>\n",
       "      <th>...</th>\n",
       "      <td>...</td>\n",
       "      <td>...</td>\n",
       "    </tr>\n",
       "    <tr>\n",
       "      <th>14440</th>\n",
       "      <td>1</td>\n",
       "      <td>1</td>\n",
       "    </tr>\n",
       "    <tr>\n",
       "      <th>14441</th>\n",
       "      <td>3</td>\n",
       "      <td>3</td>\n",
       "    </tr>\n",
       "    <tr>\n",
       "      <th>14442</th>\n",
       "      <td>3</td>\n",
       "      <td>3</td>\n",
       "    </tr>\n",
       "    <tr>\n",
       "      <th>14443</th>\n",
       "      <td>3</td>\n",
       "      <td>3</td>\n",
       "    </tr>\n",
       "    <tr>\n",
       "      <th>14444</th>\n",
       "      <td>2</td>\n",
       "      <td>1</td>\n",
       "    </tr>\n",
       "  </tbody>\n",
       "</table>\n",
       "<p>14445 rows × 2 columns</p>\n",
       "</div>"
      ],
      "text/plain": [
       "       Perpetrator Count  Victim Count\n",
       "0                      1             2\n",
       "1                      1             1\n",
       "2                      1             1\n",
       "3                      1             1\n",
       "4                      1             1\n",
       "...                  ...           ...\n",
       "14440                  1             1\n",
       "14441                  3             3\n",
       "14442                  3             3\n",
       "14443                  3             3\n",
       "14444                  2             1\n",
       "\n",
       "[14445 rows x 2 columns]"
      ]
     },
     "execution_count": 54,
     "metadata": {},
     "output_type": "execute_result"
    }
   ],
   "source": [
    "test = data[data[\"Year\"]==2013]\n",
    "#test = test.reset_index()\n",
    "\n",
    "#test = test.groupby(\"State\")[[\"Perpetrator Count\",\"Victim Count\"]].agg([[\"sum\",'mean','count']])\n",
    "test1 = test[['Perpetrator Count', \"Victim Count\"]].reset_index(drop=True)\n",
    "test1[\"Perpetrator Count\"] += 1\n",
    "test1[\"Victim Count\"] += 1\n",
    "test1"
   ]
  },
  {
   "cell_type": "code",
   "execution_count": 55,
   "metadata": {},
   "outputs": [
    {
     "data": {
      "text/plain": [
       "Perpetrator Count    17930\n",
       "Victim Count         16721\n",
       "dtype: int64"
      ]
     },
     "execution_count": 55,
     "metadata": {},
     "output_type": "execute_result"
    }
   ],
   "source": [
    "test1[['Perpetrator Count','Victim Count']].sum()"
   ]
  },
  {
   "cell_type": "code",
   "execution_count": null,
   "metadata": {},
   "outputs": [],
   "source": [
    "# unique values for agency type\n",
    "# Lots of missing values (0)\n",
    "data[\"Weapon\"].value_counts()"
   ]
  },
  {
   "cell_type": "code",
   "execution_count": null,
   "metadata": {},
   "outputs": [],
   "source": []
  },
  {
   "cell_type": "code",
   "execution_count": null,
   "metadata": {},
   "outputs": [],
   "source": [
    "# unique values for agency type\n",
    "# Lots of missing values (0)\n",
    "data[\"Record Source\"].value_counts()"
   ]
  },
  {
   "cell_type": "markdown",
   "metadata": {},
   "source": [
    "## Findings and discussion"
   ]
  },
  {
   "cell_type": "code",
   "execution_count": null,
   "metadata": {},
   "outputs": [],
   "source": []
  },
  {
   "cell_type": "code",
   "execution_count": null,
   "metadata": {},
   "outputs": [],
   "source": []
  },
  {
   "cell_type": "markdown",
   "metadata": {},
   "source": [
    "## Data Cleaning\n",
    "To clean the error values we identified and ready the data for subsetting and viziulization."
   ]
  },
  {
   "cell_type": "code",
   "execution_count": null,
   "metadata": {},
   "outputs": [],
   "source": []
  },
  {
   "cell_type": "code",
   "execution_count": null,
   "metadata": {},
   "outputs": [],
   "source": [
    "# this is only for when we use age otherwise the murder still clearly happened we just do not know the age "
   ]
  },
  {
   "cell_type": "code",
   "execution_count": null,
   "metadata": {},
   "outputs": [],
   "source": [
    "# so murder happened we just do not have the record of age for most observations \n",
    "# We have enough data and this will skew our results"
   ]
  },
  {
   "cell_type": "code",
   "execution_count": null,
   "metadata": {},
   "outputs": [],
   "source": [
    "# make a copy of the original data to not alter the dataset\n",
    "\n",
    "data2 = data.copy()\n",
    "\n",
    "# replace blanks with zeros\n",
    "data2['Perpetrator Age'] = data2['Perpetrator Age'].replace(\" \", 0)\n",
    "\n",
    "# format them as integers\n",
    "data2['Perpetrator Age'] = data2['Perpetrator Age'].astype(str).astype(int)\n",
    "\n",
    "# so there is 1231 values that are below age 6 --> replace with np.na\n",
    "# search for ages below 6\n",
    "# there are murderes under age 6 but are less common \n",
    "# check the value counts for each year to 10\n",
    "under_13 = data2[\"Perpetrator Age\"] < 6\n",
    "\n",
    "# replace them with nan values for that column\n",
    "data2[\"Perpetrator Age\"][under_13] = np.nan\n",
    "\n",
    "# drop the na row values (results becomes a float for only that column becasue of numpy)\n",
    "# results have to be assigned otherwise it doesn't updates\n",
    "data2 = data2.dropna()\n",
    "\n",
    "# reset the index \n",
    "data2 = data2.reset_index(drop=True)\n",
    "\n",
    "# convert the column back to integers\n",
    "data2[\"Perpetrator Age\"] = data2[\"Perpetrator Age\"].astype(int)\n",
    "\n",
    "# display df information\n",
    "data2.info()"
   ]
  },
  {
   "cell_type": "markdown",
   "metadata": {},
   "source": [
    "### Alternative (filling)"
   ]
  },
  {
   "cell_type": "raw",
   "metadata": {},
   "source": [
    "# so between age 13 and 99\n",
    "# mean is 31, stdev is 13 (have to round up to be whole number)\n",
    "import scipy.stats as stats\n",
    "\n",
    "# shape parameters\n",
    "a, b = 13, 99 \n",
    "# mean and standard deviation\n",
    "mu, sigma = 31, 13\n",
    "\n",
    "# A truncated normal continuous random variable\n",
    "# truncated normal distribution is the probability distribution derived from that of a normally \n",
    "# distributed random variable by bounding the random variable from either below or above (or both). \n",
    "# probability density function is the probability of something happening within certain range / upper bound \n",
    "# restricting normal distribution between an interval \n",
    "# a - mu --> 13 - 31 range/13, 99-31/13, loc = location parameter (mean), scale parameter = scale (sigma) --> so stdev will move up and down based on the mean\n",
    "dist = stats.truncnorm((a - mu) / sigma, (b - mu) / sigma, loc=mu, scale=sigma)\n",
    "\n",
    "# generate 218668 random numbers based dist conditions \n",
    "values = dist.rvs(218668)"
   ]
  },
  {
   "cell_type": "code",
   "execution_count": null,
   "metadata": {},
   "outputs": [],
   "source": [
    "data2[\"Perpetrator Age\"].value_counts()"
   ]
  },
  {
   "cell_type": "code",
   "execution_count": null,
   "metadata": {},
   "outputs": [],
   "source": [
    "data2[\"Perpetrator Age\"].unique()"
   ]
  },
  {
   "cell_type": "code",
   "execution_count": null,
   "metadata": {},
   "outputs": [],
   "source": [
    "# max age reasonable\n",
    "data2[\"Perpetrator Age\"].max()"
   ]
  },
  {
   "cell_type": "code",
   "execution_count": null,
   "metadata": {},
   "outputs": [],
   "source": [
    "# we are keeping the victim count becasue US has the highest child homocide rate\n",
    "# and because this possible to be a victim at such a young age than a murder\n",
    "# https://www.ncbi.nlm.nih.gov/pmc/articles/PMC2174580/"
   ]
  },
  {
   "cell_type": "code",
   "execution_count": null,
   "metadata": {},
   "outputs": [],
   "source": [
    "vic_count = data2[\"Victim Age\"] == 0 \n",
    "vic_count.sum()"
   ]
  },
  {
   "cell_type": "code",
   "execution_count": null,
   "metadata": {},
   "outputs": [],
   "source": [
    "vic_count2 = data2[\"Victim Age\"] < 6\n",
    "vic_count2.sum()"
   ]
  },
  {
   "cell_type": "code",
   "execution_count": null,
   "metadata": {},
   "outputs": [],
   "source": [
    "# deliting unreasonably high ages (setting upper limit)\n",
    "vic_age_limit = data2[\"Victim Age\"] > 105\n",
    "\n",
    "# replace them with nan values for that column\n",
    "data2[\"Victim Age\"][vic_age_limit] = np.nan\n",
    "\n",
    "# drop the na row values (results becomes a float for only that column becasue of numpy)\n",
    "# results have to be assigned otherwise it doesn't updates\n",
    "data2 = data2.dropna()\n",
    "\n",
    "# reset the index \n",
    "data2 = data2.reset_index(drop=True)\n",
    "\n",
    "# convert the column back to integers\n",
    "data2[\"Victim Age\"] = data2[\"Victim Age\"].astype(int)\n",
    "\n",
    "# display df information\n",
    "data2.info()"
   ]
  },
  {
   "cell_type": "code",
   "execution_count": null,
   "metadata": {},
   "outputs": [],
   "source": [
    "# add +1 to counts and offer explanation/proof\n",
    "# 10 is the largest count\n",
    "# Assumption 0 is counted as 1 and any additional number is as additional to the count \n",
    "# NOTE: run only once, as each time it runs it adds +1 \n",
    "# how many murderes / how many victims?\n",
    "# effect on uknown values \n",
    "\n",
    "data2[\"Victim Count\"] += 1\n",
    "data2[\"Victim Count\"].unique()"
   ]
  },
  {
   "cell_type": "code",
   "execution_count": null,
   "metadata": {},
   "outputs": [],
   "source": [
    "# +1 perpetrator count\n",
    "\n",
    "data2[\"Perpetrator Count\"] += 1\n",
    "data2[\"Perpetrator Count\"].unique()"
   ]
  },
  {
   "cell_type": "code",
   "execution_count": null,
   "metadata": {},
   "outputs": [],
   "source": [
    "# if we decide to delete the uknowns"
   ]
  },
  {
   "cell_type": "code",
   "execution_count": null,
   "metadata": {},
   "outputs": [],
   "source": [
    "data3 = data2.copy()"
   ]
  },
  {
   "cell_type": "code",
   "execution_count": null,
   "metadata": {},
   "outputs": [],
   "source": [
    "# deliting unreasonably high ages (setting upper limit)\n",
    "vic_eth_del_unknowns = data3[\"Victim Ethnicity\"] == \"Unknown\"\n",
    "\n",
    "# replace them with nan values for that column\n",
    "data3[\"Victim Ethnicity\"][vic_eth_del_unknowns] = np.nan\n",
    "\n",
    "# drop the na row values (results becomes a float for only that column becasue of numpy)\n",
    "# results have to be assigned otherwise it doesn't updates\n",
    "data3 = data3.dropna()\n",
    "\n",
    "# reset the index \n",
    "data3 = data3.reset_index(drop=True)\n",
    "\n",
    "# convert the column back to integers\n",
    "data3[\"Victim Ethnicity\"] = data3[\"Victim Ethnicity\"]\n",
    "\n",
    "# display df information\n",
    "data3.info()"
   ]
  },
  {
   "cell_type": "code",
   "execution_count": null,
   "metadata": {},
   "outputs": [],
   "source": [
    "# check value counts of all (especially uknowns)\n",
    "data3[\"Victim Ethnicity\"].value_counts()"
   ]
  },
  {
   "cell_type": "code",
   "execution_count": null,
   "metadata": {},
   "outputs": [],
   "source": [
    "data3[\"Victim Race\"].value_counts()"
   ]
  },
  {
   "cell_type": "code",
   "execution_count": null,
   "metadata": {},
   "outputs": [],
   "source": [
    "data3[\"Victim Sex\"].value_counts()"
   ]
  },
  {
   "cell_type": "code",
   "execution_count": null,
   "metadata": {},
   "outputs": [],
   "source": [
    "data3[\"Perpetrator Race\"].value_counts()"
   ]
  },
  {
   "cell_type": "code",
   "execution_count": null,
   "metadata": {},
   "outputs": [],
   "source": [
    "data3[\"Perpetrator Sex\"].value_counts()"
   ]
  },
  {
   "cell_type": "code",
   "execution_count": null,
   "metadata": {},
   "outputs": [],
   "source": [
    "data3[\"Perpetrator Ethnicity\"].value_counts()"
   ]
  },
  {
   "cell_type": "code",
   "execution_count": null,
   "metadata": {},
   "outputs": [],
   "source": [
    "data3[\"Incident\"].value_counts()"
   ]
  },
  {
   "cell_type": "code",
   "execution_count": null,
   "metadata": {},
   "outputs": [],
   "source": [
    "data3[\"Crime Solved\"].value_counts()"
   ]
  },
  {
   "cell_type": "code",
   "execution_count": null,
   "metadata": {},
   "outputs": [],
   "source": [
    "data3[\"Perpetrator Ethnicity\"].value_counts()"
   ]
  },
  {
   "cell_type": "code",
   "execution_count": null,
   "metadata": {},
   "outputs": [],
   "source": [
    "data3[\"Weapon\"].value_counts()"
   ]
  },
  {
   "cell_type": "code",
   "execution_count": null,
   "metadata": {},
   "outputs": [],
   "source": [
    "# comment on how values change after you removed some\n",
    "# Uknown moved to 3rd place\n",
    "data3[\"Relationship\"].value_counts()"
   ]
  },
  {
   "cell_type": "markdown",
   "metadata": {},
   "source": [
    "# Transforming relavent object type data to numerical values for ML etc."
   ]
  },
  {
   "cell_type": "code",
   "execution_count": null,
   "metadata": {},
   "outputs": [],
   "source": [
    "data2.info()"
   ]
  },
  {
   "cell_type": "code",
   "execution_count": null,
   "metadata": {},
   "outputs": [],
   "source": [
    "# finish when needed\n",
    "data4 = data3.copy()\n"
   ]
  },
  {
   "cell_type": "code",
   "execution_count": null,
   "metadata": {},
   "outputs": [],
   "source": [
    "# saving the the files\n",
    "data2.to_csv(\"Age_count_cleaned_data.csv\")\n",
    "data3.to_csv(\"Age_count_Ethnicity_cleaned_data.csv\")"
   ]
  },
  {
   "cell_type": "code",
   "execution_count": null,
   "metadata": {},
   "outputs": [],
   "source": [
    "# SO MANY MISSING VALUES IS A PROBLEM"
   ]
  },
  {
   "cell_type": "markdown",
   "metadata": {},
   "source": [
    "## Data cleaning conclusion"
   ]
  },
  {
   "cell_type": "code",
   "execution_count": null,
   "metadata": {},
   "outputs": [],
   "source": [
    "# deliting unreasonably high ages (setting upper limit)\n",
    "perp_eth_del_unknowns = data3[\"Perpetrator Ethnicity\"] == \"Unknown\"\n",
    "\n",
    "# replace them with nan values for that column\n",
    "data3[\"Perpetrator Ethnicity\"][perp_eth_del_unknowns] = np.nan\n",
    "\n",
    "# drop the na row values (results becomes a float for only that column becasue of numpy)\n",
    "# results have to be assigned otherwise it doesn't updates\n",
    "data3 = data3.dropna()\n",
    "\n",
    "# reset the index \n",
    "data3 = data3.reset_index(drop=True)\n",
    "\n",
    "# convert the column back to integers\n",
    "data3[\"Perpetrator Ethnicity\"] = data3[\"Perpetrator Ethnicity\"]\n",
    "\n",
    "# display df information\n",
    "data3.info()"
   ]
  },
  {
   "cell_type": "code",
   "execution_count": null,
   "metadata": {},
   "outputs": [],
   "source": [
    "# deliting unreasonably high ages (setting upper limit)\n",
    "relat_eth_del_unknowns = data3[\"Relationship\"] == \"Unknown\"\n",
    "\n",
    "# replace them with nan values for that column\n",
    "data3[\"Relationship\"][relat_eth_del_unknowns] = np.nan\n",
    "\n",
    "# drop the na row values (results becomes a float for only that column becasue of numpy)\n",
    "# results have to be assigned otherwise it doesn't updates\n",
    "data3 = data3.dropna()\n",
    "\n",
    "# reset the index \n",
    "data3 = data3.reset_index(drop=True)\n",
    "\n",
    "# convert the column back to integers\n",
    "data3[\"Relationship\"] = data3[\"Relationship\"]\n",
    "\n",
    "# display df information\n",
    "data3.info()"
   ]
  },
  {
   "cell_type": "code",
   "execution_count": null,
   "metadata": {},
   "outputs": [],
   "source": [
    "# deliting unreasonably high ages (setting upper limit)\n",
    "weap_eth_del_unknowns = data3[\"Weapon\"] == \"Unknown\"\n",
    "\n",
    "# replace them with nan values for that column\n",
    "data3[\"Weapon\"][weap_eth_del_unknowns] = np.nan\n",
    "\n",
    "# drop the na row values (results becomes a float for only that column becasue of numpy)\n",
    "# results have to be assigned otherwise it doesn't updates\n",
    "data3 = data3.dropna()\n",
    "\n",
    "# reset the index \n",
    "data3 = data3.reset_index(drop=True)\n",
    "\n",
    "# convert the column back to integers\n",
    "data3[\"Weapon\"] = data3[\"Weapon\"]\n",
    "\n",
    "# display df information\n",
    "data3.info()"
   ]
  },
  {
   "cell_type": "code",
   "execution_count": null,
   "metadata": {},
   "outputs": [],
   "source": [
    "# deliting unreasonably high ages (setting upper limit)\n",
    "perprace = data3[\"Perpetrator Race\"] == \"Unknown\"\n",
    "\n",
    "# replace them with nan values for that column\n",
    "data3[\"Perpetrator Race\"][perprace] = np.nan\n",
    "\n",
    "# drop the na row values (results becomes a float for only that column becasue of numpy)\n",
    "# results have to be assigned otherwise it doesn't updates\n",
    "data3 = data3.dropna()\n",
    "\n",
    "# reset the index \n",
    "data3 = data3.reset_index(drop=True)\n",
    "\n",
    "# convert the column back to integers\n",
    "data3[\"Perpetrator Race\"] = data3[\"Perpetrator Race\"]\n",
    "\n",
    "# display df information\n",
    "data3.info()"
   ]
  },
  {
   "cell_type": "code",
   "execution_count": null,
   "metadata": {},
   "outputs": [],
   "source": [
    "data3['Perpetrator Race'].value_counts()"
   ]
  },
  {
   "cell_type": "code",
   "execution_count": null,
   "metadata": {},
   "outputs": [],
   "source": [
    "data3['Perpetrator Ethnicity'].value_counts()"
   ]
  },
  {
   "cell_type": "code",
   "execution_count": null,
   "metadata": {},
   "outputs": [],
   "source": [
    "data3['Victim Ethnicity'].value_counts()"
   ]
  },
  {
   "cell_type": "code",
   "execution_count": null,
   "metadata": {},
   "outputs": [],
   "source": [
    "data3['Perpetrator Sex'].value_counts()"
   ]
  },
  {
   "cell_type": "code",
   "execution_count": null,
   "metadata": {},
   "outputs": [],
   "source": [
    "# deliting unreasonably high ages (setting upper limit)\n",
    "perpsex = data3[\"Perpetrator Sex\"] == \"Unknown\"\n",
    "\n",
    "# replace them with nan values for that column\n",
    "data3[\"Perpetrator Sex\"][perpsex] = np.nan\n",
    "\n",
    "# drop the na row values (results becomes a float for only that column becasue of numpy)\n",
    "# results have to be assigned otherwise it doesn't updates\n",
    "data3 = data3.dropna()\n",
    "\n",
    "# reset the index \n",
    "data3 = data3.reset_index(drop=True)\n",
    "\n",
    "# convert the column back to integers\n",
    "data3[\"Perpetrator Sex\"] = data3[\"Perpetrator Sex\"]\n",
    "\n",
    "# display df information\n",
    "data3.info()"
   ]
  },
  {
   "cell_type": "code",
   "execution_count": null,
   "metadata": {},
   "outputs": [],
   "source": [
    "# deliting unreasonably high ages (setting upper limit)\n",
    "vicsex = data3[\"Victim Sex\"] == \"Unknown\"\n",
    "\n",
    "# replace them with nan values for that column\n",
    "data3[\"Victim Sex\"][vicsex] = np.nan\n",
    "\n",
    "# drop the na row values (results becomes a float for only that column becasue of numpy)\n",
    "# results have to be assigned otherwise it doesn't updates\n",
    "data3 = data3.dropna()\n",
    "\n",
    "# reset the index \n",
    "data3 = data3.reset_index(drop=True)\n",
    "\n",
    "# convert the column back to integers\n",
    "data3[\"Victim Sex\"] = data3[\"Victim Sex\"]\n",
    "\n",
    "# display df information\n",
    "data3.info()"
   ]
  },
  {
   "cell_type": "code",
   "execution_count": null,
   "metadata": {},
   "outputs": [],
   "source": [
    "data3['Victim Sex'].value_counts()"
   ]
  },
  {
   "cell_type": "code",
   "execution_count": null,
   "metadata": {},
   "outputs": [],
   "source": [
    "data3['Incident'].value_counts()"
   ]
  },
  {
   "cell_type": "code",
   "execution_count": null,
   "metadata": {},
   "outputs": [],
   "source": [
    "# over 34 years\n",
    "data3.groupby(\"State\")[['Perpetrator Count',\"Victim Count\",'Incident']].agg([\"sum\",'mean','std'])"
   ]
  },
  {
   "cell_type": "markdown",
   "metadata": {},
   "source": [
    "## Conclusion\n",
    "Starting with 638453 of observations after removing all missing or uknown data we end up with 151243.\n",
    "Which is concerning.\n",
    "Even if we say 190282 crimes that were not solved is reasonable to have complete data on we still end up with\n",
    "448172.\n",
    "\n",
    "In 2014 not cleaned data: Perpetrator Count 17816, Victim Count 16396\n",
    "\n",
    "CITED: In 2014, the estimated number of murders in the nation was 14,249. \n",
    "There are more perpetrators than victims. \n",
    "\n",
    "In 2013:\n",
    "\n",
    "Perpetrator Count    17930\n",
    "\n",
    "Victim Count         16721\n",
    "\n",
    "Growth per year\n",
    "Growth per state\n",
    "\n",
    "This numbers match almost the same as to online resources meaning that reporting sucks. Why?\n",
    "\n",
    "Based on the relationship how far/less likely are you to be a victim. \n",
    "\n",
    "The victims survey is an important tool for researchers because a significant percentage of crimes are never reported to police and so are not counted in other measures like the FBI’s Uniform Crime Reporting program. By asking nearly 225,000 people if they’ve been victims of crime and whether they reported it to the police, the survey tries to fill in the gaps of other measures that can undercount crimes in communities where vulnerable populations do not go to the police for help as often.\n",
    "\n",
    "The U.S. has two major data collection programs, the Uniform Crime Reports from the FBI and the National Crime Victimization Survey from the Bureau of Justice Statistics. However, the U.S. has no comprehensive infrastructure to monitor crime trends and report the information to related parties such as law enforcement.[2]\n",
    "\n",
    "while domestic violence, domestic child abuse and sexual offences are frequently significantly under-reported because of the intimate relationships involved, embarrassment and other factors that make it difficult for the victim to make a report.\n",
    "\n",
    "http://theconversation.com/why-the-us-needs-better-crime-reporting-statistics-104731"
   ]
  },
  {
   "cell_type": "markdown",
   "metadata": {},
   "source": [
    "## Solution for reporting missing ethnicity --> build a classification ML model"
   ]
  }
 ],
 "metadata": {
  "kernelspec": {
   "display_name": "Python 3",
   "language": "python",
   "name": "python3"
  },
  "language_info": {
   "codemirror_mode": {
    "name": "ipython",
    "version": 3
   },
   "file_extension": ".py",
   "mimetype": "text/x-python",
   "name": "python",
   "nbconvert_exporter": "python",
   "pygments_lexer": "ipython3",
   "version": "3.6.7"
  }
 },
 "nbformat": 4,
 "nbformat_minor": 2
}
