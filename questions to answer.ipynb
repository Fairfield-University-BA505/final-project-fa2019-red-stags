{
 "cells": [
  {
   "cell_type": "code",
   "execution_count": null,
   "metadata": {},
   "outputs": [],
   "source": [
    "# Questions to ask for the project\n",
    "\n",
    "# what attributes make a murderer (sex, age )?\n",
    "# are you more likely to die in a city or rural area per capita? \n",
    "# what weapons are most commonly used?\n",
    "# what are the attributes for a victim?\n",
    "# can we predict if you're more likely to die in a certain area?\n",
    "# is a perpetrator more likely to kill someone of similar attributes?\n",
    "# add another row for population for 1 year (2014)\n"
   ]
  },
  {
   "cell_type": "code",
   "execution_count": null,
   "metadata": {},
   "outputs": [],
   "source": []
  }
 ],
 "metadata": {
  "kernelspec": {
   "display_name": "Python 3",
   "language": "python",
   "name": "python3"
  },
  "language_info": {
   "codemirror_mode": {
    "name": "ipython",
    "version": 3
   },
   "file_extension": ".py",
   "mimetype": "text/x-python",
   "name": "python",
   "nbconvert_exporter": "python",
   "pygments_lexer": "ipython3",
   "version": "3.6.7"
  }
 },
 "nbformat": 4,
 "nbformat_minor": 2
}
