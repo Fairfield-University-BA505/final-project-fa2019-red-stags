{
 "cells": [
  {
   "cell_type": "markdown",
   "metadata": {},
   "source": [
    "# US Homicide Report \n",
    "Erik Hren, Christoper Nyilas, Kyle Sampson, Romel Maldonado - December 2019"
   ]
  },
  {
   "cell_type": "markdown",
   "metadata": {},
   "source": [
    "<center><img src=\"Crime_scene_picture.jpg\"></center>\n",
    "<center>“Nobody owns life, but anyone who can pick up a frying pan owns death.” - William S. Burroughs</center>"
   ]
  },
  {
   "cell_type": "markdown",
   "metadata": {},
   "source": [
    "### Author's Foreword\n",
    "It is hard to talk about this subject. It is for exactly that reason we decided to tackle it and learn from it. Even though this is an analytical report, it is good to note that all of these crimes (that should not happen) have a sometimes complex story behind it, for which our analysis cannot incorparete. So, let's get started shall we.  \n",
    "\n",
    "## Objectives:\n",
    "The goal of this report is to learn in detail about the history of US homocides and its trends. Later on the report will focus on 1 district, Hartford County, CT.\n",
    "\n",
    "The report aims to answer the following:\n",
    "- How is the homicide data correlated?\n",
    "- Are there more perpetrators than victims?\n",
    "- What is the most common weapon used in homicides?\n",
    "- What relationship result in most murders from 1980-2014?\n",
    "- What victim relationship result in most murders from 1980-2014?\n",
    "- What relationship group has the most homicides?\n",
    "- Perpetrator and victim sex distribution for each race?\n",
    "- What is the age group distribution for each race?\n",
    "- What perpetrator and victim race has the highest homicide incidences?\n",
    "- What age group is the most predominent for perpetrators and victims?\n",
    "- Has the age distribution changed over the years?\n",
    "- What ages encompass the most perpetrators? \n",
    "- What states have the lowest homicide rate in 2014?\n",
    "- What states have the highest homicide rate in 2014?\n",
    "- What states have the lowest number of incidences from 1980-2014?\n",
    "- What states have the highest number of incidences from 1980-2014?\n",
    "- Has the homocide rate decreased from 1980-2014?\n",
    "- What events caused homicide rates to decrease?\n",
    "- Can we predict whether the crime will be solved or unsolved for victims?\n",
    "\n",
    "### Report Steps\n",
    "This report consists of 4 major parts:\n",
    "1. Data Exploration\n",
    "    - Overview and understanding of the data\n",
    "    - Finding Errors\n",
    "2. Data Cleaning\n",
    "    - Clean the data and prepare it for viziulization\n",
    "    - Expect an extensive cleaning operation\n",
    "3. Subsetting & viziulization\n",
    "    - For the US  \n",
    "4. Decision Trees\n",
    "    - Encode data\n",
    "    - Decision tree model\n",
    "4. Application to a specific scenario\n",
    "    - Analysis of homicide data for Hartford, Connecticut\n",
    "    - Hartford Police and education department competing for a fictional $1,000,000 grant to reduce its homicide rate \n",
    "\n"
   ]
  },
  {
   "cell_type": "code",
   "execution_count": null,
   "metadata": {},
   "outputs": [],
   "source": []
  },
  {
   "cell_type": "markdown",
   "metadata": {},
   "source": [
    "# 1. Data Exploration"
   ]
  },
  {
   "cell_type": "code",
   "execution_count": 1,
   "metadata": {},
   "outputs": [],
   "source": [
    "# Importing libraries \n",
    "# importing libraries\n",
    "\n",
    "import pandas as pd # importing, data manipulation, subsetting\n",
    "import numpy as np # linear algebra\n",
    "import matplotlib.pyplot as plt\n",
    "import seaborn as sns\n",
    "import missingno as mno"
   ]
  },
  {
   "cell_type": "code",
   "execution_count": 2,
   "metadata": {},
   "outputs": [
    {
     "name": "stderr",
     "output_type": "stream",
     "text": [
      "/opt/tljh/user/lib/python3.6/site-packages/IPython/core/interactiveshell.py:3058: DtypeWarning: Columns (16) have mixed types. Specify dtype option on import or set low_memory=False.\n",
      "  interactivity=interactivity, compiler=compiler, result=result)\n"
     ]
    },
    {
     "data": {
      "text/html": [
       "<div>\n",
       "<style scoped>\n",
       "    .dataframe tbody tr th:only-of-type {\n",
       "        vertical-align: middle;\n",
       "    }\n",
       "\n",
       "    .dataframe tbody tr th {\n",
       "        vertical-align: top;\n",
       "    }\n",
       "\n",
       "    .dataframe thead th {\n",
       "        text-align: right;\n",
       "    }\n",
       "</style>\n",
       "<table border=\"1\" class=\"dataframe\">\n",
       "  <thead>\n",
       "    <tr style=\"text-align: right;\">\n",
       "      <th></th>\n",
       "      <th>Record ID</th>\n",
       "      <th>Agency Code</th>\n",
       "      <th>Agency Name</th>\n",
       "      <th>Agency Type</th>\n",
       "      <th>City</th>\n",
       "      <th>State</th>\n",
       "      <th>Year</th>\n",
       "      <th>Month</th>\n",
       "      <th>Incident</th>\n",
       "      <th>Crime Type</th>\n",
       "      <th>...</th>\n",
       "      <th>Victim Ethnicity</th>\n",
       "      <th>Perpetrator Sex</th>\n",
       "      <th>Perpetrator Age</th>\n",
       "      <th>Perpetrator Race</th>\n",
       "      <th>Perpetrator Ethnicity</th>\n",
       "      <th>Relationship</th>\n",
       "      <th>Weapon</th>\n",
       "      <th>Victim Count</th>\n",
       "      <th>Perpetrator Count</th>\n",
       "      <th>Record Source</th>\n",
       "    </tr>\n",
       "  </thead>\n",
       "  <tbody>\n",
       "    <tr>\n",
       "      <th>0</th>\n",
       "      <td>1</td>\n",
       "      <td>AK00101</td>\n",
       "      <td>Anchorage</td>\n",
       "      <td>Municipal Police</td>\n",
       "      <td>Anchorage</td>\n",
       "      <td>Alaska</td>\n",
       "      <td>1980</td>\n",
       "      <td>January</td>\n",
       "      <td>1</td>\n",
       "      <td>Murder or Manslaughter</td>\n",
       "      <td>...</td>\n",
       "      <td>Unknown</td>\n",
       "      <td>Male</td>\n",
       "      <td>15</td>\n",
       "      <td>Native American/Alaska Native</td>\n",
       "      <td>Unknown</td>\n",
       "      <td>Acquaintance</td>\n",
       "      <td>Blunt Object</td>\n",
       "      <td>0</td>\n",
       "      <td>0</td>\n",
       "      <td>FBI</td>\n",
       "    </tr>\n",
       "    <tr>\n",
       "      <th>1</th>\n",
       "      <td>2</td>\n",
       "      <td>AK00101</td>\n",
       "      <td>Anchorage</td>\n",
       "      <td>Municipal Police</td>\n",
       "      <td>Anchorage</td>\n",
       "      <td>Alaska</td>\n",
       "      <td>1980</td>\n",
       "      <td>March</td>\n",
       "      <td>1</td>\n",
       "      <td>Murder or Manslaughter</td>\n",
       "      <td>...</td>\n",
       "      <td>Unknown</td>\n",
       "      <td>Male</td>\n",
       "      <td>42</td>\n",
       "      <td>White</td>\n",
       "      <td>Unknown</td>\n",
       "      <td>Acquaintance</td>\n",
       "      <td>Strangulation</td>\n",
       "      <td>0</td>\n",
       "      <td>0</td>\n",
       "      <td>FBI</td>\n",
       "    </tr>\n",
       "    <tr>\n",
       "      <th>2</th>\n",
       "      <td>3</td>\n",
       "      <td>AK00101</td>\n",
       "      <td>Anchorage</td>\n",
       "      <td>Municipal Police</td>\n",
       "      <td>Anchorage</td>\n",
       "      <td>Alaska</td>\n",
       "      <td>1980</td>\n",
       "      <td>March</td>\n",
       "      <td>2</td>\n",
       "      <td>Murder or Manslaughter</td>\n",
       "      <td>...</td>\n",
       "      <td>Unknown</td>\n",
       "      <td>Unknown</td>\n",
       "      <td>0</td>\n",
       "      <td>Unknown</td>\n",
       "      <td>Unknown</td>\n",
       "      <td>Unknown</td>\n",
       "      <td>Unknown</td>\n",
       "      <td>0</td>\n",
       "      <td>0</td>\n",
       "      <td>FBI</td>\n",
       "    </tr>\n",
       "    <tr>\n",
       "      <th>3</th>\n",
       "      <td>4</td>\n",
       "      <td>AK00101</td>\n",
       "      <td>Anchorage</td>\n",
       "      <td>Municipal Police</td>\n",
       "      <td>Anchorage</td>\n",
       "      <td>Alaska</td>\n",
       "      <td>1980</td>\n",
       "      <td>April</td>\n",
       "      <td>1</td>\n",
       "      <td>Murder or Manslaughter</td>\n",
       "      <td>...</td>\n",
       "      <td>Unknown</td>\n",
       "      <td>Male</td>\n",
       "      <td>42</td>\n",
       "      <td>White</td>\n",
       "      <td>Unknown</td>\n",
       "      <td>Acquaintance</td>\n",
       "      <td>Strangulation</td>\n",
       "      <td>0</td>\n",
       "      <td>0</td>\n",
       "      <td>FBI</td>\n",
       "    </tr>\n",
       "    <tr>\n",
       "      <th>4</th>\n",
       "      <td>5</td>\n",
       "      <td>AK00101</td>\n",
       "      <td>Anchorage</td>\n",
       "      <td>Municipal Police</td>\n",
       "      <td>Anchorage</td>\n",
       "      <td>Alaska</td>\n",
       "      <td>1980</td>\n",
       "      <td>April</td>\n",
       "      <td>2</td>\n",
       "      <td>Murder or Manslaughter</td>\n",
       "      <td>...</td>\n",
       "      <td>Unknown</td>\n",
       "      <td>Unknown</td>\n",
       "      <td>0</td>\n",
       "      <td>Unknown</td>\n",
       "      <td>Unknown</td>\n",
       "      <td>Unknown</td>\n",
       "      <td>Unknown</td>\n",
       "      <td>0</td>\n",
       "      <td>1</td>\n",
       "      <td>FBI</td>\n",
       "    </tr>\n",
       "  </tbody>\n",
       "</table>\n",
       "<p>5 rows × 24 columns</p>\n",
       "</div>"
      ],
      "text/plain": [
       "   Record ID Agency Code Agency Name       Agency Type       City   State  \\\n",
       "0          1     AK00101   Anchorage  Municipal Police  Anchorage  Alaska   \n",
       "1          2     AK00101   Anchorage  Municipal Police  Anchorage  Alaska   \n",
       "2          3     AK00101   Anchorage  Municipal Police  Anchorage  Alaska   \n",
       "3          4     AK00101   Anchorage  Municipal Police  Anchorage  Alaska   \n",
       "4          5     AK00101   Anchorage  Municipal Police  Anchorage  Alaska   \n",
       "\n",
       "   Year    Month  Incident              Crime Type  ... Victim Ethnicity  \\\n",
       "0  1980  January         1  Murder or Manslaughter  ...          Unknown   \n",
       "1  1980    March         1  Murder or Manslaughter  ...          Unknown   \n",
       "2  1980    March         2  Murder or Manslaughter  ...          Unknown   \n",
       "3  1980    April         1  Murder or Manslaughter  ...          Unknown   \n",
       "4  1980    April         2  Murder or Manslaughter  ...          Unknown   \n",
       "\n",
       "  Perpetrator Sex  Perpetrator Age               Perpetrator Race  \\\n",
       "0            Male               15  Native American/Alaska Native   \n",
       "1            Male               42                          White   \n",
       "2         Unknown                0                        Unknown   \n",
       "3            Male               42                          White   \n",
       "4         Unknown                0                        Unknown   \n",
       "\n",
       "  Perpetrator Ethnicity  Relationship         Weapon Victim Count  \\\n",
       "0               Unknown  Acquaintance   Blunt Object            0   \n",
       "1               Unknown  Acquaintance  Strangulation            0   \n",
       "2               Unknown       Unknown        Unknown            0   \n",
       "3               Unknown  Acquaintance  Strangulation            0   \n",
       "4               Unknown       Unknown        Unknown            0   \n",
       "\n",
       "  Perpetrator Count Record Source  \n",
       "0                 0           FBI  \n",
       "1                 0           FBI  \n",
       "2                 0           FBI  \n",
       "3                 0           FBI  \n",
       "4                 1           FBI  \n",
       "\n",
       "[5 rows x 24 columns]"
      ]
     },
     "execution_count": 2,
     "metadata": {},
     "output_type": "execute_result"
    }
   ],
   "source": [
    "# reading in the csv file \n",
    "data = pd.read_csv(\"US HOMOCIDE REPORT.csv\")\n",
    "\n",
    "data.head()"
   ]
  },
  {
   "cell_type": "code",
   "execution_count": 3,
   "metadata": {},
   "outputs": [
    {
     "name": "stdout",
     "output_type": "stream",
     "text": [
      "<class 'pandas.core.frame.DataFrame'>\n",
      "RangeIndex: 638454 entries, 0 to 638453\n",
      "Data columns (total 24 columns):\n",
      "Record ID                638454 non-null int64\n",
      "Agency Code              638454 non-null object\n",
      "Agency Name              638454 non-null object\n",
      "Agency Type              638454 non-null object\n",
      "City                     638454 non-null object\n",
      "State                    638454 non-null object\n",
      "Year                     638454 non-null int64\n",
      "Month                    638454 non-null object\n",
      "Incident                 638454 non-null int64\n",
      "Crime Type               638454 non-null object\n",
      "Crime Solved             638454 non-null object\n",
      "Victim Sex               638454 non-null object\n",
      "Victim Age               638454 non-null int64\n",
      "Victim Race              638454 non-null object\n",
      "Victim Ethnicity         638454 non-null object\n",
      "Perpetrator Sex          638454 non-null object\n",
      "Perpetrator Age          638454 non-null object\n",
      "Perpetrator Race         638454 non-null object\n",
      "Perpetrator Ethnicity    638454 non-null object\n",
      "Relationship             638454 non-null object\n",
      "Weapon                   638454 non-null object\n",
      "Victim Count             638454 non-null int64\n",
      "Perpetrator Count        638454 non-null int64\n",
      "Record Source            638454 non-null object\n",
      "dtypes: int64(6), object(18)\n",
      "memory usage: 116.9+ MB\n"
     ]
    }
   ],
   "source": [
    "# Data inspection\n",
    "# Most of the data is categorical \n",
    "# from our output and warning we see that \"Perpetrator Age\" column is considered and object while it should be an integer\n",
    "# no-null values found yet \n",
    "data.info()"
   ]
  },
  {
   "cell_type": "code",
   "execution_count": 4,
   "metadata": {},
   "outputs": [
    {
     "data": {
      "text/plain": [
       "array([15, 42, 0, 36, 27, 35, 40, 49, 39, 29, 19, 23, 33, 26, 41, 28, 61,\n",
       "       25, 7, 17, 34, 21, 43, 38, 66, 32, 37, 22, 30, 24, 65, 51, 60, 45,\n",
       "       64, 18, 20, 44, 73, 62, 69, 52, 16, 90, 56, 47, 57, 31, 46, 14, 55,\n",
       "       50, 54, 68, 77, 53, 67, 48, 76, 58, 71, 63, 89, 13, 75, 72, 93, 59,\n",
       "       10, 11, 79, 74, 99, 70, 78, 80, 9, 12, 81, 6, 87, 82, 83, 8, 84,\n",
       "       85, 86, 5, 3, 1, 88, 95, 4, 91, 92, 96, 94, 2, 98, 97, '22', '52',\n",
       "       '21', '0', '25', '61', '32', '28', '20', '38', '18', '17', '53',\n",
       "       '30', '24', '84', '43', '16', '47', '54', '50', '42', '23', '36',\n",
       "       '35', '60', '27', '19', '14', '57', '63', '81', '31', '58', '51',\n",
       "       '15', '40', '33', '26', '41', '29', '34', '37', '69', '44', '48',\n",
       "       '55', '49', '56', '39', '45', '65', '59', '70', '46', '11', '77',\n",
       "       '67', '76', '85', '72', '13', '89', '74', '71', '64', '62', '3',\n",
       "       '80', '73', '75', '83', '78', '68', '66', '86', '87', '95', '90',\n",
       "       '6', '12', '99', '88', '9', '93', '10', ' ', '82', '92', '79', '1'],\n",
       "      dtype=object)"
      ]
     },
     "execution_count": 4,
     "metadata": {},
     "output_type": "execute_result"
    }
   ],
   "source": [
    "# Looking into perpetrator age \n",
    "# notice strings, spaces and too small ages for perpetrators \n",
    "data['Perpetrator Age'].unique()"
   ]
  },
  {
   "cell_type": "code",
   "execution_count": 5,
   "metadata": {},
   "outputs": [
    {
     "data": {
      "text/plain": [
       "0     211079\n",
       "20     21158\n",
       "19     19807\n",
       "21     18509\n",
       "18     18477\n",
       "       ...  \n",
       "1          1\n",
       "9          1\n",
       "           1\n",
       "88         1\n",
       "6          1\n",
       "Name: Perpetrator Age, Length: 191, dtype: int64"
      ]
     },
     "execution_count": 5,
     "metadata": {},
     "output_type": "execute_result"
    }
   ],
   "source": [
    "# Count the values for each unique age\n",
    "# notice a lot of 0 values \n",
    "data['Perpetrator Age'].value_counts()"
   ]
  },
  {
   "cell_type": "code",
   "execution_count": 6,
   "metadata": {},
   "outputs": [
    {
     "data": {
      "text/plain": [
       "Record ID                190282\n",
       "Agency Code              190282\n",
       "Agency Name              190282\n",
       "Agency Type              190282\n",
       "City                     190282\n",
       "State                    190282\n",
       "Year                     190282\n",
       "Month                    190282\n",
       "Incident                 190282\n",
       "Crime Type               190282\n",
       "Crime Solved             190282\n",
       "Victim Sex               190282\n",
       "Victim Age               190282\n",
       "Victim Race              190282\n",
       "Victim Ethnicity         190282\n",
       "Perpetrator Sex          190282\n",
       "Perpetrator Age          190282\n",
       "Perpetrator Race         190282\n",
       "Perpetrator Ethnicity    190282\n",
       "Relationship             190282\n",
       "Weapon                   190282\n",
       "Victim Count             190282\n",
       "Perpetrator Count        190282\n",
       "Record Source            190282\n",
       "dtype: int64"
      ]
     },
     "execution_count": 6,
     "metadata": {},
     "output_type": "execute_result"
    }
   ],
   "source": [
    "# Is the unsolved crime connected to some values \n",
    "data[data[\"Crime Solved\"]==\"No\"].count()"
   ]
  },
  {
   "cell_type": "code",
   "execution_count": 7,
   "metadata": {},
   "outputs": [
    {
     "data": {
      "text/plain": [
       "Record ID                184980\n",
       "Agency Code              184980\n",
       "Agency Name              184980\n",
       "Agency Type              184980\n",
       "City                     184980\n",
       "State                    184980\n",
       "Year                     184980\n",
       "Month                    184980\n",
       "Incident                 184980\n",
       "Crime Type               184980\n",
       "Crime Solved             184980\n",
       "Victim Sex               184980\n",
       "Victim Age               184980\n",
       "Victim Race              184980\n",
       "Victim Ethnicity         184980\n",
       "Perpetrator Sex          184980\n",
       "Perpetrator Age          184980\n",
       "Perpetrator Race         184980\n",
       "Perpetrator Ethnicity    184980\n",
       "Relationship             184980\n",
       "Weapon                   184980\n",
       "Victim Count             184980\n",
       "Perpetrator Count        184980\n",
       "Record Source            184980\n",
       "dtype: int64"
      ]
     },
     "execution_count": 7,
     "metadata": {},
     "output_type": "execute_result"
    }
   ],
   "source": [
    "# Are unsolved crimes and 0 values for ages connected \n",
    "# almost all of the crimes that are not solved are market with 0 for the perpetrator age\n",
    "data[(data[\"Crime Solved\"]==\"No\") & (data[\"Perpetrator Age\"]==0)].count()"
   ]
  },
  {
   "cell_type": "code",
   "execution_count": 8,
   "metadata": {},
   "outputs": [
    {
     "data": {
      "text/plain": [
       "Record ID                190036\n",
       "Agency Code              190036\n",
       "Agency Name              190036\n",
       "Agency Type              190036\n",
       "City                     190036\n",
       "State                    190036\n",
       "Year                     190036\n",
       "Month                    190036\n",
       "Incident                 190036\n",
       "Crime Type               190036\n",
       "Crime Solved             190036\n",
       "Victim Sex               190036\n",
       "Victim Age               190036\n",
       "Victim Race              190036\n",
       "Victim Ethnicity         190036\n",
       "Perpetrator Sex          190036\n",
       "Perpetrator Age          190036\n",
       "Perpetrator Race         190036\n",
       "Perpetrator Ethnicity    190036\n",
       "Relationship             190036\n",
       "Weapon                   190036\n",
       "Victim Count             190036\n",
       "Perpetrator Count        190036\n",
       "Record Source            190036\n",
       "dtype: int64"
      ]
     },
     "execution_count": 8,
     "metadata": {},
     "output_type": "execute_result"
    }
   ],
   "source": [
    "# There clearly is a pattern here\n",
    "data[(data[\"Crime Solved\"]==\"No\") & (data[\"Perpetrator Ethnicity\"]=='Unknown')].count()"
   ]
  },
  {
   "cell_type": "code",
   "execution_count": 9,
   "metadata": {},
   "outputs": [
    {
     "data": {
      "text/plain": [
       "array([ 14,  43,  30,  42,  99,  32,  38,  36,  20,  48,  31,  16,  33,\n",
       "        27,  21,  60,  40,  18,   8,  25,  24,  46,  23,  22,  45,  26,\n",
       "        58,  17,  29,  41,  68,  13,  35,  44,  54,  37,  51,  90,  50,\n",
       "        52,  61,  63,  19,  28,  70,  72,  74,  53,  57,  76,  79,  69,\n",
       "        34,  66,  55,  67,  65,  47,   1,  49,  62,  75,  56,  59,  78,\n",
       "        39,  15,   0,  71,  77,   2,   4,  64,  82,  85,   6,   5,   7,\n",
       "         9,  84,  10,  86,  11,  73,  83, 998,  81,  87,  80,   3,  12,\n",
       "        94,  93,  92,  89,  97,  88,  91,  95,  98,  96])"
      ]
     },
     "execution_count": 9,
     "metadata": {},
     "output_type": "execute_result"
    }
   ],
   "source": [
    "# Looking for mistakes in victim age - unique values\n",
    "# notice 998\n",
    "data['Victim Age'].unique()"
   ]
  },
  {
   "cell_type": "code",
   "execution_count": 10,
   "metadata": {},
   "outputs": [
    {
     "data": {
      "text/plain": [
       "22    23049\n",
       "20    23031\n",
       "25    22939\n",
       "21    22796\n",
       "23    22438\n",
       "      ...  \n",
       "94      116\n",
       "95       82\n",
       "97       39\n",
       "96       37\n",
       "98       33\n",
       "Name: Victim Age, Length: 101, dtype: int64"
      ]
     },
     "execution_count": 10,
     "metadata": {},
     "output_type": "execute_result"
    }
   ],
   "source": [
    "# Count the values for each unique age\n",
    "# here we do not see a lot of 0 values (more known values)\n",
    "data['Victim Age'].value_counts()"
   ]
  },
  {
   "cell_type": "code",
   "execution_count": 11,
   "metadata": {},
   "outputs": [
    {
     "data": {
      "text/plain": [
       "Record ID                113271\n",
       "Agency Code              113271\n",
       "Agency Name              113271\n",
       "Agency Type              113271\n",
       "City                     113271\n",
       "State                    113271\n",
       "Year                     113271\n",
       "Month                    113271\n",
       "Incident                 113271\n",
       "Crime Type               113271\n",
       "Crime Solved             113271\n",
       "Victim Sex               113271\n",
       "Victim Age               113271\n",
       "Victim Race              113271\n",
       "Victim Ethnicity         113271\n",
       "Perpetrator Sex          113271\n",
       "Perpetrator Age          113271\n",
       "Perpetrator Race         113271\n",
       "Perpetrator Ethnicity    113271\n",
       "Relationship             113271\n",
       "Weapon                   113271\n",
       "Victim Count             113271\n",
       "Perpetrator Count        113271\n",
       "Record Source            113271\n",
       "dtype: int64"
      ]
     },
     "execution_count": 11,
     "metadata": {},
     "output_type": "execute_result"
    }
   ],
   "source": [
    "# There clearly is a pattern here as well \n",
    "data[(data[\"Crime Solved\"]==\"No\") & (data[\"Victim Ethnicity\"]=='Unknown')].count()"
   ]
  },
  {
   "cell_type": "code",
   "execution_count": 12,
   "metadata": {},
   "outputs": [
    {
     "data": {
      "text/plain": [
       "Record ID                178121\n",
       "Agency Code              178121\n",
       "Agency Name              178121\n",
       "Agency Type              178121\n",
       "City                     178121\n",
       "State                    178121\n",
       "Year                     178121\n",
       "Month                    178121\n",
       "Incident                 178121\n",
       "Crime Type               178121\n",
       "Crime Solved             178121\n",
       "Victim Sex               178121\n",
       "Victim Age               178121\n",
       "Victim Race              178121\n",
       "Victim Ethnicity         178121\n",
       "Perpetrator Sex          178121\n",
       "Perpetrator Age          178121\n",
       "Perpetrator Race         178121\n",
       "Perpetrator Ethnicity    178121\n",
       "Relationship             178121\n",
       "Weapon                   178121\n",
       "Victim Count             178121\n",
       "Perpetrator Count        178121\n",
       "Record Source            178121\n",
       "dtype: int64"
      ]
     },
     "execution_count": 12,
     "metadata": {},
     "output_type": "execute_result"
    }
   ],
   "source": [
    "# Are unsolved crimes and 0 values for ages connected \n",
    "# almost all of the crimes that are not solved are market with 0 for the perpetrator age\n",
    "data[(data[\"Crime Solved\"]==\"No\") & (data[\"Relationship\"]=='Unknown')].count()"
   ]
  },
  {
   "cell_type": "code",
   "execution_count": 13,
   "metadata": {},
   "outputs": [
    {
     "data": {
      "text/plain": [
       "array([ 0,  1,  2,  3,  4,  5,  8, 10,  6,  9,  7])"
      ]
     },
     "execution_count": 13,
     "metadata": {},
     "output_type": "execute_result"
    }
   ],
   "source": [
    "# Unique values for perpetrator count\n",
    "data['Perpetrator Count'].unique()"
   ]
  },
  {
   "cell_type": "code",
   "execution_count": 14,
   "metadata": {},
   "outputs": [
    {
     "data": {
      "text/plain": [
       "Record ID                184069\n",
       "Agency Code              184069\n",
       "Agency Name              184069\n",
       "Agency Type              184069\n",
       "City                     184069\n",
       "State                    184069\n",
       "Year                     184069\n",
       "Month                    184069\n",
       "Incident                 184069\n",
       "Crime Type               184069\n",
       "Crime Solved             184069\n",
       "Victim Sex               184069\n",
       "Victim Age               184069\n",
       "Victim Race              184069\n",
       "Victim Ethnicity         184069\n",
       "Perpetrator Sex          184069\n",
       "Perpetrator Age          184069\n",
       "Perpetrator Race         184069\n",
       "Perpetrator Ethnicity    184069\n",
       "Relationship             184069\n",
       "Weapon                   184069\n",
       "Victim Count             184069\n",
       "Perpetrator Count        184069\n",
       "Record Source            184069\n",
       "dtype: int64"
      ]
     },
     "execution_count": 14,
     "metadata": {},
     "output_type": "execute_result"
    }
   ],
   "source": [
    "data[(data[\"Crime Solved\"]==\"No\") & (data[\"Perpetrator Count\"]==0)].count()"
   ]
  },
  {
   "cell_type": "code",
   "execution_count": 15,
   "metadata": {},
   "outputs": [
    {
     "data": {
      "text/plain": [
       "array([ 0,  2,  1,  3,  6,  4,  5,  9,  7,  8, 10])"
      ]
     },
     "execution_count": 15,
     "metadata": {},
     "output_type": "execute_result"
    }
   ],
   "source": [
    "# Unique values for perpetrator count\n",
    "data['Victim Count'].unique()"
   ]
  },
  {
   "cell_type": "markdown",
   "metadata": {},
   "source": [
    "Here we take a look of how many unique states there are in the dataset. There is supposed to be only 50 so, let's take a closer look."
   ]
  },
  {
   "cell_type": "code",
   "execution_count": 16,
   "metadata": {},
   "outputs": [
    {
     "data": {
      "text/plain": [
       "51"
      ]
     },
     "execution_count": 16,
     "metadata": {},
     "output_type": "execute_result"
    }
   ],
   "source": [
    "len(data['State'].unique())"
   ]
  },
  {
   "cell_type": "markdown",
   "metadata": {},
   "source": [
    "District of Columbia is not a state. Although, it might be viable to keep it if it has enough data. "
   ]
  },
  {
   "cell_type": "code",
   "execution_count": 17,
   "metadata": {},
   "outputs": [
    {
     "data": {
      "text/plain": [
       "array(['Alaska', 'Alabama', 'Arkansas', 'Arizona', 'California',\n",
       "       'Colorado', 'Connecticut', 'District of Columbia', 'Delaware',\n",
       "       'Florida', 'Georgia', 'Hawaii', 'Iowa', 'Idaho', 'Illinois',\n",
       "       'Indiana', 'Kansas', 'Kentucky', 'Louisiana', 'Massachusetts',\n",
       "       'Maryland', 'Maine', 'Michigan', 'Minnesota', 'Missouri',\n",
       "       'Mississippi', 'Montana', 'Nebraska', 'North Carolina',\n",
       "       'North Dakota', 'New Hampshire', 'New Jersey', 'New Mexico',\n",
       "       'Nevada', 'New York', 'Ohio', 'Oklahoma', 'Oregon', 'Pennsylvania',\n",
       "       'Rhodes Island', 'South Carolina', 'South Dakota', 'Tennessee',\n",
       "       'Texas', 'Utah', 'Virginia', 'Vermont', 'Washington', 'Wisconsin',\n",
       "       'West Virginia', 'Wyoming'], dtype=object)"
      ]
     },
     "execution_count": 17,
     "metadata": {},
     "output_type": "execute_result"
    }
   ],
   "source": [
    "data['State'].unique()"
   ]
  },
  {
   "cell_type": "markdown",
   "metadata": {},
   "source": [
    "District of Columbia has a significant amount of observations so, we decided to treat it as a state."
   ]
  },
  {
   "cell_type": "code",
   "execution_count": 18,
   "metadata": {},
   "outputs": [
    {
     "data": {
      "text/plain": [
       "Record ID                7115\n",
       "Agency Code              7115\n",
       "Agency Name              7115\n",
       "Agency Type              7115\n",
       "City                     7115\n",
       "State                    7115\n",
       "Year                     7115\n",
       "Month                    7115\n",
       "Incident                 7115\n",
       "Crime Type               7115\n",
       "Crime Solved             7115\n",
       "Victim Sex               7115\n",
       "Victim Age               7115\n",
       "Victim Race              7115\n",
       "Victim Ethnicity         7115\n",
       "Perpetrator Sex          7115\n",
       "Perpetrator Age          7115\n",
       "Perpetrator Race         7115\n",
       "Perpetrator Ethnicity    7115\n",
       "Relationship             7115\n",
       "Weapon                   7115\n",
       "Victim Count             7115\n",
       "Perpetrator Count        7115\n",
       "Record Source            7115\n",
       "dtype: int64"
      ]
     },
     "execution_count": 18,
     "metadata": {},
     "output_type": "execute_result"
    }
   ],
   "source": [
    "data[data['State']=='District of Columbia'].count()"
   ]
  },
  {
   "cell_type": "code",
   "execution_count": 19,
   "metadata": {},
   "outputs": [
    {
     "data": {
      "text/plain": [
       "Record ID                0\n",
       "Agency Code              0\n",
       "Agency Name              0\n",
       "Agency Type              0\n",
       "City                     0\n",
       "State                    0\n",
       "Year                     0\n",
       "Month                    0\n",
       "Incident                 0\n",
       "Crime Type               0\n",
       "Crime Solved             0\n",
       "Victim Sex               0\n",
       "Victim Age               0\n",
       "Victim Race              0\n",
       "Victim Ethnicity         0\n",
       "Perpetrator Sex          0\n",
       "Perpetrator Age          0\n",
       "Perpetrator Race         0\n",
       "Perpetrator Ethnicity    0\n",
       "Relationship             0\n",
       "Weapon                   0\n",
       "Victim Count             0\n",
       "Perpetrator Count        0\n",
       "Record Source            0\n",
       "dtype: int64"
      ]
     },
     "execution_count": 19,
     "metadata": {},
     "output_type": "execute_result"
    }
   ],
   "source": [
    "# no null values found\n",
    "# that does not mean there are no mistakes \n",
    "data.isnull().sum()"
   ]
  },
  {
   "cell_type": "markdown",
   "metadata": {},
   "source": [
    ".describe() is used to view some basic statistical details like percentile, mean, std etc. of a data frame or a series of numeric values.\n",
    "Here we see that mean victim age is 35. Moreover, we spot the error for its max value of 998. 75% of the data is for the victims below the age of 42."
   ]
  },
  {
   "cell_type": "code",
   "execution_count": 20,
   "metadata": {},
   "outputs": [
    {
     "data": {
      "text/html": [
       "<div>\n",
       "<style scoped>\n",
       "    .dataframe tbody tr th:only-of-type {\n",
       "        vertical-align: middle;\n",
       "    }\n",
       "\n",
       "    .dataframe tbody tr th {\n",
       "        vertical-align: top;\n",
       "    }\n",
       "\n",
       "    .dataframe thead th {\n",
       "        text-align: right;\n",
       "    }\n",
       "</style>\n",
       "<table border=\"1\" class=\"dataframe\">\n",
       "  <thead>\n",
       "    <tr style=\"text-align: right;\">\n",
       "      <th></th>\n",
       "      <th>Record ID</th>\n",
       "      <th>Year</th>\n",
       "      <th>Incident</th>\n",
       "      <th>Victim Age</th>\n",
       "      <th>Victim Count</th>\n",
       "      <th>Perpetrator Count</th>\n",
       "    </tr>\n",
       "  </thead>\n",
       "  <tbody>\n",
       "    <tr>\n",
       "      <th>count</th>\n",
       "      <td>638454.00000</td>\n",
       "      <td>638454.000000</td>\n",
       "      <td>638454.000000</td>\n",
       "      <td>638454.000000</td>\n",
       "      <td>638454.000000</td>\n",
       "      <td>638454.000000</td>\n",
       "    </tr>\n",
       "    <tr>\n",
       "      <th>mean</th>\n",
       "      <td>319227.50000</td>\n",
       "      <td>1995.801102</td>\n",
       "      <td>22.967924</td>\n",
       "      <td>35.033512</td>\n",
       "      <td>0.123334</td>\n",
       "      <td>0.185224</td>\n",
       "    </tr>\n",
       "    <tr>\n",
       "      <th>std</th>\n",
       "      <td>184305.93872</td>\n",
       "      <td>9.927693</td>\n",
       "      <td>92.149821</td>\n",
       "      <td>41.628306</td>\n",
       "      <td>0.537733</td>\n",
       "      <td>0.585496</td>\n",
       "    </tr>\n",
       "    <tr>\n",
       "      <th>min</th>\n",
       "      <td>1.00000</td>\n",
       "      <td>1980.000000</td>\n",
       "      <td>0.000000</td>\n",
       "      <td>0.000000</td>\n",
       "      <td>0.000000</td>\n",
       "      <td>0.000000</td>\n",
       "    </tr>\n",
       "    <tr>\n",
       "      <th>25%</th>\n",
       "      <td>159614.25000</td>\n",
       "      <td>1987.000000</td>\n",
       "      <td>1.000000</td>\n",
       "      <td>22.000000</td>\n",
       "      <td>0.000000</td>\n",
       "      <td>0.000000</td>\n",
       "    </tr>\n",
       "    <tr>\n",
       "      <th>50%</th>\n",
       "      <td>319227.50000</td>\n",
       "      <td>1995.000000</td>\n",
       "      <td>2.000000</td>\n",
       "      <td>30.000000</td>\n",
       "      <td>0.000000</td>\n",
       "      <td>0.000000</td>\n",
       "    </tr>\n",
       "    <tr>\n",
       "      <th>75%</th>\n",
       "      <td>478840.75000</td>\n",
       "      <td>2004.000000</td>\n",
       "      <td>10.000000</td>\n",
       "      <td>42.000000</td>\n",
       "      <td>0.000000</td>\n",
       "      <td>0.000000</td>\n",
       "    </tr>\n",
       "    <tr>\n",
       "      <th>max</th>\n",
       "      <td>638454.00000</td>\n",
       "      <td>2014.000000</td>\n",
       "      <td>999.000000</td>\n",
       "      <td>998.000000</td>\n",
       "      <td>10.000000</td>\n",
       "      <td>10.000000</td>\n",
       "    </tr>\n",
       "  </tbody>\n",
       "</table>\n",
       "</div>"
      ],
      "text/plain": [
       "          Record ID           Year       Incident     Victim Age  \\\n",
       "count  638454.00000  638454.000000  638454.000000  638454.000000   \n",
       "mean   319227.50000    1995.801102      22.967924      35.033512   \n",
       "std    184305.93872       9.927693      92.149821      41.628306   \n",
       "min         1.00000    1980.000000       0.000000       0.000000   \n",
       "25%    159614.25000    1987.000000       1.000000      22.000000   \n",
       "50%    319227.50000    1995.000000       2.000000      30.000000   \n",
       "75%    478840.75000    2004.000000      10.000000      42.000000   \n",
       "max    638454.00000    2014.000000     999.000000     998.000000   \n",
       "\n",
       "        Victim Count  Perpetrator Count  \n",
       "count  638454.000000      638454.000000  \n",
       "mean        0.123334           0.185224  \n",
       "std         0.537733           0.585496  \n",
       "min         0.000000           0.000000  \n",
       "25%         0.000000           0.000000  \n",
       "50%         0.000000           0.000000  \n",
       "75%         0.000000           0.000000  \n",
       "max        10.000000          10.000000  "
      ]
     },
     "execution_count": 20,
     "metadata": {},
     "output_type": "execute_result"
    }
   ],
   "source": [
    "data.describe()"
   ]
  },
  {
   "cell_type": "markdown",
   "metadata": {},
   "source": [
    "### Display data nullness\n",
    "   Convert the unknown data to NaN for display"
   ]
  },
  {
   "cell_type": "code",
   "execution_count": 21,
   "metadata": {},
   "outputs": [
    {
     "name": "stderr",
     "output_type": "stream",
     "text": [
      "/opt/tljh/user/lib/python3.6/site-packages/ipykernel_launcher.py:6: SettingWithCopyWarning: \n",
      "A value is trying to be set on a copy of a slice from a DataFrame\n",
      "\n",
      "See the caveats in the documentation: http://pandas.pydata.org/pandas-docs/stable/user_guide/indexing.html#returning-a-view-versus-a-copy\n",
      "  \n",
      "/opt/tljh/user/lib/python3.6/site-packages/ipykernel_launcher.py:9: SettingWithCopyWarning: \n",
      "A value is trying to be set on a copy of a slice from a DataFrame\n",
      "\n",
      "See the caveats in the documentation: http://pandas.pydata.org/pandas-docs/stable/user_guide/indexing.html#returning-a-view-versus-a-copy\n",
      "  if __name__ == '__main__':\n",
      "/opt/tljh/user/lib/python3.6/site-packages/ipykernel_launcher.py:12: SettingWithCopyWarning: \n",
      "A value is trying to be set on a copy of a slice from a DataFrame\n",
      "\n",
      "See the caveats in the documentation: http://pandas.pydata.org/pandas-docs/stable/user_guide/indexing.html#returning-a-view-versus-a-copy\n",
      "  if sys.path[0] == '':\n",
      "/opt/tljh/user/lib/python3.6/site-packages/ipykernel_launcher.py:15: SettingWithCopyWarning: \n",
      "A value is trying to be set on a copy of a slice from a DataFrame\n",
      "\n",
      "See the caveats in the documentation: http://pandas.pydata.org/pandas-docs/stable/user_guide/indexing.html#returning-a-view-versus-a-copy\n",
      "  from ipykernel import kernelapp as app\n",
      "/opt/tljh/user/lib/python3.6/site-packages/ipykernel_launcher.py:18: SettingWithCopyWarning: \n",
      "A value is trying to be set on a copy of a slice from a DataFrame\n",
      "\n",
      "See the caveats in the documentation: http://pandas.pydata.org/pandas-docs/stable/user_guide/indexing.html#returning-a-view-versus-a-copy\n",
      "/opt/tljh/user/lib/python3.6/site-packages/ipykernel_launcher.py:21: SettingWithCopyWarning: \n",
      "A value is trying to be set on a copy of a slice from a DataFrame\n",
      "\n",
      "See the caveats in the documentation: http://pandas.pydata.org/pandas-docs/stable/user_guide/indexing.html#returning-a-view-versus-a-copy\n",
      "/opt/tljh/user/lib/python3.6/site-packages/ipykernel_launcher.py:24: SettingWithCopyWarning: \n",
      "A value is trying to be set on a copy of a slice from a DataFrame\n",
      "\n",
      "See the caveats in the documentation: http://pandas.pydata.org/pandas-docs/stable/user_guide/indexing.html#returning-a-view-versus-a-copy\n",
      "/opt/tljh/user/lib/python3.6/site-packages/ipykernel_launcher.py:27: SettingWithCopyWarning: \n",
      "A value is trying to be set on a copy of a slice from a DataFrame\n",
      "\n",
      "See the caveats in the documentation: http://pandas.pydata.org/pandas-docs/stable/user_guide/indexing.html#returning-a-view-versus-a-copy\n",
      "/opt/tljh/user/lib/python3.6/site-packages/ipykernel_launcher.py:30: SettingWithCopyWarning: \n",
      "A value is trying to be set on a copy of a slice from a DataFrame\n",
      "\n",
      "See the caveats in the documentation: http://pandas.pydata.org/pandas-docs/stable/user_guide/indexing.html#returning-a-view-versus-a-copy\n",
      "/opt/tljh/user/lib/python3.6/site-packages/ipykernel_launcher.py:33: SettingWithCopyWarning: \n",
      "A value is trying to be set on a copy of a slice from a DataFrame\n",
      "\n",
      "See the caveats in the documentation: http://pandas.pydata.org/pandas-docs/stable/user_guide/indexing.html#returning-a-view-versus-a-copy\n"
     ]
    }
   ],
   "source": [
    "# Make a copy as we only wish to show not alter the data\n",
    "nunality = data.copy()\n",
    "\n",
    "# Subset the unknown data and convert it to nan numpy type\n",
    "vic_age_limit = nunality[\"Victim Age\"] > 99\n",
    "data[\"Victim Age\"][vic_age_limit] = np.nan\n",
    "\n",
    "perp_age_null = nunality['Perpetrator Age'] == 0 \n",
    "nunality[\"Perpetrator Age\"][perp_age_null] = np.nan\n",
    "\n",
    "vic_sex_null = nunality['Victim Sex'] == 'Unknown' \n",
    "nunality[\"Victim Sex\"][vic_sex_null] = np.nan\n",
    "\n",
    "vic_Race_null = nunality['Victim Race'] == 'Unknown' \n",
    "nunality[\"Victim Race\"][vic_Race_null] = np.nan\n",
    "\n",
    "vic_Ethnicity_null = nunality['Victim Ethnicity'] == 'Unknown' \n",
    "nunality[\"Victim Ethnicity\"][vic_Ethnicity_null] = np.nan\n",
    "\n",
    "perp_sex_null = nunality['Perpetrator Sex'] == 'Unknown' \n",
    "nunality[\"Perpetrator Sex\"][perp_sex_null] = np.nan\n",
    "\n",
    "perp_Race_null = nunality['Perpetrator Race'] == 'Unknown' \n",
    "nunality[\"Perpetrator Race\"][perp_Race_null] = np.nan\n",
    "\n",
    "perp_Ethnicity_null = nunality['Perpetrator Ethnicity'] == 'Unknown' \n",
    "nunality[\"Perpetrator Ethnicity\"][perp_Ethnicity_null] = np.nan\n",
    "\n",
    "relationship_null = nunality['Relationship'] == 'Unknown' \n",
    "nunality['Relationship'][relationship_null] = np.nan\n",
    "\n",
    "weapon_null = nunality['Weapon'] == 'Unknown' \n",
    "nunality['Weapon'][weapon_null] = np.nan"
   ]
  },
  {
   "cell_type": "code",
   "execution_count": null,
   "metadata": {},
   "outputs": [
    {
     "data": {
      "text/plain": [
       "<matplotlib.axes._subplots.AxesSubplot at 0x7f953d12ee10>"
      ]
     },
     "execution_count": 22,
     "metadata": {},
     "output_type": "execute_result"
    }
   ],
   "source": [
    "# plot the matrix for null values\n",
    "mno.matrix(nunality, figsize = (20, 6))"
   ]
  },
  {
   "cell_type": "markdown",
   "metadata": {},
   "source": [
    "### Percentage of missing data\n",
    "Display how much data is missing as a percentage"
   ]
  },
  {
   "cell_type": "code",
   "execution_count": null,
   "metadata": {},
   "outputs": [],
   "source": [
    "nunality_check = nunality.isna().sum()\n",
    "nunality_pct = nunality_check/len(nunality)\n",
    "nunality_pct_times = nunality_pct * 100\n",
    "nunality_pct_times"
   ]
  },
  {
   "cell_type": "markdown",
   "metadata": {},
   "source": [
    "## Findings & Assumptions\n",
    "\n",
    "1. Most of the data types are object\n",
    "2. We saw that most uknown or zero values correspond to unsolved crimes \n",
    "3. Most unknown values correspond to the perpetrator, ethnicity for both, perpetrator and victim count and relationship features \n",
    "    - For the perpetrator it makes sense becasue if you do not know who is the criminal you cannot describe him/her\n",
    "4. FBI left more than 50% of ethnicity information blank \n",
    "5. Perpetrator age column contains very young ages (i.e. 1,2,3...)\n",
    "    - The youngest person convicted of a murder was 6 years old\n",
    "6. Victim age does not contain many 0 values \n",
    "    - it is possible for a victim to be an infant \n",
    "6. The maximum victim age is 998 (many same values)"
   ]
  },
  {
   "cell_type": "markdown",
   "metadata": {},
   "source": [
    "## Going Forward - Data Cleaning\n",
    "\n",
    "1. Visualize the amount of missing values with percentage and a chart \n",
    "2. Perpetrator age\n",
    "    - Replace spaces as 0 \n",
    "    - Drop all ages below 6 \n",
    "    - Convert the data type to integer\n",
    "    - Fill the missing values with regression as its information will be useful even though we are introducing an error\n",
    "        - age data is useful and it is worth the trade off sometimes (i.e. famous titanic dataset)\n",
    "3. Victim Age\n",
    "    - Drop the 998 age value\n",
    "4. Perpetrator and Victim Count \n",
    "    - Fill the missing values with regression\n",
    "4. Ethnicity\n",
    "    - Drop both ethnicity columns (too many missing data and we did not find it useful)\n",
    "5. Other unknown values\n",
    "    - We decided not to drop or impute other unknown values and treat them as a seperate category as it would be a tiring\n",
    "    process because they are an object data type. \n",
    "    - However, if you so wish you can use mode or encode and fill the data. "
   ]
  },
  {
   "cell_type": "markdown",
   "metadata": {},
   "source": [
    "# 2. Data Cleaning\n",
    "    - To goal here is to clean and prepare the data per the findings and assumptions we made above"
   ]
  },
  {
   "cell_type": "markdown",
   "metadata": {},
   "source": [
    "Replace all the blanks with 0 values and convert strings into integers. We want all missing data for ages to be 0 so, we can convert them to NaN dtype. Then we can simply fill the missing data with the method of our choosing. "
   ]
  },
  {
   "cell_type": "code",
   "execution_count": null,
   "metadata": {},
   "outputs": [],
   "source": [
    "# make a copy of the original data to keep it safe\n",
    "data2 = data.copy()\n",
    "\n",
    "# replace blank strings with zeros\n",
    "data2['Perpetrator Age'] = data2['Perpetrator Age'].replace(\" \", 0)\n",
    "\n",
    "# convert to integers\n",
    "data2['Perpetrator Age'] = data2['Perpetrator Age'].astype(str).astype(int)\n",
    "\n",
    "# See if the spaces are gone and that if strings became integers\n",
    "data2['Perpetrator Age'].unique()"
   ]
  },
  {
   "cell_type": "markdown",
   "metadata": {},
   "source": [
    "Subset the data for all the perpetrator ages below zero and convert them to NaN dtype. Age 6 was picked because the youngest homicide perpetrator in history was 6 years old."
   ]
  },
  {
   "cell_type": "code",
   "execution_count": null,
   "metadata": {},
   "outputs": [],
   "source": [
    "# replacing perpetrators under the age 6 with NAN\n",
    "\n",
    "# search for ages below 6\n",
    "# This returns True/False\n",
    "under_6 = data2[\"Perpetrator Age\"] < 6\n",
    "\n",
    "# replace them with nan values for that column\n",
    "data2[\"Perpetrator Age\"][under_6] = np.nan"
   ]
  },
  {
   "cell_type": "markdown",
   "metadata": {},
   "source": [
    "Remove the error values from victim age. To our knowledge nobody could be that old."
   ]
  },
  {
   "cell_type": "code",
   "execution_count": null,
   "metadata": {},
   "outputs": [],
   "source": [
    "# subset the age 998\n",
    "vic_age_limit = data2[\"Victim Age\"] == 998\n",
    "\n",
    "# replace them with nan values for that column\n",
    "data2[\"Victim Age\"][vic_age_limit] = np.nan"
   ]
  },
  {
   "cell_type": "markdown",
   "metadata": {},
   "source": [
    "## Interpolate missing values (Victim, Perpetrator age)\n",
    "    - Interpolate method makes a mean between the values before the missing data and the value after\n",
    "    - Linear parameter is set as default to interpolate the missing values"
   ]
  },
  {
   "cell_type": "code",
   "execution_count": null,
   "metadata": {},
   "outputs": [],
   "source": [
    "# interapolate missing data\n",
    "data2 = data2.interpolate()\n",
    "\n",
    "# display first 5 rows\n",
    "data2.head()"
   ]
  },
  {
   "cell_type": "markdown",
   "metadata": {},
   "source": [
    "Before we converted subsets to numpy NaN. This transformed the data series into a data type float. Now, we have to convert the age values back into integers. "
   ]
  },
  {
   "cell_type": "code",
   "execution_count": null,
   "metadata": {},
   "outputs": [],
   "source": [
    "# Convert the column type to integers\n",
    "data2['Perpetrator Age'] = data2['Perpetrator Age'].astype(int)\n",
    "data2['Victim Age'] = data2['Victim Age'].astype(int)\n",
    "\n",
    "# Check if the data is converted \n",
    "data2.info()"
   ]
  },
  {
   "cell_type": "markdown",
   "metadata": {},
   "source": [
    "## Perpetrator & Victim count - fill missing values\n",
    "    - Victim and perpetrator count 0 values correlate with crimes that were unsolved. \n",
    "    - Hence, we regard these 0 zero values as unknown values as before. \n",
    "    - Here we will subset the zero values and convert them to numpy NaN\n",
    "    - Calculate the mean that now does not include 0, and use it to fill the NaN values\n",
    "    - .fillna() method is very useful for that \n",
    "        - There are other methods to choose how to fill the NaN values such as backward, forward fill etc. "
   ]
  },
  {
   "cell_type": "code",
   "execution_count": null,
   "metadata": {},
   "outputs": [],
   "source": [
    "# subset the age 998\n",
    "pepr_count = data2[\"Perpetrator Count\"] == 0\n",
    "\n",
    "# replace them with nan values for that column\n",
    "data2[\"Perpetrator Count\"][pepr_count] = np.nan\n",
    "\n",
    "# subset the age 998\n",
    "vic_count = data2[\"Victim Count\"] == 0\n",
    "\n",
    "# replace them with nan values for that column\n",
    "data2[\"Victim Count\"][vic_count] = np.nan\n",
    "\n",
    "# Mean of perpetrator and victim count\n",
    "# Its 1 for both\n",
    "perp_mean = data2[\"Perpetrator Count\"].mean()\n",
    "vic_mean = data2[\"Victim Count\"].mean()\n",
    "\n",
    "# Fill missing values with the mean\n",
    "data2[\"Perpetrator Count\"] = data2[\"Perpetrator Count\"].fillna(perp_mean).round()\n",
    "data2[\"Victim Count\"] = data2[\"Victim Count\"].fillna(vic_mean).round()\n",
    "\n",
    "# Convert from float to integer\n",
    "data2[\"Perpetrator Count\"] = data2[\"Perpetrator Count\"].astype(int)\n",
    "data2[\"Victim Count\"] = data2[\"Victim Count\"].astype(int)\n",
    "\n",
    "data2.info()"
   ]
  },
  {
   "cell_type": "markdown",
   "metadata": {},
   "source": [
    "### Drop Ethnicity Columns\n",
    "    - Why? The ethnicity data is categorical and more than 60% of the data is missing \n",
    "    - Moreover, during our analysis we did not find it particulary useful as it only has 2 data point options \n",
    "        (hispanic, not hispanic)\n",
    "    - Instead, perpetrator and victim race columns provide much more data and will be used for profiling. "
   ]
  },
  {
   "cell_type": "code",
   "execution_count": null,
   "metadata": {},
   "outputs": [],
   "source": [
    "# Drop the ethnicity column due to too many missing values\n",
    "data2 = data2.drop(columns=['Perpetrator Ethnicity', 'Victim Ethnicity'])\n",
    "\n",
    "# check if columns are removed\n",
    "data2.columns"
   ]
  },
  {
   "cell_type": "markdown",
   "metadata": {},
   "source": [
    "### Convert Object to Category dtype\n",
    "    - While it is not neccessary the object data types will be converted into category datatype\n",
    "    - Why? It is faster to filter through categorical data"
   ]
  },
  {
   "cell_type": "code",
   "execution_count": null,
   "metadata": {},
   "outputs": [],
   "source": [
    "# Shorthand explanation: x /= 3, equivalent to x = x / 3\n",
    "# select only the object data types\n",
    "# use the apply function to convert them to a category type\n",
    "data2.loc[:, data2.dtypes == 'object'] =\\\n",
    "    data2.select_dtypes(['object'])\\\n",
    "    .apply(lambda x: x.astype('category'))\n",
    "\n",
    "data2.info()"
   ]
  },
  {
   "cell_type": "markdown",
   "metadata": {},
   "source": [
    "# 3. Descriptive analysis and Visualization\n",
    "Now the data is clean and prepared to answer the question. Here there are questions from before that we will tackle:\n",
    "        1. Time series for homicede incidences \n",
    "            - Has the homocide rates decrease from 1980-2014?\n",
    "            - What events caused homicide rates to increase?\n",
    "            - What states have the highest and lowest number of incidences from 1980-2014?\n",
    "            - What states had the highest and lowest murder rate in 2014?\n",
    "        2. Age distribution\n",
    "            - What age group is the most predominent for perpetrators and victims?\n",
    "            - Has the age distribution change over the years?\n",
    "            - What ages encompass the most perpetrators? \n",
    "        3. Race and sex \n",
    "            - Perpetrator and victim sex distribution for each race?\n",
    "            - What is the age group distribution for each race?\n",
    "            - What perpetrator and victim race has the highest homicide incidences?\n",
    "        4. Relationship\n",
    "            - What relationship result in most murders from 1980-2014?\n",
    "            - What victim relationship result in most murders from 1980-2014?\n",
    "            - What relationship group has the most homicides?\n",
    "        5. Weapon\n",
    "            - What weapons are most and least commonly used for murder over the time period?\n",
    "        6. Perpetrator and Victim Count\n",
    "            - Are there more perpetrators than victims?\n",
    "        7. Correlation\n",
    "            - How is the homicide data correlated?\n",
    "        8. Decision Tree\n",
    "            - Can we predict whether the crime will be solved or unsolved for victims?\n",
    "        9. How to reduce the crime rate in Hartford, CT?\n",
    "            - Police and education arguments "
   ]
  },
  {
   "cell_type": "markdown",
   "metadata": {},
   "source": [
    "### 1. Time series for homicide incidences\n",
    "\n",
    "**Has the homocide rate decreased from 1980-2014?**<br>\n",
    "Yes, quite significantly. \n",
    "\n",
    "**What events caused homicide rates to increase?**\n",
    "In 1985 the market for crack cocaine grew rapidly. \"A number of authors have highlighted the extreme patterns in violence that strongly suggest an important role for crack... for instance, presents homicide rates by age and race for the period 1976–2000.\" The research classify over 25 percent of these homicides as crack-related. Almost all of these homicides involved crack distribution, rather than homicides induced by the psychopharmo- logical effects of crack or the need of drug users to obtain money.\n",
    "\n",
    "In addition, crime did peak during periods of financial crisis, according to the UNODC report Monitoring the Impact of Economic Crisis on Crime. Data recorded by police in 15 countries on the incidence of robbery, homicide and car theft a link between economic factors and crime could be clearly established in 8 of 11 countries. However, \"a consistent relationship between specific crimes and specific economic factors could not be established... The evidence shows that crime is linked to the economic climate.\"\n",
    "\n",
    "Source: https://www.unodc.org/unodc/en/frontpage/2012/February/economic-crises-can-trigger-rise-in-crime.html\n",
    "\n",
    "**What events caused homicide rates to decrease?**<br>\n",
    "The rates sharply fell in the 1990's due to:\n",
    "\n",
    "1. **Increased number of police officers**\n",
    "    - Before the increase the elasticities of crime with respect to the number of police was approximately 􏰁- 0.30\n",
    "    - The number of police officers increased by 50,000–60,000 officers, or roughly 14 percent, in the 1990s\n",
    "    - increase in police between 1991 and 2001 can account for a crime reduction of 5–6 percent across the board. \n",
    "    - The increase in police can thus explain somewhere between one-fifth and one-tenth of the overall decline in crime.\n",
    "2. **The rising prison population**\n",
    "    - By 2000, more than two million individuals were incarcerated at any point in time, roughly four times the number locked up in 1972. \n",
    "    - Of that prison population growth, more than half took place in the 1990s. \n",
    "    - The increase in prisoners can be attributed to a number of factors:\n",
    "        - the sharp rise in incarceration for drug-related offenses\n",
    "        - increased parole revocation \n",
    "        - longer sentences for those convicted of crimes\n",
    "        - increased punishment for lower crimes\n",
    "     - The threat of punishment became a larger deterent of crime. The increase in incarceration over the 1990s can account for a reduction in homicide crime of approximately 12 percent. \n",
    "3. **The receding crack epidemic**\n",
    "     - There is little to no studies that link the ebbing of the crack epidemic to falling crime. Although the research is limited, we nonetheless believe that crack has quite likely played an important role in the decline in homicide in the 1990s, at least for homicide. \n",
    "4. **Legalization of abortion**\n",
    "    - The importance of legalization of abortion to drop of crime rests on 2 premises:\n",
    "        - unwanted children are at greater risk for crime\n",
    "        - legalized abortion leads to a reduction in the number of unwanted births.\n",
    "    - With respect to the first premise, the negative impact of adverse home environments generally on eventual criminality, the evidence is quite clear (Loeber and Stouthamer-Loeber, 1986; Sampson and Laub, 1993).\n",
    "    \n",
    "Source: https://pubs.aeaweb.org/doi/pdf/10.1257/089533004773563485"
   ]
  },
  {
   "cell_type": "markdown",
   "metadata": {},
   "source": [
    "**Let's examine how we wrote the code.**<br>\n",
    "The seaborn lineplot marks the beginning of crack epidemic in 1980's until early 1990's (see text above). Moreover, the dot.com financial crisis (2000-2002) and the 2007-2009 financial crisis caused by the housing bubble. \n",
    "\n",
    "We used a groupby method that aggregated count of incidences to a given year. When groupby is perfomed the variable that is grouped by (year) is moved into an index column. To have access to the column names we reset the index. There is also a way where reset index is not required. Then we specify how big the lineplot is going to be with plt.figure and plot a seaborn chart specifying the data and what columns to use on the axis (x is categorical, y is numeric). The title is set by using .set_title() method for seaborn. Lastly, we use matplotlib axvspan to highligh the events on the plot. We specify the start and end, color, and alpha to adjust the transparency of the plot."
   ]
  },
  {
   "cell_type": "code",
   "execution_count": null,
   "metadata": {},
   "outputs": [],
   "source": [
    "# Group the count of incident by year \n",
    "# Reset index for plotting\n",
    "country_incidences = data2.groupby('Year')['Incident'].agg('count')\n",
    "country_incidences = country_incidences.reset_index()\n",
    "\n",
    "# Create a lineplot over for all the years of data\n",
    "plt.figure(figsize=(16, 6))\n",
    "sns.lineplot(data=country_incidences, x='Year',y='Incident').set_title(\"USA Homicide incidences from 1980-2014\")\n",
    "\n",
    "# mark the financial crises on the graph\n",
    "plt.axvspan(2000,2002,facecolor='g', alpha=0.5)\n",
    "plt.axvspan(2007,2009,facecolor='g', alpha=0.5)\n",
    "plt.axvspan(1985,1993,facecolor='g', alpha=0.5)"
   ]
  },
  {
   "cell_type": "markdown",
   "metadata": {},
   "source": [
    "**Percentage Change of Homicide Incidences** \n",
    "Here we calculated the percentage change of incidences from 1980-2014. As per above we see the biggest percentage increase in times of crack epidemic and its decrease in the end. Moreover, the increase of incidences at the start of the dot com financial crisis (end of 1990's). \n",
    "\n",
    "**Code:** \n",
    "We select two columns that we need to calculate the percentage change (year, incident). Then pct_change() method is used to calculate the percentage change and multiplied with a 100 to turn it into percentage format. The plot is then performed in the same manner per above."
   ]
  },
  {
   "cell_type": "code",
   "execution_count": null,
   "metadata": {},
   "outputs": [],
   "source": [
    "# subset the data we need for the plot (year and incident)\n",
    "pct_change = data2[['Year','Incident']]\n",
    "\n",
    "# Create a new column and apply the formula that calculates the pct change and multiply it to create a percentage\n",
    "pct_change[\"pct_change\"] = pct_change[\"Incident\"].pct_change()*100\n",
    "\n",
    "# plot and add the tittle \n",
    "plt.figure(figsize=(16, 6))\n",
    "sns.lineplot(x='Year',y='pct_change',data=pct_change).set_title(\"Percentage Change of USA Homicides during 1980-2014\")"
   ]
  },
  {
   "cell_type": "markdown",
   "metadata": {},
   "source": [
    "**What states have the highest number of incidences from 1980-2014?**"
   ]
  },
  {
   "cell_type": "code",
   "execution_count": null,
   "metadata": {},
   "outputs": [],
   "source": [
    "state_inc_years = data2.groupby('State')['Incident'].agg('count')\n",
    "state_inc_years = state_inc_years.reset_index().sort_values(\"Incident\", ascending = False)\n",
    "state_inc_years.head(10).plot(x='State',y='Incident',kind='bar',figsize=[16,8])\n",
    "plt.title(\"Top 20 States with the Highest Number of Homicide Incidences\")"
   ]
  },
  {
   "cell_type": "markdown",
   "metadata": {},
   "source": [
    "**What states have the lowest number of incidences from 1980-2014?**"
   ]
  },
  {
   "cell_type": "code",
   "execution_count": null,
   "metadata": {},
   "outputs": [],
   "source": [
    "state_inc_years.tail(10).plot(x='State',y='Incident',kind='bar',figsize=[16,8])"
   ]
  },
  {
   "cell_type": "markdown",
   "metadata": {},
   "source": [
    "**State Murder rate (per 100,000)**<br>\n",
    "To get the population in 2014 per state we have to read in one more file.<br>\n",
    "*Note: Data has to be downloaded to your envirionment for it to be read in.*<br>\n",
    "Source: https://www.census.gov/data/tables/time-series/demo/popest/2010s-state-total.html"
   ]
  },
  {
   "cell_type": "code",
   "execution_count": null,
   "metadata": {},
   "outputs": [],
   "source": [
    "# Read in the state population data for year 2014\n",
    "state_pop = pd.read_csv('statepop2014.csv')"
   ]
  },
  {
   "cell_type": "code",
   "execution_count": null,
   "metadata": {},
   "outputs": [],
   "source": [
    "# subset the count incident data by state and year (this is multi-index subsetting) and store it in a variable\n",
    "# reset the index --> get the columns out of index\n",
    "state_incidences = data2.groupby(['State','Year'])['Incident'].agg('count')\n",
    "state_incidences = state_incidences.reset_index()\n",
    "\n",
    "# subset the grouped by data only for the year 2014 and reset the index \n",
    "state_incidences_2014 = state_incidences[state_incidences['Year']==2014].reset_index().drop('index',axis=1)\n",
    "\n",
    "# add a population column to the 2014 state data subset that has the values of the csv file we read in \n",
    "# Create a murder per capita column and perform the calculation to get the per capita murder rate (per 100,000)\n",
    "state_incidences_2014['Population'] = state_pop['Population']\n",
    "state_incidences_2014['Murder Per Capita'] = ((state_incidences_2014['Incident']/state_incidences_2014['Population']\n",
    "                                              )*100000).round(2)\n",
    "# Display first 5 rows \n",
    "state_incidences_2014.head()"
   ]
  },
  {
   "cell_type": "markdown",
   "metadata": {},
   "source": [
    "**What states have the highest homicide rate in 2014?**<br>\n",
    "*District of Columbia* has the highest murder rate per capita of 17.21. However, these are the record low numbers in decades comparing it to year 1991 where the murder rate was 90.91 per capita. To compare it to other years please see:<br> https://www.macrotrends.net/states/district-of-columbia/murder-homicide-rate-statistics\n",
    "\n",
    "Although, from our analysis we see that many southern states are concentrated to the top. Crime has long been associated with poverty, and many of America's states with the lowest per capita income are in the South — including Mississippi, West Virginia, Arkansas, Alabama, and Kentucky. Moreover, the summer months have been linked to crime waves in America, as the balmy weather encourages young people to hit the streets. \n",
    "\n",
    "Source: https://www.businessinsider.com/south-has-more-violent-crime-fbi-statistics-show-2013-9"
   ]
  },
  {
   "cell_type": "code",
   "execution_count": null,
   "metadata": {},
   "outputs": [],
   "source": [
    "# sort the values from largest to smallest and plot the top 20 murder per capita rates\n",
    "state_incidences_2014_top10 = state_incidences_2014.sort_values('Murder Per Capita',ascending=False).head(20)\n",
    "state_incidences_2014_top10.plot(x='State',y='Murder Per Capita',kind='bar',figsize=[16,6])\n",
    "plt.title('20 States with the Highest Homicide Rate per Capita')"
   ]
  },
  {
   "cell_type": "markdown",
   "metadata": {},
   "source": [
    "**What states have the lowest homicide rate in 2014?**<br>\n",
    "The chart shows that Alabama has the lowest homicide rate which has to be an anomaly. The cdc reported 8.1 rate for 2014.\n",
    "See here: https://www.cdc.gov/nchs/pressroom/states/alabama/alabama.htm\n",
    "\n",
    "Hawaii has the historically lowest homicide rate of about 1.0 per 100,000. From the analysis North Eastern states have the lowest rates compared to other regions. "
   ]
  },
  {
   "cell_type": "code",
   "execution_count": null,
   "metadata": {},
   "outputs": [],
   "source": [
    "# sort the values from largest to smallest and plot the lowest 20 states per murder rate\n",
    "least_state_murders = state_incidences_2014.sort_values(by='Murder Per Capita').head(20)\n",
    "least_state_murders.plot(x='State',y='Murder Per Capita',kind='bar',figsize=[16,6])\n",
    "plt.title('20 States with the Lowest Homicide Rate per Capita')"
   ]
  },
  {
   "cell_type": "markdown",
   "metadata": {},
   "source": [
    "### 2. Data distribution\n",
    "Lets check how the numerical data is distributed. "
   ]
  },
  {
   "cell_type": "markdown",
   "metadata": {},
   "source": [
    "Constructing a multi-sublots with seaborn allows us to view large amount of information all at once. Here is what we can see:\n",
    "    1. There is no particular pattern between the values when looking at the scatterplots \n",
    "    2. Perpetrator age data is skewed to the right indicating that many perpetrators are young\n",
    "    3. Victim age distribution looks almost normal and that victims are usually more older than perpetrators \n",
    "    4. The distribution of homocides over the years seems to decline. Most crimes happened in the 1980's.  "
   ]
  },
  {
   "cell_type": "code",
   "execution_count": null,
   "metadata": {},
   "outputs": [],
   "source": [
    "# set space for seaborn subplots\n",
    "sns.set()\n",
    "# Select the columns that have the numerical data \n",
    "\n",
    "cols = ['Perpetrator Age', 'Perpetrator Count', 'Victim Age', 'Victim Count', 'Incident', 'Year']\n",
    "\n",
    "# Create a pairplot for the selected columns from the clean dataset \n",
    "# adjust the hight of the plots\n",
    "sns.pairplot(data2[cols], height = 2.5)\n",
    "\n",
    "# show the plot\n",
    "plt.show();"
   ]
  },
  {
   "cell_type": "markdown",
   "metadata": {},
   "source": [
    "**Closer look at the distribution over the years**<br>\n",
    "We can clearly see the number of homicide incidences decreased over the years. From 1980 to 2014 incidences decreased by approximetely 7,000. That is about 30% decrease. Moreover, we can clearly see the effects of crack epidemic and its decrease in the late 1990's. There is a slight increase in homicide incidences during the periods of the financial crisis. "
   ]
  },
  {
   "cell_type": "code",
   "execution_count": null,
   "metadata": {},
   "outputs": [],
   "source": [
    "data2.groupby('Year')['Incident'].agg('count').plot(kind='bar',figsize=[16,6])"
   ]
  },
  {
   "cell_type": "markdown",
   "metadata": {},
   "source": [
    "**Distribution of homicide incidences for the months**<br>\n",
    "We confirm that most incidences happen in the warmer months, specifically July, and August both near 60,000 as everyone is outside. Moreover, December is 3rd place with approximetly 55,000 incidences over the past 35 years. We assume that is due to the holiday season. The least murders happen in February, November, and April. \n",
    "\n",
    "Source: https://www.nytimes.com/2009/06/19/nyregion/19murder.html?mtrref=www.google.com&gwh=B94888DCB6D671995B1212D1ADB75007&gwt=pay&assetType=REGIWALL"
   ]
  },
  {
   "cell_type": "code",
   "execution_count": null,
   "metadata": {},
   "outputs": [],
   "source": [
    "data2['Month'].value_counts().plot(kind='bar',figsize=[16,6])"
   ]
  },
  {
   "cell_type": "markdown",
   "metadata": {},
   "source": [
    "**What ages encompass the most perpetrators? (see charts below).**<br>\n",
    "Most of the perpetrators are 18 to about 35 years old. The average is 30 and 75% of the perpetrators are age 36 and younger. The oldest perpetrators are 99 years old. It is good to remember that the data for ages under 6 was filled. The data is skewed to the left. From this we can assume that the older you are the least likely it is that you will commit the murder. After the age of 60 there is almost no observations. Why is that? \n",
    "\n",
    "Our assumptions:\n",
    "- The availability of information on explosives on the Internet\n",
    "- The breakdown of the nuclear family (rising divorce rates etc.)\n",
    "- The natural tendency for teens to form groups and cliques\n",
    "- Healthy teen rebellion getting out of hand\n",
    "- Domestic violence\n",
    "\n",
    "These assumptions are based on the CDC report which you can access here:\n",
    "<https://www.cdc.gov/mmwr/volumes/68/wr/mm6803a1.htm>\n",
    "\n",
    "**What ages encompass the most victims?**<br>\n",
    "From the chart we see that infant homicide is high in the US. Homicide accounts for nearly 1 in 5 injury-related deaths among infants (under one year of age). Key risk factors associated with infant homicides include the circumstances surrounding the birth. Important maternal risk factors include an unmarried teenage mother or born into poverty. Studies suggest that male caretakers (fathers or mothers intimate partners), often acting impulsively, are the perpetrators of the majority of infant homicides. Studies have also indicated that a substantial but uncertain number of unreported homicides may occur among very young infants.\n",
    "\n",
    "Source: https://www.childtrends.org/wp-content/uploads/2016/03/indicator_1457608611.364.html\n",
    "\n",
    "Furthermore, victims are older than perpetrators. The **most frequent** victim age is 22 compared 20 for perpetrators, and 75% of the data is for the ages 46 and younger.\n",
    "\n",
    "**Code:** Distplot lets you quickly show a histogram with a line on it. It is a part of seaborn package we import it (used for graphing similar to matplotlib). "
   ]
  },
  {
   "cell_type": "code",
   "execution_count": null,
   "metadata": {},
   "outputs": [],
   "source": [
    "# select the data series to plot, color, and label\n",
    "# to create 2 plots in one plane simply create 2 displots \n",
    "# labels, title and legend are then added using plt (matplotlib)\n",
    "plt.subplots(figsize=(16, 8))\n",
    "sns.distplot( data2[\"Perpetrator Age\"] , color=\"skyblue\", label=\"Perpetrator Age\")\n",
    "sns.distplot( data2[\"Victim Age\"] , color=\"red\", label=\"Victim Age\")\n",
    "plt.title('Perpetrator and Victim Age Frequency per Incident - 1980-2014')\n",
    "plt.xlabel('Perpetrator and Victim Age')\n",
    "plt.ylabel('Incident Frequency')\n",
    "plt.legend()"
   ]
  },
  {
   "cell_type": "markdown",
   "metadata": {},
   "source": [
    "**Perpetrator and victim age mode**"
   ]
  },
  {
   "cell_type": "code",
   "execution_count": null,
   "metadata": {},
   "outputs": [],
   "source": [
    "data2['Perpetrator Age'].mode()"
   ]
  },
  {
   "cell_type": "code",
   "execution_count": null,
   "metadata": {},
   "outputs": [],
   "source": [
    "data2['Victim Age'].mode()"
   ]
  },
  {
   "cell_type": "markdown",
   "metadata": {},
   "source": [
    "We can apply **.describe()** to pandas series as well to look at the particular 'column' in a dataframe."
   ]
  },
  {
   "cell_type": "code",
   "execution_count": null,
   "metadata": {},
   "outputs": [],
   "source": [
    "data2['Perpetrator Age'].describe()"
   ]
  },
  {
   "cell_type": "code",
   "execution_count": null,
   "metadata": {},
   "outputs": [],
   "source": [
    "data2['Victim Age'].describe()"
   ]
  },
  {
   "cell_type": "markdown",
   "metadata": {},
   "source": [
    "**Pie chart - Perpetrator and Victim Age**<br>\n",
    "Basic matplotlib bar chart lets us see how are the different ages represented for perpetrators and victims. \n",
    "Most **perpetrator** data is represented in ages from 18-30 with 20 holding the highest percentage - 5%.\n",
    "For **victims** the ages are more evenly distributed between 2%-3.6%. We see that ages 20 and below hold less significance to the data."
   ]
  },
  {
   "cell_type": "code",
   "execution_count": null,
   "metadata": {},
   "outputs": [],
   "source": [
    "labels = data2['Perpetrator Age'].astype('category').cat.categories.tolist()\n",
    "counts = data2['Perpetrator Age'].value_counts()\n",
    "sizes = [counts[var_cat] for var_cat in labels]\n",
    "fig1, ax1 = plt.subplots()\n",
    "ax1.pie(sizes, labels=labels, autopct='%1.1f%%', shadow=True) #autopct is show the % on plot\n",
    "ax1.axis('equal')\n",
    "plt.show()"
   ]
  },
  {
   "cell_type": "code",
   "execution_count": null,
   "metadata": {},
   "outputs": [],
   "source": [
    "labels = data2['Victim Age'].astype('category').cat.categories.tolist()\n",
    "counts = data2['Victim Age'].value_counts()\n",
    "sizes = [counts[var_cat] for var_cat in labels]\n",
    "fig1, ax1 = plt.subplots()\n",
    "ax1.pie(sizes, labels=labels, autopct='%1.1f%%', shadow=True) #autopct is show the % on plot\n",
    "ax1.axis('equal')\n",
    "plt.show()"
   ]
  },
  {
   "cell_type": "markdown",
   "metadata": {},
   "source": [
    "**Has the age distribution change over the years?**<br>\n",
    "Let's check whether the perpetrator and victim ages has changed over the period of 2 decades.. We will compare the perpetrator and victim age data from 1980-1985 to 2009-2014. "
   ]
  },
  {
   "cell_type": "code",
   "execution_count": null,
   "metadata": {},
   "outputs": [],
   "source": [
    "# subset data for the 1980-1985 years\n",
    "eighties = data2[data2['Year']<=1985]\n",
    "\n",
    "# subset data for the 2009-2014 years \n",
    "modern = data2[data2[\"Year\"]>=2009] "
   ]
  },
  {
   "cell_type": "markdown",
   "metadata": {},
   "source": [
    "**Answer: Yes and No (see charts below)** <br>\n",
    "From the following charts below we can see that the perpetrators used to be a slightly older than it has been in the period from 2009-2014. \n",
    "\n",
    "**Perpetrator age**<br>\n",
    "For the eighties data subset the mode age is 25 and 75% data is for the ages 37 and younger. For the modern subset the mode age is 21 and 75% of the data is for the ages 38 and younger. The average for both is still 31. Thefore, the perpetrator has decreased signifivantly.\n",
    "\n",
    "**Victim age**<br>\n",
    "For the eighties data subset the mode age is also 25, while 75% of the data for the ages 43 and younger. For the modern subset the mode is 22 and 75% of the data if for the ages 44. From this we can see that the most frequent age of victims has decreased however, the whole distribution is older by 1 year. "
   ]
  },
  {
   "cell_type": "code",
   "execution_count": null,
   "metadata": {},
   "outputs": [],
   "source": [
    "sns.distplot( eighties[\"Perpetrator Age\"] , color=\"skyblue\", label=\"Perpetrator Age\")\n",
    "sns.distplot( eighties[\"Victim Age\"] , color=\"red\", label=\"Victim Age\")\n",
    "plt.title('Perpetrator and Victim Age Frequency per Incident - 1980-1985')\n",
    "plt.xlabel('Perpetrator and Victim Age')\n",
    "plt.ylabel('Incident Frequency')\n",
    "plt.legend()"
   ]
  },
  {
   "cell_type": "code",
   "execution_count": null,
   "metadata": {},
   "outputs": [],
   "source": [
    "mode_eighties = eighties[\"Perpetrator Age\"].mode()\n",
    "print(\"Most frequent perpetrator age for years 1980-1985: \",mode_eighties)"
   ]
  },
  {
   "cell_type": "code",
   "execution_count": null,
   "metadata": {},
   "outputs": [],
   "source": [
    "mode_eighties_perp = eighties[\"Victim Age\"].mode()\n",
    "print(\"Most frequent victim age for years 1980-1985: \",mode_eighties)"
   ]
  },
  {
   "cell_type": "markdown",
   "metadata": {},
   "source": [
    "Distribution of perpetrator age data for 1980-1985:"
   ]
  },
  {
   "cell_type": "code",
   "execution_count": null,
   "metadata": {},
   "outputs": [],
   "source": [
    "eighties[\"Perpetrator Age\"].describe()"
   ]
  },
  {
   "cell_type": "code",
   "execution_count": null,
   "metadata": {},
   "outputs": [],
   "source": [
    "eighties[\"Victim Age\"].describe()"
   ]
  },
  {
   "cell_type": "markdown",
   "metadata": {},
   "source": [
    "Distribution of perpetrator data for 1980-1985 in a distplot:"
   ]
  },
  {
   "cell_type": "code",
   "execution_count": null,
   "metadata": {},
   "outputs": [],
   "source": [
    "sns.distplot( modern[\"Perpetrator Age\"] , color=\"skyblue\", label=\"Perpetrator Age\")\n",
    "sns.distplot( modern[\"Victim Age\"] , color=\"red\", label=\"Victim Age\")\n",
    "plt.title('Perpetrator and Victim Age Frequency per Incident - 2009-2014')\n",
    "plt.xlabel('Perpetrator and Victim Age')\n",
    "plt.ylabel('Incident Frequency')\n",
    "plt.legend()"
   ]
  },
  {
   "cell_type": "markdown",
   "metadata": {},
   "source": [
    "Mode of perpetrator age data for 2009-2014:"
   ]
  },
  {
   "cell_type": "code",
   "execution_count": null,
   "metadata": {},
   "outputs": [],
   "source": [
    "modern[\"Perpetrator Age\"].mode()"
   ]
  },
  {
   "cell_type": "code",
   "execution_count": null,
   "metadata": {},
   "outputs": [],
   "source": [
    "modern[\"Victim Age\"].mode()"
   ]
  },
  {
   "cell_type": "markdown",
   "metadata": {},
   "source": [
    "Distribution of perpetrator age data for 2009-2014:"
   ]
  },
  {
   "cell_type": "code",
   "execution_count": null,
   "metadata": {},
   "outputs": [],
   "source": [
    "modern[\"Perpetrator Age\"].describe()"
   ]
  },
  {
   "cell_type": "code",
   "execution_count": null,
   "metadata": {},
   "outputs": [],
   "source": [
    "modern[\"Victim Age\"].describe()"
   ]
  },
  {
   "cell_type": "markdown",
   "metadata": {},
   "source": [
    "**Maping peprpetrator and victim ages into groups**<br>\n",
    "For the following we created a column transformation with a fucntion and applied it to perpetrator age that grouped it into 3 categories:\n",
    "    - Ages below 21 we marked as child\n",
    "    - Ages between 21 and 60 as adults\n",
    "    - Ages above 60 as elder\n",
    "From these we wanted to see what age group is most predominent for victims and perpetrators.\n",
    "We created a new copy of the data as we will only use this for transformation purposes. We created a new column name and give it data from Perpetrator age column. Then we used the apply function on the new column with the function we created."
   ]
  },
  {
   "cell_type": "code",
   "execution_count": null,
   "metadata": {},
   "outputs": [],
   "source": [
    "# create a function that will take 1 argument\n",
    "# if that value (argument) is smaller than 21 return child, if older than 60 return elder, otherwise its adult\n",
    "def age_group(x):\n",
    "    if x <21:\n",
    "        return 'child'\n",
    "    if x > 60:\n",
    "        return 'elder'\n",
    "    else:\n",
    "        return 'adult'\n",
    "\n",
    "# Create a copy as we will only use this column for these charts\n",
    "data3 = data2.copy()\n",
    "# Create a new column (series) that will have the same data as perpetrator and victim age\n",
    "data3['Perpetrator_Age_Group'] = data3['Perpetrator Age']\n",
    "data3['Victim_Age_Group'] = data3['Victim Age']\n",
    "# apply the function above to the new series \n",
    "data3['Perpetrator_Age_Group'] = data3['Perpetrator_Age_Group'].apply(age_group)\n",
    "data3['Victim_Age_Group'] = data3['Victim_Age_Group'].apply(age_group)\n",
    "# display first 3 rows\n",
    "data3.head(3)"
   ]
  },
  {
   "cell_type": "markdown",
   "metadata": {},
   "source": [
    "**What age group is the most predominent for perpetrators and victims?**<br>\n",
    "Value counts, counts the number of times the value occurs in the data. From this we see that adults represent the most data points for both perpetrators and victims. This is not suprising since the child group only has the ages 6-20. From the data we see that there are more victims that are elders compared to perpetrators. "
   ]
  },
  {
   "cell_type": "code",
   "execution_count": null,
   "metadata": {},
   "outputs": [],
   "source": [
    "# pick a data frame series, calculate the value counts and plot a bar chart\n",
    "data3['Perpetrator_Age_Group'].value_counts().plot(kind='bar', figsize=[16,6])\n",
    "# assign title and labels\n",
    "plt.title('Perpetrator Age Group Distribution')\n",
    "plt.xlabel('Age Group')\n",
    "plt.ylabel('Value Counts')"
   ]
  },
  {
   "cell_type": "code",
   "execution_count": null,
   "metadata": {},
   "outputs": [],
   "source": [
    "# pick a data frame series, calculate the value counts and plot a bar chart\n",
    "data3['Victim_Age_Group'].value_counts().plot(kind='bar',figsize=[16,6])\n",
    "# assign title and labels\n",
    "plt.title('Victim Age Group Distribution')\n",
    "plt.xlabel('Age Group')\n",
    "plt.ylabel('Value Counts')\n",
    "plt.show()"
   ]
  },
  {
   "cell_type": "markdown",
   "metadata": {},
   "source": [
    "# 3. Race and Sex\n",
    "**What perpetrator and victim race has the highest homicide incidences?**<br>\n",
    "*Perpetrator Race:* Frequency bar chart (catplot) tells us that most race data is unknown (most of the data is linked it to unsolved murders). For African-Americans perpetrator homocide incidences are the highest and comprise of approximetely 25% of the data. African-Americans represent 13% of the US population in 2018. While the experts still debate on the issue they agree on the following. \"Concentrated economic disadvantage, poverty, and unemployment have all been found to be predictors of homicide rates.\" For white perpetrators the percentage is 20% and for Asian/Pacific Islanders 12%.\n",
    "\n",
    "Quote Source: <https://www.epi.org/blog/racial-inequality-black-homicide-rate/>\n",
    "\n",
    "*Perpetrator Race:* 25% of all the victims African-Americans. There is less unknown values as if the crime is solved or not its easier to document. White homicide victims represent about 20% of the data. Native American/Alaska native race has the least perpetrators and victims. \n",
    "\n",
    "\n",
    "**Code:**<br>\n",
    "The following seaborn package catplot is displays categorical values on the x axis and numerical values on the y axis. The x and y names are used from the column names in your data source. Then you can choose the type of plot you want (i.e. bar, box...), specify the height with aspect, and use ci=None to remove the significance lines. Hue parameter can also be used to group the chossen x variables into more segments (see the charts below). \n",
    "For more information on catplots visit: <https://seaborn.pydata.org/generated/seaborn.catplot.html>"
   ]
  },
  {
   "cell_type": "code",
   "execution_count": null,
   "metadata": {},
   "outputs": [],
   "source": [
    "sns.catplot(x='Perpetrator Race',y='Incident',data=data2, kind='bar',aspect=3,ci=None)\n",
    "plt.title('Frequency of Incidences for Perpetrator Race 1980-2014')\n",
    "plt.xlabel('Race')\n",
    "sns.catplot(x='Victim Race',y='Incident',data=data2, kind='bar',aspect=3,ci=None)\n",
    "plt.title('Frequency of Incidences for Victim Race 1980-2014')\n",
    "plt.xlabel('Race')"
   ]
  },
  {
   "cell_type": "markdown",
   "metadata": {},
   "source": [
    "**What is the age group distribution for each race?**<br>\n",
    "*Perpetrators:* elders age group has the most unknown values for perpetrators (~40%). From which we assume that most unsolved crimes are caused by elders. Likewise, white race has the most elder perpetrators (~30%). Comparing that to the African-Americans most homicides are caused by child (~25%) and then adult (~23-24%) age group. \n",
    "\n",
    "*Victims:* Children of all races have the most unknown values which we elaborated when we discussed the infant homicide. Similarly, African-Americans have the highest child homicide rate, then adults, and lastly elders. For whites victims are more likely to be elders, adults and last children. Inequality plays an important role here.\n",
    "\n",
    "Source: https://www.americanprogress.org/issues/women/reports/2019/05/02/469186/eliminating-racial-disparities-maternal-infant-mortality/\n",
    "\n",
    "**Catplot:** shows frequencies (or optionally fractions or percents) of the categories of one, two or three categorical variables."
   ]
  },
  {
   "cell_type": "code",
   "execution_count": null,
   "metadata": {},
   "outputs": [],
   "source": [
    "sns.catplot(data=data3,x='Perpetrator Race',y='Incident',hue='Perpetrator_Age_Group',kind='bar',ci=None,aspect=3)\n",
    "plt.title('Perpetrator Race Distributed by Age Groups')\n",
    "sns.catplot(data=data3,x='Victim Race',y='Incident',hue='Victim_Age_Group',kind='bar',ci=None,aspect=3)\n",
    "plt.title('Victim Race Distributed by Age Groups')\n",
    "plt.show()"
   ]
  },
  {
   "cell_type": "markdown",
   "metadata": {},
   "source": [
    "**Perpetrator and victim sex distribution for each race?**<br>\n",
    "*Perpetrator:* White perpetrators have the most unknown values. Remember, we linked most unknown values to unsolved crimes. From that we could assume there would be much more white homicides perhaps more than for the African-American race. Perhaps, the race distribution would be different if we would know the race and age of the unsolved crimes. Whites have more male than female perpetrators for incident frequency (20 and 23 respectively). Similarly, African-Americans, 25 and 17 respectively. Native American/Alaska Native have the same frequency of 5. Lastly, Asian/Pacific Islanders are the only ones that have more female (12) than male perpetrators (11). \n",
    "\n",
    "*Victims:* The most striking figure is the amount of African-Americans incident frequency compared to perpetrators (females - 21, males 25, unknown - 31). For whites the incident frequency is comparable (males - 20, females 21, unknown - 10). "
   ]
  },
  {
   "cell_type": "code",
   "execution_count": null,
   "metadata": {},
   "outputs": [],
   "source": [
    "sns.catplot(x='Perpetrator Race',y='Incident',hue='Perpetrator Sex',data=data2, kind='bar',aspect=3,ci=None)\n",
    "plt.title('Average Incidences per Race and Sex 1980-2014')\n",
    "plt.xlabel('Race and Sex')\n",
    "sns.catplot(x='Victim Race',y='Incident',hue='Victim Sex',data=data2, kind='bar',aspect=3,ci=None)\n",
    "plt.title('Average Incidences per Race and Sex 1980-2014')\n",
    "plt.xlabel('Race and Sex')"
   ]
  },
  {
   "cell_type": "markdown",
   "metadata": {},
   "source": [
    "# 4. Relationship"
   ]
  },
  {
   "cell_type": "markdown",
   "metadata": {},
   "source": [
    "As there are many different relationship values we will group them together in 4 different categories: \n",
    "1. Unknown \n",
    "    - Contains relationships: Unknown\n",
    "2. Family (for close family members)\n",
    "    - Contains relationships: Wife, husband, brother, sister, step-daughter, step-son, son, mother, common-law-husband,\n",
    "        common-law-wife, step-father, step-momther, daughter, in-law, ex-husband, ex-wife\n",
    "3. Outer family\n",
    "    - Contains relationships: Stranger, girlfriend, ex-husband, ex-wife, boyfriend, boyfriend/girlfriend\n",
    "4. Not family\n",
    "    - Contains relationships: Neighbor, employee, employer, acquaintance, friend\n",
    "        \n",
    "From this we can already see that there are more values available for family and outer family members. "
   ]
  },
  {
   "cell_type": "code",
   "execution_count": null,
   "metadata": {},
   "outputs": [],
   "source": [
    "replace_map_relationship = {'Acquaintance': 'Not family', 'Unknown': 'Unknown', 'Wife': 'Family', \n",
    "                                'Stranger': 'Not family','Girlfriend': 'Outer family', 'Ex-Husband': 'Family', \n",
    "                                'Brother': 'Family' , 'Stepdaughter': 'Family' , 'Husband': 'Family',\n",
    "                                'Sister': 'Family','Friend': 'Outer family', 'Neighbor': 'Not family', \n",
    "                                'Father': 'Family','In-Law': 'Family', 'Son':'Family',\n",
    "       'Ex-Wife':'Family', 'Boyfriend':'Outer family', 'Mother':'Family', 'Common-Law Husband':'Family',\n",
    "       'Common-Law Wife':'Family', 'Stepfather':'Family', 'Stepson':'Family', 'Stepmother':'Family',\n",
    "       'Daughter':'Family', 'Boyfriend/Girlfriend':'Outer family', 'Employer':'Not family', 'Employee':'Not family'\n",
    "                                }\n",
    "\n",
    "data3['relationship_group'] = data['Relationship']\n",
    "data3['relationship_group'] = data3['relationship_group'].map(replace_map_relationship)"
   ]
  },
  {
   "cell_type": "markdown",
   "metadata": {},
   "source": [
    "**What relationship group has the most homicides?**<br>\n",
    "The highest frequency is for the unknown relationship at 38. For the known data family is the most common cause of murder at 16% frequency. Not family comes 3rd at 9%, then outer family at 9%. "
   ]
  },
  {
   "cell_type": "code",
   "execution_count": null,
   "metadata": {},
   "outputs": [],
   "source": [
    "sns.catplot(x='relationship_group',y='Incident',data=data3, kind='bar',aspect=3,ci=None)\n",
    "plt.title('Victims for Relationship Groups 1980-2014')\n",
    "plt.xlabel('Relationship Groups')"
   ]
  },
  {
   "cell_type": "markdown",
   "metadata": {},
   "source": [
    "# 5. Weapon"
   ]
  },
  {
   "cell_type": "markdown",
   "metadata": {},
   "source": [
    "**What relationship result in most murders from 1980-2014?**<br>\n",
    "Excluding unknown values, the most common victim relationship that results in murder is acquaintance with 126,018 incidences, then stranger with about 96,593 incidences and the 3rd most commom victim is wife at 23,187 incidences. "
   ]
  },
  {
   "cell_type": "code",
   "execution_count": null,
   "metadata": {},
   "outputs": [],
   "source": [
    "data3['Relationship'].value_counts().head(5)"
   ]
  },
  {
   "cell_type": "code",
   "execution_count": null,
   "metadata": {},
   "outputs": [],
   "source": [
    "data3['Relationship'].value_counts().head(20).plot(kind='bar',figsize=[16,6])\n",
    "plt.title('Victim Relationship During the 1980-2014 Period')\n",
    "plt.xlabel('Relationship')\n",
    "plt.ylabel('Value Counts')"
   ]
  },
  {
   "cell_type": "markdown",
   "metadata": {},
   "source": [
    "**What is the most common weapon used in homicides?**<br>\n",
    "Handgun is the most common weapon by far with, used in 317,484 incidences. Knife comes 2nd at 94,962, and 3rd blunt object at 67,337."
   ]
  },
  {
   "cell_type": "code",
   "execution_count": null,
   "metadata": {},
   "outputs": [],
   "source": [
    "# count the values of the weapon data frame series\n",
    "data2['Weapon'].value_counts()"
   ]
  },
  {
   "cell_type": "code",
   "execution_count": null,
   "metadata": {},
   "outputs": [],
   "source": [
    "# count the following subplot and specify the chart size\n",
    "count, ax = plt.subplots(figsize= (20,10))\n",
    "# create a countplot of that subplot\n",
    "ax = sns.countplot('Weapon', data=data2)\n",
    "ax.set_title('Weapons Used')\n",
    "ax.set_xlabel('Types of Weapons')\n",
    "ax.set_ylabel('Usage')\n",
    "\n",
    "plt.show()"
   ]
  },
  {
   "cell_type": "markdown",
   "metadata": {},
   "source": [
    "# 6. Perpetrator and Victim Count"
   ]
  },
  {
   "cell_type": "markdown",
   "metadata": {},
   "source": [
    "**Are there more perpetrators than victims?**<br>\n",
    "No, there are more victims than perpetrators. Perpetrators are more likely to perform a crime on their own. The value counts for 1 perpetrators is 613,583, for 2 is 15,777, and 6,531 for 3. Two victims are the most common in a homicide at 594,215 incidences, then 1 at 38,750, and 2,847 for 3 incidences. "
   ]
  },
  {
   "cell_type": "code",
   "execution_count": null,
   "metadata": {},
   "outputs": [],
   "source": [
    "data2['Perpetrator Count'].value_counts()"
   ]
  },
  {
   "cell_type": "code",
   "execution_count": null,
   "metadata": {},
   "outputs": [],
   "source": [
    "data2['Victim Count'].value_counts()"
   ]
  },
  {
   "cell_type": "markdown",
   "metadata": {},
   "source": [
    "# 7. Data Correlation"
   ]
  },
  {
   "cell_type": "markdown",
   "metadata": {},
   "source": [
    "**How is the homicide data correlated?**<br>\n",
    "The biggest correlation is with the year and record ID which does not mean anything. We see that the data is not strongly correlated. The best correlation is between perpetrator and between victim age (26.28%) and incident and year (12.41%)."
   ]
  },
  {
   "cell_type": "code",
   "execution_count": null,
   "metadata": {},
   "outputs": [],
   "source": [
    "# apply the correlation calculation to the data\n",
    "correlation = data2.corr()\n",
    "correlation"
   ]
  },
  {
   "cell_type": "code",
   "execution_count": null,
   "metadata": {},
   "outputs": [],
   "source": [
    "# Viziulize the correlation \n",
    "sns.heatmap(correlation,annot=True)"
   ]
  },
  {
   "cell_type": "markdown",
   "metadata": {},
   "source": [
    "# 8. Decision Tree"
   ]
  },
  {
   "cell_type": "markdown",
   "metadata": {},
   "source": [
    "# One-Hot encoding\n",
    "- The basic strategy is to convert each category value into a new column and assign a 1 or 0 (True/False) value to the column. This has the benefit of not weighting a value improperly."
   ]
  },
  {
   "cell_type": "code",
   "execution_count": null,
   "metadata": {},
   "outputs": [],
   "source": [
    "# create a copy of the clean data\n",
    "data2_onehot = data2.copy()\n",
    "# convert category value into an new column and assign it a value\n",
    "data2_onehot = pd.get_dummies(data2_onehot, columns=['Victim Sex','Victim Race','Relationship'], \n",
    "                              prefix = ['Victim Sex','Victim Race','Relationship'])\n",
    "\n",
    "print(data2_onehot.head())"
   ]
  },
  {
   "cell_type": "code",
   "execution_count": null,
   "metadata": {},
   "outputs": [],
   "source": [
    "# drop the columns we will not use in the decision tree\n",
    "dec_tree_cols = data2_onehot.drop(columns=['Record ID', 'Agency Code', 'Agency Name', 'Agency Type', 'City',\n",
    "       'State', 'Year', 'Month', 'Incident', 'Crime Type', 'Crime Solved',\n",
    "       'Perpetrator Sex', 'Perpetrator Age', 'Perpetrator Race',\n",
    "       'Weapon', 'Perpetrator Count', 'Record Source'])\n"
   ]
  },
  {
   "cell_type": "code",
   "execution_count": null,
   "metadata": {},
   "outputs": [],
   "source": [
    "# add a target label we want to predict from clean data to the end of the dataframe\n",
    "dec_tree_cols['Crime Solved'] = data2['Crime Solved']\n",
    "# Create a dictionary to replace crimes solved with 1 and not solved with 0 \n",
    "replace_map = {'Yes': 1,'No':0}\n",
    "# Use the dictionary on a crimes solved column\n",
    "dec_tree_cols = dec_tree_cols.replace({\"Crime Solved\": replace_map})\n",
    "# display first 5 rows\n",
    "dec_tree_cols.head()"
   ]
  },
  {
   "cell_type": "code",
   "execution_count": null,
   "metadata": {},
   "outputs": [],
   "source": [
    "# Overview of the columns in the data frame\n",
    "dec_tree_cols.columns"
   ]
  },
  {
   "cell_type": "markdown",
   "metadata": {},
   "source": [
    "## What is a decision tree?\n",
    "\n",
    "A **decision tree** is a graph that uses a branching method to illustrate every possible outcome of a decision.\n",
    "\n",
    "The **value** line in each box is telling us how many samples at that node fall into each category, in order. That's why, in each box, the numbers in value add up to the number shown in sample. For instance, in relationship unknown box, 133180,313737=446917 (number of samples). So this means if you reach this node, there were 133180 data points in category 1, and 313737 in category 2.\n",
    "\n",
    "**Gini index** or Gini impurity measures the degree or probability of a particular variable being wrongly classified when it is randomly chosen. \n",
    "\n",
    "Each element of the domain of the classification is called a **class**. A decision tree or a classification tree is a tree in which each internal (non-leaf) node is labeled with an input feature. The splitting is based on a set of splitting rules based on classification features."
   ]
  },
  {
   "cell_type": "code",
   "execution_count": null,
   "metadata": {},
   "outputs": [],
   "source": [
    "# Load libraries\n",
    "import pandas as pd\n",
    "from sklearn.tree import DecisionTreeClassifier, plot_tree # Import Decision Tree Classifier\n",
    "from sklearn.model_selection import train_test_split # Import train_test_split function\n",
    "from sklearn.metrics import accuracy_score, classification_report,roc_curve,roc_auc_score #Import scikit-learn metrics module for accuracy calculation"
   ]
  },
  {
   "cell_type": "code",
   "execution_count": null,
   "metadata": {},
   "outputs": [],
   "source": [
    "#split dataset in features and target variable\n",
    "feature_cols = ['Victim Age', 'Victim Count', 'Victim Sex_Female', 'Victim Sex_Male',\n",
    "       'Victim Sex_Unknown', 'Victim Race_Asian/Pacific Islander',\n",
    "       'Victim Race_Black', 'Victim Race_Native American/Alaska Native',\n",
    "       'Victim Race_Unknown', 'Victim Race_White', 'Relationship_Acquaintance',\n",
    "       'Relationship_Boyfriend', 'Relationship_Boyfriend/Girlfriend',\n",
    "       'Relationship_Brother', 'Relationship_Common-Law Husband',\n",
    "       'Relationship_Common-Law Wife', 'Relationship_Daughter',\n",
    "       'Relationship_Employee', 'Relationship_Employer',\n",
    "       'Relationship_Ex-Husband', 'Relationship_Ex-Wife',\n",
    "       'Relationship_Family', 'Relationship_Father', 'Relationship_Friend',\n",
    "       'Relationship_Girlfriend', 'Relationship_Husband',\n",
    "       'Relationship_In-Law', 'Relationship_Mother', 'Relationship_Neighbor',\n",
    "       'Relationship_Sister', 'Relationship_Son', 'Relationship_Stepdaughter',\n",
    "       'Relationship_Stepfather', 'Relationship_Stepmother',\n",
    "       'Relationship_Stepson', 'Relationship_Stranger', 'Relationship_Unknown',\n",
    "       'Relationship_Wife']\n",
    "X = dec_tree_cols[feature_cols] # Features\n",
    "y = dec_tree_cols['Crime Solved'] # Target variable"
   ]
  },
  {
   "cell_type": "code",
   "execution_count": null,
   "metadata": {},
   "outputs": [],
   "source": [
    "# Split dataset into training set and test set\n",
    "X_train, X_test, y_train, y_test = train_test_split(X, y, test_size=0.3, random_state=1) # 70% training and 30% test"
   ]
  },
  {
   "cell_type": "markdown",
   "metadata": {},
   "source": [
    "We had to adjust the size of the tree as it was innitially too complicated. So we specified the maximum depth and the maximum number of leaf nodes. The **maximum depth** of the tree. If None, then nodes are expanded until all leaves are pure or until all leaves contain less than min_samples_split samples. Grow a tree with **max_leaf_nodes** in best-first fashion. Best nodes are defined as relative reduction in impurity. If None then unlimited number of leaf nodes."
   ]
  },
  {
   "cell_type": "code",
   "execution_count": null,
   "metadata": {},
   "outputs": [],
   "source": [
    "# Create Decision Tree classifer object\n",
    "# adjust the model size\n",
    "clf = DecisionTreeClassifier(max_depth=10, max_leaf_nodes=10)\n",
    "# Train Decision Tree Classifer\n",
    "clf = clf.fit(X_train,y_train)\n",
    "\n",
    "#Predict the response for test dataset\n",
    "y_pred = clf.predict(X_test)"
   ]
  },
  {
   "cell_type": "markdown",
   "metadata": {},
   "source": [
    "The model accuracy is 83.38%. Great! But accuracy can be biased so we will create a confusion matrix."
   ]
  },
  {
   "cell_type": "code",
   "execution_count": null,
   "metadata": {},
   "outputs": [],
   "source": [
    "# Model Accuracy, how often is the classifier correct?\n",
    "print(\"Accuracy:\",accuracy_score(y_test, y_pred))"
   ]
  },
  {
   "cell_type": "markdown",
   "metadata": {},
   "source": [
    "### Results\n",
    "Based on the data the model can predict with 66% *accuracy* for when the crime will not be solved and 96% when it will be solved. \n",
    "\n",
    "*Recall* tells us, out of all the positive classes, how much we predicted correctly. It should be high as possible. For us the recall to predict whether the victim crime will not be solved is 93%, and 79% when it will be. \n",
    "\n",
    "*F-Score:* It is difficult to compare two models with low precision and high recall or vice versa. So to make them comparable, we use F-Score. F-score helps to measure Recall and Precision at the same time. It uses Harmonic Mean in place of Arithmetic Mean by punishing the extreme values more. For cases that will not be solved is 77% and those which will be is 87%. \n",
    "\n",
    "From these we can see that we have a solid model to predict whether the crime will be solved based on the victim data. "
   ]
  },
  {
   "cell_type": "code",
   "execution_count": null,
   "metadata": {},
   "outputs": [],
   "source": [
    "# print the classification report \n",
    "print(classification_report(y_test, y_pred))"
   ]
  },
  {
   "cell_type": "markdown",
   "metadata": {},
   "source": [
    "An ROC curve (receiver operating characteristic curve) is a graph showing the performance of a classification model at all classification thresholds. This curve plots two parameters:\n",
    "- True Positive Rate (trp)\n",
    "- False Positive Rate (fpr)\n",
    "\n",
    "An ROC curve plots TPR vs. FPR at different classification thresholds. Lowering the classification threshold classifies more items as positive, thus increasing both False Positives and True Positives.\n",
    "\n",
    "AUC stands for \"Area under the ROC Curve. That is, AUC measures the entire two-dimensional area underneath the entire ROC curve (think integral calculus) from (0,0) to (1,1)."
   ]
  },
  {
   "cell_type": "code",
   "execution_count": null,
   "metadata": {},
   "outputs": [],
   "source": [
    "fpr, tpr, thresholds = roc_curve(y_test, y_pred, pos_label=2)\n",
    "y_pred_proba = clf.predict_proba(X_test)[::,1]\n",
    "fpr, tpr, _ = roc_curve(y_test,  y_pred_proba)\n",
    "auc = roc_auc_score(y_test, y_pred_proba)\n",
    "plt.plot(fpr,tpr,label=\"data 1, auc=\"+str(auc))\n",
    "plt.legend(loc=4)\n",
    "plt.show()"
   ]
  },
  {
   "cell_type": "markdown",
   "metadata": {},
   "source": [
    "What is the value of the area under the roc curve (AUC) to conclude that a classifier is excellent? The AUC value lies between 0.5 to 1 where 0.5 denotes a bad classifer and 1 denotes an excellent classifier. \n",
    "\n",
    "Our classifier is quite good."
   ]
  },
  {
   "cell_type": "code",
   "execution_count": null,
   "metadata": {},
   "outputs": [],
   "source": [
    "print('False positive rate is: ',fpr)\n",
    "print('True positive rate is: ',tpr)\n",
    "print('Receiver operating characteristic curve is: ',auc)"
   ]
  },
  {
   "cell_type": "code",
   "execution_count": null,
   "metadata": {},
   "outputs": [],
   "source": []
  },
  {
   "cell_type": "markdown",
   "metadata": {},
   "source": [
    "Here we display the tree, but we need better graphics. So, we will need to use the model called graphviz that will let us display a nice chart. "
   ]
  },
  {
   "cell_type": "code",
   "execution_count": null,
   "metadata": {},
   "outputs": [],
   "source": [
    "# Display the tree \n",
    "plot_tree(clf)"
   ]
  },
  {
   "cell_type": "markdown",
   "metadata": {},
   "source": []
  },
  {
   "cell_type": "markdown",
   "metadata": {},
   "source": [
    "## What have we learned from our decision tree? \n",
    "**Question:** Based on the victim data can we predict whether the crime will be solved or not?\n",
    "\n",
    "Relationship unknown is the most important feature: when relationship unknown is 0 (<= 0.5 as a binary value) and relationship_stranger is 0, more than 90% of the cases are solved or 1. This can be interpreted as if the victim is in a relationship and the partner is not a stranger, the cases are mostly solved. Moreover, if the victim age is not below 6.5 most crimes will be solved. If the victim is above age 22.5 and victim is white more then 60% of the crimes we solved. Meaning, whites have most unsolved crimes. For this we would need to conduct more research to support this hypothesis. \n",
    "\n",
    "When relationship_unknown is bigger than <= 0.5 and victim age is victim_age is 0, more than 65% of cases will not be solved. This can be interpreted as if the victim is 0 the cases are mostly unsolved. "
   ]
  },
  {
   "cell_type": "markdown",
   "metadata": {},
   "source": [
    "**export_graphviz** function converts decision tree classifier into dot file and **pydotplus** convert this dot file to png or displayable form on Jupyter."
   ]
  },
  {
   "cell_type": "code",
   "execution_count": null,
   "metadata": {},
   "outputs": [],
   "source": [
    "import graphviz # lets us display the tree in jupiter\n",
    "from sklearn.tree import export_graphviz\n",
    "from sklearn.externals.six import StringIO  \n",
    "from IPython.display import Image  \n",
    "import pydotplus"
   ]
  },
  {
   "cell_type": "code",
   "execution_count": null,
   "metadata": {},
   "outputs": [],
   "source": [
    "# StringIO() --> Read and write strings as files\n",
    "# save it in a variable \n",
    "dot_data = StringIO()\n",
    "# write clf data into a file, out_file = use StringIO() function\n",
    "# filled = when true paint nodes to indicate majority class for classification, extremity of values for regression,\n",
    "    # or purity of node for multi-output \n",
    "# Rounded = When set to True, draw node boxes with rounded corners and use Helvetica fonts instead of Times-Roman\n",
    "# When set to True, do not ignore special characters for PostScript compatibility\n",
    "# feature_names = Names of each of the features (0 and 1 for us)\n",
    "export_graphviz(clf, out_file=dot_data,  \n",
    "                filled=True, rounded=True,\n",
    "                special_characters=True,feature_names = feature_cols,class_names=['0','1'])\n",
    "# convert file to png \n",
    "graph = pydotplus.graph_from_dot_data(dot_data.getvalue())  \n",
    "# specify the name of the png file\n",
    "graph.write_png('./crime_solved.png')\n",
    "# display the decision tree in jupiter \n",
    "Image(graph.create_png())"
   ]
  },
  {
   "cell_type": "code",
   "execution_count": null,
   "metadata": {},
   "outputs": [],
   "source": []
  },
  {
   "cell_type": "markdown",
   "metadata": {},
   "source": [
    "# 9. Reducing Crime in Hartford, CT\n",
    "## Is it by increasing funding of to the police or education?"
   ]
  },
  {
   "cell_type": "code",
   "execution_count": null,
   "metadata": {},
   "outputs": [],
   "source": []
  },
  {
   "cell_type": "markdown",
   "metadata": {},
   "source": [
    "# Argument for Education\n",
    "\n",
    "### According to the study, \"Saving Futures, Saving Dollars: The Impact of Education on Crime Reduction and Earnings\" by Alliance for Center of Education 2013\n",
    "\n",
    "The most recent research available from the Bureau of Justice Statistics indicates that 67 percent of inmates in America’s state prisons, 56 percent of federal inmates, and 69 percent of inmates in local jails did not complete high school.\n",
    "\n",
    "Increasing the number of students who graduate from high school and eventually complete a postsecondary degree would create significant benefits for individuals, communities, states, and the nation as a whole. The demonstrated benefits include increased lifetime earnings and tax revenues, increased purchases such as homes and cars, and lower unemployment rates.\n",
    "\n",
    "The benefits also relate to improvements in quality of life such as decreased crime and incarceration rates and improved health conditions and outcomes. The Alliance for Excellent Education (the Alliance) estimates that a 5 percentage point increase in the national high school graduation rate for male students alone would save the nation an overwhelming $19.7$\n",
    "billion annually. The nation’s fiscal priorities need to be reversed when it comes to education and crime. Consider that the national average for educating a student is $12,643$ per year while the annual state average cost to house an inmate is more than double that amount, at $28,323$. In 2007, the federal government spent nearly $37$ billion on justice-related expenditures while in the following year Title I grants to school districts from the Elementary and Secondary Education Act, the largest federal investment in K–12 education, amounted to $14$ billion."
   ]
  },
  {
   "cell_type": "code",
   "execution_count": null,
   "metadata": {},
   "outputs": [],
   "source": [
    "# Subset the data for Hartford\n",
    "hartford_subset = data2[data2['City'] == 'Hartford']"
   ]
  },
  {
   "cell_type": "markdown",
   "metadata": {},
   "source": [
    "## Perpetrator Age Distribution"
   ]
  },
  {
   "cell_type": "code",
   "execution_count": null,
   "metadata": {},
   "outputs": [],
   "source": [
    "hartford_subset.groupby('Month')['Incident'].agg('count').plot(kind='bar',figsize=[16,6])"
   ]
  },
  {
   "cell_type": "code",
   "execution_count": null,
   "metadata": {},
   "outputs": [],
   "source": [
    "plt.subplots(figsize=(16, 8))\n",
    "sns.distplot( data2[\"Perpetrator Age\"] , color=\"skyblue\", label=\"US Perpetrator Age\")\n",
    "sns.distplot( hartford_subset[\"Perpetrator Age\"] , color=\"red\", label=\"Hartford Perpetrator Age\")\n",
    "plt.title('US Perpetrator Age vs Hartford')\n",
    "plt.xlabel('Perpetrator and Victim Age')\n",
    "plt.ylabel('Incident Frequency')\n",
    "plt.legend()"
   ]
  },
  {
   "cell_type": "code",
   "execution_count": null,
   "metadata": {},
   "outputs": [],
   "source": [
    "# subset data for the 1980-1985 years\n",
    "eighties2 = hartford_subset[hartford_subset['Year']<=1985]\n",
    "\n",
    "# subset data for the 2009-2014 years \n",
    "modern2 = hartford_subset[hartford_subset[\"Year\"]>=2009] \n",
    "\n",
    "plt.subplots(figsize=(16, 8))\n",
    "sns.distplot( eighties2[\"Perpetrator Age\"] , color=\"skyblue\", label=\"Hartford Perpetrator Age\")\n",
    "sns.distplot( eighties2[\"Victim Age\"] , color=\"red\", label=\"Hartford Victim Age\")\n",
    "plt.title('Perpetrator and Victim Age, Hartford, CT, 1980-1985')\n",
    "plt.xlabel('Perpetrator and Victim Age')\n",
    "plt.ylabel('Incident Frequency')\n",
    "plt.legend()"
   ]
  },
  {
   "cell_type": "code",
   "execution_count": null,
   "metadata": {},
   "outputs": [],
   "source": [
    "mode_eighties2 = eighties2[\"Perpetrator Age\"].mode()\n",
    "print(\"Most frequent perpetrator age for years 1980-1985: \",mode_eighties2,'\\n')\n",
    "mode_eighties_perp2 = eighties2[\"Victim Age\"].mode()\n",
    "print(\"Most frequent victim age for years 1980-1985: \",mode_eighties_perp2,'\\n')\n",
    "print('Perpetrator age describe: ',eighties2[\"Perpetrator Age\"].describe(),'\\n')\n",
    "print('Perpetrator age describe: ',eighties2[\"Victim Age\"].describe())"
   ]
  },
  {
   "cell_type": "code",
   "execution_count": null,
   "metadata": {},
   "outputs": [],
   "source": [
    "plt.subplots(figsize=(16, 8))\n",
    "sns.distplot( modern2[\"Perpetrator Age\"] , color=\"skyblue\", label=\"Hartford Perpetrator Age\")\n",
    "sns.distplot( modern2[\"Victim Age\"] , color=\"red\", label=\"Hartford Victim Age\")\n",
    "plt.title('Perpetrator and Victim Age, Hartford, CT, 2009-2014')\n",
    "plt.xlabel('Perpetrator and Victim Age')\n",
    "plt.ylabel('Incident Frequency')\n",
    "plt.legend()"
   ]
  },
  {
   "cell_type": "code",
   "execution_count": null,
   "metadata": {},
   "outputs": [],
   "source": [
    "mode_modern2 = modern2[\"Perpetrator Age\"].mode()\n",
    "print(\"Most frequent perpetrator age for years 2009-2014: \",mode_modern2,'\\n')\n",
    "mode_modern_perp2 = modern2[\"Victim Age\"].mode()\n",
    "print(\"Most frequent victim age for years 2009-2014: \",mode_modern_perp2,'\\n')\n",
    "print('Perpetrator age describe: ',modern2[\"Perpetrator Age\"].describe(),'\\n')\n",
    "print('Victim age describe: ',modern2[\"Victim Age\"].describe())"
   ]
  },
  {
   "cell_type": "code",
   "execution_count": null,
   "metadata": {},
   "outputs": [],
   "source": [
    "hartford = hartford_subset.copy()\n",
    "\n",
    "replace_map_relationship2 = {'Acquaintance': 'Not family', 'Unknown': 'Unknown', 'Wife': 'Family', \n",
    "                                'Stranger': 'Not family','Girlfriend': 'Outer family', 'Ex-Husband': 'Family', \n",
    "                                'Brother': 'Family' , 'Stepdaughter': 'Family' , 'Husband': 'Family',\n",
    "                                'Sister': 'Family','Friend': 'Outer family', 'Neighbor': 'Not family', \n",
    "                                'Father': 'Family','In-Law': 'Family', 'Son':'Family',\n",
    "       'Ex-Wife':'Family', 'Boyfriend':'Outer family', 'Mother':'Family', 'Common-Law Husband':'Family',\n",
    "       'Common-Law Wife':'Family', 'Stepfather':'Family', 'Stepson':'Family', 'Stepmother':'Family',\n",
    "       'Daughter':'Family', 'Boyfriend/Girlfriend':'Outer family', 'Employer':'Not family', 'Employee':'Not family'\n",
    "                                }\n",
    "\n",
    "hartford['relationship_group'] = data2['Relationship']\n",
    "hartford['relationship_group'] = hartford['relationship_group'].map(replace_map_relationship2)\n",
    "\n",
    "sns.catplot(x='relationship_group',y='Incident',data=hartford, kind='bar',aspect=3,ci=None)\n",
    "plt.title('Victims for Relationship Groups 1980-2014')\n",
    "plt.xlabel('Relationship Groups')"
   ]
  },
  {
   "cell_type": "code",
   "execution_count": null,
   "metadata": {},
   "outputs": [],
   "source": [
    "hartford['Relationship'].value_counts().head(20).plot(kind='bar',figsize=[16,6])\n",
    "plt.title('Hartford Victim Relationship During the 1980-2014 Period')\n",
    "plt.xlabel('Relationship')\n",
    "plt.ylabel('Value Counts')"
   ]
  },
  {
   "cell_type": "code",
   "execution_count": null,
   "metadata": {},
   "outputs": [],
   "source": [
    "import numpy as np\n",
    "\n",
    "#finds perpetrator count of men and women \n",
    "hartford_subset_malevsfemale_p = hartford_subset.groupby('Perpetrator Sex')['Incident'].agg('count')\n",
    "hartford_subset_malevsfemale_p = hartford_subset_malevsfemale_p.reset_index().sort_values('Incident',ascending=False)\n",
    "hartford_subset_malevsfemale_v = hartford_subset.groupby('Victim Sex')['Incident'].agg('count')\n",
    "hartford_subset_malevsfemale_v = hartford_subset_malevsfemale_v.reset_index().sort_values('Incident',ascending=False)\n",
    "\n",
    "plt.subplots(figsize=(16, 8))\n",
    "N = 3\n",
    "perp_sex = hartford_subset_malevsfemale_p['Incident']\n",
    "women_sex = hartford_subset_malevsfemale_v['Incident']\n",
    "\n",
    "ind = np.arange(N) \n",
    "width = 0.35       \n",
    "plt.bar(ind, perp_sex, width, label='Perpetrator Sex')\n",
    "plt.bar(ind + width, women_sex, width,\n",
    "    label='Victim Sex')\n",
    "\n",
    "plt.ylabel('Incident')\n",
    "plt.title('Hartford, CT Incidences by Gender from 1980-2014')\n",
    "\n",
    "plt.xticks(ind + width / 2, ('Female', 'Male', 'Unknown'))\n",
    "plt.legend(loc='best')\n",
    "plt.show()"
   ]
  },
  {
   "cell_type": "markdown",
   "metadata": {},
   "source": [
    "# Argument for Police Budget Increase\n",
    "Our use of the funds will help deter crime in the quickest way possible- by adding much needed officers to patrol our city. There are studies by the nonprofit RAND Corporation that shows adding more officers into a city prevents crime by over 5%. That might not seem like much, but those are real results you can see very soon after funding. We want our citizens to feel safe in their homes and feel comforted that they can call on us at anytime without delay.  \n",
    "\n",
    "However, our use of the funding will not just be used for increased police presence, half of the money will be used to fund a new program at Hartford County Prison to offer prisoners a chance to receive a college degree. 95% of criminals convicted of violent crimes, including homicide, will be released. The program offers inmates the chance to take college-level classes and eventually earn a full bachelor's degree from one of our state schools.   This type of program has been used successfully by Bedford Hills Prison in New York and has shown to lower recidivism rates by close to 95%. If an inmate just takes 1 college class their chance of returning is drastically reduced. A IHEP (Institute of Higher Education Policy)  report cites yet higher numbers, reporting that recidivism rates for incarcerated people who had participated in prison education programs were on average 46 percent lower than the rates of incarcerated people who had not taken college classes.\n",
    "\n",
    "- We want to take a 2-step approach to reduce crime:\n",
    "\n",
    "Deter crime by adding more police patrols in the community. These officers will work with community leaders to build trust in the department by offering regular community meetings and events.\n",
    "Begin a new college-level program within Hartford County Prison where prisoners can earn a valuable degree so they can gain meaningful employment after release. \n",
    "\n",
    "We firmly believe this approach will help lower violent crimes now and in the future. The evidence of success for this approach is clear and we trust you will make the right decision by providing our department with the funding. \n"
   ]
  },
  {
   "cell_type": "code",
   "execution_count": null,
   "metadata": {},
   "outputs": [],
   "source": [
    "# Group the count of incident by year \n",
    "# Reset index for plotting\n",
    "hartford_incidences = hartford_subset.groupby('Year')['Incident'].agg('count')\n",
    "hartford_incidences = hartford_incidences.reset_index()\n",
    "\n",
    "# Create a lineplot over for all the years of data\n",
    "plt.figure(figsize=(16, 6))\n",
    "sns.lineplot(data=hartford_incidences, x='Year',y='Incident').set_title(\"Hartford Homicide Incidences from 1980-2014\")\n",
    "\n",
    "# mark the financial crises on the graph\n",
    "plt.axvspan(2000,2002,facecolor='g', alpha=0.5)\n",
    "plt.axvspan(2007,2009,facecolor='g', alpha=0.5)\n",
    "plt.axvspan(1985,1993,facecolor='g', alpha=0.5)"
   ]
  },
  {
   "cell_type": "code",
   "execution_count": null,
   "metadata": {},
   "outputs": [],
   "source": [
    "hartford_subset.groupby('Year')['Incident'].agg('count').plot(kind='bar',figsize=[16,6])\n",
    "plt.title('Count of Incidences in Hartford from 1980-2014')\n",
    "plt.ylabel('Incident Count')"
   ]
  },
  {
   "cell_type": "code",
   "execution_count": null,
   "metadata": {},
   "outputs": [],
   "source": [
    "hartford_subset['Crime Solved'].value_counts().plot(kind='bar',figsize=[16,6])\n",
    "plt.title('Count of Crime Solved from 1980-2014')\n",
    "plt.xlabel('Crime Solved')\n",
    "plt.ylabel('Count')"
   ]
  },
  {
   "cell_type": "code",
   "execution_count": null,
   "metadata": {},
   "outputs": [],
   "source": [
    "replace_map_weapon2 = {'Blunt Object': 'Object', 'Unknown': 'Unknown', 'Strangulation': 'Manual', \n",
    "                                'Rifle': 'Firearm','Knife': 'Object', 'Firearm': 'Firearm', \n",
    "                                'Shotgun': 'Firearm' , 'Fall': 'Manual' , 'Handgun': 'Firearm',\n",
    "                                'Drowning':'Manual','Suffocation':'Manual','Explosives':'Object',\n",
    "                                'Fire':'Object','Drugs':'Object','Gun':'Firearm','Poison':'Object'}\n",
    "\n",
    "hartford_subset['weapon_group'] = data2['Weapon']\n",
    "hartford_subset['weapon_group'] = hartford_subset['weapon_group'].map(replace_map_weapon2)\n",
    "\n",
    "# count the following subplot and specify the chart size\n",
    "count, ax = plt.subplots(figsize= (20,10))\n",
    "# create a countplot of that subplot\n",
    "ax = sns.countplot('weapon_group', data=hartford_subset)\n",
    "ax.set_title('Weapons Used')\n",
    "ax.set_xlabel('Types of Weapons')\n",
    "ax.set_ylabel('Usage')\n",
    "\n",
    "plt.show()"
   ]
  }
 ],
 "metadata": {
  "kernelspec": {
   "display_name": "Python 3",
   "language": "python",
   "name": "python3"
  },
  "language_info": {
   "codemirror_mode": {
    "name": "ipython",
    "version": 3
   },
   "file_extension": ".py",
   "mimetype": "text/x-python",
   "name": "python",
   "nbconvert_exporter": "python",
   "pygments_lexer": "ipython3",
   "version": "3.6.7"
  }
 },
 "nbformat": 4,
 "nbformat_minor": 2
}
