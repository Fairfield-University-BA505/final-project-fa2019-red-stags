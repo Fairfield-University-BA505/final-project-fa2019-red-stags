{
 "cells": [
  {
   "cell_type": "code",
   "execution_count": 8,
   "metadata": {},
   "outputs": [
    {
     "ename": "SyntaxError",
     "evalue": "invalid syntax (<ipython-input-8-c2a44baa112a>, line 1)",
     "output_type": "error",
     "traceback": [
      "\u001b[0;36m  File \u001b[0;32m\"<ipython-input-8-c2a44baa112a>\"\u001b[0;36m, line \u001b[0;32m1\u001b[0m\n\u001b[0;31m    Objectives:\u001b[0m\n\u001b[0m               ^\u001b[0m\n\u001b[0;31mSyntaxError\u001b[0m\u001b[0;31m:\u001b[0m invalid syntax\n"
     ]
    }
   ],
   "source": [
    "Objectives:\n",
    "    - Find out the characteristics of a murderer or a victim\n",
    "        - Murderer: mental history, history of abuse/trauma, income, relationship status, drug use, age, sex, state, race etc for both, past records... YEAR!!!!!\n",
    "    - The chances you could be one of those depending on a state or all? (check box lets say you puched someone your prob. goes up)\n",
    "        - we could run some model like machine learning for classification "
   ]
  },
  {
   "cell_type": "code",
   "execution_count": 9,
   "metadata": {},
   "outputs": [
    {
     "ename": "SyntaxError",
     "evalue": "invalid syntax (<ipython-input-9-01109cec80a7>, line 1)",
     "output_type": "error",
     "traceback": [
      "\u001b[0;36m  File \u001b[0;32m\"<ipython-input-9-01109cec80a7>\"\u001b[0;36m, line \u001b[0;32m1\u001b[0m\n\u001b[0;31m    Mini objectives:\u001b[0m\n\u001b[0m                  ^\u001b[0m\n\u001b[0;31mSyntaxError\u001b[0m\u001b[0;31m:\u001b[0m invalid syntax\n"
     ]
    }
   ],
   "source": [
    "Mini objectives:\n",
    "    - murders by state/town\n",
    "    - male/female/uknown offenders + state/town/year\n",
    "    - relationship \n",
    "    - figure out victim and perpetrator count if it means 0 is 1 and 1 is 1+1 etc\n",
    "    - add new data to it \n",
    "    - add population data\n",
    "    - graph value_counts"
   ]
  },
  {
   "cell_type": "code",
   "execution_count": null,
   "metadata": {},
   "outputs": [],
   "source": [
    "# decision tree, clustering --> NEED target (Homocides/non-homocides)"
   ]
  },
  {
   "cell_type": "code",
   "execution_count": 10,
   "metadata": {},
   "outputs": [],
   "source": [
    "# importing libraries\n",
    "import pandas as pd\n",
    "import numpy as np\n",
    "import numpy as np"
   ]
  },
  {
   "cell_type": "code",
   "execution_count": 11,
   "metadata": {},
   "outputs": [
    {
     "name": "stderr",
     "output_type": "stream",
     "text": [
      "/opt/tljh/user/lib/python3.6/site-packages/IPython/core/interactiveshell.py:3058: DtypeWarning: Columns (16) have mixed types. Specify dtype option on import or set low_memory=False.\n",
      "  interactivity=interactivity, compiler=compiler, result=result)\n"
     ]
    }
   ],
   "source": [
    "# reading in the file with data\n",
    "data = pd.read_csv(\"US HOMOCIDE REPORT.csv\",sep=\",\")"
   ]
  },
  {
   "cell_type": "code",
   "execution_count": 12,
   "metadata": {},
   "outputs": [
    {
     "name": "stdout",
     "output_type": "stream",
     "text": [
      "<class 'pandas.core.frame.DataFrame'>\n",
      "RangeIndex: 638454 entries, 0 to 638453\n",
      "Data columns (total 24 columns):\n",
      "Record ID                638454 non-null int64\n",
      "Agency Code              638454 non-null object\n",
      "Agency Name              638454 non-null object\n",
      "Agency Type              638454 non-null object\n",
      "City                     638454 non-null object\n",
      "State                    638454 non-null object\n",
      "Year                     638454 non-null int64\n",
      "Month                    638454 non-null object\n",
      "Incident                 638454 non-null int64\n",
      "Crime Type               638454 non-null object\n",
      "Crime Solved             638454 non-null object\n",
      "Victim Sex               638454 non-null object\n",
      "Victim Age               638454 non-null int64\n",
      "Victim Race              638454 non-null object\n",
      "Victim Ethnicity         638454 non-null object\n",
      "Perpetrator Sex          638454 non-null object\n",
      "Perpetrator Age          638454 non-null object\n",
      "Perpetrator Race         638454 non-null object\n",
      "Perpetrator Ethnicity    638454 non-null object\n",
      "Relationship             638454 non-null object\n",
      "Weapon                   638454 non-null object\n",
      "Victim Count             638454 non-null int64\n",
      "Perpetrator Count        638454 non-null int64\n",
      "Record Source            638454 non-null object\n",
      "dtypes: int64(6), object(18)\n",
      "memory usage: 116.9+ MB\n"
     ]
    }
   ],
   "source": [
    "# 24 columns in total \n",
    "# Intiger columns: record ID, Year, incident, Victim Age, Victim Count, Perpertrator Count\n",
    "# We see an error that PERPERTRATOR AGE IS AN OBJECT\n",
    "# other columns are object\n",
    "data.info()"
   ]
  },
  {
   "cell_type": "code",
   "execution_count": 13,
   "metadata": {},
   "outputs": [
    {
     "data": {
      "text/plain": [
       "array([15, 42, 0, 36, 27, 35, 40, 49, 39, 29, 19, 23, 33, 26, 41, 28, 61,\n",
       "       25, 7, 17, 34, 21, 43, 38, 66, 32, 37, 22, 30, 24, 65, 51, 60, 45,\n",
       "       64, 18, 20, 44, 73, 62, 69, 52, 16, 90, 56, 47, 57, 31, 46, 14, 55,\n",
       "       50, 54, 68, 77, 53, 67, 48, 76, 58, 71, 63, 89, 13, 75, 72, 93, 59,\n",
       "       10, 11, 79, 74, 99, 70, 78, 80, 9, 12, 81, 6, 87, 82, 83, 8, 84,\n",
       "       85, 86, 5, 3, 1, 88, 95, 4, 91, 92, 96, 94, 2, 98, 97, '22', '52',\n",
       "       '21', '0', '25', '61', '32', '28', '20', '38', '18', '17', '53',\n",
       "       '30', '24', '84', '43', '16', '47', '54', '50', '42', '23', '36',\n",
       "       '35', '60', '27', '19', '14', '57', '63', '81', '31', '58', '51',\n",
       "       '15', '40', '33', '26', '41', '29', '34', '37', '69', '44', '48',\n",
       "       '55', '49', '56', '39', '45', '65', '59', '70', '46', '11', '77',\n",
       "       '67', '76', '85', '72', '13', '89', '74', '71', '64', '62', '3',\n",
       "       '80', '73', '75', '83', '78', '68', '66', '86', '87', '95', '90',\n",
       "       '6', '12', '99', '88', '9', '93', '10', ' ', '82', '92', '79', '1'],\n",
       "      dtype=object)"
      ]
     },
     "execution_count": 13,
     "metadata": {},
     "output_type": "execute_result"
    }
   ],
   "source": [
    "# we investigate\n",
    "# so part of the numbers are strings so we have to convert the whole column to integers\n",
    "# but we also see that there is a space which we need to replace\n",
    "# calculate the ratio \n",
    "per_age = data[\"Perpetrator Age\"].unique()\n",
    "per_age"
   ]
  },
  {
   "cell_type": "code",
   "execution_count": 14,
   "metadata": {},
   "outputs": [
    {
     "data": {
      "text/plain": [
       "0     211079\n",
       "20     21158\n",
       "19     19807\n",
       "21     18509\n",
       "18     18477\n",
       "       ...  \n",
       "10         1\n",
       "9          1\n",
       "1          1\n",
       "           1\n",
       "6          1\n",
       "Name: Perpetrator Age, Length: 191, dtype: int64"
      ]
     },
     "execution_count": 14,
     "metadata": {},
     "output_type": "execute_result"
    }
   ],
   "source": [
    "# WE HAVE about 5000 blanks based on value counts after replacing it with 0 (211,079)\n",
    "data[\"Perpetrator Age\"].value_counts()"
   ]
  },
  {
   "cell_type": "code",
   "execution_count": 15,
   "metadata": {},
   "outputs": [],
   "source": [
    "# we replace the space with a 0 which could be considered as NA anyways \n",
    "# make a copy here of the original so we do not change original data\n",
    "data1 = data.copy()"
   ]
  },
  {
   "cell_type": "code",
   "execution_count": 16,
   "metadata": {},
   "outputs": [],
   "source": [
    "# appearently we have to convert stuff into strings first and then to integers (don't ask me)\n",
    "data1['Perpetrator Age'] = data1['Perpetrator Age'].replace(\" \", 0)"
   ]
  },
  {
   "cell_type": "code",
   "execution_count": 17,
   "metadata": {},
   "outputs": [
    {
     "data": {
      "text/plain": [
       "0         15\n",
       "1         42\n",
       "2          0\n",
       "3         42\n",
       "4          0\n",
       "          ..\n",
       "638449     0\n",
       "638450    57\n",
       "638451    22\n",
       "638452    31\n",
       "638453    24\n",
       "Name: Perpetrator Age, Length: 638454, dtype: object"
      ]
     },
     "execution_count": 17,
     "metadata": {},
     "output_type": "execute_result"
    }
   ],
   "source": [
    "data1[\"Perpetrator Age\"]"
   ]
  },
  {
   "cell_type": "markdown",
   "metadata": {},
   "source": [
    "### Have to replace 0s and all ages under 13/14 (youngest murderer in US is 13"
   ]
  },
  {
   "cell_type": "code",
   "execution_count": 18,
   "metadata": {},
   "outputs": [],
   "source": [
    "data1['Perpetrator Age'] = data1['Perpetrator Age'].astype(str).astype(int)\n",
    "# this didnt work\n",
    "#data['Perpetrator Age'] = pd.to_numeric(data['Perpetrator Age'], errors=\"coerce\").head()"
   ]
  },
  {
   "cell_type": "code",
   "execution_count": 19,
   "metadata": {},
   "outputs": [
    {
     "data": {
      "text/plain": [
       "0         15\n",
       "1         42\n",
       "2          0\n",
       "3         42\n",
       "4          0\n",
       "          ..\n",
       "638449     0\n",
       "638450    57\n",
       "638451    22\n",
       "638452    31\n",
       "638453    24\n",
       "Name: Perpetrator Age, Length: 638454, dtype: int64"
      ]
     },
     "execution_count": 19,
     "metadata": {},
     "output_type": "execute_result"
    }
   ],
   "source": [
    "# converting 0s into the mean\n",
    "# cuz other values are there, offense was made just record of age isnt\n",
    "# appearently we have to convert stuff into strings first and then to integers (don't ask me)\n",
    "data1['Perpetrator Age']"
   ]
  },
  {
   "cell_type": "code",
   "execution_count": 20,
   "metadata": {},
   "outputs": [
    {
     "name": "stdout",
     "output_type": "stream",
     "text": [
      "<class 'pandas.core.frame.DataFrame'>\n",
      "RangeIndex: 638454 entries, 0 to 638453\n",
      "Data columns (total 24 columns):\n",
      "Record ID                638454 non-null int64\n",
      "Agency Code              638454 non-null object\n",
      "Agency Name              638454 non-null object\n",
      "Agency Type              638454 non-null object\n",
      "City                     638454 non-null object\n",
      "State                    638454 non-null object\n",
      "Year                     638454 non-null int64\n",
      "Month                    638454 non-null object\n",
      "Incident                 638454 non-null int64\n",
      "Crime Type               638454 non-null object\n",
      "Crime Solved             638454 non-null object\n",
      "Victim Sex               638454 non-null object\n",
      "Victim Age               638454 non-null int64\n",
      "Victim Race              638454 non-null object\n",
      "Victim Ethnicity         638454 non-null object\n",
      "Perpetrator Sex          638454 non-null object\n",
      "Perpetrator Age          638454 non-null int64\n",
      "Perpetrator Race         638454 non-null object\n",
      "Perpetrator Ethnicity    638454 non-null object\n",
      "Relationship             638454 non-null object\n",
      "Weapon                   638454 non-null object\n",
      "Victim Count             638454 non-null int64\n",
      "Perpetrator Count        638454 non-null int64\n",
      "Record Source            638454 non-null object\n",
      "dtypes: int64(7), object(17)\n",
      "memory usage: 116.9+ MB\n"
     ]
    }
   ],
   "source": [
    "# we see that our little problem was solved\n",
    "data1.info()"
   ]
  },
  {
   "cell_type": "code",
   "execution_count": 21,
   "metadata": {},
   "outputs": [
    {
     "data": {
      "text/plain": [
       "array([15, 42,  0, 36, 27, 35, 40, 49, 39, 29, 19, 23, 33, 26, 41, 28, 61,\n",
       "       25,  7, 17, 34, 21, 43, 38, 66, 32, 37, 22, 30, 24, 65, 51, 60, 45,\n",
       "       64, 18, 20, 44, 73, 62, 69, 52, 16, 90, 56, 47, 57, 31, 46, 14, 55,\n",
       "       50, 54, 68, 77, 53, 67, 48, 76, 58, 71, 63, 89, 13, 75, 72, 93, 59,\n",
       "       10, 11, 79, 74, 99, 70, 78, 80,  9, 12, 81,  6, 87, 82, 83,  8, 84,\n",
       "       85, 86,  5,  3,  1, 88, 95,  4, 91, 92, 96, 94,  2, 98, 97])"
      ]
     },
     "execution_count": 21,
     "metadata": {},
     "output_type": "execute_result"
    }
   ],
   "source": [
    "# double check \n",
    "data1['Perpetrator Age'].unique()"
   ]
  },
  {
   "cell_type": "code",
   "execution_count": 22,
   "metadata": {},
   "outputs": [
    {
     "data": {
      "text/plain": [
       "0     216328\n",
       "20     21625\n",
       "19     20250\n",
       "21     18983\n",
       "18     18834\n",
       "       ...  \n",
       "95         9\n",
       "98         7\n",
       "96         7\n",
       "2          6\n",
       "97         3\n",
       "Name: Perpetrator Age, Length: 100, dtype: int64"
      ]
     },
     "execution_count": 22,
     "metadata": {},
     "output_type": "execute_result"
    }
   ],
   "source": [
    "# ok so about 1/3 of the perpetrator age is 0 need to modify or subset (mean/median/most freq/drop)\n",
    "# from 0 - 99 \n",
    "# Expecting that most values will be between 18-40\n",
    "perp_age = data1[\"Perpetrator Age\"].value_counts()\n",
    "perp_age"
   ]
  },
  {
   "cell_type": "code",
   "execution_count": 23,
   "metadata": {},
   "outputs": [
    {
     "data": {
      "text/plain": [
       "count    638454.000000\n",
       "mean         20.322665\n",
       "std          17.886846\n",
       "min           0.000000\n",
       "25%           0.000000\n",
       "50%          21.000000\n",
       "75%          31.000000\n",
       "max          99.000000\n",
       "Name: Perpetrator Age, dtype: float64"
      ]
     },
     "execution_count": 23,
     "metadata": {},
     "output_type": "execute_result"
    }
   ],
   "source": [
    "# the 0 values skews our results so i am expecting the mean to be higher than 20 when adjusted\n",
    "# this is explain by high standard devition and bottom 25% which is 0 (1/3 values are 0)\n",
    "data1[\"Perpetrator Age\"].describe()"
   ]
  },
  {
   "cell_type": "markdown",
   "metadata": {},
   "source": [
    "### Transforming Perpetrator Age <=13 to the mean and stdev"
   ]
  },
  {
   "cell_type": "code",
   "execution_count": 24,
   "metadata": {},
   "outputs": [
    {
     "data": {
      "text/plain": [
       "Record ID                218668\n",
       "Agency Code              218668\n",
       "Agency Name              218668\n",
       "Agency Type              218668\n",
       "City                     218668\n",
       "State                    218668\n",
       "Year                     218668\n",
       "Month                    218668\n",
       "Incident                 218668\n",
       "Crime Type               218668\n",
       "Crime Solved             218668\n",
       "Victim Sex               218668\n",
       "Victim Age               218668\n",
       "Victim Race              218668\n",
       "Victim Ethnicity         218668\n",
       "Perpetrator Sex          218668\n",
       "Perpetrator Age          218668\n",
       "Perpetrator Race         218668\n",
       "Perpetrator Ethnicity    218668\n",
       "Relationship             218668\n",
       "Weapon                   218668\n",
       "Victim Count             218668\n",
       "Perpetrator Count        218668\n",
       "Record Source            218668\n",
       "dtype: int64"
      ]
     },
     "execution_count": 24,
     "metadata": {},
     "output_type": "execute_result"
    }
   ],
   "source": [
    "# it gets for every column but ut doesnt matter\n",
    "# we are looking for count of perpetrator age that is equal or below 13 = 218668\n",
    "# from the df count the following condition based on the series less or equal to 13\n",
    "data1[data1['Perpetrator Age'] <= 13].count()"
   ]
  },
  {
   "cell_type": "code",
   "execution_count": 25,
   "metadata": {},
   "outputs": [
    {
     "data": {
      "text/plain": [
       "30.798633863552666"
      ]
     },
     "execution_count": 25,
     "metadata": {},
     "output_type": "execute_result"
    }
   ],
   "source": [
    "# find a mean without zeros\n",
    "#if data1[\"Perpetrator Age\"]  \n",
    "nonzero_mean = data1[\"Perpetrator Age\"][data1[\"Perpetrator Age\"] >= 13 ].mean()\n",
    "nonzero_mean"
   ]
  },
  {
   "cell_type": "code",
   "execution_count": 26,
   "metadata": {},
   "outputs": [
    {
     "data": {
      "text/plain": [
       "12.76506550523528"
      ]
     },
     "execution_count": 26,
     "metadata": {},
     "output_type": "execute_result"
    }
   ],
   "source": [
    "# find standard deviation without zeros\n",
    "non_stdev = data1[\"Perpetrator Age\"][data1[\"Perpetrator Age\"] >= 13 ].std()\n",
    "non_stdev"
   ]
  },
  {
   "cell_type": "code",
   "execution_count": 27,
   "metadata": {},
   "outputs": [],
   "source": [
    "# https://docs.scipy.org/doc/scipy-0.14.0/reference/generated/scipy.stats.truncnorm.html"
   ]
  },
  {
   "cell_type": "code",
   "execution_count": 28,
   "metadata": {},
   "outputs": [],
   "source": [
    "# applying the mean of age with stdev randomly to zero values \n",
    "# we need to generate a random whole numbers list for all zeros --> 216,328 "
   ]
  },
  {
   "cell_type": "code",
   "execution_count": 29,
   "metadata": {},
   "outputs": [],
   "source": [
    "# so between age 13 and 99\n",
    "# mean is 31, stdev is 13 (have to round up to be whole number)\n",
    "import scipy.stats as stats\n",
    "\n",
    "# shape parameters\n",
    "a, b = 13, 99 \n",
    "# mean and standard deviation\n",
    "mu, sigma = 31, 13\n",
    "\n",
    "# A truncated normal continuous random variable\n",
    "# truncated normal distribution is the probability distribution derived from that of a normally \n",
    "# distributed random variable by bounding the random variable from either below or above (or both). \n",
    "# probability density function is the probability of something happening within certain range / upper bound \n",
    "# restricting normal distribution between an interval \n",
    "# a - mu --> 13 - 31 range/13, 99-31/13, loc = location parameter (mean), scale parameter = scale (sigma) --> so stdev will move up and down based on the mean\n",
    "dist = stats.truncnorm((a - mu) / sigma, (b - mu) / sigma, loc=mu, scale=sigma)\n",
    "\n",
    "# generate 218668 random numbers based dist conditions \n",
    "values = dist.rvs(218668)"
   ]
  },
  {
   "cell_type": "markdown",
   "metadata": {},
   "source": [
    "### Checking results"
   ]
  },
  {
   "cell_type": "code",
   "execution_count": 30,
   "metadata": {},
   "outputs": [],
   "source": [
    "# we got our np.array of 218668 numbers \n",
    "# mean is not exactly the same but it changes with each new generation \n",
    "# count stays the same \n",
    "# the result is acceptable \n",
    "# now we have to replace it with values that are <= 13 (perpetrator age)"
   ]
  },
  {
   "cell_type": "code",
   "execution_count": 31,
   "metadata": {},
   "outputs": [
    {
     "data": {
      "text/plain": [
       "array([43.60612931, 36.03880478, 15.52898376, ..., 30.79335381,\n",
       "       26.27269131, 26.19162766])"
      ]
     },
     "execution_count": 31,
     "metadata": {},
     "output_type": "execute_result"
    }
   ],
   "source": [
    "values"
   ]
  },
  {
   "cell_type": "code",
   "execution_count": 32,
   "metadata": {},
   "outputs": [],
   "source": [
    "# checking the results"
   ]
  },
  {
   "cell_type": "code",
   "execution_count": 33,
   "metadata": {},
   "outputs": [
    {
     "data": {
      "text/plain": [
       "33.149992440604656"
      ]
     },
     "execution_count": 33,
     "metadata": {},
     "output_type": "execute_result"
    }
   ],
   "source": [
    "values.mean()"
   ]
  },
  {
   "cell_type": "code",
   "execution_count": 34,
   "metadata": {},
   "outputs": [
    {
     "data": {
      "text/plain": [
       "11.166249598916291"
      ]
     },
     "execution_count": 34,
     "metadata": {},
     "output_type": "execute_result"
    }
   ],
   "source": [
    "values.std()"
   ]
  },
  {
   "cell_type": "code",
   "execution_count": 35,
   "metadata": {},
   "outputs": [
    {
     "data": {
      "text/plain": [
       "218668"
      ]
     },
     "execution_count": 35,
     "metadata": {},
     "output_type": "execute_result"
    }
   ],
   "source": [
    "np.count_nonzero(values)"
   ]
  },
  {
   "cell_type": "code",
   "execution_count": 36,
   "metadata": {},
   "outputs": [
    {
     "data": {
      "text/plain": [
       "pandas.core.series.Series"
      ]
     },
     "execution_count": 36,
     "metadata": {},
     "output_type": "execute_result"
    }
   ],
   "source": [
    "# making it a series for plug in\n",
    "new_perp_age = pd.Series(values)\n",
    "type(new_perp_age)\n",
    "#new_perp_age"
   ]
  },
  {
   "cell_type": "markdown",
   "metadata": {},
   "source": [
    "### Make the new_perp_age into whole numbers"
   ]
  },
  {
   "cell_type": "code",
   "execution_count": null,
   "metadata": {},
   "outputs": [],
   "source": []
  },
  {
   "cell_type": "code",
   "execution_count": null,
   "metadata": {},
   "outputs": [],
   "source": []
  },
  {
   "cell_type": "code",
   "execution_count": null,
   "metadata": {},
   "outputs": [],
   "source": []
  },
  {
   "cell_type": "code",
   "execution_count": 37,
   "metadata": {},
   "outputs": [
    {
     "data": {
      "text/plain": [
       "0         False\n",
       "1         False\n",
       "2          True\n",
       "3         False\n",
       "4          True\n",
       "          ...  \n",
       "638449     True\n",
       "638450    False\n",
       "638451    False\n",
       "638452    False\n",
       "638453    False\n",
       "Name: Perpetrator Age, Length: 638454, dtype: bool"
      ]
     },
     "execution_count": 37,
     "metadata": {},
     "output_type": "execute_result"
    }
   ],
   "source": [
    "data1[\"Perpetrator Age\"] <= 13"
   ]
  },
  {
   "cell_type": "code",
   "execution_count": 38,
   "metadata": {},
   "outputs": [
    {
     "data": {
      "text/plain": [
       "0         15\n",
       "1         42\n",
       "2          0\n",
       "3         42\n",
       "4          0\n",
       "          ..\n",
       "638449     0\n",
       "638450    57\n",
       "638451    22\n",
       "638452    31\n",
       "638453    24\n",
       "Name: Perpetrator Age, Length: 638454, dtype: int64"
      ]
     },
     "execution_count": 38,
     "metadata": {},
     "output_type": "execute_result"
    }
   ],
   "source": [
    "data1[\"Perpetrator Age\"].iloc[0:]"
   ]
  },
  {
   "cell_type": "markdown",
   "metadata": {},
   "source": [
    "### Replacing perpetrator age"
   ]
  },
  {
   "cell_type": "code",
   "execution_count": 39,
   "metadata": {},
   "outputs": [],
   "source": [
    "# just subset the whole thing based on condition and then just choose that column\n",
    "data2 = data1.copy()\n",
    "perp_wrong_age = data2[data2[\"Perpetrator Age\"] <= 13]\n",
    "#more_scientists_df[more_scientists_df.Age > more_scientists_df.Age.mean()]"
   ]
  },
  {
   "cell_type": "code",
   "execution_count": 40,
   "metadata": {},
   "outputs": [],
   "source": [
    "# selecting col to get rid of blank values \n",
    "s = perp_wrong_age[\"Perpetrator Age\"]"
   ]
  },
  {
   "cell_type": "code",
   "execution_count": 41,
   "metadata": {},
   "outputs": [],
   "source": [
    "# selected the series index\n",
    "perp_index = s.index\n",
    "\n"
   ]
  },
  {
   "cell_type": "code",
   "execution_count": 42,
   "metadata": {},
   "outputs": [
    {
     "data": {
      "text/plain": [
       "Perpetrator Age\n",
       "0    43.606129\n",
       "0    43.606129\n",
       "0    43.606129\n",
       "0    43.606129\n",
       "0    43.606129\n",
       "       ...    \n",
       "0    43.606129\n",
       "0    43.606129\n",
       "0    43.606129\n",
       "0    43.606129\n",
       "0    43.606129\n",
       "Length: 218668, dtype: float64"
      ]
     },
     "execution_count": 42,
     "metadata": {},
     "output_type": "execute_result"
    }
   ],
   "source": [
    "new_perp_age.reindex(index = s)"
   ]
  },
  {
   "cell_type": "code",
   "execution_count": 43,
   "metadata": {},
   "outputs": [
    {
     "ename": "TypeError",
     "evalue": "update() got an unexpected keyword argument 'index'",
     "output_type": "error",
     "traceback": [
      "\u001b[0;31m---------------------------------------------------------------------------\u001b[0m",
      "\u001b[0;31mTypeError\u001b[0m                                 Traceback (most recent call last)",
      "\u001b[0;32m<ipython-input-43-e47d72ac0c27>\u001b[0m in \u001b[0;36m<module>\u001b[0;34m\u001b[0m\n\u001b[1;32m      2\u001b[0m \u001b[0;31m# doesnt update cuz it has different indexes but if I reset the index then how can I put it back in a proper place\u001b[0m\u001b[0;34m\u001b[0m\u001b[0;34m\u001b[0m\u001b[0;34m\u001b[0m\u001b[0m\n\u001b[1;32m      3\u001b[0m \u001b[0;31m# so you subset some data based on condition\u001b[0m\u001b[0;34m\u001b[0m\u001b[0;34m\u001b[0m\u001b[0;34m\u001b[0m\u001b[0m\n\u001b[0;32m----> 4\u001b[0;31m \u001b[0mperp_wrong_age\u001b[0m\u001b[0;34m[\u001b[0m\u001b[0;34m\"Perpetrator Age\"\u001b[0m\u001b[0;34m]\u001b[0m\u001b[0;34m.\u001b[0m\u001b[0mupdate\u001b[0m\u001b[0;34m(\u001b[0m\u001b[0mnew_perp_age\u001b[0m\u001b[0;34m,\u001b[0m \u001b[0mindex\u001b[0m \u001b[0;34m=\u001b[0m \u001b[0ms\u001b[0m\u001b[0;34m)\u001b[0m\u001b[0;34m\u001b[0m\u001b[0;34m\u001b[0m\u001b[0m\n\u001b[0m",
      "\u001b[0;31mTypeError\u001b[0m: update() got an unexpected keyword argument 'index'"
     ]
    }
   ],
   "source": [
    "# update values doesnt work for all \n",
    "# doesnt update cuz it has different indexes but if I reset the index then how can I put it back in a proper place\n",
    "# so you subset some data based on condition \n",
    "perp_wrong_age[\"Perpetrator Age\"].update(new_perp_age, index = s)"
   ]
  },
  {
   "cell_type": "code",
   "execution_count": null,
   "metadata": {},
   "outputs": [],
   "source": [
    "#perp_wrong_age"
   ]
  },
  {
   "cell_type": "code",
   "execution_count": null,
   "metadata": {},
   "outputs": [],
   "source": [
    "# select perp age col and put new values in (but how would it be analytical?)\n",
    "perp_wrong_age[\"Perpetrator Age\"] = perp_wrong_age[new_perp_age]"
   ]
  },
  {
   "cell_type": "code",
   "execution_count": null,
   "metadata": {},
   "outputs": [],
   "source": [
    "# sort and then subset only <=13, replace it with new vals and then plug it back in \n",
    "perp_age_series = data1[\"Perpetrator Age\"] <= 13"
   ]
  },
  {
   "cell_type": "code",
   "execution_count": null,
   "metadata": {},
   "outputs": [],
   "source": [
    "# select only those items that satisfy the condition "
   ]
  },
  {
   "cell_type": "code",
   "execution_count": null,
   "metadata": {},
   "outputs": [],
   "source": [
    "if perp_age_series == \"True\":\n",
    "    print(perp_age_series)"
   ]
  },
  {
   "cell_type": "code",
   "execution_count": null,
   "metadata": {},
   "outputs": [],
   "source": [
    "l = pd.DataFrame()\n",
    "for i in new_perp_age:\n",
    "    if data1[\"Perpetrator Age\"].iloc[2] <= 13:\n",
    "        data1[\"Perpetrator Age\"].iloc[2].replace(data1[\"Perpetrator Age\"].iloc[2],i)\n",
    "data1[\"Perpetrator Age\"].iloc[2]"
   ]
  },
  {
   "cell_type": "code",
   "execution_count": null,
   "metadata": {},
   "outputs": [],
   "source": [
    "data1.loc[data1[\"Perpetrator Age\"] <= 13] = new_perp_age"
   ]
  },
  {
   "cell_type": "code",
   "execution_count": null,
   "metadata": {},
   "outputs": [],
   "source": [
    "data1"
   ]
  },
  {
   "cell_type": "code",
   "execution_count": null,
   "metadata": {},
   "outputs": [],
   "source": []
  },
  {
   "cell_type": "code",
   "execution_count": 44,
   "metadata": {},
   "outputs": [
    {
     "data": {
      "text/plain": [
       "Record ID                0\n",
       "Agency Code              0\n",
       "Agency Name              0\n",
       "Agency Type              0\n",
       "City                     0\n",
       "State                    0\n",
       "Year                     0\n",
       "Month                    0\n",
       "Incident                 0\n",
       "Crime Type               0\n",
       "Crime Solved             0\n",
       "Victim Sex               0\n",
       "Victim Age               0\n",
       "Victim Race              0\n",
       "Victim Ethnicity         0\n",
       "Perpetrator Sex          0\n",
       "Perpetrator Age          0\n",
       "Perpetrator Race         0\n",
       "Perpetrator Ethnicity    0\n",
       "Relationship             0\n",
       "Weapon                   0\n",
       "Victim Count             0\n",
       "Perpetrator Count        0\n",
       "Record Source            0\n",
       "dtype: int64"
      ]
     },
     "execution_count": 44,
     "metadata": {},
     "output_type": "execute_result"
    }
   ],
   "source": [
    "# Original data --> no nulls in df and no na's\n",
    "data.isnull().sum()"
   ]
  },
  {
   "cell_type": "code",
   "execution_count": 45,
   "metadata": {},
   "outputs": [
    {
     "data": {
      "text/plain": [
       "Record ID                0\n",
       "Agency Code              0\n",
       "Agency Name              0\n",
       "Agency Type              0\n",
       "City                     0\n",
       "State                    0\n",
       "Year                     0\n",
       "Month                    0\n",
       "Incident                 0\n",
       "Crime Type               0\n",
       "Crime Solved             0\n",
       "Victim Sex               0\n",
       "Victim Age               0\n",
       "Victim Race              0\n",
       "Victim Ethnicity         0\n",
       "Perpetrator Sex          0\n",
       "Perpetrator Age          0\n",
       "Perpetrator Race         0\n",
       "Perpetrator Ethnicity    0\n",
       "Relationship             0\n",
       "Weapon                   0\n",
       "Victim Count             0\n",
       "Perpetrator Count        0\n",
       "Record Source            0\n",
       "dtype: int64"
      ]
     },
     "execution_count": 45,
     "metadata": {},
     "output_type": "execute_result"
    }
   ],
   "source": [
    "data.isna().sum()"
   ]
  },
  {
   "cell_type": "code",
   "execution_count": 46,
   "metadata": {},
   "outputs": [
    {
     "data": {
      "text/plain": [
       "array(['Anchorage', 'Juneau', 'Nome', ..., 'Sp: Hundred',\n",
       "       'Sheridan County', 'Sublette County'], dtype=object)"
      ]
     },
     "execution_count": 46,
     "metadata": {},
     "output_type": "execute_result"
    }
   ],
   "source": [
    "# we will familiarize ourselves with the values of columns now to see what to expect\n",
    "data1['Agency Name'].unique()"
   ]
  },
  {
   "cell_type": "code",
   "execution_count": 47,
   "metadata": {},
   "outputs": [
    {
     "data": {
      "text/plain": [
       "New York           38416\n",
       "Los Angeles        29007\n",
       "Chicago            21331\n",
       "Detroit            17206\n",
       "Houston            13046\n",
       "                   ...  \n",
       "Southside Place        1\n",
       "Caro                   1\n",
       "El Lago                1\n",
       "Mora                   1\n",
       "Ontario County         1\n",
       "Name: Agency Name, Length: 9216, dtype: int64"
      ]
     },
     "execution_count": 47,
     "metadata": {},
     "output_type": "execute_result"
    }
   ],
   "source": [
    "# New York agency has the most work (about 5-6% of data), LA, Chicago \n",
    "agency_values = data1[\"Agency Name\"].value_counts()\n",
    "agency_values"
   ]
  },
  {
   "cell_type": "code",
   "execution_count": 48,
   "metadata": {},
   "outputs": [
    {
     "data": {
      "text/plain": [
       "count     9216.000000\n",
       "mean        69.276693\n",
       "std        683.511828\n",
       "min          1.000000\n",
       "25%          2.000000\n",
       "50%          7.000000\n",
       "75%         23.000000\n",
       "max      38416.000000\n",
       "Name: Agency Name, dtype: float64"
      ]
     },
     "execution_count": 48,
     "metadata": {},
     "output_type": "execute_result"
    }
   ],
   "source": [
    "# over 9000 different agencies, New York is top \n",
    "agency_values.describe()"
   ]
  },
  {
   "cell_type": "code",
   "execution_count": 49,
   "metadata": {},
   "outputs": [
    {
     "data": {
      "text/plain": [
       "array(['Municipal Police', 'County Police', 'State Police', 'Sheriff',\n",
       "       'Special Police', 'Regional Police', 'Tribal Police'], dtype=object)"
      ]
     },
     "execution_count": 49,
     "metadata": {},
     "output_type": "execute_result"
    }
   ],
   "source": [
    "data1['Agency Type'].unique()"
   ]
  },
  {
   "cell_type": "code",
   "execution_count": 50,
   "metadata": {},
   "outputs": [
    {
     "data": {
      "text/plain": [
       "Municipal Police    493026\n",
       "Sheriff             105322\n",
       "County Police        22693\n",
       "State Police         14235\n",
       "Special Police        2889\n",
       "Regional Police        235\n",
       "Tribal Police           54\n",
       "Name: Agency Type, dtype: int64"
      ]
     },
     "execution_count": 50,
     "metadata": {},
     "output_type": "execute_result"
    }
   ],
   "source": [
    "# about 85% of cases are handled by the municipal police\n",
    "agency_type = data1[\"Agency Type\"].value_counts()\n",
    "agency_type"
   ]
  },
  {
   "cell_type": "code",
   "execution_count": 51,
   "metadata": {},
   "outputs": [
    {
     "data": {
      "text/plain": [
       "count         7.000000\n",
       "mean      91207.714286\n",
       "std      181043.936785\n",
       "min          54.000000\n",
       "25%        1562.000000\n",
       "50%       14235.000000\n",
       "75%       64007.500000\n",
       "max      493026.000000\n",
       "Name: Agency Type, dtype: float64"
      ]
     },
     "execution_count": 51,
     "metadata": {},
     "output_type": "execute_result"
    }
   ],
   "source": [
    "# 7 different groups of organizations that handle homocides\n",
    "# on average the handle 91,000 each with a big standard deviation meaning positive skew (municipal polica)\n",
    "# which explains the quartiles\n",
    "agency_type.describe()"
   ]
  },
  {
   "cell_type": "code",
   "execution_count": 52,
   "metadata": {},
   "outputs": [
    {
     "data": {
      "text/plain": [
       "array(['Anchorage', 'Juneau', 'Nome', ..., 'Rooks', 'McCone', 'Antelope'],\n",
       "      dtype=object)"
      ]
     },
     "execution_count": 52,
     "metadata": {},
     "output_type": "execute_result"
    }
   ],
   "source": [
    "data1['City'].unique()"
   ]
  },
  {
   "cell_type": "code",
   "execution_count": 53,
   "metadata": {},
   "outputs": [
    {
     "data": {
      "text/plain": [
       "Los Angeles    44511\n",
       "New York       38431\n",
       "Cook           22383\n",
       "Wayne          19904\n",
       "Harris         16331\n",
       "               ...  \n",
       "Piute              1\n",
       "Big Stone          1\n",
       "Bowman             1\n",
       "Carlisle           1\n",
       "Divide             1\n",
       "Name: City, Length: 1782, dtype: int64"
      ]
     },
     "execution_count": 53,
     "metadata": {},
     "output_type": "execute_result"
    }
   ],
   "source": [
    "# how does NY police has most to handle while LA city has the most here (different departments?)\n",
    "# are police departments more split up than NY?\n",
    "# how does such small towns have to many acticity?? Probably wrong might have to frop entire column\n",
    "city = data1[\"City\"].value_counts()\n",
    "city"
   ]
  },
  {
   "cell_type": "code",
   "execution_count": 54,
   "metadata": {},
   "outputs": [
    {
     "data": {
      "text/plain": [
       "count     1782.000000\n",
       "mean       358.279461\n",
       "std       1843.878372\n",
       "min          1.000000\n",
       "25%         15.000000\n",
       "50%         41.000000\n",
       "75%        154.000000\n",
       "max      44511.000000\n",
       "Name: City, dtype: float64"
      ]
     },
     "execution_count": 54,
     "metadata": {},
     "output_type": "execute_result"
    }
   ],
   "source": [
    "# 1800 diff cities, incidinces per city about 350\n",
    "city.describe()"
   ]
  },
  {
   "cell_type": "code",
   "execution_count": 55,
   "metadata": {},
   "outputs": [
    {
     "data": {
      "text/plain": [
       "California              99783\n",
       "Texas                   62095\n",
       "New York                49268\n",
       "Florida                 37164\n",
       "Michigan                28448\n",
       "Illinois                25871\n",
       "Pennsylvania            24236\n",
       "Georgia                 21088\n",
       "North Carolina          20390\n",
       "Louisiana               19629\n",
       "Ohio                    19158\n",
       "Maryland                17312\n",
       "Virginia                15520\n",
       "Tennessee               14930\n",
       "Missouri                14832\n",
       "New Jersey              14132\n",
       "Arizona                 12871\n",
       "South Carolina          11698\n",
       "Indiana                 11463\n",
       "Alabama                 11376\n",
       "Oklahoma                 8809\n",
       "Washington               7815\n",
       "District of Columbia     7115\n",
       "Arkansas                 6947\n",
       "Colorado                 6593\n",
       "Kentucky                 6554\n",
       "Mississippi              6546\n",
       "Wisconsin                6191\n",
       "Massachusetts            6036\n",
       "Nevada                   5553\n",
       "Connecticut              4896\n",
       "New Mexico               4272\n",
       "Oregon                   4217\n",
       "Minnesota                3975\n",
       "Kansas                   3085\n",
       "West Virginia            3061\n",
       "Utah                     2033\n",
       "Iowa                     1749\n",
       "Alaska                   1617\n",
       "Hawaii                   1338\n",
       "Nebraska                 1331\n",
       "Rhodes Island            1211\n",
       "Delaware                 1179\n",
       "Idaho                    1150\n",
       "Maine                     869\n",
       "New Hampshire             655\n",
       "Wyoming                   630\n",
       "Montana                   601\n",
       "South Dakota              442\n",
       "Vermont                   412\n",
       "North Dakota              308\n",
       "Name: State, dtype: int64"
      ]
     },
     "execution_count": 55,
     "metadata": {},
     "output_type": "execute_result"
    }
   ],
   "source": [
    "# we see where most stuff happens we dont know if its bad yet but probably is \n",
    "# Top: CA, TX, NY hold about 10%, 5%, 4%\n",
    "values_per_state = data1['State'].value_counts()\n",
    "values_per_state"
   ]
  },
  {
   "cell_type": "code",
   "execution_count": 56,
   "metadata": {},
   "outputs": [
    {
     "data": {
      "text/plain": [
       "51"
      ]
     },
     "execution_count": 56,
     "metadata": {},
     "output_type": "execute_result"
    }
   ],
   "source": [
    "# more than 50 states!!\n",
    "count_states = values_per_state.count()\n",
    "count_states"
   ]
  },
  {
   "cell_type": "code",
   "execution_count": 57,
   "metadata": {},
   "outputs": [
    {
     "data": {
      "text/plain": [
       "California              False\n",
       "Texas                   False\n",
       "New York                False\n",
       "Florida                 False\n",
       "Michigan                False\n",
       "Illinois                False\n",
       "Pennsylvania            False\n",
       "Georgia                 False\n",
       "North Carolina          False\n",
       "Louisiana               False\n",
       "Ohio                    False\n",
       "Maryland                False\n",
       "Virginia                False\n",
       "Tennessee               False\n",
       "Missouri                False\n",
       "New Jersey              False\n",
       "Arizona                 False\n",
       "South Carolina          False\n",
       "Indiana                 False\n",
       "Alabama                 False\n",
       "Oklahoma                False\n",
       "Washington              False\n",
       "District of Columbia    False\n",
       "Arkansas                False\n",
       "Colorado                False\n",
       "Kentucky                False\n",
       "Mississippi             False\n",
       "Wisconsin               False\n",
       "Massachusetts           False\n",
       "Nevada                  False\n",
       "Connecticut             False\n",
       "New Mexico              False\n",
       "Oregon                  False\n",
       "Minnesota               False\n",
       "Kansas                  False\n",
       "West Virginia           False\n",
       "Utah                    False\n",
       "Iowa                    False\n",
       "Alaska                  False\n",
       "Hawaii                  False\n",
       "Nebraska                False\n",
       "Rhodes Island           False\n",
       "Delaware                False\n",
       "Idaho                   False\n",
       "Maine                   False\n",
       "New Hampshire           False\n",
       "Wyoming                 False\n",
       "Montana                 False\n",
       "South Dakota            False\n",
       "Vermont                 False\n",
       "North Dakota            False\n",
       "Name: State, dtype: bool"
      ]
     },
     "execution_count": 57,
     "metadata": {},
     "output_type": "execute_result"
    }
   ],
   "source": [
    "# I guess there is no duplicates but one doesnt belong \n",
    "# OK District of Columbia which is not a state ? should we drop it? it has 7000+ observations, so nah\n",
    "duplicate_state = values_per_state.duplicated()\n",
    "duplicate_state"
   ]
  },
  {
   "cell_type": "code",
   "execution_count": 58,
   "metadata": {},
   "outputs": [
    {
     "data": {
      "text/plain": [
       "count       51.000000\n",
       "mean     12518.705882\n",
       "std      17686.520705\n",
       "min        308.000000\n",
       "25%       1683.000000\n",
       "50%       6554.000000\n",
       "75%      15225.000000\n",
       "max      99783.000000\n",
       "Name: State, dtype: float64"
      ]
     },
     "execution_count": 58,
     "metadata": {},
     "output_type": "execute_result"
    }
   ],
   "source": [
    "# ok \"51\" states, about 12500 incidences per state, huge colatility probably due to big cities\n",
    "# meadian is 6500 so yes skew to the left \n",
    "values_per_state.describe()"
   ]
  },
  {
   "cell_type": "code",
   "execution_count": 59,
   "metadata": {},
   "outputs": [
    {
     "data": {
      "text/plain": [
       "array([1980, 1981, 1982, 1983, 1984, 1985, 1986, 1987, 1988, 1989, 1990,\n",
       "       1991, 1992, 1993, 1994, 1995, 1996, 1997, 1998, 1999, 2000, 2001,\n",
       "       2002, 2003, 2004, 2005, 2006, 2007, 2008, 2009, 2010, 2011, 2012,\n",
       "       2013, 2014])"
      ]
     },
     "execution_count": 59,
     "metadata": {},
     "output_type": "execute_result"
    }
   ],
   "source": [
    "# ok so data from 1980 to 2014\n",
    "# probably all data is not available or every year though\n",
    "year = data1[\"Year\"].unique()\n",
    "year"
   ]
  },
  {
   "cell_type": "code",
   "execution_count": 60,
   "metadata": {},
   "outputs": [
    {
     "data": {
      "text/plain": [
       "1993    24335\n",
       "1992    23793\n",
       "1994    23246\n",
       "1980    23092\n",
       "1991    22657\n",
       "1990    21246\n",
       "1981    21208\n",
       "1995    21179\n",
       "1982    20544\n",
       "1986    20125\n",
       "1989    19868\n",
       "1983    19653\n",
       "1996    18969\n",
       "1987    18783\n",
       "1988    18779\n",
       "1985    18386\n",
       "1984    18093\n",
       "1997    17794\n",
       "2007    17303\n",
       "2006    17275\n",
       "2005    16836\n",
       "2003    16512\n",
       "2002    16268\n",
       "2004    16233\n",
       "1998    16061\n",
       "2009    15840\n",
       "2001    15803\n",
       "2008    15595\n",
       "2010    15121\n",
       "2012    15033\n",
       "2011    14756\n",
       "2000    14671\n",
       "1999    14621\n",
       "2013    14445\n",
       "2014    14331\n",
       "Name: Year, dtype: int64"
      ]
     },
     "execution_count": 60,
     "metadata": {},
     "output_type": "execute_result"
    }
   ],
   "source": [
    "years_count = data1[\"Year\"].value_counts()\n",
    "years_count\n",
    "# Top 3: 1993, 1992, 1994"
   ]
  },
  {
   "cell_type": "code",
   "execution_count": 61,
   "metadata": {},
   "outputs": [
    {
     "data": {
      "text/plain": [
       "count       35.000000\n",
       "mean     18241.542857\n",
       "std       2986.446653\n",
       "min      14331.000000\n",
       "25%      15821.500000\n",
       "50%      17794.000000\n",
       "75%      20334.500000\n",
       "max      24335.000000\n",
       "Name: Year, dtype: float64"
      ]
     },
     "execution_count": 61,
     "metadata": {},
     "output_type": "execute_result"
    }
   ],
   "source": [
    "# data over 35 years, about 18,000 incidences a year \n",
    "# distribution looks quite normal \n",
    "years_count.describe()"
   ]
  },
  {
   "cell_type": "code",
   "execution_count": 62,
   "metadata": {},
   "outputs": [
    {
     "data": {
      "text/plain": [
       "array(['January', 'March', 'April', 'May', 'June', 'July', 'August',\n",
       "       'December', 'November', 'February', 'October', 'September'],\n",
       "      dtype=object)"
      ]
     },
     "execution_count": 62,
     "metadata": {},
     "output_type": "execute_result"
    }
   ],
   "source": [
    "# 12 months looks in order \n",
    "unique_month = data1[\"Month\"].unique()\n",
    "unique_month"
   ]
  },
  {
   "cell_type": "code",
   "execution_count": 63,
   "metadata": {},
   "outputs": [
    {
     "data": {
      "text/plain": [
       "July         58696\n",
       "August       58072\n",
       "December     55187\n",
       "September    54117\n",
       "June         53662\n",
       "October      53650\n",
       "May          53394\n",
       "January      52928\n",
       "March        51444\n",
       "April        51209\n",
       "November     50016\n",
       "February     46079\n",
       "Name: Month, dtype: int64"
      ]
     },
     "execution_count": 63,
     "metadata": {},
     "output_type": "execute_result"
    }
   ],
   "source": [
    "# top 3: July, August, December --> the extremes interesting\n",
    "# also very equal distribution over months as in years\n",
    "# Hypothesis: more encounters in summer due to the head (people out more?)\n",
    "month_val = data1[\"Month\"].value_counts()\n",
    "month_val"
   ]
  },
  {
   "cell_type": "code",
   "execution_count": 64,
   "metadata": {},
   "outputs": [
    {
     "data": {
      "text/plain": [
       "count       12.000000\n",
       "mean     53204.500000\n",
       "std       3399.904985\n",
       "min      46079.000000\n",
       "25%      51385.250000\n",
       "50%      53522.000000\n",
       "75%      54384.500000\n",
       "max      58696.000000\n",
       "Name: Month, dtype: float64"
      ]
     },
     "execution_count": 64,
     "metadata": {},
     "output_type": "execute_result"
    }
   ],
   "source": [
    "# this supports the normal distribution\n",
    "month_val.describe()"
   ]
  },
  {
   "cell_type": "code",
   "execution_count": 65,
   "metadata": {},
   "outputs": [
    {
     "data": {
      "text/plain": [
       "999"
      ]
     },
     "execution_count": 65,
     "metadata": {},
     "output_type": "execute_result"
    }
   ],
   "source": [
    "data1[\"Incident\"].max()"
   ]
  },
  {
   "cell_type": "code",
   "execution_count": 66,
   "metadata": {},
   "outputs": [
    {
     "data": {
      "text/plain": [
       "array([  1,   2,   3,   4,  41,   5,   6,   7,   8,   9,  10,  11,  33,\n",
       "        12,  17,  13,  14,  15,  16,  18,  21,  19,  20,  22,  23,  60,\n",
       "        28,  59,  29,  24,  66,  54,  49,  77,  40,  82,  37,  86,  31,\n",
       "        53,  90,  25,  26,  27,  30,  32,  34,  35,  36,  38,  39,  42,\n",
       "        43,  44,  45,  46,  47,  48,  50,  51,  52,  55,  56,  57,  58,\n",
       "        61,  62,  63,  64,  65,  67,  68,  69,  70,  71,  72,  73,  74,\n",
       "        75,  76,  78,  79,  80,  81,  83,  84,  85,  87,  88,  89,  91,\n",
       "        92,  93,  94,  95,  96,  97,  98,  99, 100, 101, 102, 103, 104,\n",
       "       105, 106, 107, 108, 109, 110, 111, 112, 113, 114, 115, 116, 117,\n",
       "       118, 119, 120, 121, 122, 123, 137, 126, 134, 151, 125, 205, 124,\n",
       "       127, 128, 129, 130, 131, 132, 133, 135, 136, 138, 139, 140, 141,\n",
       "       142, 143, 144, 145, 146, 147, 148, 149, 150, 152, 153, 154, 155,\n",
       "       156, 157, 158, 159, 160, 161, 162, 163, 164, 165, 166, 167, 168,\n",
       "       169, 170, 171, 172, 173, 174, 175, 176, 177, 178, 179, 180, 181,\n",
       "       182, 183, 184, 185, 186, 187, 188, 189, 190, 191, 192, 193, 194,\n",
       "       195, 196, 197, 198, 199, 200, 201, 202, 203, 204, 206, 207, 208,\n",
       "       209, 210, 211, 212, 213, 214, 215, 216, 217, 218, 219, 220, 221,\n",
       "       222, 223, 224, 225, 226, 227, 228, 229, 230, 231, 232, 233, 234,\n",
       "       235, 236, 237, 238, 239, 251, 994, 321, 291, 605, 854, 254, 466,\n",
       "       476, 677, 832, 609, 243, 283, 240, 241, 242, 244, 245, 246, 247,\n",
       "       248, 249, 250, 252, 253, 255, 256, 257, 258, 259, 260, 261, 262,\n",
       "       263, 264, 265, 266, 267, 268, 269, 270, 271, 272, 273, 274, 275,\n",
       "       276, 277, 278, 279, 280, 281, 282, 284, 285, 286, 287, 288, 289,\n",
       "       290, 292, 293, 294, 295, 296, 297, 298, 299, 300, 301, 302, 303,\n",
       "       304, 305, 306, 407, 554, 915, 403, 812, 813, 814, 815, 307, 308,\n",
       "       309, 310, 311, 312, 313, 314, 315, 316, 317, 318, 319, 320, 322,\n",
       "       323, 324, 325, 326, 327, 328, 329, 330, 331, 332, 333, 334, 335,\n",
       "       336, 337, 338, 339, 340, 341, 342, 343, 344, 345, 346, 347, 348,\n",
       "       349, 350, 351, 352, 353, 354, 355, 356, 357, 358, 359, 360, 361,\n",
       "       362, 363, 364, 365, 366, 367, 368, 369, 370, 371, 372, 373, 374,\n",
       "       375, 376, 377, 378, 379, 380, 381, 382, 383, 384, 385, 386, 387,\n",
       "       388, 389, 390, 391, 392, 393, 394, 395, 396, 397, 398, 399, 400,\n",
       "       401, 402, 404, 405, 406, 408, 409, 410, 411, 412, 413, 414, 415,\n",
       "       416, 417, 418, 419, 420, 421, 422, 423, 424, 425, 426, 427, 428,\n",
       "       429, 430, 431, 432, 433, 434, 435, 436, 437, 438, 439, 440, 441,\n",
       "       442, 443, 444, 445, 446, 447, 448, 449, 450, 451, 452, 453, 454,\n",
       "       455, 456, 457, 458, 459, 460, 461, 462, 463, 464, 465, 467, 468,\n",
       "       469, 470, 471, 472, 473, 474, 475, 477, 478, 479, 480, 481, 482,\n",
       "       483, 484, 485, 486, 487, 488, 489, 490, 491, 492, 493, 494, 495,\n",
       "       496, 497, 498, 499, 500, 501, 502, 503, 504, 505, 506, 507, 508,\n",
       "       509, 510, 511, 512, 513, 514, 515, 516, 517, 518, 519, 520, 521,\n",
       "       522, 523, 524, 525, 526, 527, 528, 529, 530, 531, 532, 533, 534,\n",
       "       535, 536, 537, 538, 539, 540, 541, 542, 543, 544, 545, 546, 547,\n",
       "       548, 549, 550, 551, 552, 553, 555, 556, 557, 558, 559, 560, 561,\n",
       "       562, 563, 564, 565, 566, 567, 568, 569, 570, 571, 572, 573, 574,\n",
       "       575, 576, 577, 578, 579, 580, 581, 582, 583, 584, 585, 586, 587,\n",
       "       588, 589, 590, 591, 592, 593, 594, 595, 596, 597, 598, 599, 600,\n",
       "       601, 602, 603, 604, 606, 607, 608, 610, 611, 612, 613, 614, 615,\n",
       "       616, 617, 618, 619, 620, 621, 622, 623, 624, 625, 626, 627, 628,\n",
       "       629, 630, 631, 632, 633, 634, 635, 636, 637, 638, 639, 640, 641,\n",
       "       642, 643, 644, 645, 646, 647, 648, 649, 650, 651, 652, 653, 654,\n",
       "       655, 656, 657, 658, 659, 660, 661, 662, 663, 664, 665, 666, 667,\n",
       "       668, 669, 670, 671, 672, 673, 674, 675, 676, 678, 679, 680, 681,\n",
       "       682, 683, 684, 685, 686, 687, 688, 689, 690, 691, 692, 693, 694,\n",
       "       695, 696, 697, 698, 699, 700, 701, 702, 703, 704, 705, 706, 707,\n",
       "       708, 709, 710, 711, 712, 713, 714, 715, 716, 717, 718, 719, 720,\n",
       "       721, 722, 723, 724, 725, 726, 727, 728, 729, 730, 731, 732, 733,\n",
       "       734, 735, 736, 737, 738, 739, 740, 741, 742, 743, 744, 745, 746,\n",
       "       747, 748, 749, 750, 751, 752, 753, 754, 755, 756, 757, 758, 759,\n",
       "       760, 761, 762, 763, 764, 765, 766, 767, 768, 769, 770, 771, 772,\n",
       "       773, 774, 775, 776, 777, 778, 779, 780, 781, 782, 783, 784, 785,\n",
       "       786, 787, 788, 789, 790, 791, 792, 793, 794, 795, 796, 797, 798,\n",
       "       799, 800, 801, 802, 803, 804, 805, 806, 807, 808, 809, 810, 811,\n",
       "       816, 817, 818, 819, 820, 821, 822, 823, 824, 825, 826, 827, 828,\n",
       "       829, 830, 831, 833, 834, 835, 836, 837, 838, 839, 840, 841, 842,\n",
       "       843, 844, 845, 846, 847, 848, 849, 850, 851, 852, 853, 855, 856,\n",
       "       857, 858, 859, 860, 861, 862, 863, 864, 865, 866, 867, 868, 869,\n",
       "       870, 871, 872, 873, 874, 875, 876, 877, 878, 879, 880, 881, 882,\n",
       "       883, 884, 885, 886, 887, 888, 889, 890, 891, 892, 893, 894, 895,\n",
       "       896, 897, 898, 899, 900, 901, 902, 903, 904, 905, 906, 907, 908,\n",
       "       909, 910, 911, 912, 913, 914, 916, 917, 918, 919, 920, 921, 922,\n",
       "       923, 924, 925, 926, 927, 928, 929, 930, 931, 932, 933, 934, 935,\n",
       "       936, 937, 938, 939, 940, 941, 942, 943, 944, 945, 946, 947, 948,\n",
       "       949, 950, 951, 952, 953, 954, 955, 956, 957, 958, 959, 960, 961,\n",
       "       962, 963, 964, 965, 966, 967, 968, 969, 970, 971, 972, 973, 974,\n",
       "       975, 976, 977, 978, 979, 980, 981, 982, 983, 984, 985, 986, 987,\n",
       "       988, 989, 990, 991, 992, 993, 995, 996, 997, 998, 999,   0])"
      ]
     },
     "execution_count": 66,
     "metadata": {},
     "output_type": "execute_result"
    }
   ],
   "source": [
    "# from 0 to 999 (zero might be an error) --> have to check what 0 means\n",
    "types_incident = data1[\"Incident\"].unique()\n",
    "types_incident"
   ]
  },
  {
   "cell_type": "code",
   "execution_count": 67,
   "metadata": {},
   "outputs": [
    {
     "data": {
      "text/plain": [
       "1      265528\n",
       "2       71779\n",
       "3       39236\n",
       "4       27113\n",
       "5       20658\n",
       "        ...  \n",
       "784        16\n",
       "783        16\n",
       "782        16\n",
       "781        16\n",
       "0          16\n",
       "Name: Incident, Length: 1000, dtype: int64"
      ]
     },
     "execution_count": 67,
     "metadata": {},
     "output_type": "execute_result"
    }
   ],
   "source": [
    "# so many have enough after 1 time\n",
    "# more than 1/3 is 1\n",
    "# what does incident really mean?\n",
    "# 0 is inly 16 times but what is it?\n",
    "# FIND OUT WHAT IT MEANS \n",
    "# FIND Index of extreme values \n",
    "inc_val = data1[\"Incident\"].value_counts()\n",
    "inc_val"
   ]
  },
  {
   "cell_type": "code",
   "execution_count": 68,
   "metadata": {},
   "outputs": [
    {
     "data": {
      "text/plain": [
       "count      1000.000000\n",
       "mean        638.454000\n",
       "std        8900.322851\n",
       "min          16.000000\n",
       "25%          16.000000\n",
       "50%          17.000000\n",
       "75%          19.000000\n",
       "max      265528.000000\n",
       "Name: Incident, dtype: float64"
      ]
     },
     "execution_count": 68,
     "metadata": {},
     "output_type": "execute_result"
    }
   ],
   "source": [
    "# 1000 diff incidences?, 630 on average, huge deviation to left skew (big cities)\n",
    "inc_val.describe()"
   ]
  },
  {
   "cell_type": "code",
   "execution_count": 69,
   "metadata": {},
   "outputs": [
    {
     "data": {
      "text/plain": [
       "array(['Murder or Manslaughter', 'Manslaughter by Negligence'],\n",
       "      dtype=object)"
      ]
     },
     "execution_count": 69,
     "metadata": {},
     "output_type": "execute_result"
    }
   ],
   "source": [
    "# 2 possible answers\n",
    "# diffine it \n",
    "crime_type = data1[\"Crime Type\"].unique()\n",
    "crime_type"
   ]
  },
  {
   "cell_type": "code",
   "execution_count": 70,
   "metadata": {},
   "outputs": [
    {
     "data": {
      "text/plain": [
       "Murder or Manslaughter        629338\n",
       "Manslaughter by Negligence      9116\n",
       "Name: Crime Type, dtype: int64"
      ]
     },
     "execution_count": 70,
     "metadata": {},
     "output_type": "execute_result"
    }
   ],
   "source": [
    "# so most people kill with intent (unless framed) (about 95%)\n",
    "cr_val = data1[\"Crime Type\"].value_counts()\n",
    "cr_val"
   ]
  },
  {
   "cell_type": "code",
   "execution_count": 71,
   "metadata": {},
   "outputs": [
    {
     "data": {
      "text/plain": [
       "count         2.000000\n",
       "mean     319227.000000\n",
       "std      438563.182041\n",
       "min        9116.000000\n",
       "25%      164171.500000\n",
       "50%      319227.000000\n",
       "75%      474282.500000\n",
       "max      629338.000000\n",
       "Name: Crime Type, dtype: float64"
      ]
     },
     "execution_count": 71,
     "metadata": {},
     "output_type": "execute_result"
    }
   ],
   "source": [
    "cr_val.describe()"
   ]
  },
  {
   "cell_type": "code",
   "execution_count": 72,
   "metadata": {},
   "outputs": [
    {
     "data": {
      "text/plain": [
       "array(['Yes', 'No'], dtype=object)"
      ]
     },
     "execution_count": 72,
     "metadata": {},
     "output_type": "execute_result"
    }
   ],
   "source": [
    "crime_solved = data1[\"Crime Solved\"].unique()\n",
    "crime_solved"
   ]
  },
  {
   "cell_type": "code",
   "execution_count": 73,
   "metadata": {},
   "outputs": [
    {
     "data": {
      "text/plain": [
       "Yes    448172\n",
       "No     190282\n",
       "Name: Crime Solved, dtype: int64"
      ]
     },
     "execution_count": 73,
     "metadata": {},
     "output_type": "execute_result"
    }
   ],
   "source": [
    "# more than half crimes were solved\n",
    "solve_val = data1[\"Crime Solved\"].value_counts()\n",
    "solve_val"
   ]
  },
  {
   "cell_type": "code",
   "execution_count": 74,
   "metadata": {},
   "outputs": [
    {
     "data": {
      "text/plain": [
       "count         2.0000\n",
       "mean     319227.0000\n",
       "std      182355.7678\n",
       "min      190282.0000\n",
       "25%      254754.5000\n",
       "50%      319227.0000\n",
       "75%      383699.5000\n",
       "max      448172.0000\n",
       "Name: Crime Solved, dtype: float64"
      ]
     },
     "execution_count": 74,
     "metadata": {},
     "output_type": "execute_result"
    }
   ],
   "source": [
    "solve_val.describe()"
   ]
  },
  {
   "cell_type": "code",
   "execution_count": 75,
   "metadata": {},
   "outputs": [
    {
     "data": {
      "text/plain": [
       "array(['Male', 'Female', 'Unknown'], dtype=object)"
      ]
     },
     "execution_count": 75,
     "metadata": {},
     "output_type": "execute_result"
    }
   ],
   "source": [
    "# 3 posible options\n",
    "vic_sex = data1[\"Victim Sex\"].unique()\n",
    "vic_sex"
   ]
  },
  {
   "cell_type": "code",
   "execution_count": 76,
   "metadata": {},
   "outputs": [
    {
     "data": {
      "text/plain": [
       "Male       494125\n",
       "Female     143345\n",
       "Unknown       984\n",
       "Name: Victim Sex, dtype: int64"
      ]
     },
     "execution_count": 76,
     "metadata": {},
     "output_type": "execute_result"
    }
   ],
   "source": [
    "# Like 3/4 males are victims hmm...\n",
    "sex_vic = data1[\"Victim Sex\"].value_counts()\n",
    "sex_vic"
   ]
  },
  {
   "cell_type": "code",
   "execution_count": 77,
   "metadata": {},
   "outputs": [
    {
     "data": {
      "text/plain": [
       "count         3.00000\n",
       "mean     212818.00000\n",
       "std      253804.81628\n",
       "min         984.00000\n",
       "25%       72164.50000\n",
       "50%      143345.00000\n",
       "75%      318735.00000\n",
       "max      494125.00000\n",
       "Name: Victim Sex, dtype: float64"
      ]
     },
     "execution_count": 77,
     "metadata": {},
     "output_type": "execute_result"
    }
   ],
   "source": [
    "sex_vic.describe()"
   ]
  },
  {
   "cell_type": "code",
   "execution_count": 78,
   "metadata": {},
   "outputs": [
    {
     "data": {
      "text/plain": [
       "array([ 14,  43,  30,  42,  99,  32,  38,  36,  20,  48,  31,  16,  33,\n",
       "        27,  21,  60,  40,  18,   8,  25,  24,  46,  23,  22,  45,  26,\n",
       "        58,  17,  29,  41,  68,  13,  35,  44,  54,  37,  51,  90,  50,\n",
       "        52,  61,  63,  19,  28,  70,  72,  74,  53,  57,  76,  79,  69,\n",
       "        34,  66,  55,  67,  65,  47,   1,  49,  62,  75,  56,  59,  78,\n",
       "        39,  15,   0,  71,  77,   2,   4,  64,  82,  85,   6,   5,   7,\n",
       "         9,  84,  10,  86,  11,  73,  83, 998,  81,  87,  80,   3,  12,\n",
       "        94,  93,  92,  89,  97,  88,  91,  95,  98,  96])"
      ]
     },
     "execution_count": 78,
     "metadata": {},
     "output_type": "execute_result"
    }
   ],
   "source": [
    "# from 0-998 --> ERROR!!!\n",
    "# REMOVE 998 how many times does 998 appear? and how many times 0?\n",
    "vic_age = data1[\"Victim Age\"].unique()\n",
    "vic_age"
   ]
  },
  {
   "cell_type": "code",
   "execution_count": 79,
   "metadata": {},
   "outputs": [
    {
     "data": {
      "text/plain": [
       "22    23049\n",
       "20    23031\n",
       "25    22939\n",
       "21    22796\n",
       "23    22438\n",
       "      ...  \n",
       "94      116\n",
       "95       82\n",
       "97       39\n",
       "96       37\n",
       "98       33\n",
       "Name: Victim Age, Length: 101, dtype: int64"
      ]
     },
     "execution_count": 79,
     "metadata": {},
     "output_type": "execute_result"
    }
   ],
   "source": [
    "# most victims age in the 20s\n",
    "vic_age_count = data1[\"Victim Age\"].value_counts()\n",
    "vic_age_count"
   ]
  },
  {
   "cell_type": "code",
   "execution_count": 80,
   "metadata": {},
   "outputs": [
    {
     "data": {
      "text/plain": [
       "count      101.000000\n",
       "mean      6321.326733\n",
       "std       6989.412844\n",
       "min         33.000000\n",
       "25%       1067.000000\n",
       "50%       3171.000000\n",
       "75%       9594.000000\n",
       "max      23049.000000\n",
       "Name: Victim Age, dtype: float64"
      ]
     },
     "execution_count": 80,
     "metadata": {},
     "output_type": "execute_result"
    }
   ],
   "source": [
    "# women live longer\n",
    "vic_age_count.describe()"
   ]
  },
  {
   "cell_type": "code",
   "execution_count": 81,
   "metadata": {},
   "outputs": [
    {
     "data": {
      "text/plain": [
       "array(['Native American/Alaska Native', 'White', 'Black', 'Unknown',\n",
       "       'Asian/Pacific Islander'], dtype=object)"
      ]
     },
     "execution_count": 81,
     "metadata": {},
     "output_type": "execute_result"
    }
   ],
   "source": [
    "# 4 options\n",
    "victim_race = data1[\"Victim Race\"].unique()\n",
    "victim_race"
   ]
  },
  {
   "cell_type": "code",
   "execution_count": 82,
   "metadata": {},
   "outputs": [
    {
     "data": {
      "text/plain": [
       "White                            317422\n",
       "Black                            299899\n",
       "Asian/Pacific Islander             9890\n",
       "Unknown                            6676\n",
       "Native American/Alaska Native      4567\n",
       "Name: Victim Race, dtype: int64"
      ]
     },
     "execution_count": 82,
     "metadata": {},
     "output_type": "execute_result"
    }
   ],
   "source": [
    "# most vics are white, black about 48%, 47% \n",
    "vic_race = data1[\"Victim Race\"].value_counts()\n",
    "vic_race"
   ]
  },
  {
   "cell_type": "code",
   "execution_count": 83,
   "metadata": {},
   "outputs": [
    {
     "data": {
      "text/plain": [
       "array(['Unknown', 'Not Hispanic', 'Hispanic'], dtype=object)"
      ]
     },
     "execution_count": 83,
     "metadata": {},
     "output_type": "execute_result"
    }
   ],
   "source": [
    "# 3 options\n",
    "vic_eth = data1[\"Victim Ethnicity\"].unique()\n",
    "vic_eth"
   ]
  },
  {
   "cell_type": "code",
   "execution_count": 84,
   "metadata": {},
   "outputs": [
    {
     "data": {
      "text/plain": [
       "Unknown         368303\n",
       "Not Hispanic    197499\n",
       "Hispanic         72652\n",
       "Name: Victim Ethnicity, dtype: int64"
      ]
     },
     "execution_count": 84,
     "metadata": {},
     "output_type": "execute_result"
    }
   ],
   "source": [
    "# most are uknown 8missing data?, then about 27% are either white, black, asian\n",
    "vi_eth = data1[\"Victim Ethnicity\"].value_counts()\n",
    "vi_eth"
   ]
  },
  {
   "cell_type": "code",
   "execution_count": 85,
   "metadata": {},
   "outputs": [
    {
     "data": {
      "text/plain": [
       "array([15, 42,  0, 36, 27, 35, 40, 49, 39, 29, 19, 23, 33, 26, 41, 28, 61,\n",
       "       25,  7, 17, 34, 21, 43, 38, 66, 32, 37, 22, 30, 24, 65, 51, 60, 45,\n",
       "       64, 18, 20, 44, 73, 62, 69, 52, 16, 90, 56, 47, 57, 31, 46, 14, 55,\n",
       "       50, 54, 68, 77, 53, 67, 48, 76, 58, 71, 63, 89, 13, 75, 72, 93, 59,\n",
       "       10, 11, 79, 74, 99, 70, 78, 80,  9, 12, 81,  6, 87, 82, 83,  8, 84,\n",
       "       85, 86,  5,  3,  1, 88, 95,  4, 91, 92, 96, 94,  2, 98, 97])"
      ]
     },
     "execution_count": 85,
     "metadata": {},
     "output_type": "execute_result"
    }
   ],
   "source": [
    "# from 0-99\n",
    "perp_age = data1[\"Perpetrator Age\"].unique()\n",
    "perp_age"
   ]
  },
  {
   "cell_type": "code",
   "execution_count": 86,
   "metadata": {},
   "outputs": [
    {
     "data": {
      "text/plain": [
       "0     216328\n",
       "20     21625\n",
       "19     20250\n",
       "21     18983\n",
       "18     18834\n",
       "       ...  \n",
       "95         9\n",
       "98         7\n",
       "96         7\n",
       "2          6\n",
       "97         3\n",
       "Name: Perpetrator Age, Length: 100, dtype: int64"
      ]
     },
     "execution_count": 86,
     "metadata": {},
     "output_type": "execute_result"
    }
   ],
   "source": [
    "# 0 must be an error the way we handled it above saying that space = 0\n",
    "# others = 20,19, 21 --> many angry young man\n",
    "perpr_age = data1[\"Perpetrator Age\"].value_counts()\n",
    "perpr_age"
   ]
  },
  {
   "cell_type": "code",
   "execution_count": 87,
   "metadata": {},
   "outputs": [
    {
     "data": {
      "text/plain": [
       "array(['Male', 'Unknown', 'Female'], dtype=object)"
      ]
     },
     "execution_count": 87,
     "metadata": {},
     "output_type": "execute_result"
    }
   ],
   "source": [
    "per_sex = data1[\"Perpetrator Sex\"].unique()\n",
    "per_sex"
   ]
  },
  {
   "cell_type": "code",
   "execution_count": 88,
   "metadata": {},
   "outputs": [
    {
     "data": {
      "text/plain": [
       "Male       399541\n",
       "Unknown    190365\n",
       "Female      48548\n",
       "Name: Perpetrator Sex, dtype: int64"
      ]
     },
     "execution_count": 88,
     "metadata": {},
     "output_type": "execute_result"
    }
   ],
   "source": [
    "# mostly males again?? about 60%\n",
    "perp_age = data1[\"Perpetrator Sex\"].value_counts()\n",
    "perp_age"
   ]
  },
  {
   "cell_type": "code",
   "execution_count": 89,
   "metadata": {},
   "outputs": [
    {
     "data": {
      "text/plain": [
       "Unknown         446410\n",
       "Not Hispanic    145172\n",
       "Hispanic         46872\n",
       "Name: Perpetrator Ethnicity, dtype: int64"
      ]
     },
     "execution_count": 89,
     "metadata": {},
     "output_type": "execute_result"
    }
   ],
   "source": [
    "# prob missing data therfore uknown \n",
    "perp_eth = data1[\"Perpetrator Ethnicity\"].value_counts()\n",
    "perp_eth"
   ]
  },
  {
   "cell_type": "code",
   "execution_count": 90,
   "metadata": {},
   "outputs": [
    {
     "data": {
      "text/plain": [
       "White                            218243\n",
       "Black                            214516\n",
       "Unknown                          196047\n",
       "Asian/Pacific Islander             6046\n",
       "Native American/Alaska Native      3602\n",
       "Name: Perpetrator Race, dtype: int64"
      ]
     },
     "execution_count": 90,
     "metadata": {},
     "output_type": "execute_result"
    }
   ],
   "source": [
    "# here we go again. but considering there is more white people the difference isnt big with others 30% 30% 30%\n",
    "data[\"Perpetrator Race\"].value_counts()"
   ]
  },
  {
   "cell_type": "code",
   "execution_count": 91,
   "metadata": {},
   "outputs": [
    {
     "data": {
      "text/plain": [
       "Unknown                 273013\n",
       "Acquaintance            126018\n",
       "Stranger                 96593\n",
       "Wife                     23187\n",
       "Friend                   21945\n",
       "Girlfriend               16465\n",
       "Son                       9904\n",
       "Family                    9535\n",
       "Husband                   8803\n",
       "Daughter                  7539\n",
       "Boyfriend                 7302\n",
       "Neighbor                  6294\n",
       "Brother                   5514\n",
       "Father                    4361\n",
       "Mother                    4248\n",
       "In-Law                    3637\n",
       "Common-Law Wife           2477\n",
       "Ex-Wife                   1973\n",
       "Common-Law Husband        1954\n",
       "Boyfriend/Girlfriend      1383\n",
       "Stepfather                1360\n",
       "Sister                    1292\n",
       "Stepson                   1170\n",
       "Stepdaughter               754\n",
       "Ex-Husband                 629\n",
       "Employer                   509\n",
       "Employee                   384\n",
       "Stepmother                 211\n",
       "Name: Relationship, dtype: int64"
      ]
     },
     "execution_count": 91,
     "metadata": {},
     "output_type": "execute_result"
    }
   ],
   "source": [
    "# mainly killed by uknown 27% of a time(prob not entered in system), aquitance, then stranger\n",
    "# what does this mean is the \"wife\" the killer or the victim\n",
    "# victim \n",
    "# does it relate to solved or unsolved crimes?\n",
    "relat = data1[\"Relationship\"].value_counts()\n",
    "relat"
   ]
  },
  {
   "cell_type": "code",
   "execution_count": 92,
   "metadata": {},
   "outputs": [
    {
     "data": {
      "text/plain": [
       "count        28.000000\n",
       "mean      22801.928571\n",
       "std       56764.034682\n",
       "min         211.000000\n",
       "25%        1343.000000\n",
       "50%        4304.500000\n",
       "75%        9627.250000\n",
       "max      273013.000000\n",
       "Name: Relationship, dtype: float64"
      ]
     },
     "execution_count": 92,
     "metadata": {},
     "output_type": "execute_result"
    }
   ],
   "source": [
    "# 28 diff relationships, left skew\n",
    "relat.describe()"
   ]
  },
  {
   "cell_type": "code",
   "execution_count": 93,
   "metadata": {},
   "outputs": [
    {
     "data": {
      "text/plain": [
       "Handgun          317484\n",
       "Knife             94962\n",
       "Blunt Object      67337\n",
       "Firearm           46980\n",
       "Unknown           33192\n",
       "Shotgun           30722\n",
       "Rifle             23347\n",
       "Strangulation      8110\n",
       "Fire               6173\n",
       "Suffocation        3968\n",
       "Gun                2206\n",
       "Drugs              1588\n",
       "Drowning           1204\n",
       "Explosives          537\n",
       "Poison              454\n",
       "Fall                190\n",
       "Name: Weapon, dtype: int64"
      ]
     },
     "execution_count": 93,
     "metadata": {},
     "output_type": "execute_result"
    }
   ],
   "source": [
    "# half die with a gun, 8% by knife\n",
    "# massshootings?\n",
    "# uknown solved or unsolved?\n",
    "weapond = data1[\"Weapon\"].value_counts()\n",
    "weapond"
   ]
  },
  {
   "cell_type": "code",
   "execution_count": 94,
   "metadata": {},
   "outputs": [
    {
     "data": {
      "text/plain": [
       "count        16.000000\n",
       "mean      39903.375000\n",
       "std       79077.353807\n",
       "min         190.000000\n",
       "25%        1492.000000\n",
       "50%        7141.500000\n",
       "75%       36639.000000\n",
       "max      317484.000000\n",
       "Name: Weapon, dtype: float64"
      ]
     },
     "execution_count": 94,
     "metadata": {},
     "output_type": "execute_result"
    }
   ],
   "source": [
    "# left skew, 16 vays to die\n",
    "weapond.describe()"
   ]
  },
  {
   "cell_type": "code",
   "execution_count": 95,
   "metadata": {},
   "outputs": [
    {
     "data": {
      "text/plain": [
       "0     558838\n",
       "1      54745\n",
       "2      15777\n",
       "3       6531\n",
       "4       1489\n",
       "5        592\n",
       "6        207\n",
       "7        129\n",
       "9         52\n",
       "8         52\n",
       "10        42\n",
       "Name: Perpetrator Count, dtype: int64"
      ]
     },
     "execution_count": 95,
     "metadata": {},
     "output_type": "execute_result"
    }
   ],
   "source": [
    "# WHAT does 0 mean ?? as 1?\n",
    "# still check\n",
    "# if 0 +1 is correct \n",
    "# no inputs or uknowns \n",
    "perp_count = data1[\"Perpetrator Count\"].value_counts()\n",
    "perp_count"
   ]
  },
  {
   "cell_type": "code",
   "execution_count": 96,
   "metadata": {},
   "outputs": [
    {
     "data": {
      "text/plain": [
       "count        11.000000\n",
       "mean      58041.272727\n",
       "std      166893.512297\n",
       "min          42.000000\n",
       "25%          90.500000\n",
       "50%         592.000000\n",
       "75%       11154.000000\n",
       "max      558838.000000\n",
       "Name: Perpetrator Count, dtype: float64"
      ]
     },
     "execution_count": 96,
     "metadata": {},
     "output_type": "execute_result"
    }
   ],
   "source": [
    "perp_count.describe()"
   ]
  },
  {
   "cell_type": "code",
   "execution_count": 97,
   "metadata": {},
   "outputs": [
    {
     "data": {
      "text/plain": [
       "0     586059\n",
       "1      38750\n",
       "2       8156\n",
       "3       2847\n",
       "4       1084\n",
       "5        510\n",
       "9        290\n",
       "6        286\n",
       "7        168\n",
       "10       160\n",
       "8        144\n",
       "Name: Victim Count, dtype: int64"
      ]
     },
     "execution_count": 97,
     "metadata": {},
     "output_type": "execute_result"
    }
   ],
   "source": [
    "vic_count = data1[\"Victim Count\"].value_counts()\n",
    "vic_count"
   ]
  },
  {
   "cell_type": "code",
   "execution_count": 98,
   "metadata": {},
   "outputs": [
    {
     "data": {
      "text/plain": [
       "count        11.000000\n",
       "mean      58041.272727\n",
       "std      175495.393843\n",
       "min         144.000000\n",
       "25%         227.000000\n",
       "50%         510.000000\n",
       "75%        5501.500000\n",
       "max      586059.000000\n",
       "Name: Victim Count, dtype: float64"
      ]
     },
     "execution_count": 98,
     "metadata": {},
     "output_type": "execute_result"
    }
   ],
   "source": [
    "vic_count.describe()"
   ]
  },
  {
   "cell_type": "code",
   "execution_count": 99,
   "metadata": {},
   "outputs": [
    {
     "data": {
      "text/plain": [
       "FBI     616647\n",
       "FOIA     21807\n",
       "Name: Record Source, dtype: int64"
      ]
     },
     "execution_count": 99,
     "metadata": {},
     "output_type": "execute_result"
    }
   ],
   "source": [
    "rec_source = data[\"Record Source\"].value_counts()\n",
    "rec_source"
   ]
  },
  {
   "cell_type": "code",
   "execution_count": 100,
   "metadata": {},
   "outputs": [],
   "source": [
    "# Deleting"
   ]
  },
  {
   "cell_type": "code",
   "execution_count": 103,
   "metadata": {},
   "outputs": [
    {
     "ename": "KeyError",
     "evalue": "'[False False  True ... False False False] not found in axis'",
     "output_type": "error",
     "traceback": [
      "\u001b[0;31m---------------------------------------------------------------------------\u001b[0m",
      "\u001b[0;31mKeyError\u001b[0m                                  Traceback (most recent call last)",
      "\u001b[0;32m<ipython-input-103-86580d619077>\u001b[0m in \u001b[0;36m<module>\u001b[0;34m\u001b[0m\n\u001b[0;32m----> 1\u001b[0;31m \u001b[0mdel_0age\u001b[0m \u001b[0;34m=\u001b[0m \u001b[0mdata1\u001b[0m\u001b[0;34m.\u001b[0m\u001b[0mdrop\u001b[0m\u001b[0;34m(\u001b[0m\u001b[0mdata1\u001b[0m\u001b[0;34m[\u001b[0m\u001b[0;34m\"Perpetrator Age\"\u001b[0m\u001b[0;34m]\u001b[0m \u001b[0;34m==\u001b[0m\u001b[0;36m0\u001b[0m\u001b[0;34m)\u001b[0m\u001b[0;34m\u001b[0m\u001b[0;34m\u001b[0m\u001b[0m\n\u001b[0m\u001b[1;32m      2\u001b[0m \u001b[0mdel_0age\u001b[0m\u001b[0;34m\u001b[0m\u001b[0;34m\u001b[0m\u001b[0m\n",
      "\u001b[0;32m/opt/tljh/user/lib/python3.6/site-packages/pandas/core/frame.py\u001b[0m in \u001b[0;36mdrop\u001b[0;34m(self, labels, axis, index, columns, level, inplace, errors)\u001b[0m\n\u001b[1;32m   4115\u001b[0m             \u001b[0mlevel\u001b[0m\u001b[0;34m=\u001b[0m\u001b[0mlevel\u001b[0m\u001b[0;34m,\u001b[0m\u001b[0;34m\u001b[0m\u001b[0;34m\u001b[0m\u001b[0m\n\u001b[1;32m   4116\u001b[0m             \u001b[0minplace\u001b[0m\u001b[0;34m=\u001b[0m\u001b[0minplace\u001b[0m\u001b[0;34m,\u001b[0m\u001b[0;34m\u001b[0m\u001b[0;34m\u001b[0m\u001b[0m\n\u001b[0;32m-> 4117\u001b[0;31m             \u001b[0merrors\u001b[0m\u001b[0;34m=\u001b[0m\u001b[0merrors\u001b[0m\u001b[0;34m,\u001b[0m\u001b[0;34m\u001b[0m\u001b[0;34m\u001b[0m\u001b[0m\n\u001b[0m\u001b[1;32m   4118\u001b[0m         )\n\u001b[1;32m   4119\u001b[0m \u001b[0;34m\u001b[0m\u001b[0m\n",
      "\u001b[0;32m/opt/tljh/user/lib/python3.6/site-packages/pandas/core/generic.py\u001b[0m in \u001b[0;36mdrop\u001b[0;34m(self, labels, axis, index, columns, level, inplace, errors)\u001b[0m\n\u001b[1;32m   3912\u001b[0m         \u001b[0;32mfor\u001b[0m \u001b[0maxis\u001b[0m\u001b[0;34m,\u001b[0m \u001b[0mlabels\u001b[0m \u001b[0;32min\u001b[0m \u001b[0maxes\u001b[0m\u001b[0;34m.\u001b[0m\u001b[0mitems\u001b[0m\u001b[0;34m(\u001b[0m\u001b[0;34m)\u001b[0m\u001b[0;34m:\u001b[0m\u001b[0;34m\u001b[0m\u001b[0;34m\u001b[0m\u001b[0m\n\u001b[1;32m   3913\u001b[0m             \u001b[0;32mif\u001b[0m \u001b[0mlabels\u001b[0m \u001b[0;32mis\u001b[0m \u001b[0;32mnot\u001b[0m \u001b[0;32mNone\u001b[0m\u001b[0;34m:\u001b[0m\u001b[0;34m\u001b[0m\u001b[0;34m\u001b[0m\u001b[0m\n\u001b[0;32m-> 3914\u001b[0;31m                 \u001b[0mobj\u001b[0m \u001b[0;34m=\u001b[0m \u001b[0mobj\u001b[0m\u001b[0;34m.\u001b[0m\u001b[0m_drop_axis\u001b[0m\u001b[0;34m(\u001b[0m\u001b[0mlabels\u001b[0m\u001b[0;34m,\u001b[0m \u001b[0maxis\u001b[0m\u001b[0;34m,\u001b[0m \u001b[0mlevel\u001b[0m\u001b[0;34m=\u001b[0m\u001b[0mlevel\u001b[0m\u001b[0;34m,\u001b[0m \u001b[0merrors\u001b[0m\u001b[0;34m=\u001b[0m\u001b[0merrors\u001b[0m\u001b[0;34m)\u001b[0m\u001b[0;34m\u001b[0m\u001b[0;34m\u001b[0m\u001b[0m\n\u001b[0m\u001b[1;32m   3915\u001b[0m \u001b[0;34m\u001b[0m\u001b[0m\n\u001b[1;32m   3916\u001b[0m         \u001b[0;32mif\u001b[0m \u001b[0minplace\u001b[0m\u001b[0;34m:\u001b[0m\u001b[0;34m\u001b[0m\u001b[0;34m\u001b[0m\u001b[0m\n",
      "\u001b[0;32m/opt/tljh/user/lib/python3.6/site-packages/pandas/core/generic.py\u001b[0m in \u001b[0;36m_drop_axis\u001b[0;34m(self, labels, axis, level, errors)\u001b[0m\n\u001b[1;32m   3944\u001b[0m                 \u001b[0mnew_axis\u001b[0m \u001b[0;34m=\u001b[0m \u001b[0maxis\u001b[0m\u001b[0;34m.\u001b[0m\u001b[0mdrop\u001b[0m\u001b[0;34m(\u001b[0m\u001b[0mlabels\u001b[0m\u001b[0;34m,\u001b[0m \u001b[0mlevel\u001b[0m\u001b[0;34m=\u001b[0m\u001b[0mlevel\u001b[0m\u001b[0;34m,\u001b[0m \u001b[0merrors\u001b[0m\u001b[0;34m=\u001b[0m\u001b[0merrors\u001b[0m\u001b[0;34m)\u001b[0m\u001b[0;34m\u001b[0m\u001b[0;34m\u001b[0m\u001b[0m\n\u001b[1;32m   3945\u001b[0m             \u001b[0;32melse\u001b[0m\u001b[0;34m:\u001b[0m\u001b[0;34m\u001b[0m\u001b[0;34m\u001b[0m\u001b[0m\n\u001b[0;32m-> 3946\u001b[0;31m                 \u001b[0mnew_axis\u001b[0m \u001b[0;34m=\u001b[0m \u001b[0maxis\u001b[0m\u001b[0;34m.\u001b[0m\u001b[0mdrop\u001b[0m\u001b[0;34m(\u001b[0m\u001b[0mlabels\u001b[0m\u001b[0;34m,\u001b[0m \u001b[0merrors\u001b[0m\u001b[0;34m=\u001b[0m\u001b[0merrors\u001b[0m\u001b[0;34m)\u001b[0m\u001b[0;34m\u001b[0m\u001b[0;34m\u001b[0m\u001b[0m\n\u001b[0m\u001b[1;32m   3947\u001b[0m             \u001b[0mresult\u001b[0m \u001b[0;34m=\u001b[0m \u001b[0mself\u001b[0m\u001b[0;34m.\u001b[0m\u001b[0mreindex\u001b[0m\u001b[0;34m(\u001b[0m\u001b[0;34m**\u001b[0m\u001b[0;34m{\u001b[0m\u001b[0maxis_name\u001b[0m\u001b[0;34m:\u001b[0m \u001b[0mnew_axis\u001b[0m\u001b[0;34m}\u001b[0m\u001b[0;34m)\u001b[0m\u001b[0;34m\u001b[0m\u001b[0;34m\u001b[0m\u001b[0m\n\u001b[1;32m   3948\u001b[0m \u001b[0;34m\u001b[0m\u001b[0m\n",
      "\u001b[0;32m/opt/tljh/user/lib/python3.6/site-packages/pandas/core/indexes/base.py\u001b[0m in \u001b[0;36mdrop\u001b[0;34m(self, labels, errors)\u001b[0m\n\u001b[1;32m   5338\u001b[0m         \u001b[0;32mif\u001b[0m \u001b[0mmask\u001b[0m\u001b[0;34m.\u001b[0m\u001b[0many\u001b[0m\u001b[0;34m(\u001b[0m\u001b[0;34m)\u001b[0m\u001b[0;34m:\u001b[0m\u001b[0;34m\u001b[0m\u001b[0;34m\u001b[0m\u001b[0m\n\u001b[1;32m   5339\u001b[0m             \u001b[0;32mif\u001b[0m \u001b[0merrors\u001b[0m \u001b[0;34m!=\u001b[0m \u001b[0;34m\"ignore\"\u001b[0m\u001b[0;34m:\u001b[0m\u001b[0;34m\u001b[0m\u001b[0;34m\u001b[0m\u001b[0m\n\u001b[0;32m-> 5340\u001b[0;31m                 \u001b[0;32mraise\u001b[0m \u001b[0mKeyError\u001b[0m\u001b[0;34m(\u001b[0m\u001b[0;34m\"{} not found in axis\"\u001b[0m\u001b[0;34m.\u001b[0m\u001b[0mformat\u001b[0m\u001b[0;34m(\u001b[0m\u001b[0mlabels\u001b[0m\u001b[0;34m[\u001b[0m\u001b[0mmask\u001b[0m\u001b[0;34m]\u001b[0m\u001b[0;34m)\u001b[0m\u001b[0;34m)\u001b[0m\u001b[0;34m\u001b[0m\u001b[0;34m\u001b[0m\u001b[0m\n\u001b[0m\u001b[1;32m   5341\u001b[0m             \u001b[0mindexer\u001b[0m \u001b[0;34m=\u001b[0m \u001b[0mindexer\u001b[0m\u001b[0;34m[\u001b[0m\u001b[0;34m~\u001b[0m\u001b[0mmask\u001b[0m\u001b[0;34m]\u001b[0m\u001b[0;34m\u001b[0m\u001b[0;34m\u001b[0m\u001b[0m\n\u001b[1;32m   5342\u001b[0m         \u001b[0;32mreturn\u001b[0m \u001b[0mself\u001b[0m\u001b[0;34m.\u001b[0m\u001b[0mdelete\u001b[0m\u001b[0;34m(\u001b[0m\u001b[0mindexer\u001b[0m\u001b[0;34m)\u001b[0m\u001b[0;34m\u001b[0m\u001b[0;34m\u001b[0m\u001b[0m\n",
      "\u001b[0;31mKeyError\u001b[0m: '[False False  True ... False False False] not found in axis'"
     ]
    }
   ],
   "source": [
    "del_0age = data1.drop(data1[\"Perpetrator Age\"] ==0)\n",
    "del_0age"
   ]
  },
  {
   "cell_type": "code",
   "execution_count": null,
   "metadata": {},
   "outputs": [],
   "source": []
  },
  {
   "cell_type": "code",
   "execution_count": null,
   "metadata": {},
   "outputs": [],
   "source": [
    "# Saving clean data\n",
    "#data.to_csv(\"US Homicidev2.csv\")"
   ]
  },
  {
   "cell_type": "code",
   "execution_count": null,
   "metadata": {},
   "outputs": [],
   "source": []
  }
 ],
 "metadata": {
  "kernelspec": {
   "display_name": "Python 3",
   "language": "python",
   "name": "python3"
  },
  "language_info": {
   "codemirror_mode": {
    "name": "ipython",
    "version": 3
   },
   "file_extension": ".py",
   "mimetype": "text/x-python",
   "name": "python",
   "nbconvert_exporter": "python",
   "pygments_lexer": "ipython3",
   "version": "3.6.7"
  }
 },
 "nbformat": 4,
 "nbformat_minor": 2
}
