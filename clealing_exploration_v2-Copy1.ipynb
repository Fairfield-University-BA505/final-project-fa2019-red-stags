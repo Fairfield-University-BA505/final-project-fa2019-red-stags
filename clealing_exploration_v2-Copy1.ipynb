{
 "cells": [
  {
   "cell_type": "markdown",
   "metadata": {},
   "source": [
    "# Murderer or Victim?\n",
    "\n",
    "### Problem statements (objectives):\n",
    "    - What are the chances that you are either a murderer or a victim depending on the set variables and attributes\n",
    "    - What are the characteristics of murderers or victims\n",
    "    - What kind of relationship is between the data\n",
    "    - Identify the serial killer activity per location and year\n",
    "    - Identify interasting relationships (correlation) between different variables later to be used for building a \n",
    "        decision tree and clustering\n",
    "        \n",
    "        \n",
    "    - AUDIENCElike you are working for someone \n",
    "    - how safe is your state\n",
    "    - how do you sell it to police (to sell this product)\n",
    "    - location wise perp/vic\n",
    "    - construction company \n",
    "    - age groups --> can ew improve education (can we improve) \n",
    "    - propose to state gov. \n",
    "    - whats the solution if proposal\n",
    "    - yes/npo \n",
    "    - 3 departments (wants bigger university, construc community, police) by show of hands what will you support \n",
    "    - each have 3 minutes --> competition \n",
    "    - write it as a storyline (question biggest - safedt location..., more people in university)\n",
    "    - how to get to that conclusion \n",
    "    - another notebook for presentation (asking for money) --> monopoly --> collect \n",
    "    - who cares? apply it to specific question --> put it to them hands to care (hook in)\n",
    "    - questions --> make you point \n",
    "    - pass the hat to collect the momey --> moderator (anonymous voting) --> online \n",
    "    - whats the million dollar question ? 3 questions \n",
    "    - real comptetitions --> attacking each other fighting over million dollars (or live debate --> atack back your project is stupid can prove it)\n",
    "    - just insight \n",
    "\n",
    "# GET CORRELATION TO NOT SOLVED AND UNKNOWN VALUES\n",
    "\n",
    "### Glossary\n",
    "\n",
    "Our main homocide dataset consists of 24 columns of 638,454 rows. Features are explained in detail in the getting to know the data section. The following features (variables) are integer based and will be used for calculations:\n",
    "    1. The record ID simply signifies the number of rows)\n",
    "    2. Year and month data was collected from 1980-2014 (depending on location)\n",
    "    3. Incident are the case(s) for which these other features were collected (e.g. 1 incident for year 2014 in CT etc.)\n",
    "    4. Victim Age\n",
    "    5. Perpetrator Age\n",
    "    6. Victim Count and Perpertrator Count starting with zero and maximum value of 10 (the original dataset) tells us about        the number of victims and perpetrators involved in a particular incident.  \n",
    "    \n",
    "The folowing columns are an object data type:\n",
    "    1. Agency code is six-digit alphanumeric code used to classify accounts by the federal or non-federal agency. \n",
    "        The alpha part of the code is the parent or major agency. The numeric part of the code identifies the sub-agency.\n",
    "    2. Agency name\n",
    "    3. Agency type \n",
    "    4. City, state\n",
    "    5. Victim and perpetrator sex, ethnicity, race, relationship\n",
    "    6. Crime type\n",
    "        - Murder or Mansloughter\n",
    "        - Mansloughter by negligence\n",
    "    7. Crime solved\n",
    "    8. Weapon\n",
    "    \n",
    "### Data Source and Content\n",
    "\n",
    "Source: https://www.kaggle.com/murderaccountability/homicide-reports\n",
    "\n",
    "The Murder Accountability Project is the most complete database of homicides in the United States currently available. This dataset includes murders from the FBI's Supplementary Homicide Report from 1976 to the present and Freedom of Information Act data on more than 22,000 homicides that were not reported to the Justice Department. This dataset includes the age, race, sex, ethnicity of victims and perpetrators, in addition to the relationship between the victim and perpetrator and weapon used.\n",
    "\n",
    "Acknowledgements\n",
    "\n",
    "The data was compiled and made available by the Murder Accountability Project, founded by Thomas Hargrove."
   ]
  },
  {
   "cell_type": "markdown",
   "metadata": {},
   "source": [
    "# Findings\n",
    "\n",
    "    - Starting with 638453 of observations after removing all missing or uknown data we end up with 151243.\n",
    "        Which is concerning as 497,210 incidents do not have all the information. \n",
    "    - There were 190,282 unsolved crimes in the original dataset. Even if we say that these are the crimes \n",
    "    we do not have complete data on it still leaves 306,928 without complete information. \n",
    "\n",
    "    - In 2014 not cleaned data: Perpetrator Count 17816, Victim Count 16396\n",
    "\n",
    "    - FBI CITED: In 2014, the estimated number of murders in the nation was 14,249. \n",
    "        There were more perpetrators than victims. \n",
    "\n",
    "    - In 2013 from our data: \n",
    "        - Perpetrator Count    17930\n",
    "        - Victim Count         16721\n",
    "\n",
    "    - In the 2013 FBI reported 14,196 murders. \n",
    "    \n",
    "### Interesting question:\n",
    "    - we would be interested to see the growth rate per year and/or state. \n",
    "    - This numbers match almost the same as to online resources meaning that reporting is the problem. Why?\n",
    "    - Based on the relationship how far/less likely are you to be a victim. \n",
    "    - detect serial murderer activity\n",
    "    - Fill in the gaps with mashine learning classification on the clean data \n",
    "    - Who is the most likely a murderer based on the relationship (reverse relationship role)\n",
    "    \n",
    "Reason why reporting might not as good:\n",
    "\n",
    "The victims survey is an important tool for researchers because a significant percentage of crimes are never reported to police and so are not counted in other measures like the FBI’s Uniform Crime Reporting program. By asking nearly 225,000 people if they’ve been victims of crime and whether they reported it to the police, the survey tries to fill in the gaps of other measures that can undercount crimes in communities where vulnerable populations do not go to the police for help as often.\n",
    "\n",
    "The U.S. has two major data collection programs, the Uniform Crime Reports from the FBI and the National Crime Victimization Survey from the Bureau of Justice Statistics. However, the U.S. has no comprehensive infrastructure to monitor crime trends and report the information to related parties such as law enforcement.[2]\n",
    "\n",
    "while domestic violence, domestic child abuse and sexual offences are frequently significantly under-reported because of the intimate relationships involved, embarrassment and other factors that make it difficult for the victim to make a report.\n",
    "\n",
    "http://theconversation.com/why-the-us-needs-better-crime-reporting-statistics-104731"
   ]
  },
  {
   "cell_type": "code",
   "execution_count": null,
   "metadata": {},
   "outputs": [],
   "source": []
  },
  {
   "cell_type": "markdown",
   "metadata": {},
   "source": [
    "## 1. Data exploration and finding errors\n",
    "\n",
    "The intention here is to get to know the data and identify errors column by column. "
   ]
  },
  {
   "cell_type": "code",
   "execution_count": 1,
   "metadata": {},
   "outputs": [],
   "source": [
    "# importing libraries\n",
    "\n",
    "import pandas as pd # importing, data manipulation, subsetting\n",
    "import numpy as np # linear algebra\n",
    "import matplotlib.pyplot as plt\n",
    "import seaborn as sns"
   ]
  },
  {
   "cell_type": "code",
   "execution_count": 2,
   "metadata": {},
   "outputs": [
    {
     "name": "stderr",
     "output_type": "stream",
     "text": [
      "/opt/tljh/user/lib/python3.6/site-packages/IPython/core/interactiveshell.py:3058: DtypeWarning: Columns (16) have mixed types. Specify dtype option on import or set low_memory=False.\n",
      "  interactivity=interactivity, compiler=compiler, result=result)\n"
     ]
    },
    {
     "data": {
      "text/html": [
       "<div>\n",
       "<style scoped>\n",
       "    .dataframe tbody tr th:only-of-type {\n",
       "        vertical-align: middle;\n",
       "    }\n",
       "\n",
       "    .dataframe tbody tr th {\n",
       "        vertical-align: top;\n",
       "    }\n",
       "\n",
       "    .dataframe thead th {\n",
       "        text-align: right;\n",
       "    }\n",
       "</style>\n",
       "<table border=\"1\" class=\"dataframe\">\n",
       "  <thead>\n",
       "    <tr style=\"text-align: right;\">\n",
       "      <th></th>\n",
       "      <th>Record ID</th>\n",
       "      <th>Agency Code</th>\n",
       "      <th>Agency Name</th>\n",
       "      <th>Agency Type</th>\n",
       "      <th>City</th>\n",
       "      <th>State</th>\n",
       "      <th>Year</th>\n",
       "      <th>Month</th>\n",
       "      <th>Incident</th>\n",
       "      <th>Crime Type</th>\n",
       "      <th>...</th>\n",
       "      <th>Victim Ethnicity</th>\n",
       "      <th>Perpetrator Sex</th>\n",
       "      <th>Perpetrator Age</th>\n",
       "      <th>Perpetrator Race</th>\n",
       "      <th>Perpetrator Ethnicity</th>\n",
       "      <th>Relationship</th>\n",
       "      <th>Weapon</th>\n",
       "      <th>Victim Count</th>\n",
       "      <th>Perpetrator Count</th>\n",
       "      <th>Record Source</th>\n",
       "    </tr>\n",
       "  </thead>\n",
       "  <tbody>\n",
       "    <tr>\n",
       "      <th>0</th>\n",
       "      <td>1</td>\n",
       "      <td>AK00101</td>\n",
       "      <td>Anchorage</td>\n",
       "      <td>Municipal Police</td>\n",
       "      <td>Anchorage</td>\n",
       "      <td>Alaska</td>\n",
       "      <td>1980</td>\n",
       "      <td>January</td>\n",
       "      <td>1</td>\n",
       "      <td>Murder or Manslaughter</td>\n",
       "      <td>...</td>\n",
       "      <td>Unknown</td>\n",
       "      <td>Male</td>\n",
       "      <td>15</td>\n",
       "      <td>Native American/Alaska Native</td>\n",
       "      <td>Unknown</td>\n",
       "      <td>Acquaintance</td>\n",
       "      <td>Blunt Object</td>\n",
       "      <td>0</td>\n",
       "      <td>0</td>\n",
       "      <td>FBI</td>\n",
       "    </tr>\n",
       "    <tr>\n",
       "      <th>1</th>\n",
       "      <td>2</td>\n",
       "      <td>AK00101</td>\n",
       "      <td>Anchorage</td>\n",
       "      <td>Municipal Police</td>\n",
       "      <td>Anchorage</td>\n",
       "      <td>Alaska</td>\n",
       "      <td>1980</td>\n",
       "      <td>March</td>\n",
       "      <td>1</td>\n",
       "      <td>Murder or Manslaughter</td>\n",
       "      <td>...</td>\n",
       "      <td>Unknown</td>\n",
       "      <td>Male</td>\n",
       "      <td>42</td>\n",
       "      <td>White</td>\n",
       "      <td>Unknown</td>\n",
       "      <td>Acquaintance</td>\n",
       "      <td>Strangulation</td>\n",
       "      <td>0</td>\n",
       "      <td>0</td>\n",
       "      <td>FBI</td>\n",
       "    </tr>\n",
       "    <tr>\n",
       "      <th>2</th>\n",
       "      <td>3</td>\n",
       "      <td>AK00101</td>\n",
       "      <td>Anchorage</td>\n",
       "      <td>Municipal Police</td>\n",
       "      <td>Anchorage</td>\n",
       "      <td>Alaska</td>\n",
       "      <td>1980</td>\n",
       "      <td>March</td>\n",
       "      <td>2</td>\n",
       "      <td>Murder or Manslaughter</td>\n",
       "      <td>...</td>\n",
       "      <td>Unknown</td>\n",
       "      <td>Unknown</td>\n",
       "      <td>0</td>\n",
       "      <td>Unknown</td>\n",
       "      <td>Unknown</td>\n",
       "      <td>Unknown</td>\n",
       "      <td>Unknown</td>\n",
       "      <td>0</td>\n",
       "      <td>0</td>\n",
       "      <td>FBI</td>\n",
       "    </tr>\n",
       "    <tr>\n",
       "      <th>638451</th>\n",
       "      <td>638452</td>\n",
       "      <td>WY01701</td>\n",
       "      <td>Sheridan</td>\n",
       "      <td>Municipal Police</td>\n",
       "      <td>Sheridan</td>\n",
       "      <td>Wyoming</td>\n",
       "      <td>2014</td>\n",
       "      <td>September</td>\n",
       "      <td>1</td>\n",
       "      <td>Murder or Manslaughter</td>\n",
       "      <td>...</td>\n",
       "      <td>Unknown</td>\n",
       "      <td>Female</td>\n",
       "      <td>22</td>\n",
       "      <td>Asian/Pacific Islander</td>\n",
       "      <td>Unknown</td>\n",
       "      <td>Daughter</td>\n",
       "      <td>Suffocation</td>\n",
       "      <td>0</td>\n",
       "      <td>0</td>\n",
       "      <td>FBI</td>\n",
       "    </tr>\n",
       "    <tr>\n",
       "      <th>638452</th>\n",
       "      <td>638453</td>\n",
       "      <td>WY01800</td>\n",
       "      <td>Sublette County</td>\n",
       "      <td>Sheriff</td>\n",
       "      <td>Sublette</td>\n",
       "      <td>Wyoming</td>\n",
       "      <td>2014</td>\n",
       "      <td>December</td>\n",
       "      <td>1</td>\n",
       "      <td>Murder or Manslaughter</td>\n",
       "      <td>...</td>\n",
       "      <td>Not Hispanic</td>\n",
       "      <td>Male</td>\n",
       "      <td>31</td>\n",
       "      <td>White</td>\n",
       "      <td>Not Hispanic</td>\n",
       "      <td>Stranger</td>\n",
       "      <td>Knife</td>\n",
       "      <td>0</td>\n",
       "      <td>1</td>\n",
       "      <td>FBI</td>\n",
       "    </tr>\n",
       "    <tr>\n",
       "      <th>638453</th>\n",
       "      <td>638454</td>\n",
       "      <td>WY01902</td>\n",
       "      <td>Rock Springs</td>\n",
       "      <td>Municipal Police</td>\n",
       "      <td>Sweetwater</td>\n",
       "      <td>Wyoming</td>\n",
       "      <td>2014</td>\n",
       "      <td>September</td>\n",
       "      <td>1</td>\n",
       "      <td>Murder or Manslaughter</td>\n",
       "      <td>...</td>\n",
       "      <td>Not Hispanic</td>\n",
       "      <td>Female</td>\n",
       "      <td>24</td>\n",
       "      <td>White</td>\n",
       "      <td>Not Hispanic</td>\n",
       "      <td>Daughter</td>\n",
       "      <td>Blunt Object</td>\n",
       "      <td>0</td>\n",
       "      <td>1</td>\n",
       "      <td>FBI</td>\n",
       "    </tr>\n",
       "  </tbody>\n",
       "</table>\n",
       "<p>6 rows × 24 columns</p>\n",
       "</div>"
      ],
      "text/plain": [
       "        Record ID Agency Code      Agency Name       Agency Type        City  \\\n",
       "0               1     AK00101        Anchorage  Municipal Police   Anchorage   \n",
       "1               2     AK00101        Anchorage  Municipal Police   Anchorage   \n",
       "2               3     AK00101        Anchorage  Municipal Police   Anchorage   \n",
       "638451     638452     WY01701         Sheridan  Municipal Police    Sheridan   \n",
       "638452     638453     WY01800  Sublette County           Sheriff    Sublette   \n",
       "638453     638454     WY01902     Rock Springs  Municipal Police  Sweetwater   \n",
       "\n",
       "          State  Year      Month  Incident              Crime Type  ...  \\\n",
       "0        Alaska  1980    January         1  Murder or Manslaughter  ...   \n",
       "1        Alaska  1980      March         1  Murder or Manslaughter  ...   \n",
       "2        Alaska  1980      March         2  Murder or Manslaughter  ...   \n",
       "638451  Wyoming  2014  September         1  Murder or Manslaughter  ...   \n",
       "638452  Wyoming  2014   December         1  Murder or Manslaughter  ...   \n",
       "638453  Wyoming  2014  September         1  Murder or Manslaughter  ...   \n",
       "\n",
       "       Victim Ethnicity Perpetrator Sex  Perpetrator Age  \\\n",
       "0               Unknown            Male               15   \n",
       "1               Unknown            Male               42   \n",
       "2               Unknown         Unknown                0   \n",
       "638451          Unknown          Female               22   \n",
       "638452     Not Hispanic            Male               31   \n",
       "638453     Not Hispanic          Female               24   \n",
       "\n",
       "                     Perpetrator Race Perpetrator Ethnicity  Relationship  \\\n",
       "0       Native American/Alaska Native               Unknown  Acquaintance   \n",
       "1                               White               Unknown  Acquaintance   \n",
       "2                             Unknown               Unknown       Unknown   \n",
       "638451         Asian/Pacific Islander               Unknown      Daughter   \n",
       "638452                          White          Not Hispanic      Stranger   \n",
       "638453                          White          Not Hispanic      Daughter   \n",
       "\n",
       "               Weapon Victim Count Perpetrator Count Record Source  \n",
       "0        Blunt Object            0                 0           FBI  \n",
       "1       Strangulation            0                 0           FBI  \n",
       "2             Unknown            0                 0           FBI  \n",
       "638451    Suffocation            0                 0           FBI  \n",
       "638452          Knife            0                 1           FBI  \n",
       "638453   Blunt Object            0                 1           FBI  \n",
       "\n",
       "[6 rows x 24 columns]"
      ]
     },
     "execution_count": 2,
     "metadata": {},
     "output_type": "execute_result"
    }
   ],
   "source": [
    "# reading in the csv file \n",
    "data = pd.read_csv(\"US HOMOCIDE REPORT.csv\")\n",
    "\n",
    "# diplay first 3 and last 3 rows of the dataset\n",
    "head = data.head(3)\n",
    "tail = data.tail(3)\n",
    "\n",
    "# concatonate it together \n",
    "pd.concat([head,tail])"
   ]
  },
  {
   "cell_type": "code",
   "execution_count": 15,
   "metadata": {},
   "outputs": [
    {
     "name": "stdout",
     "output_type": "stream",
     "text": [
      "<class 'pandas.core.frame.DataFrame'>\n",
      "RangeIndex: 638454 entries, 0 to 638453\n",
      "Data columns (total 24 columns):\n",
      "Record ID                638454 non-null int64\n",
      "Agency Code              638454 non-null object\n",
      "Agency Name              638454 non-null object\n",
      "Agency Type              638454 non-null object\n",
      "City                     638454 non-null object\n",
      "State                    638454 non-null object\n",
      "Year                     638454 non-null int64\n",
      "Month                    638454 non-null object\n",
      "Incident                 638454 non-null int64\n",
      "Crime Type               638454 non-null object\n",
      "Crime Solved             638454 non-null object\n",
      "Victim Sex               638454 non-null object\n",
      "Victim Age               638454 non-null int64\n",
      "Victim Race              638454 non-null object\n",
      "Victim Ethnicity         638454 non-null object\n",
      "Perpetrator Sex          638454 non-null object\n",
      "Perpetrator Age          638454 non-null object\n",
      "Perpetrator Race         638454 non-null object\n",
      "Perpetrator Ethnicity    638454 non-null object\n",
      "Relationship             638454 non-null object\n",
      "Weapon                   638454 non-null object\n",
      "Victim Count             638454 non-null int64\n",
      "Perpetrator Count        638454 non-null int64\n",
      "Record Source            638454 non-null object\n",
      "dtypes: int64(6), object(18)\n",
      "memory usage: 116.9+ MB\n"
     ]
    }
   ],
   "source": [
    "# data inspection\n",
    "# from our output and warning we see that \"Perpetrator Age\" column is considered and object while it should be an integer\n",
    "# no-null values found yet \n",
    "data.info()"
   ]
  },
  {
   "cell_type": "code",
   "execution_count": 4,
   "metadata": {},
   "outputs": [
    {
     "data": {
      "text/plain": [
       "Record ID                0\n",
       "Agency Code              0\n",
       "Agency Name              0\n",
       "Agency Type              0\n",
       "City                     0\n",
       "State                    0\n",
       "Year                     0\n",
       "Month                    0\n",
       "Incident                 0\n",
       "Crime Type               0\n",
       "Crime Solved             0\n",
       "Victim Sex               0\n",
       "Victim Age               0\n",
       "Victim Race              0\n",
       "Victim Ethnicity         0\n",
       "Perpetrator Sex          0\n",
       "Perpetrator Age          0\n",
       "Perpetrator Race         0\n",
       "Perpetrator Ethnicity    0\n",
       "Relationship             0\n",
       "Weapon                   0\n",
       "Victim Count             0\n",
       "Perpetrator Count        0\n",
       "Record Source            0\n",
       "dtype: int64"
      ]
     },
     "execution_count": 4,
     "metadata": {},
     "output_type": "execute_result"
    }
   ],
   "source": [
    "# no null values found\n",
    "# that does not mean there are no mistakes \n",
    "data.isnull().sum()"
   ]
  },
  {
   "cell_type": "code",
   "execution_count": 5,
   "metadata": {},
   "outputs": [
    {
     "data": {
      "text/plain": [
       "array(['AK00101', 'AK00103', 'AK00106', ..., 'WA01750', 'WA02705',\n",
       "       'WVWSP65'], dtype=object)"
      ]
     },
     "execution_count": 5,
     "metadata": {},
     "output_type": "execute_result"
    }
   ],
   "source": [
    "# unique values for agency code\n",
    "# Starts with a state abbreviation and the code to state/federal agency\n",
    "data[\"Agency Code\"].unique()"
   ]
  },
  {
   "cell_type": "code",
   "execution_count": 11,
   "metadata": {},
   "outputs": [
    {
     "data": {
      "text/plain": [
       "Text(0.5, 1, 'Top 5 Value Counts per Agency Code')"
      ]
     },
     "execution_count": 11,
     "metadata": {},
     "output_type": "execute_result"
    },
    {
     "data": {
      "image/png": "[encoded data removed]",
      "text/plain": [
       "<Figure size 360x360 with 1 Axes>"
      ]
     },
     "metadata": {
      "needs_background": "light"
     },
     "output_type": "display_data"
    }
   ],
   "source": [
    "# value counts for agency code\n",
    "# New York, California, and Ilionios agencys are observed the most \n",
    "d1 = data[\"Agency Code\"].value_counts().reset_index().head()\n",
    "d1.columns = [\"Agency Code\", \"Agency Code Value Counts\"]\n",
    "d11 = sns.catplot(x=\"Agency Code\",y=\"Agency Code Value Counts\", kind=\"bar\", \n",
    "            data=d1)\n",
    "plt.title('Top 5 Value Counts per Agency Code')"
   ]
  },
  {
   "cell_type": "code",
   "execution_count": 7,
   "metadata": {},
   "outputs": [
    {
     "data": {
      "text/plain": [
       "Yes    448172\n",
       "No     190282\n",
       "Name: Crime Solved, dtype: int64"
      ]
     },
     "execution_count": 7,
     "metadata": {},
     "output_type": "execute_result"
    }
   ],
   "source": [
    "# 2/3 of the crimes are solved\n",
    "data[\"Crime Solved\"].value_counts()"
   ]
  },
  {
   "cell_type": "code",
   "execution_count": 16,
   "metadata": {},
   "outputs": [],
   "source": [
    "# unique values for agency names\n",
    "data[\"Agency Name\"].unique()"
   ]
  },
  {
   "cell_type": "code",
   "execution_count": 9,
   "metadata": {},
   "outputs": [
    {
     "data": {
      "text/plain": [
       "New York                             38416\n",
       "Los Angeles                          29007\n",
       "Chicago                              21331\n",
       "Detroit                              17206\n",
       "Houston                              13046\n",
       "                                     ...  \n",
       "Indian Shores                            1\n",
       "Coloma Township                          1\n",
       "Troutman                                 1\n",
       "Highway Patrol: Greenville County        1\n",
       "Higginsville                             1\n",
       "Name: Agency Name, Length: 9216, dtype: int64"
      ]
     },
     "execution_count": 9,
     "metadata": {},
     "output_type": "execute_result"
    }
   ],
   "source": [
    "# New York, LA, and Chicago agency are observed the most\n",
    "data[\"Agency Name\"].value_counts()"
   ]
  },
  {
   "cell_type": "code",
   "execution_count": 10,
   "metadata": {},
   "outputs": [
    {
     "data": {
      "text/plain": [
       "array(['Municipal Police', 'County Police', 'State Police', 'Sheriff',\n",
       "       'Special Police', 'Regional Police', 'Tribal Police'], dtype=object)"
      ]
     },
     "execution_count": 10,
     "metadata": {},
     "output_type": "execute_result"
    }
   ],
   "source": [
    "# unique values for agency type\n",
    "data[\"Agency Type\"].unique()"
   ]
  },
  {
   "cell_type": "code",
   "execution_count": 11,
   "metadata": {},
   "outputs": [
    {
     "data": {
      "text/plain": [
       "Municipal Police    493026\n",
       "Sheriff             105322\n",
       "County Police        22693\n",
       "State Police         14235\n",
       "Special Police        2889\n",
       "Regional Police        235\n",
       "Tribal Police           54\n",
       "Name: Agency Type, dtype: int64"
      ]
     },
     "execution_count": 11,
     "metadata": {},
     "output_type": "execute_result"
    }
   ],
   "source": [
    "# unique values for agency type\n",
    "# almost all murder incidences are handled by the municipal police \n",
    "data[\"Agency Type\"].value_counts()"
   ]
  },
  {
   "cell_type": "code",
   "execution_count": 12,
   "metadata": {},
   "outputs": [
    {
     "data": {
      "text/plain": [
       "array(['Anchorage', 'Juneau', 'Nome', ..., 'Rooks', 'McCone', 'Antelope'],\n",
       "      dtype=object)"
      ]
     },
     "execution_count": 12,
     "metadata": {},
     "output_type": "execute_result"
    }
   ],
   "source": [
    "# unique values for the city\n",
    "data[\"City\"].unique()"
   ]
  },
  {
   "cell_type": "code",
   "execution_count": 13,
   "metadata": {},
   "outputs": [
    {
     "data": {
      "text/plain": [
       "Los Angeles              44511\n",
       "New York                 38431\n",
       "Cook                     22383\n",
       "Wayne                    19904\n",
       "Harris                   16331\n",
       "                         ...  \n",
       "Carlisle                     1\n",
       "Powder River                 1\n",
       "Skagway-Hoonah-Angoon        1\n",
       "Foard                        1\n",
       "Sanborn                      1\n",
       "Name: City, Length: 1782, dtype: int64"
      ]
     },
     "execution_count": 13,
     "metadata": {},
     "output_type": "execute_result"
    }
   ],
   "source": [
    "# unique values for city\n",
    "# We see small cities like Cook, Wayne and Harrison with large amounts of incident reports\n",
    "# i.e. Wayne has a popolation of about 2,000\n",
    "data[\"City\"].value_counts()"
   ]
  },
  {
   "cell_type": "code",
   "execution_count": 14,
   "metadata": {},
   "outputs": [
    {
     "data": {
      "text/plain": [
       "California              99783\n",
       "Texas                   62095\n",
       "New York                49268\n",
       "Florida                 37164\n",
       "Michigan                28448\n",
       "Illinois                25871\n",
       "Pennsylvania            24236\n",
       "Georgia                 21088\n",
       "North Carolina          20390\n",
       "Louisiana               19629\n",
       "Ohio                    19158\n",
       "Maryland                17312\n",
       "Virginia                15520\n",
       "Tennessee               14930\n",
       "Missouri                14832\n",
       "New Jersey              14132\n",
       "Arizona                 12871\n",
       "South Carolina          11698\n",
       "Indiana                 11463\n",
       "Alabama                 11376\n",
       "Oklahoma                 8809\n",
       "Washington               7815\n",
       "District of Columbia     7115\n",
       "Arkansas                 6947\n",
       "Colorado                 6593\n",
       "Kentucky                 6554\n",
       "Mississippi              6546\n",
       "Wisconsin                6191\n",
       "Massachusetts            6036\n",
       "Nevada                   5553\n",
       "Connecticut              4896\n",
       "New Mexico               4272\n",
       "Oregon                   4217\n",
       "Minnesota                3975\n",
       "Kansas                   3085\n",
       "West Virginia            3061\n",
       "Utah                     2033\n",
       "Iowa                     1749\n",
       "Alaska                   1617\n",
       "Hawaii                   1338\n",
       "Nebraska                 1331\n",
       "Rhodes Island            1211\n",
       "Delaware                 1179\n",
       "Idaho                    1150\n",
       "Maine                     869\n",
       "New Hampshire             655\n",
       "Wyoming                   630\n",
       "Montana                   601\n",
       "South Dakota              442\n",
       "Vermont                   412\n",
       "North Dakota              308\n",
       "Name: State, dtype: int64"
      ]
     },
     "execution_count": 14,
     "metadata": {},
     "output_type": "execute_result"
    }
   ],
   "source": [
    "# unique values for the state\n",
    "state_count = data[\"State\"].value_counts()\n",
    "state_count"
   ]
  },
  {
   "cell_type": "code",
   "execution_count": 15,
   "metadata": {},
   "outputs": [
    {
     "data": {
      "text/plain": [
       "51"
      ]
     },
     "execution_count": 15,
     "metadata": {},
     "output_type": "execute_result"
    }
   ],
   "source": [
    "# District of Columbia is included\n",
    "# We will treat it as a state\n",
    "state_count.count()"
   ]
  },
  {
   "cell_type": "code",
   "execution_count": 16,
   "metadata": {},
   "outputs": [
    {
     "data": {
      "text/plain": [
       "count       51.000000\n",
       "mean     12518.705882\n",
       "std      17686.520705\n",
       "min        308.000000\n",
       "25%       1683.000000\n",
       "50%       6554.000000\n",
       "75%      15225.000000\n",
       "max      99783.000000\n",
       "Name: State, dtype: float64"
      ]
     },
     "execution_count": 16,
     "metadata": {},
     "output_type": "execute_result"
    }
   ],
   "source": [
    "# unique values for state\n",
    "# we see that there is a positive skew \n",
    "state_count.describe()"
   ]
  },
  {
   "cell_type": "code",
   "execution_count": 17,
   "metadata": {},
   "outputs": [
    {
     "data": {
      "text/plain": [
       "35"
      ]
     },
     "execution_count": 17,
     "metadata": {},
     "output_type": "execute_result"
    }
   ],
   "source": [
    "# unique values for the years\n",
    "# 35 years worth of data\n",
    "data[\"Year\"].value_counts().count()"
   ]
  },
  {
   "cell_type": "code",
   "execution_count": 18,
   "metadata": {},
   "outputs": [
    {
     "data": {
      "text/plain": [
       "12"
      ]
     },
     "execution_count": 18,
     "metadata": {},
     "output_type": "execute_result"
    }
   ],
   "source": [
    "# unique values for month\n",
    "# 12 months\n",
    "data[\"Month\"].value_counts().count()"
   ]
  },
  {
   "cell_type": "code",
   "execution_count": 19,
   "metadata": {},
   "outputs": [
    {
     "data": {
      "text/plain": [
       "1      265528\n",
       "2       71779\n",
       "3       39236\n",
       "4       27113\n",
       "5       20658\n",
       "        ...  \n",
       "784        16\n",
       "783        16\n",
       "782        16\n",
       "781        16\n",
       "0          16\n",
       "Name: Incident, Length: 1000, dtype: int64"
      ]
     },
     "execution_count": 19,
     "metadata": {},
     "output_type": "execute_result"
    }
   ],
   "source": [
    "# unique values for the incident\n",
    "# The incident is a count. If only 1 incident happened e.g. in 1980 in Alabama, white male in Birmimham counts as 1\n",
    "# if 2 then the new observation is counted as 2. The previous 1 is still counted as 1. \n",
    "# Meaning that we will need to get rid of these values so we do not overcount the incidences \n",
    "data[\"Incident\"].value_counts()"
   ]
  },
  {
   "cell_type": "code",
   "execution_count": 20,
   "metadata": {},
   "outputs": [
    {
     "data": {
      "text/plain": [
       "Murder or Manslaughter        629338\n",
       "Manslaughter by Negligence      9116\n",
       "Name: Crime Type, dtype: int64"
      ]
     },
     "execution_count": 20,
     "metadata": {},
     "output_type": "execute_result"
    }
   ],
   "source": [
    "# unique values for crime type\n",
    "    # Involuntary manslaughter usually refers to an unintentional killing that results from criminal\n",
    "    # negligence or recklessness, or from committing an offense such as a DUI.\n",
    "    # It differs from voluntary manslaughter in that the victim's death is unintended.\n",
    "data[\"Crime Type\"].value_counts()"
   ]
  },
  {
   "cell_type": "code",
   "execution_count": 21,
   "metadata": {},
   "outputs": [
    {
     "data": {
      "text/plain": [
       "Male       494125\n",
       "Female     143345\n",
       "Unknown       984\n",
       "Name: Victim Sex, dtype: int64"
      ]
     },
     "execution_count": 21,
     "metadata": {},
     "output_type": "execute_result"
    }
   ],
   "source": [
    "# unique values for victim sex\n",
    "# the majority of victims are reported male\n",
    "data[\"Victim Sex\"].value_counts()"
   ]
  },
  {
   "cell_type": "code",
   "execution_count": 22,
   "metadata": {},
   "outputs": [
    {
     "data": {
      "text/plain": [
       "22    23049\n",
       "20    23031\n",
       "25    22939\n",
       "21    22796\n",
       "23    22438\n",
       "      ...  \n",
       "94      116\n",
       "95       82\n",
       "97       39\n",
       "96       37\n",
       "98       33\n",
       "Name: Victim Age, Length: 101, dtype: int64"
      ]
     },
     "execution_count": 22,
     "metadata": {},
     "output_type": "execute_result"
    }
   ],
   "source": [
    "# unique values for victim age\n",
    "# victims are mostly in their 20's\n",
    "data[\"Victim Age\"].value_counts()"
   ]
  },
  {
   "cell_type": "code",
   "execution_count": 23,
   "metadata": {},
   "outputs": [
    {
     "data": {
      "text/plain": [
       "count    638454.000000\n",
       "mean         35.033512\n",
       "std          41.628306\n",
       "min           0.000000\n",
       "25%          22.000000\n",
       "50%          30.000000\n",
       "75%          42.000000\n",
       "max         998.000000\n",
       "Name: Victim Age, dtype: float64"
      ]
     },
     "execution_count": 23,
     "metadata": {},
     "output_type": "execute_result"
    }
   ],
   "source": [
    "# unique values for agency type\n",
    "# does the age 0 represent killing of newborns? if so how many of such reports?\n",
    "data[\"Victim Age\"].describe()"
   ]
  },
  {
   "cell_type": "code",
   "execution_count": 24,
   "metadata": {},
   "outputs": [
    {
     "data": {
      "text/plain": [
       "Record ID                8444\n",
       "Agency Code              8444\n",
       "Agency Name              8444\n",
       "Agency Type              8444\n",
       "City                     8444\n",
       "State                    8444\n",
       "Year                     8444\n",
       "Month                    8444\n",
       "Incident                 8444\n",
       "Crime Type               8444\n",
       "Crime Solved             8444\n",
       "Victim Sex               8444\n",
       "Victim Age               8444\n",
       "Victim Race              8444\n",
       "Victim Ethnicity         8444\n",
       "Perpetrator Sex          8444\n",
       "Perpetrator Age          8444\n",
       "Perpetrator Race         8444\n",
       "Perpetrator Ethnicity    8444\n",
       "Relationship             8444\n",
       "Weapon                   8444\n",
       "Victim Count             8444\n",
       "Perpetrator Count        8444\n",
       "Record Source            8444\n",
       "dtype: int64"
      ]
     },
     "execution_count": 24,
     "metadata": {},
     "output_type": "execute_result"
    }
   ],
   "source": [
    "# over 35 years 8444 victims were age 0 \n",
    "data[data[\"Victim Age\"]==0].count()"
   ]
  },
  {
   "cell_type": "code",
   "execution_count": 25,
   "metadata": {},
   "outputs": [
    {
     "data": {
      "text/plain": [
       "998"
      ]
     },
     "execution_count": 25,
     "metadata": {},
     "output_type": "execute_result"
    }
   ],
   "source": [
    "# we notice there is mistake/typo\n",
    "# no way someone is 988 years old and if so, it might have been time \n",
    "data[\"Victim Age\"].max()"
   ]
  },
  {
   "cell_type": "code",
   "execution_count": 26,
   "metadata": {},
   "outputs": [
    {
     "data": {
      "text/plain": [
       "White                            317422\n",
       "Black                            299899\n",
       "Asian/Pacific Islander             9890\n",
       "Unknown                            6676\n",
       "Native American/Alaska Native      4567\n",
       "Name: Victim Race, dtype: int64"
      ]
     },
     "execution_count": 26,
     "metadata": {},
     "output_type": "execute_result"
    }
   ],
   "source": [
    "# unique values for victim race\n",
    "# mostly white\n",
    "# considering the african-americans account for 13% of US population the results are very close\n",
    "data[\"Victim Race\"].value_counts()"
   ]
  },
  {
   "cell_type": "code",
   "execution_count": 27,
   "metadata": {},
   "outputs": [
    {
     "data": {
      "text/plain": [
       "Unknown         368303\n",
       "Not Hispanic    197499\n",
       "Hispanic         72652\n",
       "Name: Victim Ethnicity, dtype: int64"
      ]
     },
     "execution_count": 27,
     "metadata": {},
     "output_type": "execute_result"
    }
   ],
   "source": [
    "# unique values for victim ethnicity\n",
    "data[\"Victim Ethnicity\"].value_counts()"
   ]
  },
  {
   "cell_type": "code",
   "execution_count": 28,
   "metadata": {},
   "outputs": [
    {
     "data": {
      "text/plain": [
       "0     586059\n",
       "1      38750\n",
       "2       8156\n",
       "3       2847\n",
       "4       1084\n",
       "5        510\n",
       "9        290\n",
       "6        286\n",
       "7        168\n",
       "10       160\n",
       "8        144\n",
       "Name: Victim Count, dtype: int64"
      ]
     },
     "execution_count": 28,
     "metadata": {},
     "output_type": "execute_result"
    }
   ],
   "source": [
    "# unique values for victim count\n",
    "# Lots of missing values (0)\n",
    "# numbers range from 0 - 10. \n",
    "# we assume 0 values mean 1 and so on (+1)\n",
    "data[\"Victim Count\"].value_counts()"
   ]
  },
  {
   "cell_type": "code",
   "execution_count": 29,
   "metadata": {},
   "outputs": [
    {
     "data": {
      "text/plain": [
       "0     211079\n",
       "20     21158\n",
       "19     19807\n",
       "21     18509\n",
       "18     18477\n",
       "       ...  \n",
       "10         1\n",
       "88         1\n",
       "           1\n",
       "93         1\n",
       "6          1\n",
       "Name: Perpetrator Age, Length: 191, dtype: int64"
      ]
     },
     "execution_count": 29,
     "metadata": {},
     "output_type": "execute_result"
    }
   ],
   "source": [
    "# unique values for perpetrator age\n",
    "# Lots of missing values (0)\n",
    "# limit to age has to be set\n",
    "# if we remember from before 190282 cases were not solved. What if this corresponds do that?\n",
    "# lets check\n",
    "data[\"Perpetrator Age\"].value_counts()"
   ]
  },
  {
   "cell_type": "code",
   "execution_count": 30,
   "metadata": {},
   "outputs": [
    {
     "data": {
      "text/plain": [
       "Record ID                184980\n",
       "Agency Code              184980\n",
       "Agency Name              184980\n",
       "Agency Type              184980\n",
       "City                     184980\n",
       "State                    184980\n",
       "Year                     184980\n",
       "Month                    184980\n",
       "Incident                 184980\n",
       "Crime Type               184980\n",
       "Crime Solved             184980\n",
       "Victim Sex               184980\n",
       "Victim Age               184980\n",
       "Victim Race              184980\n",
       "Victim Ethnicity         184980\n",
       "Perpetrator Sex          184980\n",
       "Perpetrator Age          184980\n",
       "Perpetrator Race         184980\n",
       "Perpetrator Ethnicity    184980\n",
       "Relationship             184980\n",
       "Weapon                   184980\n",
       "Victim Count             184980\n",
       "Perpetrator Count        184980\n",
       "Record Source            184980\n",
       "dtype: int64"
      ]
     },
     "execution_count": 30,
     "metadata": {},
     "output_type": "execute_result"
    }
   ],
   "source": [
    "# This proves our point\n",
    "# almost all of the crimes that are not solved are market with 0 for the perpetrator age\n",
    "data[(data[\"Crime Solved\"]==\"No\") & (data[\"Perpetrator Age\"]==0)].count()"
   ]
  },
  {
   "cell_type": "code",
   "execution_count": 5,
   "metadata": {},
   "outputs": [
    {
     "data": {
      "text/plain": [
       "Record ID                178121\n",
       "Agency Code              178121\n",
       "Agency Name              178121\n",
       "Agency Type              178121\n",
       "City                     178121\n",
       "State                    178121\n",
       "Year                     178121\n",
       "Month                    178121\n",
       "Incident                 178121\n",
       "Crime Type               178121\n",
       "Crime Solved             178121\n",
       "Victim Sex               178121\n",
       "Victim Age               178121\n",
       "Victim Race              178121\n",
       "Victim Ethnicity         178121\n",
       "Perpetrator Sex          178121\n",
       "Perpetrator Age          178121\n",
       "Perpetrator Race         178121\n",
       "Perpetrator Ethnicity    178121\n",
       "Relationship             178121\n",
       "Weapon                   178121\n",
       "Victim Count             178121\n",
       "Perpetrator Count        178121\n",
       "Record Source            178121\n",
       "dtype: int64"
      ]
     },
     "execution_count": 5,
     "metadata": {},
     "output_type": "execute_result"
    }
   ],
   "source": [
    "data[(data[\"Crime Solved\"]==\"No\") & (data[\"Relationship\"]=='Unknown')].count()"
   ]
  },
  {
   "cell_type": "code",
   "execution_count": 31,
   "metadata": {},
   "outputs": [
    {
     "data": {
      "text/plain": [
       "array([15, 42, 0, 36, 27, 35, 40, 49, 39, 29, 19, 23, 33, 26, 41, 28, 61,\n",
       "       25, 7, 17, 34, 21, 43, 38, 66, 32, 37, 22, 30, 24, 65, 51, 60, 45,\n",
       "       64, 18, 20, 44, 73, 62, 69, 52, 16, 90, 56, 47, 57, 31, 46, 14, 55,\n",
       "       50, 54, 68, 77, 53, 67, 48, 76, 58, 71, 63, 89, 13, 75, 72, 93, 59,\n",
       "       10, 11, 79, 74, 99, 70, 78, 80, 9, 12, 81, 6, 87, 82, 83, 8, 84,\n",
       "       85, 86, 5, 3, 1, 88, 95, 4, 91, 92, 96, 94, 2, 98, 97, '22', '52',\n",
       "       '21', '0', '25', '61', '32', '28', '20', '38', '18', '17', '53',\n",
       "       '30', '24', '84', '43', '16', '47', '54', '50', '42', '23', '36',\n",
       "       '35', '60', '27', '19', '14', '57', '63', '81', '31', '58', '51',\n",
       "       '15', '40', '33', '26', '41', '29', '34', '37', '69', '44', '48',\n",
       "       '55', '49', '56', '39', '45', '65', '59', '70', '46', '11', '77',\n",
       "       '67', '76', '85', '72', '13', '89', '74', '71', '64', '62', '3',\n",
       "       '80', '73', '75', '83', '78', '68', '66', '86', '87', '95', '90',\n",
       "       '6', '12', '99', '88', '9', '93', '10', ' ', '82', '92', '79', '1'],\n",
       "      dtype=object)"
      ]
     },
     "execution_count": 31,
     "metadata": {},
     "output_type": "execute_result"
    }
   ],
   "source": [
    "# unique values for perpetrator age\n",
    "# Lots of missing values (0)\n",
    "# we also see that there are strings for some numbers and a space\n",
    "data[\"Perpetrator Age\"].unique()"
   ]
  },
  {
   "cell_type": "code",
   "execution_count": 32,
   "metadata": {},
   "outputs": [
    {
     "data": {
      "text/plain": [
       "array(['Male', 'Unknown', 'Female'], dtype=object)"
      ]
     },
     "execution_count": 32,
     "metadata": {},
     "output_type": "execute_result"
    }
   ],
   "source": [
    "# unique values for perpetrator sex\n",
    "data[\"Perpetrator Sex\"].unique()"
   ]
  },
  {
   "cell_type": "code",
   "execution_count": 33,
   "metadata": {},
   "outputs": [
    {
     "data": {
      "text/plain": [
       "Male       399541\n",
       "Unknown    190365\n",
       "Female      48548\n",
       "Name: Perpetrator Sex, dtype: int64"
      ]
     },
     "execution_count": 33,
     "metadata": {},
     "output_type": "execute_result"
    }
   ],
   "source": [
    "# unique values for perpetrator sex\n",
    "# mostly males are perpetrators but less than victims \n",
    "data[\"Perpetrator Sex\"].value_counts()"
   ]
  },
  {
   "cell_type": "code",
   "execution_count": 6,
   "metadata": {},
   "outputs": [
    {
     "data": {
      "text/html": [
       "<div>\n",
       "<style scoped>\n",
       "    .dataframe tbody tr th:only-of-type {\n",
       "        vertical-align: middle;\n",
       "    }\n",
       "\n",
       "    .dataframe tbody tr th {\n",
       "        vertical-align: top;\n",
       "    }\n",
       "\n",
       "    .dataframe thead th {\n",
       "        text-align: right;\n",
       "    }\n",
       "</style>\n",
       "<table border=\"1\" class=\"dataframe\">\n",
       "  <thead>\n",
       "    <tr style=\"text-align: right;\">\n",
       "      <th></th>\n",
       "      <th>Record ID</th>\n",
       "      <th>Year</th>\n",
       "      <th>Incident</th>\n",
       "      <th>Victim Age</th>\n",
       "      <th>Victim Count</th>\n",
       "      <th>Perpetrator Count</th>\n",
       "    </tr>\n",
       "  </thead>\n",
       "  <tbody>\n",
       "    <tr>\n",
       "      <th>Record ID</th>\n",
       "      <td>1.000000</td>\n",
       "      <td>0.997203</td>\n",
       "      <td>0.083717</td>\n",
       "      <td>-0.023868</td>\n",
       "      <td>-0.001598</td>\n",
       "      <td>-0.072661</td>\n",
       "    </tr>\n",
       "    <tr>\n",
       "      <th>Year</th>\n",
       "      <td>0.997203</td>\n",
       "      <td>1.000000</td>\n",
       "      <td>0.089270</td>\n",
       "      <td>-0.024019</td>\n",
       "      <td>-0.001411</td>\n",
       "      <td>-0.068071</td>\n",
       "    </tr>\n",
       "    <tr>\n",
       "      <th>Incident</th>\n",
       "      <td>0.083717</td>\n",
       "      <td>0.089270</td>\n",
       "      <td>1.000000</td>\n",
       "      <td>-0.015450</td>\n",
       "      <td>-0.012473</td>\n",
       "      <td>-0.015678</td>\n",
       "    </tr>\n",
       "    <tr>\n",
       "      <th>Victim Age</th>\n",
       "      <td>-0.023868</td>\n",
       "      <td>-0.024019</td>\n",
       "      <td>-0.015450</td>\n",
       "      <td>1.000000</td>\n",
       "      <td>-0.006780</td>\n",
       "      <td>-0.001199</td>\n",
       "    </tr>\n",
       "    <tr>\n",
       "      <th>Victim Count</th>\n",
       "      <td>-0.001598</td>\n",
       "      <td>-0.001411</td>\n",
       "      <td>-0.012473</td>\n",
       "      <td>-0.006780</td>\n",
       "      <td>1.000000</td>\n",
       "      <td>0.155081</td>\n",
       "    </tr>\n",
       "    <tr>\n",
       "      <th>Perpetrator Count</th>\n",
       "      <td>-0.072661</td>\n",
       "      <td>-0.068071</td>\n",
       "      <td>-0.015678</td>\n",
       "      <td>-0.001199</td>\n",
       "      <td>0.155081</td>\n",
       "      <td>1.000000</td>\n",
       "    </tr>\n",
       "  </tbody>\n",
       "</table>\n",
       "</div>"
      ],
      "text/plain": [
       "                   Record ID      Year  Incident  Victim Age  Victim Count  \\\n",
       "Record ID           1.000000  0.997203  0.083717   -0.023868     -0.001598   \n",
       "Year                0.997203  1.000000  0.089270   -0.024019     -0.001411   \n",
       "Incident            0.083717  0.089270  1.000000   -0.015450     -0.012473   \n",
       "Victim Age         -0.023868 -0.024019 -0.015450    1.000000     -0.006780   \n",
       "Victim Count       -0.001598 -0.001411 -0.012473   -0.006780      1.000000   \n",
       "Perpetrator Count  -0.072661 -0.068071 -0.015678   -0.001199      0.155081   \n",
       "\n",
       "                   Perpetrator Count  \n",
       "Record ID                  -0.072661  \n",
       "Year                       -0.068071  \n",
       "Incident                   -0.015678  \n",
       "Victim Age                 -0.001199  \n",
       "Victim Count                0.155081  \n",
       "Perpetrator Count           1.000000  "
      ]
     },
     "execution_count": 6,
     "metadata": {},
     "output_type": "execute_result"
    }
   ],
   "source": [
    "# lets see if the uknown value is linked to unsolved cases\n",
    "# Proves our point that the unknown value is there not because someone forgot to put it in BUT\n",
    "# because they do not know \n",
    "corr_not_solved = data[(data[\"Crime Solved\"]==\"No\")].corr(method ='pearson')\n",
    "corr_not_solved"
   ]
  },
  {
   "cell_type": "code",
   "execution_count": 35,
   "metadata": {},
   "outputs": [
    {
     "data": {
      "text/plain": [
       "White                            218243\n",
       "Black                            214516\n",
       "Unknown                          196047\n",
       "Asian/Pacific Islander             6046\n",
       "Native American/Alaska Native      3602\n",
       "Name: Perpetrator Race, dtype: int64"
      ]
     },
     "execution_count": 35,
     "metadata": {},
     "output_type": "execute_result"
    }
   ],
   "source": [
    "# unique values for perpetrator race\n",
    "data[\"Perpetrator Race\"].value_counts()"
   ]
  },
  {
   "cell_type": "code",
   "execution_count": 36,
   "metadata": {},
   "outputs": [
    {
     "data": {
      "text/plain": [
       "Unknown         446410\n",
       "Not Hispanic    145172\n",
       "Hispanic         46872\n",
       "Name: Perpetrator Ethnicity, dtype: int64"
      ]
     },
     "execution_count": 36,
     "metadata": {},
     "output_type": "execute_result"
    }
   ],
   "source": [
    "# unique values for perpetrator ethnicity\n",
    "# this value is much larger. Assumption: hard topic to ask/guess --> it is more than unsolved cases \n",
    "data[\"Perpetrator Ethnicity\"].value_counts()"
   ]
  },
  {
   "cell_type": "code",
   "execution_count": 37,
   "metadata": {},
   "outputs": [
    {
     "data": {
      "text/plain": [
       "0     558838\n",
       "1      54745\n",
       "2      15777\n",
       "3       6531\n",
       "4       1489\n",
       "5        592\n",
       "6        207\n",
       "7        129\n",
       "9         52\n",
       "8         52\n",
       "10        42\n",
       "Name: Perpetrator Count, dtype: int64"
      ]
     },
     "execution_count": 37,
     "metadata": {},
     "output_type": "execute_result"
    }
   ],
   "source": [
    "# unique values for perpetrator count\n",
    "data[\"Perpetrator Count\"].value_counts()"
   ]
  },
  {
   "cell_type": "code",
   "execution_count": 38,
   "metadata": {},
   "outputs": [
    {
     "data": {
      "text/plain": [
       "Unknown                 273013\n",
       "Acquaintance            126018\n",
       "Stranger                 96593\n",
       "Wife                     23187\n",
       "Friend                   21945\n",
       "Girlfriend               16465\n",
       "Son                       9904\n",
       "Family                    9535\n",
       "Husband                   8803\n",
       "Daughter                  7539\n",
       "Boyfriend                 7302\n",
       "Neighbor                  6294\n",
       "Brother                   5514\n",
       "Father                    4361\n",
       "Mother                    4248\n",
       "In-Law                    3637\n",
       "Common-Law Wife           2477\n",
       "Ex-Wife                   1973\n",
       "Common-Law Husband        1954\n",
       "Boyfriend/Girlfriend      1383\n",
       "Stepfather                1360\n",
       "Sister                    1292\n",
       "Stepson                   1170\n",
       "Stepdaughter               754\n",
       "Ex-Husband                 629\n",
       "Employer                   509\n",
       "Employee                   384\n",
       "Stepmother                 211\n",
       "Name: Relationship, dtype: int64"
      ]
     },
     "execution_count": 38,
     "metadata": {},
     "output_type": "execute_result"
    }
   ],
   "source": [
    "# unique values for relationship \n",
    "# Assumption: this is the victim of the perpetrator \n",
    "data[\"Relationship\"].value_counts()"
   ]
  },
  {
   "cell_type": "code",
   "execution_count": 39,
   "metadata": {},
   "outputs": [
    {
     "data": {
      "text/plain": [
       "Record ID                178121\n",
       "Agency Code              178121\n",
       "Agency Name              178121\n",
       "Agency Type              178121\n",
       "City                     178121\n",
       "State                    178121\n",
       "Year                     178121\n",
       "Month                    178121\n",
       "Incident                 178121\n",
       "Crime Type               178121\n",
       "Crime Solved             178121\n",
       "Victim Sex               178121\n",
       "Victim Age               178121\n",
       "Victim Race              178121\n",
       "Victim Ethnicity         178121\n",
       "Perpetrator Sex          178121\n",
       "Perpetrator Age          178121\n",
       "Perpetrator Race         178121\n",
       "Perpetrator Ethnicity    178121\n",
       "Relationship             178121\n",
       "Weapon                   178121\n",
       "Victim Count             178121\n",
       "Perpetrator Count        178121\n",
       "Record Source            178121\n",
       "dtype: int64"
      ]
     },
     "execution_count": 39,
     "metadata": {},
     "output_type": "execute_result"
    }
   ],
   "source": [
    "# how many of those correspond to unsolved cases \n",
    "# again most of them \n",
    "data[(data[\"Crime Solved\"]==\"No\") & (data[\"Relationship\"]==\"Unknown\")].count()"
   ]
  },
  {
   "cell_type": "code",
   "execution_count": 40,
   "metadata": {},
   "outputs": [
    {
     "data": {
      "text/plain": [
       "Handgun          317484\n",
       "Knife             94962\n",
       "Blunt Object      67337\n",
       "Firearm           46980\n",
       "Unknown           33192\n",
       "Shotgun           30722\n",
       "Rifle             23347\n",
       "Strangulation      8110\n",
       "Fire               6173\n",
       "Suffocation        3968\n",
       "Gun                2206\n",
       "Drugs              1588\n",
       "Drowning           1204\n",
       "Explosives          537\n",
       "Poison              454\n",
       "Fall                190\n",
       "Name: Weapon, dtype: int64"
      ]
     },
     "execution_count": 40,
     "metadata": {},
     "output_type": "execute_result"
    }
   ],
   "source": [
    "# unique values for weapon\n",
    "# most murders commited with a handgun \n",
    "data[\"Weapon\"].value_counts()"
   ]
  },
  {
   "cell_type": "code",
   "execution_count": 41,
   "metadata": {},
   "outputs": [
    {
     "data": {
      "text/plain": [
       "Record ID                14783\n",
       "Agency Code              14783\n",
       "Agency Name              14783\n",
       "Agency Type              14783\n",
       "City                     14783\n",
       "State                    14783\n",
       "Year                     14783\n",
       "Month                    14783\n",
       "Incident                 14783\n",
       "Crime Type               14783\n",
       "Crime Solved             14783\n",
       "Victim Sex               14783\n",
       "Victim Age               14783\n",
       "Victim Race              14783\n",
       "Victim Ethnicity         14783\n",
       "Perpetrator Sex          14783\n",
       "Perpetrator Age          14783\n",
       "Perpetrator Race         14783\n",
       "Perpetrator Ethnicity    14783\n",
       "Relationship             14783\n",
       "Weapon                   14783\n",
       "Victim Count             14783\n",
       "Perpetrator Count        14783\n",
       "Record Source            14783\n",
       "dtype: int64"
      ]
     },
     "execution_count": 41,
     "metadata": {},
     "output_type": "execute_result"
    }
   ],
   "source": [
    "# checking uknowns and unsolved cases\n",
    "# not that meany here it looks like bad reporting to me\n",
    "data[(data[\"Crime Solved\"]==\"No\") & (data[\"Weapon\"]==\"Unknown\")].count()"
   ]
  },
  {
   "cell_type": "code",
   "execution_count": 42,
   "metadata": {},
   "outputs": [
    {
     "data": {
      "text/plain": [
       "FBI     616647\n",
       "FOIA     21807\n",
       "Name: Record Source, dtype: int64"
      ]
     },
     "execution_count": 42,
     "metadata": {},
     "output_type": "execute_result"
    }
   ],
   "source": [
    "# unique values for resource code\n",
    "# most of the report info is from the FBI\n",
    "data[\"Record Source\"].value_counts()"
   ]
  },
  {
   "cell_type": "markdown",
   "metadata": {},
   "source": [
    "## Findings and discussion"
   ]
  },
  {
   "cell_type": "markdown",
   "metadata": {},
   "source": [
    "1. We saw that most uknown or zero values correspond to unsolved crimes \n",
    "2. While we cannot do this to predict future crimes as trend always change we would have a lower error \n",
    "    if we would try to use machine learning or avarages and variance to fill in the missing data.\n",
    "3. These crimes happened, we just do not have reports for them. So, dropping them would give out more of a wrong picture\n",
    "    of how many crimes actually happen than filling in the blanks and providing a more full picture.\n",
    "4. These next step will be done in 2 ways:\n",
    "    - we will drop all the uknowns and convert them to numericals (saving each conversion individually in a seperate files) \n",
    "           and use it for machine learning\n",
    "    - we will replace them using the truncated normal distribution (basically filling in the values with the mean\n",
    "        and variance from the values that are known)\n",
    "    - add +1 to victim and perpetrator count\n",
    "    - make a proper incident count (not double etc. counting)\n",
    "    - However we will first have to solve the age errors we encountered before "
   ]
  },
  {
   "cell_type": "markdown",
   "metadata": {},
   "source": [
    "## Data Cleaning & Prep"
   ]
  },
  {
   "cell_type": "markdown",
   "metadata": {},
   "source": [
    "1. Goal: replace spaces and strings with zeros and intigers, respectively. Then we will check how many\n",
    "perpetrators are under the age of 12 and decide how much to remove to take the mean. That is because perpetrators under the age of 12 are extremely rare. So, we do not want to skew the mean. Similarly, we will do\n",
    "for victims but we will also set the upper limit where we saw some errors with age 998. "
   ]
  },
  {
   "cell_type": "code",
   "execution_count": 6,
   "metadata": {},
   "outputs": [
    {
     "data": {
      "text/plain": [
       "array([15, 42,  0, 36, 27, 35, 40, 49, 39, 29, 19, 23, 33, 26, 41, 28, 61,\n",
       "       25,  7, 17, 34, 21, 43, 38, 66, 32, 37, 22, 30, 24, 65, 51, 60, 45,\n",
       "       64, 18, 20, 44, 73, 62, 69, 52, 16, 90, 56, 47, 57, 31, 46, 14, 55,\n",
       "       50, 54, 68, 77, 53, 67, 48, 76, 58, 71, 63, 89, 13, 75, 72, 93, 59,\n",
       "       10, 11, 79, 74, 99, 70, 78, 80,  9, 12, 81,  6, 87, 82, 83,  8, 84,\n",
       "       85, 86,  5,  3,  1, 88, 95,  4, 91, 92, 96, 94,  2, 98, 97])"
      ]
     },
     "execution_count": 6,
     "metadata": {},
     "output_type": "execute_result"
    }
   ],
   "source": [
    "# replacing blanks with zeros\n",
    "\n",
    "# make a copy of the original data to keep it safe\n",
    "data2 = data.copy()\n",
    "\n",
    "# replace blank strings with zeros\n",
    "data2['Perpetrator Age'] = data2['Perpetrator Age'].replace(\" \", 0)\n",
    "\n",
    "# format them as integers\n",
    "data2['Perpetrator Age'] = data2['Perpetrator Age'].astype(str).astype(int)\n",
    "\n",
    "# it worked\n",
    "data2[\"Perpetrator Age\"].unique()"
   ]
  },
  {
   "cell_type": "markdown",
   "metadata": {},
   "source": [
    "# What makes the crime most likely unsolved "
   ]
  },
  {
   "cell_type": "code",
   "execution_count": null,
   "metadata": {},
   "outputs": [],
   "source": []
  },
  {
   "cell_type": "code",
   "execution_count": 8,
   "metadata": {},
   "outputs": [
    {
     "data": {
      "text/plain": [
       "Record ID                184980\n",
       "Agency Code              184980\n",
       "Agency Name              184980\n",
       "Agency Type              184980\n",
       "City                     184980\n",
       "State                    184980\n",
       "Year                     184980\n",
       "Month                    184980\n",
       "Incident                 184980\n",
       "Crime Type               184980\n",
       "Crime Solved             184980\n",
       "Victim Sex               184980\n",
       "Victim Age               184980\n",
       "Victim Race              184980\n",
       "Victim Ethnicity         184980\n",
       "Perpetrator Sex          184980\n",
       "Perpetrator Age          184980\n",
       "Perpetrator Race         184980\n",
       "Perpetrator Ethnicity    184980\n",
       "Relationship             184980\n",
       "Weapon                   184980\n",
       "Victim Count             184980\n",
       "Perpetrator Count        184980\n",
       "Record Source            184980\n",
       "dtype: int64"
      ]
     },
     "execution_count": 8,
     "metadata": {},
     "output_type": "execute_result"
    }
   ],
   "source": [
    "data2[(data2[\"Crime Solved\"]==\"No\") & (data[\"Perpetrator Age\"]==0)].count()"
   ]
  },
  {
   "cell_type": "code",
   "execution_count": 7,
   "metadata": {},
   "outputs": [
    {
     "data": {
      "text/plain": [
       "0     216328\n",
       "20     21625\n",
       "19     20250\n",
       "21     18983\n",
       "18     18834\n",
       "       ...  \n",
       "95         9\n",
       "98         7\n",
       "96         7\n",
       "2          6\n",
       "97         3\n",
       "Name: Perpetrator Age, Length: 100, dtype: int64"
      ]
     },
     "execution_count": 7,
     "metadata": {},
     "output_type": "execute_result"
    }
   ],
   "source": [
    "# The number of zeros increased by 5249\n",
    "data2[\"Perpetrator Age\"].value_counts()"
   ]
  },
  {
   "cell_type": "code",
   "execution_count": 8,
   "metadata": {},
   "outputs": [
    {
     "data": {
      "text/plain": [
       "Record ID                217072\n",
       "Agency Code              217072\n",
       "Agency Name              217072\n",
       "Agency Type              217072\n",
       "City                     217072\n",
       "State                    217072\n",
       "Year                     217072\n",
       "Month                    217072\n",
       "Incident                 217072\n",
       "Crime Type               217072\n",
       "Crime Solved             217072\n",
       "Victim Sex               217072\n",
       "Victim Age               217072\n",
       "Victim Race              217072\n",
       "Victim Ethnicity         217072\n",
       "Perpetrator Sex          217072\n",
       "Perpetrator Age          217072\n",
       "Perpetrator Race         217072\n",
       "Perpetrator Ethnicity    217072\n",
       "Relationship             217072\n",
       "Weapon                   217072\n",
       "Victim Count             217072\n",
       "Perpetrator Count        217072\n",
       "Record Source            217072\n",
       "dtype: int64"
      ]
     },
     "execution_count": 8,
     "metadata": {},
     "output_type": "execute_result"
    }
   ],
   "source": [
    "# checking how many are under the age of 12 to see if we can find abnormal results to exclude from the mean\n",
    "# excluding zeros it means there are 744 perpetrators under the age of 12 \n",
    "# there are also some ages 1,2,3 etc who cannot be as Stevie from Family guys is not real (+ he doesn't succeed)\n",
    "# so we will exclude ages 0 - 6 (as I checked online and there are some under 10 murderes out there)\n",
    "# we will do that as it appears the value for them over 35 looks believable\n",
    "    # 126 in our data (without 0) to be exact\n",
    "data2[data2[\"Perpetrator Age\"] < 12].count()"
   ]
  },
  {
   "cell_type": "code",
   "execution_count": 4,
   "metadata": {},
   "outputs": [
    {
     "name": "stderr",
     "output_type": "stream",
     "text": [
      "/opt/tljh/user/lib/python3.6/site-packages/ipykernel_launcher.py:8: SettingWithCopyWarning: \n",
      "A value is trying to be set on a copy of a slice from a DataFrame\n",
      "\n",
      "See the caveats in the documentation: http://pandas.pydata.org/pandas-docs/stable/user_guide/indexing.html#returning-a-view-versus-a-copy\n",
      "  \n"
     ]
    },
    {
     "name": "stdout",
     "output_type": "stream",
     "text": [
      "<class 'pandas.core.frame.DataFrame'>\n",
      "RangeIndex: 422000 entries, 0 to 421999\n",
      "Data columns (total 24 columns):\n",
      "Record ID                422000 non-null int64\n",
      "Agency Code              422000 non-null object\n",
      "Agency Name              422000 non-null object\n",
      "Agency Type              422000 non-null object\n",
      "City                     422000 non-null object\n",
      "State                    422000 non-null object\n",
      "Year                     422000 non-null int64\n",
      "Month                    422000 non-null object\n",
      "Incident                 422000 non-null int64\n",
      "Crime Type               422000 non-null object\n",
      "Crime Solved             422000 non-null object\n",
      "Victim Sex               422000 non-null object\n",
      "Victim Age               422000 non-null int64\n",
      "Victim Race              422000 non-null object\n",
      "Victim Ethnicity         422000 non-null object\n",
      "Perpetrator Sex          422000 non-null object\n",
      "Perpetrator Age          422000 non-null int64\n",
      "Perpetrator Race         422000 non-null object\n",
      "Perpetrator Ethnicity    422000 non-null object\n",
      "Relationship             422000 non-null object\n",
      "Weapon                   422000 non-null object\n",
      "Victim Count             422000 non-null int64\n",
      "Perpetrator Count        422000 non-null int64\n",
      "Record Source            422000 non-null object\n",
      "dtypes: int64(7), object(17)\n",
      "memory usage: 77.3+ MB\n"
     ]
    }
   ],
   "source": [
    "# replacing perpetrators under the age 6 with NAN\n",
    "\n",
    "# search for ages below 6\n",
    "# This returns True/False\n",
    "under_6 = data2[\"Perpetrator Age\"] < 6\n",
    "\n",
    "# replace them with nan values for that column\n",
    "data2[\"Perpetrator Age\"][under_6] = np.nan\n",
    "\n",
    "# drop the na row values (results becomes a float for only that column becasue of numpy)\n",
    "# results have to be assigned otherwise it doesn't updates\n",
    "data2 = data2.dropna()\n",
    "\n",
    "# reset the index that now jumps from missing values e.g. 1, 100,102 etc.\n",
    "data2 = data2.reset_index(drop=True)\n",
    "\n",
    "# convert the column back to integers\n",
    "data2[\"Perpetrator Age\"] = data2[\"Perpetrator Age\"].astype(int)\n",
    "\n",
    "# display the df information\n",
    "# we got rid off 216,454 values\n",
    "data2.info()"
   ]
  },
  {
   "cell_type": "code",
   "execution_count": 5,
   "metadata": {},
   "outputs": [
    {
     "data": {
      "text/plain": [
       "31.0"
      ]
     },
     "execution_count": 5,
     "metadata": {},
     "output_type": "execute_result"
    }
   ],
   "source": [
    "data2[\"Perpetrator Age\"].mean().round()"
   ]
  },
  {
   "cell_type": "code",
   "execution_count": 9,
   "metadata": {},
   "outputs": [
    {
     "data": {
      "text/plain": [
       "<matplotlib.axes._subplots.AxesSubplot at 0x7fcc3d977f60>"
      ]
     },
     "execution_count": 9,
     "metadata": {},
     "output_type": "execute_result"
    },
    {
     "data": {
      "image/png": "[encoded data removed]",
      "text/plain": [
       "<Figure size 432x288 with 1 Axes>"
      ]
     },
     "metadata": {
      "needs_background": "light"
     },
     "output_type": "display_data"
    }
   ],
   "source": [
    "sns.distplot(data2[\"Perpetrator Age\"])"
   ]
  },
  {
   "cell_type": "markdown",
   "metadata": {},
   "source": [
    "## Step 1: dropping the uknowns and replacing them with truncated normal distribution\n",
    "    - columns we will be working on (not neccessaraly in that order): \n",
    "1. Victim Sex              \n",
    "2. Victim Age               \n",
    "3. Victim Race              \n",
    "4. Victim Ethnicity         \n",
    "5. Perpetrator Sex         \n",
    "6. Perpetrator Age          \n",
    "7. Perpetrator Race         \n",
    "8. Perpetrator Ethnicity    \n",
    "9. Relationship             \n",
    "10. Weapon  "
   ]
  },
  {
   "cell_type": "code",
   "execution_count": 47,
   "metadata": {},
   "outputs": [
    {
     "data": {
      "text/plain": [
       "0    20\n",
       "dtype: int64"
      ]
     },
     "execution_count": 47,
     "metadata": {},
     "output_type": "execute_result"
    }
   ],
   "source": [
    "data2[\"Perpetrator Age\"].mode()"
   ]
  },
  {
   "cell_type": "code",
   "execution_count": 11,
   "metadata": {},
   "outputs": [],
   "source": [
    "# Creating our truncated normal distribution of Perpetrator Ages \n",
    "\n",
    "# so between age 13 and 99\n",
    "# mean is 31, stdev is 13 (have to round up to be whole number)\n",
    "import scipy.stats as stats\n",
    "\n",
    "# calculate mode and sigma (variance --> rounded we do not want 30.4 year old results)\n",
    "# we do not need to round mode\n",
    "mean = data2[\"Perpetrator Age\"].mean().round()\n",
    "sigma = data2[\"Perpetrator Age\"].std().round()\n",
    "\n",
    "# shape parameters\n",
    "# youngest and oldest age \n",
    "a, b = 6, 99 \n",
    "\n",
    "# A truncated normal continuous random variable\n",
    "# truncated normal distribution is the probability distribution derived from that of a normally \n",
    "# distributed random variable by bounding the random variable from either below or above (or both). \n",
    "# probability density function is the probability of something happening within certain range / upper bound \n",
    "# restricting normal distribution between an interval \n",
    "# a - mu --> 13 - 31 range/13, 99-31/13, loc = location parameter (mean), scale parameter = scale (sigma)\n",
    "# --> so stdev will move up and down based on the mean\n",
    "dist = stats.truncnorm((a - mean) / sigma, (b - mean) / sigma, loc=mean, scale=sigma)\n",
    "\n",
    "# generate 218668 random numbers based dist conditions\n",
    "# our original number of observations - current\n",
    "# we get a numpy array back\n",
    "values = dist.rvs(216454).round()\n",
    "values = values.astype(np.int)"
   ]
  },
  {
   "cell_type": "code",
   "execution_count": 19,
   "metadata": {},
   "outputs": [],
   "source": [
    "d = pd.Series(values)"
   ]
  },
  {
   "cell_type": "code",
   "execution_count": 20,
   "metadata": {},
   "outputs": [
    {
     "name": "stderr",
     "output_type": "stream",
     "text": [
      "/opt/tljh/user/lib/python3.6/site-packages/ipykernel_launcher.py:12: SettingWithCopyWarning: \n",
      "A value is trying to be set on a copy of a slice from a DataFrame\n",
      "\n",
      "See the caveats in the documentation: http://pandas.pydata.org/pandas-docs/stable/user_guide/indexing.html#returning-a-view-versus-a-copy\n",
      "  if sys.path[0] == '':\n"
     ]
    },
    {
     "data": {
      "text/plain": [
       "0    15.0\n",
       "1    42.0\n",
       "2    36.0\n",
       "3    42.0\n",
       "4    29.0\n",
       "Name: Perpetrator Age, dtype: float64"
      ]
     },
     "execution_count": 20,
     "metadata": {},
     "output_type": "execute_result"
    }
   ],
   "source": [
    "data15 = data.copy()\n",
    "\n",
    "# replace blank strings with zeros\n",
    "data15['Perpetrator Age'] = data15['Perpetrator Age'].replace(\" \", 0)\n",
    "\n",
    "# format them as integers\n",
    "data15['Perpetrator Age'] = data15['Perpetrator Age'].astype(str).astype(int)\n",
    "\n",
    "under = data15[\"Perpetrator Age\"] < 6\n",
    "\n",
    "# replace them with nan values for that column\n",
    "data15[\"Perpetrator Age\"][under_6] = np.nan\n",
    "\n",
    "# drop the na row values (results becomes a float for only that column becasue of numpy)\n",
    "# results have to be assigned otherwise it doesn't updates\n",
    "data15 = data15[\"Perpetrator Age\"].fillna(d)\n",
    "\n",
    "\n",
    "# display the df information\n",
    "# we got rid off 216,454 values\n",
    "data15.head()"
   ]
  },
  {
   "cell_type": "code",
   "execution_count": 50,
   "metadata": {},
   "outputs": [
    {
     "ename": "SyntaxError",
     "evalue": "invalid syntax (<ipython-input-50-de8f68ac306c>, line 1)",
     "output_type": "error",
     "traceback": [
      "\u001b[0;36m  File \u001b[0;32m\"<ipython-input-50-de8f68ac306c>\"\u001b[0;36m, line \u001b[0;32m1\u001b[0m\n\u001b[0;31m    if there is missing --> impute them where missing data is\u001b[0m\n\u001b[0m                          ^\u001b[0m\n\u001b[0;31mSyntaxError\u001b[0m\u001b[0;31m:\u001b[0m invalid syntax\n"
     ]
    }
   ],
   "source": [
    "#if there is missing --> impute them where missing data is \n",
    "#brand new column"
   ]
  },
  {
   "cell_type": "markdown",
   "metadata": {},
   "source": [
    "### creating a copy and getting the results in based on our conditions"
   ]
  },
  {
   "cell_type": "code",
   "execution_count": null,
   "metadata": {},
   "outputs": [],
   "source": []
  },
  {
   "cell_type": "code",
   "execution_count": 52,
   "metadata": {},
   "outputs": [
    {
     "data": {
      "text/plain": [
       "Record ID                333\n",
       "Agency Code              333\n",
       "Agency Name              333\n",
       "Agency Type              333\n",
       "City                     333\n",
       "State                    333\n",
       "Year                     333\n",
       "Month                    333\n",
       "Incident                 333\n",
       "Crime Type               333\n",
       "Crime Solved             333\n",
       "Victim Sex               333\n",
       "Victim Age               333\n",
       "Victim Race              333\n",
       "Victim Ethnicity         333\n",
       "Perpetrator Sex          333\n",
       "Perpetrator Age          333\n",
       "Perpetrator Race         333\n",
       "Perpetrator Ethnicity    333\n",
       "Relationship             333\n",
       "Weapon                   333\n",
       "Victim Count             333\n",
       "Perpetrator Count        333\n",
       "Record Source            333\n",
       "dtype: int64"
      ]
     },
     "execution_count": 52,
     "metadata": {},
     "output_type": "execute_result"
    }
   ],
   "source": [
    "# checking our upper age for victims\n",
    "# age 99 there were 9,281 victims over 35 years\n",
    "# over that age the value is 0 until we hit that 998 number with 974 observations\n",
    "# but it appears this error was deleted with our perpetrator age delition\n",
    "# we have to be careful here as this will give more error for our victim age adjustment \n",
    "# it also deleted other ages we care about\n",
    "# answer get another copy of the data\n",
    "data2[data2[\"Victim Age\"]==998].count()"
   ]
  },
  {
   "cell_type": "code",
   "execution_count": 17,
   "metadata": {},
   "outputs": [
    {
     "name": "stderr",
     "output_type": "stream",
     "text": [
      "/opt/tljh/user/lib/python3.6/site-packages/ipykernel_launcher.py:11: SettingWithCopyWarning: \n",
      "A value is trying to be set on a copy of a slice from a DataFrame\n",
      "\n",
      "See the caveats in the documentation: http://pandas.pydata.org/pandas-docs/stable/user_guide/indexing.html#returning-a-view-versus-a-copy\n",
      "  # This is added back by InteractiveShellApp.init_path()\n"
     ]
    },
    {
     "name": "stdout",
     "output_type": "stream",
     "text": [
      "<class 'pandas.core.frame.DataFrame'>\n",
      "RangeIndex: 637480 entries, 0 to 637479\n",
      "Data columns (total 24 columns):\n",
      "Record ID                637480 non-null int64\n",
      "Agency Code              637480 non-null object\n",
      "Agency Name              637480 non-null object\n",
      "Agency Type              637480 non-null object\n",
      "City                     637480 non-null object\n",
      "State                    637480 non-null object\n",
      "Year                     637480 non-null int64\n",
      "Month                    637480 non-null object\n",
      "Incident                 637480 non-null int64\n",
      "Crime Type               637480 non-null object\n",
      "Crime Solved             637480 non-null object\n",
      "Victim Sex               637480 non-null object\n",
      "Victim Age               637480 non-null int64\n",
      "Victim Race              637480 non-null object\n",
      "Victim Ethnicity         637480 non-null object\n",
      "Perpetrator Sex          637480 non-null object\n",
      "Perpetrator Age          637480 non-null object\n",
      "Perpetrator Race         637480 non-null object\n",
      "Perpetrator Ethnicity    637480 non-null object\n",
      "Relationship             637480 non-null object\n",
      "Weapon                   637480 non-null object\n",
      "Victim Count             637480 non-null int64\n",
      "Perpetrator Count        637480 non-null int64\n",
      "Record Source            637480 non-null object\n",
      "dtypes: int64(6), object(18)\n",
      "memory usage: 116.7+ MB\n"
     ]
    }
   ],
   "source": [
    "# Check this link to see why we are keeping the young ages:\n",
    "    # https://www.ncbi.nlm.nih.gov/pmc/articles/PMC2174580/\n",
    "    \n",
    "# another copy\n",
    "data3 = data.copy()\n",
    "\n",
    "# deliting unreasonably high ages (setting upper limit)\n",
    "vic_age_limit = data3[\"Victim Age\"] > 99\n",
    "\n",
    "# replace them with nan values for that column\n",
    "data3[\"Victim Age\"][vic_age_limit] = np.nan\n",
    "\n",
    "# drop the na row values (results becomes a float for only that column becasue of numpy)\n",
    "# results have to be assigned otherwise it doesn't updates\n",
    "data3 = data3.dropna()\n",
    "\n",
    "# reset the index \n",
    "data3 = data3.reset_index(drop=True)\n",
    "\n",
    "# convert the column back to integers\n",
    "data3[\"Victim Age\"] = data3[\"Victim Age\"].astype(int)\n",
    "\n",
    "# display df information\n",
    "# and we got rid off 974 supper old victims (no pun intended)\n",
    "# we will leave the ages under 6 here as it is possible compared to perpetrators \n",
    "data3.info()"
   ]
  },
  {
   "cell_type": "code",
   "execution_count": 20,
   "metadata": {},
   "outputs": [
    {
     "data": {
      "text/plain": [
       "<matplotlib.axes._subplots.AxesSubplot at 0x7f581c5ae470>"
      ]
     },
     "execution_count": 20,
     "metadata": {},
     "output_type": "execute_result"
    },
    {
     "data": {
      "image/png": "[encoded data removed]",
      "text/plain": [
       "<Figure size 432x288 with 1 Axes>"
      ]
     },
     "metadata": {
      "needs_background": "light"
     },
     "output_type": "display_data"
    }
   ],
   "source": [
    "sns.distplot(data3[\"Victim Age\"])"
   ]
  },
  {
   "cell_type": "code",
   "execution_count": 54,
   "metadata": {},
   "outputs": [],
   "source": [
    "# doing the same for ages to fill the error void\n",
    "# Note: always have new variables\n",
    "\n",
    "mean1 = data3[\"Victim Age\"].mean().round()\n",
    "sigma1 = data3[\"Victim Age\"].std().round()\n",
    "\n",
    "# shape parameters\n",
    "# youngest and oldest age \n",
    "a1, b1 = 0, 99 \n",
    "\n",
    "dist1 = stats.truncnorm((a1 - mean1) / sigma1, (b1 - mean1) / sigma1, loc=mean1, scale=sigma1)\n",
    "\n",
    "# pluck in our error 974 in this case\n",
    "values1 = dist1.rvs(974).round()"
   ]
  },
  {
   "cell_type": "code",
   "execution_count": null,
   "metadata": {},
   "outputs": [],
   "source": [
    "# check where there is most unsolved murders"
   ]
  },
  {
   "cell_type": "markdown",
   "metadata": {},
   "source": [
    "## Imputing the ages data"
   ]
  },
  {
   "cell_type": "code",
   "execution_count": null,
   "metadata": {},
   "outputs": [],
   "source": [
    "data40 = data.copy()\n",
    "data40[\"Victim Age\"]"
   ]
  },
  {
   "cell_type": "code",
   "execution_count": null,
   "metadata": {},
   "outputs": [],
   "source": []
  },
  {
   "cell_type": "code",
   "execution_count": null,
   "metadata": {},
   "outputs": [],
   "source": []
  },
  {
   "cell_type": "markdown",
   "metadata": {},
   "source": [
    "## If we wish to keep the categorica unknown values we can use this data file  "
   ]
  },
  {
   "cell_type": "code",
   "execution_count": null,
   "metadata": {},
   "outputs": [],
   "source": []
  },
  {
   "cell_type": "code",
   "execution_count": null,
   "metadata": {},
   "outputs": [],
   "source": []
  },
  {
   "cell_type": "code",
   "execution_count": null,
   "metadata": {},
   "outputs": [],
   "source": []
  },
  {
   "cell_type": "markdown",
   "metadata": {},
   "source": [
    "## Dropping the categorical unknowns "
   ]
  },
  {
   "cell_type": "code",
   "execution_count": null,
   "metadata": {},
   "outputs": [],
   "source": []
  },
  {
   "cell_type": "code",
   "execution_count": 6,
   "metadata": {},
   "outputs": [
    {
     "name": "stderr",
     "output_type": "stream",
     "text": [
      "/opt/tljh/user/lib/python3.6/site-packages/ipykernel_launcher.py:9: SettingWithCopyWarning: \n",
      "A value is trying to be set on a copy of a slice from a DataFrame\n",
      "\n",
      "See the caveats in the documentation: http://pandas.pydata.org/pandas-docs/stable/user_guide/indexing.html#returning-a-view-versus-a-copy\n",
      "  if __name__ == '__main__':\n"
     ]
    },
    {
     "data": {
      "text/plain": [
       "0         Not Hispanic\n",
       "1         Not Hispanic\n",
       "2         Not Hispanic\n",
       "3         Not Hispanic\n",
       "4         Not Hispanic\n",
       "              ...     \n",
       "270146    Not Hispanic\n",
       "270147    Not Hispanic\n",
       "270148        Hispanic\n",
       "270149    Not Hispanic\n",
       "270150    Not Hispanic\n",
       "Name: Victim Ethnicity, Length: 270151, dtype: object"
      ]
     },
     "execution_count": 6,
     "metadata": {},
     "output_type": "execute_result"
    }
   ],
   "source": [
    "# Dropping Victim Ethnicity unknowns\n",
    "# new copy\n",
    "data4 = data.copy()\n",
    "\n",
    "# deleting victim ethnicity unknowns\n",
    "vic_eth_del_unknowns = data4[\"Victim Ethnicity\"] == \"Unknown\"\n",
    "\n",
    "# replace them with nan values for that column\n",
    "data4[\"Victim Ethnicity\"][vic_eth_del_unknowns] = np.nan\n",
    "\n",
    "# drop the na row values (results becomes a float for only that column becasue of numpy)\n",
    "# results have to be assigned otherwise it doesn't updates\n",
    "data4 = data4.dropna()\n",
    "\n",
    "# reset the index \n",
    "data4 = data4.reset_index(drop=True)\n",
    "\n",
    "# display df information\n",
    "data4.info()\n",
    "\n"
   ]
  },
  {
   "cell_type": "code",
   "execution_count": 56,
   "metadata": {},
   "outputs": [
    {
     "name": "stderr",
     "output_type": "stream",
     "text": [
      "/opt/tljh/user/lib/python3.6/site-packages/ipykernel_launcher.py:9: SettingWithCopyWarning: \n",
      "A value is trying to be set on a copy of a slice from a DataFrame\n",
      "\n",
      "See the caveats in the documentation: http://pandas.pydata.org/pandas-docs/stable/user_guide/indexing.html#returning-a-view-versus-a-copy\n",
      "  if __name__ == '__main__':\n"
     ]
    },
    {
     "name": "stdout",
     "output_type": "stream",
     "text": [
      "<class 'pandas.core.frame.DataFrame'>\n",
      "RangeIndex: 192044 entries, 0 to 192043\n",
      "Data columns (total 24 columns):\n",
      "Record ID                192044 non-null int64\n",
      "Agency Code              192044 non-null object\n",
      "Agency Name              192044 non-null object\n",
      "Agency Type              192044 non-null object\n",
      "City                     192044 non-null object\n",
      "State                    192044 non-null object\n",
      "Year                     192044 non-null int64\n",
      "Month                    192044 non-null object\n",
      "Incident                 192044 non-null int64\n",
      "Crime Type               192044 non-null object\n",
      "Crime Solved             192044 non-null object\n",
      "Victim Sex               192044 non-null object\n",
      "Victim Age               192044 non-null int64\n",
      "Victim Race              192044 non-null object\n",
      "Victim Ethnicity         192044 non-null object\n",
      "Perpetrator Sex          192044 non-null object\n",
      "Perpetrator Age          192044 non-null object\n",
      "Perpetrator Race         192044 non-null object\n",
      "Perpetrator Ethnicity    192044 non-null object\n",
      "Relationship             192044 non-null object\n",
      "Weapon                   192044 non-null object\n",
      "Victim Count             192044 non-null int64\n",
      "Perpetrator Count        192044 non-null int64\n",
      "Record Source            192044 non-null object\n",
      "dtypes: int64(6), object(18)\n",
      "memory usage: 35.2+ MB\n"
     ]
    }
   ],
   "source": [
    "# Dropping Perpetrator Ethnicity unknowns\n",
    "# new copy\n",
    "data5 = data.copy()\n",
    "\n",
    "# deleting perpetrator ethnicity unknowns\n",
    "perp_eth_del_unknowns = data5[\"Perpetrator Ethnicity\"] == \"Unknown\"\n",
    "\n",
    "# replace them with nan values for that column\n",
    "data5[\"Perpetrator Ethnicity\"][perp_eth_del_unknowns] = np.nan\n",
    "\n",
    "data5 = data5.dropna()\n",
    "\n",
    "# reset the index \n",
    "data5 = data5.reset_index(drop=True)\n",
    "\n",
    "# display df information\n",
    "data5.info()"
   ]
  },
  {
   "cell_type": "code",
   "execution_count": 58,
   "metadata": {},
   "outputs": [
    {
     "name": "stderr",
     "output_type": "stream",
     "text": [
      "/opt/tljh/user/lib/python3.6/site-packages/ipykernel_launcher.py:9: SettingWithCopyWarning: \n",
      "A value is trying to be set on a copy of a slice from a DataFrame\n",
      "\n",
      "See the caveats in the documentation: http://pandas.pydata.org/pandas-docs/stable/user_guide/indexing.html#returning-a-view-versus-a-copy\n",
      "  if __name__ == '__main__':\n"
     ]
    },
    {
     "name": "stdout",
     "output_type": "stream",
     "text": [
      "<class 'pandas.core.frame.DataFrame'>\n",
      "RangeIndex: 365441 entries, 0 to 365440\n",
      "Data columns (total 24 columns):\n",
      "Record ID                365441 non-null int64\n",
      "Agency Code              365441 non-null object\n",
      "Agency Name              365441 non-null object\n",
      "Agency Type              365441 non-null object\n",
      "City                     365441 non-null object\n",
      "State                    365441 non-null object\n",
      "Year                     365441 non-null int64\n",
      "Month                    365441 non-null object\n",
      "Incident                 365441 non-null int64\n",
      "Crime Type               365441 non-null object\n",
      "Crime Solved             365441 non-null object\n",
      "Victim Sex               365441 non-null object\n",
      "Victim Age               365441 non-null int64\n",
      "Victim Race              365441 non-null object\n",
      "Victim Ethnicity         365441 non-null object\n",
      "Perpetrator Sex          365441 non-null object\n",
      "Perpetrator Age          365441 non-null object\n",
      "Perpetrator Race         365441 non-null object\n",
      "Perpetrator Ethnicity    365441 non-null object\n",
      "Relationship             365441 non-null object\n",
      "Weapon                   365441 non-null object\n",
      "Victim Count             365441 non-null int64\n",
      "Perpetrator Count        365441 non-null int64\n",
      "Record Source            365441 non-null object\n",
      "dtypes: int64(6), object(18)\n",
      "memory usage: 66.9+ MB\n"
     ]
    }
   ],
   "source": [
    "# Dropping relationship unknowns (if only we could)\n",
    "# new copy\n",
    "data6 = data.copy()\n",
    "\n",
    "# deleting relationship unknowns\n",
    "relat_del_unknowns = data6[\"Relationship\"] == \"Unknown\"\n",
    "\n",
    "# replace them with nan values for that column\n",
    "data6[\"Relationship\"][relat_del_unknowns] = np.nan\n",
    "\n",
    "data6 = data6.dropna()\n",
    "\n",
    "# reset the index \n",
    "data6 = data6.reset_index(drop=True)\n",
    "\n",
    "# display df information\n",
    "data6.info()"
   ]
  },
  {
   "cell_type": "code",
   "execution_count": 59,
   "metadata": {},
   "outputs": [
    {
     "name": "stderr",
     "output_type": "stream",
     "text": [
      "/opt/tljh/user/lib/python3.6/site-packages/ipykernel_launcher.py:9: SettingWithCopyWarning: \n",
      "A value is trying to be set on a copy of a slice from a DataFrame\n",
      "\n",
      "See the caveats in the documentation: http://pandas.pydata.org/pandas-docs/stable/user_guide/indexing.html#returning-a-view-versus-a-copy\n",
      "  if __name__ == '__main__':\n"
     ]
    },
    {
     "name": "stdout",
     "output_type": "stream",
     "text": [
      "<class 'pandas.core.frame.DataFrame'>\n",
      "RangeIndex: 605262 entries, 0 to 605261\n",
      "Data columns (total 24 columns):\n",
      "Record ID                605262 non-null int64\n",
      "Agency Code              605262 non-null object\n",
      "Agency Name              605262 non-null object\n",
      "Agency Type              605262 non-null object\n",
      "City                     605262 non-null object\n",
      "State                    605262 non-null object\n",
      "Year                     605262 non-null int64\n",
      "Month                    605262 non-null object\n",
      "Incident                 605262 non-null int64\n",
      "Crime Type               605262 non-null object\n",
      "Crime Solved             605262 non-null object\n",
      "Victim Sex               605262 non-null object\n",
      "Victim Age               605262 non-null int64\n",
      "Victim Race              605262 non-null object\n",
      "Victim Ethnicity         605262 non-null object\n",
      "Perpetrator Sex          605262 non-null object\n",
      "Perpetrator Age          605262 non-null object\n",
      "Perpetrator Race         605262 non-null object\n",
      "Perpetrator Ethnicity    605262 non-null object\n",
      "Relationship             605262 non-null object\n",
      "Weapon                   605262 non-null object\n",
      "Victim Count             605262 non-null int64\n",
      "Perpetrator Count        605262 non-null int64\n",
      "Record Source            605262 non-null object\n",
      "dtypes: int64(6), object(18)\n",
      "memory usage: 110.8+ MB\n"
     ]
    }
   ],
   "source": [
    "# Dropping Weapon unknowns\n",
    "# new copy\n",
    "data7 = data.copy()\n",
    "\n",
    "# deleting weapon unknowns\n",
    "weap_del_unknowns = data7[\"Weapon\"] == \"Unknown\"\n",
    "\n",
    "# replace them with nan values for that column\n",
    "data7[\"Weapon\"][weap_del_unknowns] = np.nan\n",
    "\n",
    "data7 = data7.dropna()\n",
    "\n",
    "# reset the index \n",
    "data7 = data7.reset_index(drop=True)\n",
    "\n",
    "# display df information\n",
    "data7.info()"
   ]
  },
  {
   "cell_type": "code",
   "execution_count": 60,
   "metadata": {},
   "outputs": [
    {
     "name": "stderr",
     "output_type": "stream",
     "text": [
      "/opt/tljh/user/lib/python3.6/site-packages/ipykernel_launcher.py:9: SettingWithCopyWarning: \n",
      "A value is trying to be set on a copy of a slice from a DataFrame\n",
      "\n",
      "See the caveats in the documentation: http://pandas.pydata.org/pandas-docs/stable/user_guide/indexing.html#returning-a-view-versus-a-copy\n",
      "  if __name__ == '__main__':\n"
     ]
    },
    {
     "name": "stdout",
     "output_type": "stream",
     "text": [
      "<class 'pandas.core.frame.DataFrame'>\n",
      "RangeIndex: 442407 entries, 0 to 442406\n",
      "Data columns (total 24 columns):\n",
      "Record ID                442407 non-null int64\n",
      "Agency Code              442407 non-null object\n",
      "Agency Name              442407 non-null object\n",
      "Agency Type              442407 non-null object\n",
      "City                     442407 non-null object\n",
      "State                    442407 non-null object\n",
      "Year                     442407 non-null int64\n",
      "Month                    442407 non-null object\n",
      "Incident                 442407 non-null int64\n",
      "Crime Type               442407 non-null object\n",
      "Crime Solved             442407 non-null object\n",
      "Victim Sex               442407 non-null object\n",
      "Victim Age               442407 non-null int64\n",
      "Victim Race              442407 non-null object\n",
      "Victim Ethnicity         442407 non-null object\n",
      "Perpetrator Sex          442407 non-null object\n",
      "Perpetrator Age          442407 non-null object\n",
      "Perpetrator Race         442407 non-null object\n",
      "Perpetrator Ethnicity    442407 non-null object\n",
      "Relationship             442407 non-null object\n",
      "Weapon                   442407 non-null object\n",
      "Victim Count             442407 non-null int64\n",
      "Perpetrator Count        442407 non-null int64\n",
      "Record Source            442407 non-null object\n",
      "dtypes: int64(6), object(18)\n",
      "memory usage: 81.0+ MB\n"
     ]
    }
   ],
   "source": [
    "# Dropping Perpetrator Race unknowns\n",
    "# new copy\n",
    "data8 = data.copy()\n",
    "\n",
    "# deleting perpetrator race unknowns\n",
    "perp_race_del_unknowns = data8[\"Perpetrator Race\"] == \"Unknown\"\n",
    "\n",
    "# replace them with nan values for that column\n",
    "data8[\"Perpetrator Race\"][perp_race_del_unknowns] = np.nan\n",
    "\n",
    "data8 = data8.dropna()\n",
    "\n",
    "# reset the index \n",
    "data8 = data8.reset_index(drop=True)\n",
    "\n",
    "# display df information\n",
    "data8.info()"
   ]
  },
  {
   "cell_type": "code",
   "execution_count": 61,
   "metadata": {},
   "outputs": [
    {
     "name": "stderr",
     "output_type": "stream",
     "text": [
      "/opt/tljh/user/lib/python3.6/site-packages/ipykernel_launcher.py:9: SettingWithCopyWarning: \n",
      "A value is trying to be set on a copy of a slice from a DataFrame\n",
      "\n",
      "See the caveats in the documentation: http://pandas.pydata.org/pandas-docs/stable/user_guide/indexing.html#returning-a-view-versus-a-copy\n",
      "  if __name__ == '__main__':\n"
     ]
    },
    {
     "name": "stdout",
     "output_type": "stream",
     "text": [
      "<class 'pandas.core.frame.DataFrame'>\n",
      "RangeIndex: 448089 entries, 0 to 448088\n",
      "Data columns (total 24 columns):\n",
      "Record ID                448089 non-null int64\n",
      "Agency Code              448089 non-null object\n",
      "Agency Name              448089 non-null object\n",
      "Agency Type              448089 non-null object\n",
      "City                     448089 non-null object\n",
      "State                    448089 non-null object\n",
      "Year                     448089 non-null int64\n",
      "Month                    448089 non-null object\n",
      "Incident                 448089 non-null int64\n",
      "Crime Type               448089 non-null object\n",
      "Crime Solved             448089 non-null object\n",
      "Victim Sex               448089 non-null object\n",
      "Victim Age               448089 non-null int64\n",
      "Victim Race              448089 non-null object\n",
      "Victim Ethnicity         448089 non-null object\n",
      "Perpetrator Sex          448089 non-null object\n",
      "Perpetrator Age          448089 non-null object\n",
      "Perpetrator Race         448089 non-null object\n",
      "Perpetrator Ethnicity    448089 non-null object\n",
      "Relationship             448089 non-null object\n",
      "Weapon                   448089 non-null object\n",
      "Victim Count             448089 non-null int64\n",
      "Perpetrator Count        448089 non-null int64\n",
      "Record Source            448089 non-null object\n",
      "dtypes: int64(6), object(18)\n",
      "memory usage: 82.0+ MB\n"
     ]
    }
   ],
   "source": [
    "# Dropping Perpetrator Sex unknowns\n",
    "# new copy\n",
    "data9 = data.copy()\n",
    "\n",
    "# deleting perpetrator ethnicity unknowns\n",
    "perp_sex_del_unknowns = data9[\"Perpetrator Sex\"] == \"Unknown\"\n",
    "\n",
    "# replace them with nan values for that column\n",
    "data9[\"Perpetrator Sex\"][perp_sex_del_unknowns] = np.nan\n",
    "\n",
    "data9 = data9.dropna()\n",
    "\n",
    "# reset the index \n",
    "data9 = data9.reset_index(drop=True)\n",
    "\n",
    "# display df information\n",
    "data9.info()"
   ]
  },
  {
   "cell_type": "code",
   "execution_count": 62,
   "metadata": {},
   "outputs": [
    {
     "name": "stderr",
     "output_type": "stream",
     "text": [
      "/opt/tljh/user/lib/python3.6/site-packages/ipykernel_launcher.py:9: SettingWithCopyWarning: \n",
      "A value is trying to be set on a copy of a slice from a DataFrame\n",
      "\n",
      "See the caveats in the documentation: http://pandas.pydata.org/pandas-docs/stable/user_guide/indexing.html#returning-a-view-versus-a-copy\n",
      "  if __name__ == '__main__':\n"
     ]
    },
    {
     "name": "stdout",
     "output_type": "stream",
     "text": [
      "<class 'pandas.core.frame.DataFrame'>\n",
      "RangeIndex: 637470 entries, 0 to 637469\n",
      "Data columns (total 24 columns):\n",
      "Record ID                637470 non-null int64\n",
      "Agency Code              637470 non-null object\n",
      "Agency Name              637470 non-null object\n",
      "Agency Type              637470 non-null object\n",
      "City                     637470 non-null object\n",
      "State                    637470 non-null object\n",
      "Year                     637470 non-null int64\n",
      "Month                    637470 non-null object\n",
      "Incident                 637470 non-null int64\n",
      "Crime Type               637470 non-null object\n",
      "Crime Solved             637470 non-null object\n",
      "Victim Sex               637470 non-null object\n",
      "Victim Age               637470 non-null int64\n",
      "Victim Race              637470 non-null object\n",
      "Victim Ethnicity         637470 non-null object\n",
      "Perpetrator Sex          637470 non-null object\n",
      "Perpetrator Age          637470 non-null object\n",
      "Perpetrator Race         637470 non-null object\n",
      "Perpetrator Ethnicity    637470 non-null object\n",
      "Relationship             637470 non-null object\n",
      "Weapon                   637470 non-null object\n",
      "Victim Count             637470 non-null int64\n",
      "Perpetrator Count        637470 non-null int64\n",
      "Record Source            637470 non-null object\n",
      "dtypes: int64(6), object(18)\n",
      "memory usage: 116.7+ MB\n"
     ]
    }
   ],
   "source": [
    "# Dropping victim sex unknowns\n",
    "# new copy\n",
    "data10 = data.copy()\n",
    "\n",
    "# deleting victim ethnicity unknowns\n",
    "vic_sex_del_unknowns = data10[\"Victim Sex\"] == \"Unknown\"\n",
    "\n",
    "# replace them with nan values for that column\n",
    "data10[\"Victim Sex\"][vic_sex_del_unknowns] = np.nan\n",
    "\n",
    "# drop the na row values (results becomes a float for only that column becasue of numpy)\n",
    "# results have to be assigned otherwise it doesn't updates\n",
    "data10 = data10.dropna()\n",
    "\n",
    "# reset the index \n",
    "data10 = data10.reset_index(drop=True)\n",
    "\n",
    "# display df information\n",
    "data10.info()"
   ]
  },
  {
   "cell_type": "code",
   "execution_count": 12,
   "metadata": {},
   "outputs": [
    {
     "name": "stderr",
     "output_type": "stream",
     "text": [
      "/opt/tljh/user/lib/python3.6/site-packages/ipykernel_launcher.py:9: SettingWithCopyWarning: \n",
      "A value is trying to be set on a copy of a slice from a DataFrame\n",
      "\n",
      "See the caveats in the documentation: http://pandas.pydata.org/pandas-docs/stable/user_guide/indexing.html#returning-a-view-versus-a-copy\n",
      "  if __name__ == '__main__':\n"
     ]
    },
    {
     "name": "stdout",
     "output_type": "stream",
     "text": [
      "<class 'pandas.core.frame.DataFrame'>\n",
      "RangeIndex: 631778 entries, 0 to 631777\n",
      "Data columns (total 24 columns):\n",
      "Record ID                631778 non-null int64\n",
      "Agency Code              631778 non-null object\n",
      "Agency Name              631778 non-null object\n",
      "Agency Type              631778 non-null object\n",
      "City                     631778 non-null object\n",
      "State                    631778 non-null object\n",
      "Year                     631778 non-null int64\n",
      "Month                    631778 non-null object\n",
      "Incident                 631778 non-null int64\n",
      "Crime Type               631778 non-null object\n",
      "Crime Solved             631778 non-null object\n",
      "Victim Sex               631778 non-null object\n",
      "Victim Age               631778 non-null int64\n",
      "Victim Race              631778 non-null object\n",
      "Victim Ethnicity         631778 non-null object\n",
      "Perpetrator Sex          631778 non-null object\n",
      "Perpetrator Age          631778 non-null object\n",
      "Perpetrator Race         631778 non-null object\n",
      "Perpetrator Ethnicity    631778 non-null object\n",
      "Relationship             631778 non-null object\n",
      "Weapon                   631778 non-null object\n",
      "Victim Count             631778 non-null int64\n",
      "Perpetrator Count        631778 non-null int64\n",
      "Record Source            631778 non-null object\n",
      "dtypes: int64(6), object(18)\n",
      "memory usage: 115.7+ MB\n"
     ]
    }
   ],
   "source": [
    "# Dropping victim race unknowns\n",
    "# new copy\n",
    "data11 = data.copy()\n",
    "\n",
    "# deleting victim race unknowns\n",
    "vic_sex_del_unknowns = data11[\"Victim Race\"] == \"Unknown\"\n",
    "\n",
    "# replace them with nan values for that column\n",
    "data11[\"Victim Race\"][vic_sex_del_unknowns] = np.nan\n",
    "\n",
    "data11 = data11.dropna()\n",
    "\n",
    "# reset the index \n",
    "data11 = data11.reset_index(drop=True)\n",
    "\n",
    "data11[\"Victim Race\"].astype('category')\n",
    "\n",
    "# display df information\n",
    "data11.info()"
   ]
  },
  {
   "cell_type": "markdown",
   "metadata": {},
   "source": [
    "## Creating new categorical values"
   ]
  },
  {
   "cell_type": "code",
   "execution_count": null,
   "metadata": {},
   "outputs": [],
   "source": [
    "# using individually deleted categorical columns \n",
    "# take the mode array of that distribution and create the unknown values based on them\n",
    "# put them back in "
   ]
  },
  {
   "cell_type": "markdown",
   "metadata": {},
   "source": [
    "There is various ways to handle missing values of categorical ways.\n",
    "\n",
    "1. Ignore observations of missing values if we are dealing with large data sets and less number of records \n",
    "    has missing values\n",
    "2. Ignore variable, if it is not significant\n",
    "3. Develop model to predict missing values\n",
    "4. Treat missing data as just another category\n",
    "5. Asign unique numerical values to the item in the category \n",
    "    - and perform truncated normal distribution as above"
   ]
  },
  {
   "cell_type": "code",
   "execution_count": 67,
   "metadata": {},
   "outputs": [],
   "source": [
    "# A way to generate categorical values would be to assign a unique value to them\n",
    "# Example: 1 for male, 2 for female \n",
    "# then we use the same formula as we did above and generate the required number of missing values "
   ]
  },
  {
   "cell_type": "code",
   "execution_count": 13,
   "metadata": {},
   "outputs": [
    {
     "ename": "AttributeError",
     "evalue": "Can only use .cat accessor with a 'category' dtype",
     "output_type": "error",
     "traceback": [
      "\u001b[0;31m---------------------------------------------------------------------------\u001b[0m",
      "\u001b[0;31mAttributeError\u001b[0m                            Traceback (most recent call last)",
      "\u001b[0;32m<ipython-input-13-d38018e0c7ae>\u001b[0m in \u001b[0;36m<module>\u001b[0;34m\u001b[0m\n\u001b[1;32m      1\u001b[0m \u001b[0;31m# Label Encoding\u001b[0m\u001b[0;34m\u001b[0m\u001b[0;34m\u001b[0m\u001b[0;34m\u001b[0m\u001b[0m\n\u001b[1;32m      2\u001b[0m \u001b[0;34m\u001b[0m\u001b[0m\n\u001b[0;32m----> 3\u001b[0;31m \u001b[0mdata11\u001b[0m\u001b[0;34m[\u001b[0m\u001b[0;34m'Victim Race'\u001b[0m\u001b[0;34m]\u001b[0m \u001b[0;34m=\u001b[0m \u001b[0mdata11\u001b[0m\u001b[0;34m[\u001b[0m\u001b[0;34m'Victim Race'\u001b[0m\u001b[0;34m]\u001b[0m\u001b[0;34m.\u001b[0m\u001b[0mcat\u001b[0m\u001b[0;34m.\u001b[0m\u001b[0mcodes\u001b[0m\u001b[0;34m\u001b[0m\u001b[0;34m\u001b[0m\u001b[0m\n\u001b[0m\u001b[1;32m      4\u001b[0m \u001b[0mdata11\u001b[0m\u001b[0;34m\u001b[0m\u001b[0;34m\u001b[0m\u001b[0m\n",
      "\u001b[0;32m/opt/tljh/user/lib/python3.6/site-packages/pandas/core/generic.py\u001b[0m in \u001b[0;36m__getattr__\u001b[0;34m(self, name)\u001b[0m\n\u001b[1;32m   5173\u001b[0m             \u001b[0;32mor\u001b[0m \u001b[0mname\u001b[0m \u001b[0;32min\u001b[0m \u001b[0mself\u001b[0m\u001b[0;34m.\u001b[0m\u001b[0m_accessors\u001b[0m\u001b[0;34m\u001b[0m\u001b[0;34m\u001b[0m\u001b[0m\n\u001b[1;32m   5174\u001b[0m         ):\n\u001b[0;32m-> 5175\u001b[0;31m             \u001b[0;32mreturn\u001b[0m \u001b[0mobject\u001b[0m\u001b[0;34m.\u001b[0m\u001b[0m__getattribute__\u001b[0m\u001b[0;34m(\u001b[0m\u001b[0mself\u001b[0m\u001b[0;34m,\u001b[0m \u001b[0mname\u001b[0m\u001b[0;34m)\u001b[0m\u001b[0;34m\u001b[0m\u001b[0;34m\u001b[0m\u001b[0m\n\u001b[0m\u001b[1;32m   5176\u001b[0m         \u001b[0;32melse\u001b[0m\u001b[0;34m:\u001b[0m\u001b[0;34m\u001b[0m\u001b[0;34m\u001b[0m\u001b[0m\n\u001b[1;32m   5177\u001b[0m             \u001b[0;32mif\u001b[0m \u001b[0mself\u001b[0m\u001b[0;34m.\u001b[0m\u001b[0m_info_axis\u001b[0m\u001b[0;34m.\u001b[0m\u001b[0m_can_hold_identifiers_and_holds_name\u001b[0m\u001b[0;34m(\u001b[0m\u001b[0mname\u001b[0m\u001b[0;34m)\u001b[0m\u001b[0;34m:\u001b[0m\u001b[0;34m\u001b[0m\u001b[0;34m\u001b[0m\u001b[0m\n",
      "\u001b[0;32m/opt/tljh/user/lib/python3.6/site-packages/pandas/core/accessor.py\u001b[0m in \u001b[0;36m__get__\u001b[0;34m(self, obj, cls)\u001b[0m\n\u001b[1;32m    173\u001b[0m             \u001b[0;31m# we're accessing the attribute of the class, i.e., Dataset.geo\u001b[0m\u001b[0;34m\u001b[0m\u001b[0;34m\u001b[0m\u001b[0;34m\u001b[0m\u001b[0m\n\u001b[1;32m    174\u001b[0m             \u001b[0;32mreturn\u001b[0m \u001b[0mself\u001b[0m\u001b[0;34m.\u001b[0m\u001b[0m_accessor\u001b[0m\u001b[0;34m\u001b[0m\u001b[0;34m\u001b[0m\u001b[0m\n\u001b[0;32m--> 175\u001b[0;31m         \u001b[0maccessor_obj\u001b[0m \u001b[0;34m=\u001b[0m \u001b[0mself\u001b[0m\u001b[0;34m.\u001b[0m\u001b[0m_accessor\u001b[0m\u001b[0;34m(\u001b[0m\u001b[0mobj\u001b[0m\u001b[0;34m)\u001b[0m\u001b[0;34m\u001b[0m\u001b[0;34m\u001b[0m\u001b[0m\n\u001b[0m\u001b[1;32m    176\u001b[0m         \u001b[0;31m# Replace the property with the accessor object. Inspired by:\u001b[0m\u001b[0;34m\u001b[0m\u001b[0;34m\u001b[0m\u001b[0;34m\u001b[0m\u001b[0m\n\u001b[1;32m    177\u001b[0m         \u001b[0;31m# http://www.pydanny.com/cached-property.html\u001b[0m\u001b[0;34m\u001b[0m\u001b[0;34m\u001b[0m\u001b[0;34m\u001b[0m\u001b[0m\n",
      "\u001b[0;32m/opt/tljh/user/lib/python3.6/site-packages/pandas/core/arrays/categorical.py\u001b[0m in \u001b[0;36m__init__\u001b[0;34m(self, data)\u001b[0m\n\u001b[1;32m   2591\u001b[0m \u001b[0;34m\u001b[0m\u001b[0m\n\u001b[1;32m   2592\u001b[0m     \u001b[0;32mdef\u001b[0m \u001b[0m__init__\u001b[0m\u001b[0;34m(\u001b[0m\u001b[0mself\u001b[0m\u001b[0;34m,\u001b[0m \u001b[0mdata\u001b[0m\u001b[0;34m)\u001b[0m\u001b[0;34m:\u001b[0m\u001b[0;34m\u001b[0m\u001b[0;34m\u001b[0m\u001b[0m\n\u001b[0;32m-> 2593\u001b[0;31m         \u001b[0mself\u001b[0m\u001b[0;34m.\u001b[0m\u001b[0m_validate\u001b[0m\u001b[0;34m(\u001b[0m\u001b[0mdata\u001b[0m\u001b[0;34m)\u001b[0m\u001b[0;34m\u001b[0m\u001b[0;34m\u001b[0m\u001b[0m\n\u001b[0m\u001b[1;32m   2594\u001b[0m         \u001b[0mself\u001b[0m\u001b[0;34m.\u001b[0m\u001b[0m_parent\u001b[0m \u001b[0;34m=\u001b[0m \u001b[0mdata\u001b[0m\u001b[0;34m.\u001b[0m\u001b[0mvalues\u001b[0m\u001b[0;34m\u001b[0m\u001b[0;34m\u001b[0m\u001b[0m\n\u001b[1;32m   2595\u001b[0m         \u001b[0mself\u001b[0m\u001b[0;34m.\u001b[0m\u001b[0m_index\u001b[0m \u001b[0;34m=\u001b[0m \u001b[0mdata\u001b[0m\u001b[0;34m.\u001b[0m\u001b[0mindex\u001b[0m\u001b[0;34m\u001b[0m\u001b[0;34m\u001b[0m\u001b[0m\n",
      "\u001b[0;32m/opt/tljh/user/lib/python3.6/site-packages/pandas/core/arrays/categorical.py\u001b[0m in \u001b[0;36m_validate\u001b[0;34m(data)\u001b[0m\n\u001b[1;32m   2601\u001b[0m         \u001b[0;32mif\u001b[0m \u001b[0;32mnot\u001b[0m \u001b[0mis_categorical_dtype\u001b[0m\u001b[0;34m(\u001b[0m\u001b[0mdata\u001b[0m\u001b[0;34m.\u001b[0m\u001b[0mdtype\u001b[0m\u001b[0;34m)\u001b[0m\u001b[0;34m:\u001b[0m\u001b[0;34m\u001b[0m\u001b[0;34m\u001b[0m\u001b[0m\n\u001b[1;32m   2602\u001b[0m             raise AttributeError(\n\u001b[0;32m-> 2603\u001b[0;31m                 \u001b[0;34m\"Can only use .cat accessor with a \"\u001b[0m \u001b[0;34m\"'category' dtype\"\u001b[0m\u001b[0;34m\u001b[0m\u001b[0;34m\u001b[0m\u001b[0m\n\u001b[0m\u001b[1;32m   2604\u001b[0m             )\n\u001b[1;32m   2605\u001b[0m \u001b[0;34m\u001b[0m\u001b[0m\n",
      "\u001b[0;31mAttributeError\u001b[0m: Can only use .cat accessor with a 'category' dtype"
     ]
    }
   ],
   "source": [
    "# Label Encoding \n",
    "\n",
    "data11['Victim Race'] = data11['Victim Race'].cat.codes\n",
    "data11"
   ]
  },
  {
   "cell_type": "code",
   "execution_count": null,
   "metadata": {},
   "outputs": [],
   "source": []
  },
  {
   "cell_type": "code",
   "execution_count": null,
   "metadata": {},
   "outputs": [],
   "source": []
  },
  {
   "cell_type": "code",
   "execution_count": null,
   "metadata": {},
   "outputs": [],
   "source": []
  },
  {
   "cell_type": "code",
   "execution_count": 1,
   "metadata": {},
   "outputs": [
    {
     "name": "stderr",
     "output_type": "stream",
     "text": [
      "/home/jupyter-ehren/.local/lib/python3.6/site-packages/sklearn/utils/deprecation.py:66: DeprecationWarning: Class Imputer is deprecated; Imputer was deprecated in version 0.20 and will be removed in 0.22. Import impute.SimpleImputer from sklearn instead.\n",
      "  warnings.warn(msg, category=DeprecationWarning)\n"
     ]
    },
    {
     "ename": "NameError",
     "evalue": "name 'LogisticRegression' is not defined",
     "output_type": "error",
     "traceback": [
      "\u001b[0;31m---------------------------------------------------------------------------\u001b[0m",
      "\u001b[0;31mNameError\u001b[0m                                 Traceback (most recent call last)",
      "\u001b[0;32m<ipython-input-1-af6f13c126c6>\u001b[0m in \u001b[0;36m<module>\u001b[0;34m\u001b[0m\n\u001b[1;32m      3\u001b[0m \u001b[0;34m\u001b[0m\u001b[0m\n\u001b[1;32m      4\u001b[0m \u001b[0mimp\u001b[0m \u001b[0;34m=\u001b[0m \u001b[0mImputer\u001b[0m\u001b[0;34m(\u001b[0m\u001b[0mmissing_values\u001b[0m\u001b[0;34m=\u001b[0m\u001b[0;34m'NaN'\u001b[0m\u001b[0;34m,\u001b[0m \u001b[0mstrategy\u001b[0m\u001b[0;34m=\u001b[0m\u001b[0;34m'mean'\u001b[0m\u001b[0;34m,\u001b[0m \u001b[0maxis\u001b[0m\u001b[0;34m=\u001b[0m\u001b[0;36m0\u001b[0m\u001b[0;34m)\u001b[0m\u001b[0;34m\u001b[0m\u001b[0;34m\u001b[0m\u001b[0m\n\u001b[0;32m----> 5\u001b[0;31m \u001b[0mlogreg\u001b[0m \u001b[0;34m=\u001b[0m \u001b[0mLogisticRegression\u001b[0m\u001b[0;34m(\u001b[0m\u001b[0;34m)\u001b[0m\u001b[0;34m\u001b[0m\u001b[0;34m\u001b[0m\u001b[0m\n\u001b[0m\u001b[1;32m      6\u001b[0m \u001b[0msteps\u001b[0m \u001b[0;34m=\u001b[0m \u001b[0;34m[\u001b[0m\u001b[0;34m(\u001b[0m\u001b[0;34m'imputation'\u001b[0m\u001b[0;34m,\u001b[0m \u001b[0mimp\u001b[0m\u001b[0;34m)\u001b[0m\u001b[0;34m,\u001b[0m\u001b[0;34m(\u001b[0m\u001b[0;34m'logistic_regression'\u001b[0m\u001b[0;34m,\u001b[0m \u001b[0mlogreg\u001b[0m\u001b[0;34m)\u001b[0m\u001b[0;34m]\u001b[0m\u001b[0;34m\u001b[0m\u001b[0;34m\u001b[0m\u001b[0m\n\u001b[1;32m      7\u001b[0m \u001b[0mpipeline\u001b[0m \u001b[0;34m=\u001b[0m \u001b[0mPipeline\u001b[0m\u001b[0;34m(\u001b[0m\u001b[0msteps\u001b[0m\u001b[0;34m)\u001b[0m\u001b[0;34m\u001b[0m\u001b[0;34m\u001b[0m\u001b[0m\n",
      "\u001b[0;31mNameError\u001b[0m: name 'LogisticRegression' is not defined"
     ]
    }
   ],
   "source": [
    "from sklearn.pipeline import Pipeline\n",
    "from sklearn.preprocessing import Imputer\n",
    "\n",
    "imp = Imputer(missing_values='NaN', strategy='mean', axis=0)\n",
    "logreg = LogisticRegression()\n",
    "steps = [('imputation', imp),('logistic_regression', logreg)]\n",
    "pipeline = Pipeline(steps)\n",
    "X_train, X_test, y_train, y_test = train_test_split(X, y,\n",
    "                                 test_size=0.3, random_state=42)\n",
    "pipeline.fit(X_train, y_train)\n",
    "y_pred = pipeline.predict(X_test)\n",
    "pipeline.score(X_test, y_test)"
   ]
  },
  {
   "cell_type": "markdown",
   "metadata": {},
   "source": [
    "### Imputing generated now known categorical values "
   ]
  },
  {
   "cell_type": "code",
   "execution_count": null,
   "metadata": {},
   "outputs": [],
   "source": []
  },
  {
   "cell_type": "code",
   "execution_count": null,
   "metadata": {},
   "outputs": [],
   "source": []
  },
  {
   "cell_type": "code",
   "execution_count": null,
   "metadata": {},
   "outputs": [],
   "source": []
  },
  {
   "cell_type": "markdown",
   "metadata": {},
   "source": [
    "## Adding +1 (UPDATE THE VARIABLE WHEN YOU KNOW THE FINAL VERSION"
   ]
  },
  {
   "cell_type": "code",
   "execution_count": 36,
   "metadata": {},
   "outputs": [
    {
     "data": {
      "text/plain": [
       "array([ 1,  3,  2,  4,  7,  6,  5,  8,  9, 10, 11])"
      ]
     },
     "execution_count": 36,
     "metadata": {},
     "output_type": "execute_result"
    }
   ],
   "source": [
    "# if we do not add this we will miss not showing many values\n",
    "# Update this variable when you know the end complete file\n",
    "data2[\"Victim Count\"] += 1\n",
    "data2[\"Victim Count\"].unique() "
   ]
  },
  {
   "cell_type": "code",
   "execution_count": 37,
   "metadata": {},
   "outputs": [
    {
     "data": {
      "text/plain": [
       "array([ 1,  2,  3,  4,  5,  6,  9, 11,  7, 10,  8])"
      ]
     },
     "execution_count": 37,
     "metadata": {},
     "output_type": "execute_result"
    }
   ],
   "source": [
    "# Update this variable when you know the end complete file\n",
    "data2[\"Perpetrator Count\"] += 1\n",
    "data2[\"Perpetrator Count\"].unique()"
   ]
  },
  {
   "cell_type": "code",
   "execution_count": null,
   "metadata": {},
   "outputs": [],
   "source": []
  },
  {
   "cell_type": "markdown",
   "metadata": {},
   "source": [
    "## Adding all complete values to a master file\n",
    "1. Here we will add in all the data we created for the unknowns, zeros and upper limit to a master file"
   ]
  },
  {
   "cell_type": "code",
   "execution_count": null,
   "metadata": {},
   "outputs": [],
   "source": [
    " "
   ]
  },
  {
   "cell_type": "code",
   "execution_count": null,
   "metadata": {},
   "outputs": [],
   "source": []
  },
  {
   "cell_type": "code",
   "execution_count": null,
   "metadata": {},
   "outputs": [],
   "source": []
  },
  {
   "cell_type": "markdown",
   "metadata": {},
   "source": [
    "# Transforming data for machine learning\n",
    "1. To get all the unknowns like we did above using machine learning \n",
    "    - we can make it a 2 team competition for budget scenario\n",
    "    - 1 team did the thing above to fill the values the other uses machine learning\n",
    "    - for that we will have to get rid of all the unknowns to create a unknown free training set\n",
    "    - thats about 130,000 rows per 24 columns --> divided into training and test data set\n",
    "    - then convert columns into integers except for the target/label\n",
    "    - if time permits build a user interface that can be changed and different output comes out\n",
    "    - so it is not a black box\n",
    "2. Use machine learning to predict data based on the data we tranformed above\n",
    "    - if time permits build a user interface that can be changed and different output comes out\n",
    "    - so it is not a black box"
   ]
  },
  {
   "cell_type": "code",
   "execution_count": null,
   "metadata": {},
   "outputs": [],
   "source": []
  },
  {
   "cell_type": "code",
   "execution_count": null,
   "metadata": {},
   "outputs": [],
   "source": []
  },
  {
   "cell_type": "markdown",
   "metadata": {},
   "source": [
    "### 1. Deleting all the unknowns \n",
    "    - This file will be free of unknows and have much less data \n",
    "    - It's also important to note that when we delete unknown rows we will be deleting known variables\n",
    "    - We need to do this becasue row count has to be identical for machine learning"
   ]
  },
  {
   "cell_type": "code",
   "execution_count": null,
   "metadata": {},
   "outputs": [],
   "source": [
    "# the only copy we will make that will contain only the known values for all\n",
    "# we use the perpetrator age data set to copy as the 0s were alredy deleted there (data)\n",
    "# but we still have to delete the victim age as its stored in a different variable\n",
    "data13 = data2.copy()\n",
    "\n",
    "# deliting the remaining unreasonably high ages (setting upper limit)\n",
    "vic_age_limit1 = data13[\"Victim Age\"] > 99\n",
    "data13[\"Victim Age\"][vic_age_limit1] = np.nan\n",
    "data13 = data13.dropna()\n",
    "\n",
    "# reset the index \n",
    "data13 = data13.reset_index(drop=True)\n",
    "\n",
    "# convert the column back to integers\n",
    "data13[\"Victim Age\"] = data13[\"Victim Age\"].astype(int)\n",
    "\n",
    "# deleting victim ethnicity unknowns\n",
    "vic_eth_del_unknowns1 = data13[\"Victim Ethnicity\"] == \"Unknown\"\n",
    "data13[\"Victim Ethnicity\"][vic_eth_del_unknowns1] = np.nan\n",
    "data13 = data13.dropna()\n",
    "data13 = data13.reset_index(drop=True)\n",
    "\n",
    "# deleting perpetrator ethnicity unknowns\n",
    "perp_eth_del_unknowns1 = data13[\"Perpetrator Ethnicity\"] == \"Unknown\"\n",
    "data13[\"Perpetrator Ethnicity\"][perp_eth_del_unknowns1] = np.nan\n",
    "data13 = data13.dropna() \n",
    "data13 = data13.reset_index(drop=True)\n",
    "\n",
    "# deleting relationship unknowns\n",
    "relat_del_unknowns1 = data13[\"Relationship\"] == \"Unknown\"\n",
    "data13[\"Relationship\"][relat_del_unknowns1] = np.nan\n",
    "data13 = data13.dropna()\n",
    "data13 = data13.reset_index(drop=True)\n",
    "\n",
    "# deleting weapon unknowns\n",
    "weap_del_unknowns1 = data13[\"Weapon\"] == \"Unknown\"\n",
    "data13[\"Weapon\"][weap_del_unknowns1] = np.nan\n",
    "data13 = data13.dropna()\n",
    "data13 = data13.reset_index(drop=True)\n",
    "\n",
    "# deleting perpetrator race unknowns\n",
    "perp_race_del_unknowns1 = data13[\"Perpetrator Race\"] == \"Unknown\"\n",
    "data13[\"Perpetrator Race\"][perp_race_del_unknowns1] = np.nan\n",
    "data13 = data13.dropna() \n",
    "data13 = data13.reset_index(drop=True)\n",
    "\n",
    "# deleting perpetrator ethnicity unknowns\n",
    "perp_sex_del_unknowns1 = data13[\"Perpetrator Sex\"] == \"Unknown\"\n",
    "data13[\"Perpetrator Sex\"][perp_sex_del_unknowns1] = np.nan\n",
    "data13 = data13.dropna()\n",
    "data13 = data13.reset_index(drop=True)\n",
    "\n",
    "# deleting victim ethnicity unknowns\n",
    "vic_sex_del_unknowns1 = data13[\"Victim Sex\"] == \"Unknown\"\n",
    "data13[\"Victim Sex\"][vic_sex_del_unknowns1] = np.nan\n",
    "data13 = data13.dropna() \n",
    "data13 = data13.reset_index(drop=True)\n",
    "\n",
    "# deleting victim race unknowns\n",
    "vic_sex_del_unknowns1 = data13[\"Victim Race\"] == \"Unknown\"\n",
    "data13[\"Victim Race\"][vic_sex_del_unknowns1] = np.nan\n",
    "data13 = data13.dropna()\n",
    "data13 = data13.reset_index(drop=True)\n",
    "\n",
    "# Adding +1\n",
    "data13[\"Victim Count\"] += 1\n",
    "data13[\"Victim Count\"].unique()\n",
    "\n",
    "# adding +1\n",
    "data13[\"Perpetrator Count\"] += 1\n",
    "data13[\"Perpetrator Count\"].unique()\n",
    "\n",
    "# display df information\n",
    "data13.info()"
   ]
  },
  {
   "cell_type": "code",
   "execution_count": null,
   "metadata": {},
   "outputs": [],
   "source": []
  },
  {
   "cell_type": "code",
   "execution_count": null,
   "metadata": {},
   "outputs": [],
   "source": [
    "# Proof that there are no more unknowns\n",
    "# We end up with 151,172 observations to work with"
   ]
  },
  {
   "cell_type": "code",
   "execution_count": null,
   "metadata": {},
   "outputs": [],
   "source": [
    "data13[\"Victim Age\"].unique()"
   ]
  },
  {
   "cell_type": "code",
   "execution_count": null,
   "metadata": {},
   "outputs": [],
   "source": [
    "data13[\"Victim Ethnicity\"].unique()"
   ]
  },
  {
   "cell_type": "code",
   "execution_count": null,
   "metadata": {},
   "outputs": [],
   "source": [
    "data13[\"Victim Race\"].unique()"
   ]
  },
  {
   "cell_type": "code",
   "execution_count": null,
   "metadata": {},
   "outputs": [],
   "source": [
    "data13[\"Perpetrator Ethnicity\"].unique()"
   ]
  },
  {
   "cell_type": "code",
   "execution_count": null,
   "metadata": {},
   "outputs": [],
   "source": [
    "data13[\"Perpetrator Race\"].unique()"
   ]
  },
  {
   "cell_type": "code",
   "execution_count": null,
   "metadata": {},
   "outputs": [],
   "source": [
    "data13[\"Perpetrator Age\"].unique()"
   ]
  },
  {
   "cell_type": "code",
   "execution_count": null,
   "metadata": {},
   "outputs": [],
   "source": [
    "data13[\"Perpetrator Sex\"].unique()"
   ]
  },
  {
   "cell_type": "code",
   "execution_count": null,
   "metadata": {},
   "outputs": [],
   "source": [
    "data13[\"Weapon\"].unique()"
   ]
  },
  {
   "cell_type": "code",
   "execution_count": null,
   "metadata": {},
   "outputs": [],
   "source": [
    "data13[\"Relationship\"].unique()"
   ]
  },
  {
   "cell_type": "code",
   "execution_count": 45,
   "metadata": {},
   "outputs": [
    {
     "data": {
      "text/html": [
       "<div>\n",
       "<style scoped>\n",
       "    .dataframe tbody tr th:only-of-type {\n",
       "        vertical-align: middle;\n",
       "    }\n",
       "\n",
       "    .dataframe tbody tr th {\n",
       "        vertical-align: top;\n",
       "    }\n",
       "\n",
       "    .dataframe thead th {\n",
       "        text-align: right;\n",
       "    }\n",
       "</style>\n",
       "<table border=\"1\" class=\"dataframe\">\n",
       "  <thead>\n",
       "    <tr style=\"text-align: right;\">\n",
       "      <th></th>\n",
       "      <th>State</th>\n",
       "      <th>Population</th>\n",
       "    </tr>\n",
       "  </thead>\n",
       "  <tbody>\n",
       "    <tr>\n",
       "      <th>0</th>\n",
       "      <td>Alabama</td>\n",
       "      <td>4842481</td>\n",
       "    </tr>\n",
       "    <tr>\n",
       "      <th>1</th>\n",
       "      <td>Alaska</td>\n",
       "      <td>736307</td>\n",
       "    </tr>\n",
       "    <tr>\n",
       "      <th>2</th>\n",
       "      <td>Arizona</td>\n",
       "      <td>6733840</td>\n",
       "    </tr>\n",
       "    <tr>\n",
       "      <th>3</th>\n",
       "      <td>Arkansas</td>\n",
       "      <td>2967726</td>\n",
       "    </tr>\n",
       "    <tr>\n",
       "      <th>4</th>\n",
       "      <td>California</td>\n",
       "      <td>38625139</td>\n",
       "    </tr>\n",
       "  </tbody>\n",
       "</table>\n",
       "</div>"
      ],
      "text/plain": [
       "        State  Population\n",
       "0     Alabama     4842481\n",
       "1      Alaska      736307\n",
       "2     Arizona     6733840\n",
       "3    Arkansas     2967726\n",
       "4  California    38625139"
      ]
     },
     "execution_count": 45,
     "metadata": {},
     "output_type": "execute_result"
    }
   ],
   "source": [
    "state_pop = pd.read_csv('statepop2014.csv')\n",
    "state_pop.head()"
   ]
  },
  {
   "cell_type": "code",
   "execution_count": 69,
   "metadata": {},
   "outputs": [
    {
     "data": {
      "text/html": [
       "<div>\n",
       "<style scoped>\n",
       "    .dataframe tbody tr th:only-of-type {\n",
       "        vertical-align: middle;\n",
       "    }\n",
       "\n",
       "    .dataframe tbody tr th {\n",
       "        vertical-align: top;\n",
       "    }\n",
       "\n",
       "    .dataframe thead th {\n",
       "        text-align: right;\n",
       "    }\n",
       "</style>\n",
       "<table border=\"1\" class=\"dataframe\">\n",
       "  <thead>\n",
       "    <tr style=\"text-align: right;\">\n",
       "      <th></th>\n",
       "      <th>State</th>\n",
       "      <th>Victim Count</th>\n",
       "      <th>Population</th>\n",
       "      <th>100,000</th>\n",
       "      <th>Per Capita Murder</th>\n",
       "    </tr>\n",
       "  </thead>\n",
       "  <tbody>\n",
       "    <tr>\n",
       "      <th>0</th>\n",
       "      <td>Alabama</td>\n",
       "      <td>1</td>\n",
       "      <td>4842481</td>\n",
       "      <td>48.42481</td>\n",
       "      <td>0.02</td>\n",
       "    </tr>\n",
       "    <tr>\n",
       "      <th>11</th>\n",
       "      <td>Hawaii</td>\n",
       "      <td>13</td>\n",
       "      <td>1414862</td>\n",
       "      <td>14.14862</td>\n",
       "      <td>0.92</td>\n",
       "    </tr>\n",
       "    <tr>\n",
       "      <th>21</th>\n",
       "      <td>Massachusetts</td>\n",
       "      <td>69</td>\n",
       "      <td>6763652</td>\n",
       "      <td>67.63652</td>\n",
       "      <td>1.02</td>\n",
       "    </tr>\n",
       "    <tr>\n",
       "      <th>13</th>\n",
       "      <td>Illinois</td>\n",
       "      <td>163</td>\n",
       "      <td>12888962</td>\n",
       "      <td>128.88962</td>\n",
       "      <td>1.26</td>\n",
       "    </tr>\n",
       "    <tr>\n",
       "      <th>29</th>\n",
       "      <td>New Hampshire</td>\n",
       "      <td>17</td>\n",
       "      <td>1333223</td>\n",
       "      <td>13.33223</td>\n",
       "      <td>1.28</td>\n",
       "    </tr>\n",
       "    <tr>\n",
       "      <th>23</th>\n",
       "      <td>Minnesota</td>\n",
       "      <td>84</td>\n",
       "      <td>5451522</td>\n",
       "      <td>54.51522</td>\n",
       "      <td>1.54</td>\n",
       "    </tr>\n",
       "    <tr>\n",
       "      <th>37</th>\n",
       "      <td>Oregon</td>\n",
       "      <td>65</td>\n",
       "      <td>3964106</td>\n",
       "      <td>39.64106</td>\n",
       "      <td>1.64</td>\n",
       "    </tr>\n",
       "    <tr>\n",
       "      <th>6</th>\n",
       "      <td>Connecticut</td>\n",
       "      <td>67</td>\n",
       "      <td>3594783</td>\n",
       "      <td>35.94783</td>\n",
       "      <td>1.86</td>\n",
       "    </tr>\n",
       "    <tr>\n",
       "      <th>39</th>\n",
       "      <td>Rhodes Island</td>\n",
       "      <td>20</td>\n",
       "      <td>1056017</td>\n",
       "      <td>10.56017</td>\n",
       "      <td>1.89</td>\n",
       "    </tr>\n",
       "    <tr>\n",
       "      <th>34</th>\n",
       "      <td>North Dakota</td>\n",
       "      <td>15</td>\n",
       "      <td>737382</td>\n",
       "      <td>7.37382</td>\n",
       "      <td>2.03</td>\n",
       "    </tr>\n",
       "    <tr>\n",
       "      <th>32</th>\n",
       "      <td>New York</td>\n",
       "      <td>399</td>\n",
       "      <td>19656330</td>\n",
       "      <td>196.56330</td>\n",
       "      <td>2.03</td>\n",
       "    </tr>\n",
       "    <tr>\n",
       "      <th>15</th>\n",
       "      <td>Iowa</td>\n",
       "      <td>63</td>\n",
       "      <td>3109504</td>\n",
       "      <td>31.09504</td>\n",
       "      <td>2.03</td>\n",
       "    </tr>\n",
       "    <tr>\n",
       "      <th>12</th>\n",
       "      <td>Idaho</td>\n",
       "      <td>35</td>\n",
       "      <td>1631479</td>\n",
       "      <td>16.31479</td>\n",
       "      <td>2.15</td>\n",
       "    </tr>\n",
       "    <tr>\n",
       "      <th>50</th>\n",
       "      <td>Wyoming</td>\n",
       "      <td>13</td>\n",
       "      <td>582548</td>\n",
       "      <td>5.82548</td>\n",
       "      <td>2.23</td>\n",
       "    </tr>\n",
       "    <tr>\n",
       "      <th>45</th>\n",
       "      <td>Vermont</td>\n",
       "      <td>15</td>\n",
       "      <td>625218</td>\n",
       "      <td>6.25218</td>\n",
       "      <td>2.40</td>\n",
       "    </tr>\n",
       "    <tr>\n",
       "      <th>30</th>\n",
       "      <td>New Jersey</td>\n",
       "      <td>214</td>\n",
       "      <td>8866780</td>\n",
       "      <td>88.66780</td>\n",
       "      <td>2.41</td>\n",
       "    </tr>\n",
       "    <tr>\n",
       "      <th>27</th>\n",
       "      <td>Nebraska</td>\n",
       "      <td>48</td>\n",
       "      <td>1879522</td>\n",
       "      <td>18.79522</td>\n",
       "      <td>2.55</td>\n",
       "    </tr>\n",
       "    <tr>\n",
       "      <th>49</th>\n",
       "      <td>Wisconsin</td>\n",
       "      <td>154</td>\n",
       "      <td>5751974</td>\n",
       "      <td>57.51974</td>\n",
       "      <td>2.68</td>\n",
       "    </tr>\n",
       "    <tr>\n",
       "      <th>38</th>\n",
       "      <td>Pennsylvania</td>\n",
       "      <td>352</td>\n",
       "      <td>12789101</td>\n",
       "      <td>127.89101</td>\n",
       "      <td>2.75</td>\n",
       "    </tr>\n",
       "    <tr>\n",
       "      <th>16</th>\n",
       "      <td>Kansas</td>\n",
       "      <td>82</td>\n",
       "      <td>2900896</td>\n",
       "      <td>29.00896</td>\n",
       "      <td>2.83</td>\n",
       "    </tr>\n",
       "    <tr>\n",
       "      <th>20</th>\n",
       "      <td>Maryland</td>\n",
       "      <td>176</td>\n",
       "      <td>5958165</td>\n",
       "      <td>59.58165</td>\n",
       "      <td>2.95</td>\n",
       "    </tr>\n",
       "    <tr>\n",
       "      <th>41</th>\n",
       "      <td>South Dakota</td>\n",
       "      <td>26</td>\n",
       "      <td>849088</td>\n",
       "      <td>8.49088</td>\n",
       "      <td>3.06</td>\n",
       "    </tr>\n",
       "    <tr>\n",
       "      <th>17</th>\n",
       "      <td>Kentucky</td>\n",
       "      <td>138</td>\n",
       "      <td>4414483</td>\n",
       "      <td>44.14483</td>\n",
       "      <td>3.13</td>\n",
       "    </tr>\n",
       "    <tr>\n",
       "      <th>47</th>\n",
       "      <td>Washington</td>\n",
       "      <td>221</td>\n",
       "      <td>7052439</td>\n",
       "      <td>70.52439</td>\n",
       "      <td>3.13</td>\n",
       "    </tr>\n",
       "    <tr>\n",
       "      <th>35</th>\n",
       "      <td>Ohio</td>\n",
       "      <td>373</td>\n",
       "      <td>11602973</td>\n",
       "      <td>116.02973</td>\n",
       "      <td>3.21</td>\n",
       "    </tr>\n",
       "    <tr>\n",
       "      <th>4</th>\n",
       "      <td>California</td>\n",
       "      <td>1267</td>\n",
       "      <td>38625139</td>\n",
       "      <td>386.25139</td>\n",
       "      <td>3.28</td>\n",
       "    </tr>\n",
       "    <tr>\n",
       "      <th>5</th>\n",
       "      <td>Colorado</td>\n",
       "      <td>177</td>\n",
       "      <td>5351218</td>\n",
       "      <td>53.51218</td>\n",
       "      <td>3.31</td>\n",
       "    </tr>\n",
       "    <tr>\n",
       "      <th>7</th>\n",
       "      <td>Delaware</td>\n",
       "      <td>32</td>\n",
       "      <td>932596</td>\n",
       "      <td>9.32596</td>\n",
       "      <td>3.43</td>\n",
       "    </tr>\n",
       "    <tr>\n",
       "      <th>2</th>\n",
       "      <td>Arizona</td>\n",
       "      <td>234</td>\n",
       "      <td>6733840</td>\n",
       "      <td>67.33840</td>\n",
       "      <td>3.47</td>\n",
       "    </tr>\n",
       "    <tr>\n",
       "      <th>19</th>\n",
       "      <td>Maine</td>\n",
       "      <td>48</td>\n",
       "      <td>1330760</td>\n",
       "      <td>13.30760</td>\n",
       "      <td>3.61</td>\n",
       "    </tr>\n",
       "    <tr>\n",
       "      <th>26</th>\n",
       "      <td>Montana</td>\n",
       "      <td>39</td>\n",
       "      <td>1021891</td>\n",
       "      <td>10.21891</td>\n",
       "      <td>3.82</td>\n",
       "    </tr>\n",
       "    <tr>\n",
       "      <th>9</th>\n",
       "      <td>Florida</td>\n",
       "      <td>788</td>\n",
       "      <td>19860330</td>\n",
       "      <td>198.60330</td>\n",
       "      <td>3.97</td>\n",
       "    </tr>\n",
       "    <tr>\n",
       "      <th>46</th>\n",
       "      <td>Virginia</td>\n",
       "      <td>342</td>\n",
       "      <td>8312076</td>\n",
       "      <td>83.12076</td>\n",
       "      <td>4.11</td>\n",
       "    </tr>\n",
       "    <tr>\n",
       "      <th>43</th>\n",
       "      <td>Texas</td>\n",
       "      <td>1112</td>\n",
       "      <td>26977142</td>\n",
       "      <td>269.77142</td>\n",
       "      <td>4.12</td>\n",
       "    </tr>\n",
       "    <tr>\n",
       "      <th>33</th>\n",
       "      <td>North Carolina</td>\n",
       "      <td>417</td>\n",
       "      <td>9933944</td>\n",
       "      <td>99.33944</td>\n",
       "      <td>4.20</td>\n",
       "    </tr>\n",
       "    <tr>\n",
       "      <th>44</th>\n",
       "      <td>Utah</td>\n",
       "      <td>127</td>\n",
       "      <td>2937399</td>\n",
       "      <td>29.37399</td>\n",
       "      <td>4.32</td>\n",
       "    </tr>\n",
       "    <tr>\n",
       "      <th>10</th>\n",
       "      <td>Georgia</td>\n",
       "      <td>444</td>\n",
       "      <td>10069001</td>\n",
       "      <td>100.69001</td>\n",
       "      <td>4.41</td>\n",
       "    </tr>\n",
       "    <tr>\n",
       "      <th>22</th>\n",
       "      <td>Michigan</td>\n",
       "      <td>442</td>\n",
       "      <td>9930589</td>\n",
       "      <td>99.30589</td>\n",
       "      <td>4.45</td>\n",
       "    </tr>\n",
       "    <tr>\n",
       "      <th>48</th>\n",
       "      <td>West Virginia</td>\n",
       "      <td>83</td>\n",
       "      <td>1849467</td>\n",
       "      <td>18.49467</td>\n",
       "      <td>4.49</td>\n",
       "    </tr>\n",
       "    <tr>\n",
       "      <th>24</th>\n",
       "      <td>Mississippi</td>\n",
       "      <td>135</td>\n",
       "      <td>2990623</td>\n",
       "      <td>29.90623</td>\n",
       "      <td>4.51</td>\n",
       "    </tr>\n",
       "    <tr>\n",
       "      <th>14</th>\n",
       "      <td>Indiana</td>\n",
       "      <td>313</td>\n",
       "      <td>6593533</td>\n",
       "      <td>65.93533</td>\n",
       "      <td>4.75</td>\n",
       "    </tr>\n",
       "    <tr>\n",
       "      <th>36</th>\n",
       "      <td>Oklahoma</td>\n",
       "      <td>187</td>\n",
       "      <td>3878367</td>\n",
       "      <td>38.78367</td>\n",
       "      <td>4.82</td>\n",
       "    </tr>\n",
       "    <tr>\n",
       "      <th>25</th>\n",
       "      <td>Missouri</td>\n",
       "      <td>292</td>\n",
       "      <td>6056293</td>\n",
       "      <td>60.56293</td>\n",
       "      <td>4.82</td>\n",
       "    </tr>\n",
       "    <tr>\n",
       "      <th>28</th>\n",
       "      <td>Nevada</td>\n",
       "      <td>143</td>\n",
       "      <td>2819012</td>\n",
       "      <td>28.19012</td>\n",
       "      <td>5.07</td>\n",
       "    </tr>\n",
       "    <tr>\n",
       "      <th>31</th>\n",
       "      <td>New Mexico</td>\n",
       "      <td>107</td>\n",
       "      <td>2090342</td>\n",
       "      <td>20.90342</td>\n",
       "      <td>5.12</td>\n",
       "    </tr>\n",
       "    <tr>\n",
       "      <th>42</th>\n",
       "      <td>Tennessee</td>\n",
       "      <td>342</td>\n",
       "      <td>6540826</td>\n",
       "      <td>65.40826</td>\n",
       "      <td>5.23</td>\n",
       "    </tr>\n",
       "    <tr>\n",
       "      <th>1</th>\n",
       "      <td>Alaska</td>\n",
       "      <td>45</td>\n",
       "      <td>736307</td>\n",
       "      <td>7.36307</td>\n",
       "      <td>6.11</td>\n",
       "    </tr>\n",
       "    <tr>\n",
       "      <th>18</th>\n",
       "      <td>Louisiana</td>\n",
       "      <td>298</td>\n",
       "      <td>4644204</td>\n",
       "      <td>46.44204</td>\n",
       "      <td>6.42</td>\n",
       "    </tr>\n",
       "    <tr>\n",
       "      <th>40</th>\n",
       "      <td>South Carolina</td>\n",
       "      <td>337</td>\n",
       "      <td>4823793</td>\n",
       "      <td>48.23793</td>\n",
       "      <td>6.99</td>\n",
       "    </tr>\n",
       "    <tr>\n",
       "      <th>8</th>\n",
       "      <td>District of Columbia</td>\n",
       "      <td>48</td>\n",
       "      <td>662513</td>\n",
       "      <td>6.62513</td>\n",
       "      <td>7.25</td>\n",
       "    </tr>\n",
       "    <tr>\n",
       "      <th>3</th>\n",
       "      <td>Arkansas</td>\n",
       "      <td>270</td>\n",
       "      <td>2967726</td>\n",
       "      <td>29.67726</td>\n",
       "      <td>9.10</td>\n",
       "    </tr>\n",
       "  </tbody>\n",
       "</table>\n",
       "</div>"
      ],
      "text/plain": [
       "                   State  Victim Count  Population    100,000  \\\n",
       "0                Alabama             1     4842481   48.42481   \n",
       "11                Hawaii            13     1414862   14.14862   \n",
       "21         Massachusetts            69     6763652   67.63652   \n",
       "13              Illinois           163    12888962  128.88962   \n",
       "29         New Hampshire            17     1333223   13.33223   \n",
       "23             Minnesota            84     5451522   54.51522   \n",
       "37                Oregon            65     3964106   39.64106   \n",
       "6            Connecticut            67     3594783   35.94783   \n",
       "39         Rhodes Island            20     1056017   10.56017   \n",
       "34          North Dakota            15      737382    7.37382   \n",
       "32              New York           399    19656330  196.56330   \n",
       "15                  Iowa            63     3109504   31.09504   \n",
       "12                 Idaho            35     1631479   16.31479   \n",
       "50               Wyoming            13      582548    5.82548   \n",
       "45               Vermont            15      625218    6.25218   \n",
       "30            New Jersey           214     8866780   88.66780   \n",
       "27              Nebraska            48     1879522   18.79522   \n",
       "49             Wisconsin           154     5751974   57.51974   \n",
       "38          Pennsylvania           352    12789101  127.89101   \n",
       "16                Kansas            82     2900896   29.00896   \n",
       "20              Maryland           176     5958165   59.58165   \n",
       "41          South Dakota            26      849088    8.49088   \n",
       "17              Kentucky           138     4414483   44.14483   \n",
       "47            Washington           221     7052439   70.52439   \n",
       "35                  Ohio           373    11602973  116.02973   \n",
       "4             California          1267    38625139  386.25139   \n",
       "5               Colorado           177     5351218   53.51218   \n",
       "7               Delaware            32      932596    9.32596   \n",
       "2                Arizona           234     6733840   67.33840   \n",
       "19                 Maine            48     1330760   13.30760   \n",
       "26               Montana            39     1021891   10.21891   \n",
       "9                Florida           788    19860330  198.60330   \n",
       "46              Virginia           342     8312076   83.12076   \n",
       "43                 Texas          1112    26977142  269.77142   \n",
       "33        North Carolina           417     9933944   99.33944   \n",
       "44                  Utah           127     2937399   29.37399   \n",
       "10               Georgia           444    10069001  100.69001   \n",
       "22              Michigan           442     9930589   99.30589   \n",
       "48         West Virginia            83     1849467   18.49467   \n",
       "24           Mississippi           135     2990623   29.90623   \n",
       "14               Indiana           313     6593533   65.93533   \n",
       "36              Oklahoma           187     3878367   38.78367   \n",
       "25              Missouri           292     6056293   60.56293   \n",
       "28                Nevada           143     2819012   28.19012   \n",
       "31            New Mexico           107     2090342   20.90342   \n",
       "42             Tennessee           342     6540826   65.40826   \n",
       "1                 Alaska            45      736307    7.36307   \n",
       "18             Louisiana           298     4644204   46.44204   \n",
       "40        South Carolina           337     4823793   48.23793   \n",
       "8   District of Columbia            48      662513    6.62513   \n",
       "3               Arkansas           270     2967726   29.67726   \n",
       "\n",
       "    Per Capita Murder  \n",
       "0                0.02  \n",
       "11               0.92  \n",
       "21               1.02  \n",
       "13               1.26  \n",
       "29               1.28  \n",
       "23               1.54  \n",
       "37               1.64  \n",
       "6                1.86  \n",
       "39               1.89  \n",
       "34               2.03  \n",
       "32               2.03  \n",
       "15               2.03  \n",
       "12               2.15  \n",
       "50               2.23  \n",
       "45               2.40  \n",
       "30               2.41  \n",
       "27               2.55  \n",
       "49               2.68  \n",
       "38               2.75  \n",
       "16               2.83  \n",
       "20               2.95  \n",
       "41               3.06  \n",
       "17               3.13  \n",
       "47               3.13  \n",
       "35               3.21  \n",
       "4                3.28  \n",
       "5                3.31  \n",
       "7                3.43  \n",
       "2                3.47  \n",
       "19               3.61  \n",
       "26               3.82  \n",
       "9                3.97  \n",
       "46               4.11  \n",
       "43               4.12  \n",
       "33               4.20  \n",
       "44               4.32  \n",
       "10               4.41  \n",
       "22               4.45  \n",
       "48               4.49  \n",
       "24               4.51  \n",
       "14               4.75  \n",
       "36               4.82  \n",
       "25               4.82  \n",
       "28               5.07  \n",
       "31               5.12  \n",
       "42               5.23  \n",
       "1                6.11  \n",
       "18               6.42  \n",
       "40               6.99  \n",
       "8                7.25  \n",
       "3                9.10  "
      ]
     },
     "execution_count": 69,
     "metadata": {},
     "output_type": "execute_result"
    }
   ],
   "source": [
    "data_2014 = data2[data2[\"Year\"]==2014]\n",
    "data_2014 = data_2014.reset_index()\n",
    "data_2014 = data_2014.groupby(\"State\")[\"Victim Count\"].agg(\"sum\")\n",
    "d = pd.DataFrame(data_2014)\n",
    "d = d.reset_index()\n",
    "d[\"Population\"] = state_pop[\"Population\"]\n",
    "d[\"100,000\"] = (d[\"Population\"]/100000)\n",
    "d[\"Per Capita Murder\"] = (d[\"Victim Count\"]/d[\"100,000\"]).round(2)\n",
    "d = d.sort_values(by=['Per Capita Murder'])"
   ]
  },
  {
   "cell_type": "code",
   "execution_count": 81,
   "metadata": {},
   "outputs": [
    {
     "data": {
      "text/plain": [
       "Year\n",
       "1980    2410\n",
       "1981    2118\n",
       "1982    2692\n",
       "1983    1950\n",
       "1984    2110\n",
       "1985    2048\n",
       "1986    2082\n",
       "1987    2090\n",
       "1988    1886\n",
       "1989    2062\n",
       "1990    2664\n",
       "1991    2224\n",
       "1992    2608\n",
       "1993    2686\n",
       "1994    2440\n",
       "1995    3872\n",
       "1996    1880\n",
       "1997    2132\n",
       "1998    1670\n",
       "1999    1984\n",
       "2000    1752\n",
       "2001    1870\n",
       "2002    2214\n",
       "2003    2568\n",
       "2004    2156\n",
       "2005    2184\n",
       "2006    2343\n",
       "2007    2420\n",
       "2008    2191\n",
       "2009    2389\n",
       "2010    2044\n",
       "2011    2153\n",
       "2012    2510\n",
       "2013    2276\n",
       "2014    2065\n",
       "Name: Victim Count, dtype: int64"
      ]
     },
     "execution_count": 81,
     "metadata": {},
     "output_type": "execute_result"
    }
   ],
   "source": [
    "d2 = data.groupby(\"Year\")[\"Victim Count\"].agg(\"sum\")"
   ]
  },
  {
   "cell_type": "code",
   "execution_count": 85,
   "metadata": {},
   "outputs": [
    {
     "data": {
      "text/html": [
       "<div>\n",
       "<style scoped>\n",
       "    .dataframe tbody tr th:only-of-type {\n",
       "        vertical-align: middle;\n",
       "    }\n",
       "\n",
       "    .dataframe tbody tr th {\n",
       "        vertical-align: top;\n",
       "    }\n",
       "\n",
       "    .dataframe thead th {\n",
       "        text-align: right;\n",
       "    }\n",
       "</style>\n",
       "<table border=\"1\" class=\"dataframe\">\n",
       "  <thead>\n",
       "    <tr style=\"text-align: right;\">\n",
       "      <th></th>\n",
       "      <th>Year</th>\n",
       "      <th>Victim Count</th>\n",
       "      <th>pct</th>\n",
       "    </tr>\n",
       "  </thead>\n",
       "  <tbody>\n",
       "    <tr>\n",
       "      <th>0</th>\n",
       "      <td>1980</td>\n",
       "      <td>2410</td>\n",
       "      <td>NaN</td>\n",
       "    </tr>\n",
       "    <tr>\n",
       "      <th>1</th>\n",
       "      <td>1981</td>\n",
       "      <td>2118</td>\n",
       "      <td>-12.116183</td>\n",
       "    </tr>\n",
       "    <tr>\n",
       "      <th>2</th>\n",
       "      <td>1982</td>\n",
       "      <td>2692</td>\n",
       "      <td>27.101039</td>\n",
       "    </tr>\n",
       "    <tr>\n",
       "      <th>3</th>\n",
       "      <td>1983</td>\n",
       "      <td>1950</td>\n",
       "      <td>-27.563150</td>\n",
       "    </tr>\n",
       "    <tr>\n",
       "      <th>4</th>\n",
       "      <td>1984</td>\n",
       "      <td>2110</td>\n",
       "      <td>8.205128</td>\n",
       "    </tr>\n",
       "    <tr>\n",
       "      <th>5</th>\n",
       "      <td>1985</td>\n",
       "      <td>2048</td>\n",
       "      <td>-2.938389</td>\n",
       "    </tr>\n",
       "    <tr>\n",
       "      <th>6</th>\n",
       "      <td>1986</td>\n",
       "      <td>2082</td>\n",
       "      <td>1.660156</td>\n",
       "    </tr>\n",
       "    <tr>\n",
       "      <th>7</th>\n",
       "      <td>1987</td>\n",
       "      <td>2090</td>\n",
       "      <td>0.384246</td>\n",
       "    </tr>\n",
       "    <tr>\n",
       "      <th>8</th>\n",
       "      <td>1988</td>\n",
       "      <td>1886</td>\n",
       "      <td>-9.760766</td>\n",
       "    </tr>\n",
       "    <tr>\n",
       "      <th>9</th>\n",
       "      <td>1989</td>\n",
       "      <td>2062</td>\n",
       "      <td>9.331919</td>\n",
       "    </tr>\n",
       "    <tr>\n",
       "      <th>10</th>\n",
       "      <td>1990</td>\n",
       "      <td>2664</td>\n",
       "      <td>29.194956</td>\n",
       "    </tr>\n",
       "    <tr>\n",
       "      <th>11</th>\n",
       "      <td>1991</td>\n",
       "      <td>2224</td>\n",
       "      <td>-16.516517</td>\n",
       "    </tr>\n",
       "    <tr>\n",
       "      <th>12</th>\n",
       "      <td>1992</td>\n",
       "      <td>2608</td>\n",
       "      <td>17.266187</td>\n",
       "    </tr>\n",
       "    <tr>\n",
       "      <th>13</th>\n",
       "      <td>1993</td>\n",
       "      <td>2686</td>\n",
       "      <td>2.990798</td>\n",
       "    </tr>\n",
       "    <tr>\n",
       "      <th>14</th>\n",
       "      <td>1994</td>\n",
       "      <td>2440</td>\n",
       "      <td>-9.158600</td>\n",
       "    </tr>\n",
       "    <tr>\n",
       "      <th>15</th>\n",
       "      <td>1995</td>\n",
       "      <td>3872</td>\n",
       "      <td>58.688525</td>\n",
       "    </tr>\n",
       "    <tr>\n",
       "      <th>16</th>\n",
       "      <td>1996</td>\n",
       "      <td>1880</td>\n",
       "      <td>-51.446281</td>\n",
       "    </tr>\n",
       "    <tr>\n",
       "      <th>17</th>\n",
       "      <td>1997</td>\n",
       "      <td>2132</td>\n",
       "      <td>13.404255</td>\n",
       "    </tr>\n",
       "    <tr>\n",
       "      <th>18</th>\n",
       "      <td>1998</td>\n",
       "      <td>1670</td>\n",
       "      <td>-21.669794</td>\n",
       "    </tr>\n",
       "    <tr>\n",
       "      <th>19</th>\n",
       "      <td>1999</td>\n",
       "      <td>1984</td>\n",
       "      <td>18.802395</td>\n",
       "    </tr>\n",
       "    <tr>\n",
       "      <th>20</th>\n",
       "      <td>2000</td>\n",
       "      <td>1752</td>\n",
       "      <td>-11.693548</td>\n",
       "    </tr>\n",
       "    <tr>\n",
       "      <th>21</th>\n",
       "      <td>2001</td>\n",
       "      <td>1870</td>\n",
       "      <td>6.735160</td>\n",
       "    </tr>\n",
       "    <tr>\n",
       "      <th>22</th>\n",
       "      <td>2002</td>\n",
       "      <td>2214</td>\n",
       "      <td>18.395722</td>\n",
       "    </tr>\n",
       "    <tr>\n",
       "      <th>23</th>\n",
       "      <td>2003</td>\n",
       "      <td>2568</td>\n",
       "      <td>15.989160</td>\n",
       "    </tr>\n",
       "    <tr>\n",
       "      <th>24</th>\n",
       "      <td>2004</td>\n",
       "      <td>2156</td>\n",
       "      <td>-16.043614</td>\n",
       "    </tr>\n",
       "    <tr>\n",
       "      <th>25</th>\n",
       "      <td>2005</td>\n",
       "      <td>2184</td>\n",
       "      <td>1.298701</td>\n",
       "    </tr>\n",
       "    <tr>\n",
       "      <th>26</th>\n",
       "      <td>2006</td>\n",
       "      <td>2343</td>\n",
       "      <td>7.280220</td>\n",
       "    </tr>\n",
       "    <tr>\n",
       "      <th>27</th>\n",
       "      <td>2007</td>\n",
       "      <td>2420</td>\n",
       "      <td>3.286385</td>\n",
       "    </tr>\n",
       "    <tr>\n",
       "      <th>28</th>\n",
       "      <td>2008</td>\n",
       "      <td>2191</td>\n",
       "      <td>-9.462810</td>\n",
       "    </tr>\n",
       "    <tr>\n",
       "      <th>29</th>\n",
       "      <td>2009</td>\n",
       "      <td>2389</td>\n",
       "      <td>9.036969</td>\n",
       "    </tr>\n",
       "    <tr>\n",
       "      <th>30</th>\n",
       "      <td>2010</td>\n",
       "      <td>2044</td>\n",
       "      <td>-14.441189</td>\n",
       "    </tr>\n",
       "    <tr>\n",
       "      <th>31</th>\n",
       "      <td>2011</td>\n",
       "      <td>2153</td>\n",
       "      <td>5.332681</td>\n",
       "    </tr>\n",
       "    <tr>\n",
       "      <th>32</th>\n",
       "      <td>2012</td>\n",
       "      <td>2510</td>\n",
       "      <td>16.581514</td>\n",
       "    </tr>\n",
       "    <tr>\n",
       "      <th>33</th>\n",
       "      <td>2013</td>\n",
       "      <td>2276</td>\n",
       "      <td>-9.322709</td>\n",
       "    </tr>\n",
       "    <tr>\n",
       "      <th>34</th>\n",
       "      <td>2014</td>\n",
       "      <td>2065</td>\n",
       "      <td>-9.270650</td>\n",
       "    </tr>\n",
       "  </tbody>\n",
       "</table>\n",
       "</div>"
      ],
      "text/plain": [
       "    Year  Victim Count        pct\n",
       "0   1980          2410        NaN\n",
       "1   1981          2118 -12.116183\n",
       "2   1982          2692  27.101039\n",
       "3   1983          1950 -27.563150\n",
       "4   1984          2110   8.205128\n",
       "5   1985          2048  -2.938389\n",
       "6   1986          2082   1.660156\n",
       "7   1987          2090   0.384246\n",
       "8   1988          1886  -9.760766\n",
       "9   1989          2062   9.331919\n",
       "10  1990          2664  29.194956\n",
       "11  1991          2224 -16.516517\n",
       "12  1992          2608  17.266187\n",
       "13  1993          2686   2.990798\n",
       "14  1994          2440  -9.158600\n",
       "15  1995          3872  58.688525\n",
       "16  1996          1880 -51.446281\n",
       "17  1997          2132  13.404255\n",
       "18  1998          1670 -21.669794\n",
       "19  1999          1984  18.802395\n",
       "20  2000          1752 -11.693548\n",
       "21  2001          1870   6.735160\n",
       "22  2002          2214  18.395722\n",
       "23  2003          2568  15.989160\n",
       "24  2004          2156 -16.043614\n",
       "25  2005          2184   1.298701\n",
       "26  2006          2343   7.280220\n",
       "27  2007          2420   3.286385\n",
       "28  2008          2191  -9.462810\n",
       "29  2009          2389   9.036969\n",
       "30  2010          2044 -14.441189\n",
       "31  2011          2153   5.332681\n",
       "32  2012          2510  16.581514\n",
       "33  2013          2276  -9.322709\n",
       "34  2014          2065  -9.270650"
      ]
     },
     "execution_count": 85,
     "metadata": {},
     "output_type": "execute_result"
    }
   ],
   "source": [
    "df = pd.DataFrame(d2)\n",
    "df = df.reset_index()\n",
    "df[\"pct\"] = df[\"Victim Count\"].pct_change()*100\n",
    "df"
   ]
  },
  {
   "cell_type": "code",
   "execution_count": null,
   "metadata": {},
   "outputs": [],
   "source": []
  }
 ],
 "metadata": {
  "kernelspec": {
   "display_name": "Python 3",
   "language": "python",
   "name": "python3"
  },
  "language_info": {
   "codemirror_mode": {
    "name": "ipython",
    "version": 3
   },
   "file_extension": ".py",
   "mimetype": "text/x-python",
   "name": "python",
   "nbconvert_exporter": "python",
   "pygments_lexer": "ipython3",
   "version": "3.6.7"
  }
 },
 "nbformat": 4,
 "nbformat_minor": 2
}
